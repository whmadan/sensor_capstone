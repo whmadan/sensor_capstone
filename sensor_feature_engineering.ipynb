{
 "cells": [
  {
   "cell_type": "markdown",
   "metadata": {},
   "source": [
    "##  Project objects\n",
    "- Clean dirty log data and transform it for analytics.\n",
    "- Exploratory data analysis, e.g. find user activity levels for different events, and user interaction with web components.\n",
    "- Find the conversion rate of users, identify key factors that bottleneck the conversion rate.\n",
    "- Propose any hypothesis and set up experiments for testing.\n",
    "- Build machine learning models to predict user behaviors, including but not limited to signup, churn, etc.\n",
    "- Discover interesting insights in the dataset and suggest how to improve the user signup rate."
   ]
  },
  {
   "cell_type": "code",
   "execution_count": 1,
   "metadata": {
    "collapsed": true
   },
   "outputs": [],
   "source": [
    "import pandas as pd\n",
    "import json"
   ]
  },
  {
   "cell_type": "code",
   "execution_count": 2,
   "metadata": {
    "collapsed": true
   },
   "outputs": [],
   "source": [
    "# Import modules\n",
    "import numpy as np\n",
    "import matplotlib.pyplot as plt\n",
    "\n",
    "# This statement allow to display plot without asking to\n",
    "%matplotlib inline\n",
    "\n",
    "# Always make it pretty.\n",
    "plt.style.use('ggplot')"
   ]
  },
  {
   "cell_type": "code",
   "execution_count": 3,
   "metadata": {
    "collapsed": true
   },
   "outputs": [],
   "source": [
    "# Load data from file\n",
    "df = pd.read_csv('data/cleaned_data.csv')"
   ]
  },
  {
   "cell_type": "code",
   "execution_count": 4,
   "metadata": {},
   "outputs": [
    {
     "data": {
      "text/html": [
       "<div>\n",
       "<style>\n",
       "    .dataframe thead tr:only-child th {\n",
       "        text-align: right;\n",
       "    }\n",
       "\n",
       "    .dataframe thead th {\n",
       "        text-align: left;\n",
       "    }\n",
       "\n",
       "    .dataframe tbody tr th {\n",
       "        vertical-align: top;\n",
       "    }\n",
       "</style>\n",
       "<table border=\"1\" class=\"dataframe\">\n",
       "  <thead>\n",
       "    <tr style=\"text-align: right;\">\n",
       "      <th></th>\n",
       "      <th>browser</th>\n",
       "      <th>browser_v</th>\n",
       "      <th>day</th>\n",
       "      <th>is_fd</th>\n",
       "      <th>is_ft</th>\n",
       "      <th>ip</th>\n",
       "      <th>latest_utm_s</th>\n",
       "      <th>model</th>\n",
       "      <th>os</th>\n",
       "      <th>os_version</th>\n",
       "      <th>pageS</th>\n",
       "      <th>time</th>\n",
       "      <th>CN</th>\n",
       "      <th>source</th>\n",
       "      <th>weekend</th>\n",
       "      <th>signup</th>\n",
       "    </tr>\n",
       "  </thead>\n",
       "  <tbody>\n",
       "    <tr>\n",
       "      <th>0</th>\n",
       "      <td>chrome</td>\n",
       "      <td>45.0</td>\n",
       "      <td>2017-03-10</td>\n",
       "      <td>True</td>\n",
       "      <td>False</td>\n",
       "      <td>111.207.114.194</td>\n",
       "      <td>baidu</td>\n",
       "      <td>pc</td>\n",
       "      <td>windows</td>\n",
       "      <td>6.10</td>\n",
       "      <td>166.465</td>\n",
       "      <td>1489131657773</td>\n",
       "      <td>1.0</td>\n",
       "      <td>1</td>\n",
       "      <td>0</td>\n",
       "      <td>1</td>\n",
       "    </tr>\n",
       "    <tr>\n",
       "      <th>1</th>\n",
       "      <td>sogou</td>\n",
       "      <td>2.0</td>\n",
       "      <td>2017-03-13</td>\n",
       "      <td>False</td>\n",
       "      <td>False</td>\n",
       "      <td>1.202.80.36</td>\n",
       "      <td>NaN</td>\n",
       "      <td>pc</td>\n",
       "      <td>windows</td>\n",
       "      <td>6.10</td>\n",
       "      <td>1289.224</td>\n",
       "      <td>1489403913702</td>\n",
       "      <td>1.0</td>\n",
       "      <td>0</td>\n",
       "      <td>0</td>\n",
       "      <td>1</td>\n",
       "    </tr>\n",
       "    <tr>\n",
       "      <th>2</th>\n",
       "      <td>chrome</td>\n",
       "      <td>56.0</td>\n",
       "      <td>2017-03-13</td>\n",
       "      <td>True</td>\n",
       "      <td>False</td>\n",
       "      <td>210.12.8.240</td>\n",
       "      <td>baidu</td>\n",
       "      <td>pc</td>\n",
       "      <td>windows</td>\n",
       "      <td>6.10</td>\n",
       "      <td>1474.397</td>\n",
       "      <td>1489398682974</td>\n",
       "      <td>1.0</td>\n",
       "      <td>1</td>\n",
       "      <td>0</td>\n",
       "      <td>0</td>\n",
       "    </tr>\n",
       "    <tr>\n",
       "      <th>3</th>\n",
       "      <td>qq</td>\n",
       "      <td>9.5</td>\n",
       "      <td>2017-03-06</td>\n",
       "      <td>True</td>\n",
       "      <td>False</td>\n",
       "      <td>61.183.68.74</td>\n",
       "      <td>NaN</td>\n",
       "      <td>pc</td>\n",
       "      <td>windows</td>\n",
       "      <td>6.10</td>\n",
       "      <td>4.252</td>\n",
       "      <td>1488854597360</td>\n",
       "      <td>1.0</td>\n",
       "      <td>0</td>\n",
       "      <td>0</td>\n",
       "      <td>0</td>\n",
       "    </tr>\n",
       "    <tr>\n",
       "      <th>4</th>\n",
       "      <td>chrome</td>\n",
       "      <td>56.0</td>\n",
       "      <td>2017-03-11</td>\n",
       "      <td>True</td>\n",
       "      <td>False</td>\n",
       "      <td>101.80.177.64</td>\n",
       "      <td>baidu</td>\n",
       "      <td>mac</td>\n",
       "      <td>macosx</td>\n",
       "      <td>10.11</td>\n",
       "      <td>25.329</td>\n",
       "      <td>1489241919295</td>\n",
       "      <td>1.0</td>\n",
       "      <td>1</td>\n",
       "      <td>1</td>\n",
       "      <td>0</td>\n",
       "    </tr>\n",
       "  </tbody>\n",
       "</table>\n",
       "</div>"
      ],
      "text/plain": [
       "  browser  browser_v         day  is_fd  is_ft               ip latest_utm_s  \\\n",
       "0  chrome       45.0  2017-03-10   True  False  111.207.114.194        baidu   \n",
       "1   sogou        2.0  2017-03-13  False  False      1.202.80.36          NaN   \n",
       "2  chrome       56.0  2017-03-13   True  False     210.12.8.240        baidu   \n",
       "3      qq        9.5  2017-03-06   True  False     61.183.68.74          NaN   \n",
       "4  chrome       56.0  2017-03-11   True  False    101.80.177.64        baidu   \n",
       "\n",
       "  model       os  os_version     pageS           time   CN  source  weekend  \\\n",
       "0    pc  windows        6.10   166.465  1489131657773  1.0       1        0   \n",
       "1    pc  windows        6.10  1289.224  1489403913702  1.0       0        0   \n",
       "2    pc  windows        6.10  1474.397  1489398682974  1.0       1        0   \n",
       "3    pc  windows        6.10     4.252  1488854597360  1.0       0        0   \n",
       "4   mac   macosx       10.11    25.329  1489241919295  1.0       1        1   \n",
       "\n",
       "   signup  \n",
       "0       1  \n",
       "1       1  \n",
       "2       0  \n",
       "3       0  \n",
       "4       0  "
      ]
     },
     "execution_count": 4,
     "metadata": {},
     "output_type": "execute_result"
    }
   ],
   "source": [
    "df.head()"
   ]
  },
  {
   "cell_type": "markdown",
   "metadata": {},
   "source": [
    "## Dataset Description\n",
    "\n",
    "- browser\n",
    "- browser version\n",
    "- the day of this event\n",
    "- is first day\n",
    "- is first time\n",
    "- ip address\n",
    "- user source\n",
    "- model (pc or mac or cellphone)\n",
    "- operation system\n",
    "- os version\n",
    "- page stay time\n",
    "- time \n",
    "- is ip address in China\n",
    "- is the time in weekend\n",
    "- did the user sign up "
   ]
  },
  {
   "cell_type": "markdown",
   "metadata": {},
   "source": [
    "Explore data"
   ]
  },
  {
   "cell_type": "code",
   "execution_count": 5,
   "metadata": {},
   "outputs": [
    {
     "data": {
      "text/plain": [
       "<matplotlib.axes._subplots.AxesSubplot at 0x114ce3390>"
      ]
     },
     "execution_count": 5,
     "metadata": {},
     "output_type": "execute_result"
    },
    {
     "data": {
      "image/png": "[encoded data removed]",
      "text/plain": [
       "<matplotlib.figure.Figure at 0x114ccc6a0>"
      ]
     },
     "metadata": {},
     "output_type": "display_data"
    }
   ],
   "source": [
    "df['browser'].value_counts(dropna=False).plot.bar()"
   ]
  },
  {
   "cell_type": "code",
   "execution_count": 6,
   "metadata": {},
   "outputs": [
    {
     "data": {
      "text/plain": [
       "<matplotlib.axes._subplots.AxesSubplot at 0x1149f26a0>"
      ]
     },
     "execution_count": 6,
     "metadata": {},
     "output_type": "execute_result"
    },
    {
     "data": {
      "image/png": "[encoded data removed]",
      "text/plain": [
       "<matplotlib.figure.Figure at 0x117f71d68>"
      ]
     },
     "metadata": {},
     "output_type": "display_data"
    }
   ],
   "source": [
    "df.loc[df['browser'] == 'chrome']['browser_v'].value_counts(dropna=False).plot.bar()"
   ]
  },
  {
   "cell_type": "code",
   "execution_count": 7,
   "metadata": {
    "collapsed": true
   },
   "outputs": [],
   "source": [
    "browser_c = df['browser'].value_counts(dropna=False)"
   ]
  },
  {
   "cell_type": "code",
   "execution_count": 8,
   "metadata": {},
   "outputs": [
    {
     "data": {
      "text/plain": [
       "chrome            1011\n",
       "safari             121\n",
       "firefox             77\n",
       "sogou               60\n",
       "qq                  52\n",
       "micromessenger      30\n",
       "ie                  27\n",
       "edge                24\n",
       "uc                  10\n",
       "maxthon              6\n",
       "baidu                5\n",
       "theworld             5\n",
       "opera                3\n",
       "liebao               2\n",
       "mi                   2\n",
       "360                  1\n",
       "Name: browser, dtype: int64"
      ]
     },
     "execution_count": 8,
     "metadata": {},
     "output_type": "execute_result"
    }
   ],
   "source": [
    "browser_c"
   ]
  },
  {
   "cell_type": "code",
   "execution_count": 9,
   "metadata": {},
   "outputs": [],
   "source": [
    "df['browser_bin'] = df['browser']"
   ]
  },
  {
   "cell_type": "code",
   "execution_count": 25,
   "metadata": {},
   "outputs": [
    {
     "name": "stderr",
     "output_type": "stream",
     "text": [
      "/Users/Danielle/anaconda/lib/python3.6/site-packages/pandas/core/indexing.py:179: SettingWithCopyWarning: \n",
      "A value is trying to be set on a copy of a slice from a DataFrame\n",
      "\n",
      "See the caveats in the documentation: http://pandas.pydata.org/pandas-docs/stable/indexing.html#indexing-view-versus-copy\n",
      "  self._setitem_with_indexer(indexer, value)\n"
     ]
    }
   ],
   "source": [
    "for i in range(len(df['browser'])):\n",
    "    if browser_c[ df.browser.loc[i]] > 30:\n",
    "        if df.browser.loc[i] == 'chrome' and df.browser_v.loc[i] != 56.0:\n",
    "            df['browser_bin'].loc[i] = 'chrome_others'\n",
    "        else:\n",
    "            df['browser_bin'].loc[i] = df['browser'].loc[i]   \n",
    "    else:\n",
    "        df['browser_bin'].loc[i] = 'others'"
   ]
  },
  {
   "cell_type": "code",
   "execution_count": 33,
   "metadata": {},
   "outputs": [
    {
     "data": {
      "text/plain": [
       "chrome_others    507\n",
       "chrome           504\n",
       "safari           121\n",
       "others           115\n",
       "firefox           77\n",
       "sogou             60\n",
       "qq                52\n",
       "Name: browser_bin, dtype: int64"
      ]
     },
     "execution_count": 33,
     "metadata": {},
     "output_type": "execute_result"
    }
   ],
   "source": [
    "df['browser_bin'].value_counts(dropna=False)"
   ]
  },
  {
   "cell_type": "code",
   "execution_count": 27,
   "metadata": {},
   "outputs": [
    {
     "data": {
      "text/plain": [
       "<matplotlib.axes._subplots.AxesSubplot at 0x118152438>"
      ]
     },
     "execution_count": 27,
     "metadata": {},
     "output_type": "execute_result"
    },
    {
     "data": {
      "image/png": "[encoded data removed]",
      "text/plain": [
       "<matplotlib.figure.Figure at 0x11814eb38>"
      ]
     },
     "metadata": {},
     "output_type": "display_data"
    }
   ],
   "source": [
    "df['latest_utm_s'].value_counts(dropna=False).plot.bar()"
   ]
  },
  {
   "cell_type": "code",
   "execution_count": 28,
   "metadata": {},
   "outputs": [
    {
     "data": {
      "text/plain": [
       "<matplotlib.axes._subplots.AxesSubplot at 0x1188b81d0>"
      ]
     },
     "execution_count": 28,
     "metadata": {},
     "output_type": "execute_result"
    },
    {
     "data": {
      "image/png": "[encoded data removed]",
      "text/plain": [
       "<matplotlib.figure.Figure at 0x1188c6710>"
      ]
     },
     "metadata": {},
     "output_type": "display_data"
    }
   ],
   "source": [
    "df['model'].value_counts(dropna=False).plot.bar()"
   ]
  },
  {
   "cell_type": "code",
   "execution_count": 29,
   "metadata": {
    "collapsed": true
   },
   "outputs": [],
   "source": [
    "model_c = df['model'].value_counts(dropna=False)"
   ]
  },
  {
   "cell_type": "code",
   "execution_count": 30,
   "metadata": {},
   "outputs": [
    {
     "data": {
      "text/plain": [
       "pc         972\n",
       "mac        437\n",
       "na          10\n",
       "huawei       5\n",
       "android      3\n",
       "mi           2\n",
       "iphone       2\n",
       "hongmi       2\n",
       "samsung      1\n",
       "coolpad      1\n",
       "meizu        1\n",
       "Name: model, dtype: int64"
      ]
     },
     "execution_count": 30,
     "metadata": {},
     "output_type": "execute_result"
    }
   ],
   "source": [
    "model_c"
   ]
  },
  {
   "cell_type": "code",
   "execution_count": 31,
   "metadata": {
    "collapsed": true
   },
   "outputs": [],
   "source": [
    "df['model_bin'] = df['model']"
   ]
  },
  {
   "cell_type": "code",
   "execution_count": 34,
   "metadata": {},
   "outputs": [
    {
     "name": "stderr",
     "output_type": "stream",
     "text": [
      "/Users/Danielle/anaconda/lib/python3.6/site-packages/pandas/core/indexing.py:179: SettingWithCopyWarning: \n",
      "A value is trying to be set on a copy of a slice from a DataFrame\n",
      "\n",
      "See the caveats in the documentation: http://pandas.pydata.org/pandas-docs/stable/indexing.html#indexing-view-versus-copy\n",
      "  self._setitem_with_indexer(indexer, value)\n"
     ]
    }
   ],
   "source": [
    "for i in range(len(df['model'])):\n",
    "    if model_c[ df.model.loc[i]] > 30:\n",
    "        df['model_bin'].loc[i] = df['model'].loc[i]   \n",
    "    else:\n",
    "        df['model_bin'].loc[i] = 'others'"
   ]
  },
  {
   "cell_type": "code",
   "execution_count": 35,
   "metadata": {},
   "outputs": [
    {
     "data": {
      "text/plain": [
       "pc        972\n",
       "mac       437\n",
       "others     27\n",
       "Name: model_bin, dtype: int64"
      ]
     },
     "execution_count": 35,
     "metadata": {},
     "output_type": "execute_result"
    }
   ],
   "source": [
    "df['model_bin'].value_counts(dropna=False)"
   ]
  },
  {
   "cell_type": "code",
   "execution_count": 36,
   "metadata": {},
   "outputs": [
    {
     "data": {
      "text/plain": [
       "<matplotlib.axes._subplots.AxesSubplot at 0x118191e48>"
      ]
     },
     "execution_count": 36,
     "metadata": {},
     "output_type": "execute_result"
    },
    {
     "data": {
      "image/png": "[encoded data removed]",
      "text/plain": [
       "<matplotlib.figure.Figure at 0x118a111d0>"
      ]
     },
     "metadata": {},
     "output_type": "display_data"
    }
   ],
   "source": [
    "df['os'].value_counts(dropna=False).plot.bar()"
   ]
  },
  {
   "cell_type": "code",
   "execution_count": 37,
   "metadata": {},
   "outputs": [
    {
     "data": {
      "text/plain": [
       "<matplotlib.axes._subplots.AxesSubplot at 0x118aecf28>"
      ]
     },
     "execution_count": 37,
     "metadata": {},
     "output_type": "execute_result"
    },
    {
     "data": {
      "image/png": "[encoded data removed]",
      "text/plain": [
       "<matplotlib.figure.Figure at 0x118b4d358>"
      ]
     },
     "metadata": {},
     "output_type": "display_data"
    }
   ],
   "source": [
    "df.loc[df['os'] == 'windows']['os_version'].value_counts(dropna=False).plot.bar()"
   ]
  },
  {
   "cell_type": "code",
   "execution_count": 38,
   "metadata": {},
   "outputs": [
    {
     "data": {
      "text/plain": [
       "<matplotlib.axes._subplots.AxesSubplot at 0x118c000b8>"
      ]
     },
     "execution_count": 38,
     "metadata": {},
     "output_type": "execute_result"
    },
    {
     "data": {
      "image/png": "[encoded data removed]",
      "text/plain": [
       "<matplotlib.figure.Figure at 0x118c67b00>"
      ]
     },
     "metadata": {},
     "output_type": "display_data"
    }
   ],
   "source": [
    "df.loc[df['os'] == 'macosx']['os_version'].value_counts(dropna=False).plot.bar()"
   ]
  },
  {
   "cell_type": "code",
   "execution_count": 39,
   "metadata": {
    "collapsed": true
   },
   "outputs": [],
   "source": [
    "os_c = df['os'].value_counts(dropna=False)"
   ]
  },
  {
   "cell_type": "code",
   "execution_count": 40,
   "metadata": {
    "collapsed": true
   },
   "outputs": [],
   "source": [
    "df['os_bin'] = df['os']"
   ]
  },
  {
   "cell_type": "code",
   "execution_count": 43,
   "metadata": {},
   "outputs": [
    {
     "name": "stderr",
     "output_type": "stream",
     "text": [
      "/Users/Danielle/anaconda/lib/python3.6/site-packages/pandas/core/indexing.py:179: SettingWithCopyWarning: \n",
      "A value is trying to be set on a copy of a slice from a DataFrame\n",
      "\n",
      "See the caveats in the documentation: http://pandas.pydata.org/pandas-docs/stable/indexing.html#indexing-view-versus-copy\n",
      "  self._setitem_with_indexer(indexer, value)\n"
     ]
    }
   ],
   "source": [
    "for i in range(len(df['os'])):\n",
    "    if os_c[ df.os.loc[i]] > 30:\n",
    "        if df.os.loc[i] == 'windows' and df.os_version.loc[i] != 6.1:\n",
    "            df['os_bin'].loc[i] = 'windows_others'\n",
    "        elif df.os.loc[i] == 'macosx' and df.os_version.loc[i] != 10.12:\n",
    "            df['os_bin'].loc[i] = 'macosx_others'\n",
    "        else:\n",
    "            df['os_bin'].loc[i] = df['os'].loc[i]   \n",
    "    else:\n",
    "        df['os_bin'].loc[i] = 'others'"
   ]
  },
  {
   "cell_type": "code",
   "execution_count": 44,
   "metadata": {},
   "outputs": [
    {
     "data": {
      "text/plain": [
       "windows           583\n",
       "windows_others    389\n",
       "macosx            266\n",
       "macosx_others     171\n",
       "others             27\n",
       "Name: os_bin, dtype: int64"
      ]
     },
     "execution_count": 44,
     "metadata": {},
     "output_type": "execute_result"
    }
   ],
   "source": [
    "df['os_bin'].value_counts(dropna=False)"
   ]
  },
  {
   "cell_type": "code",
   "execution_count": 45,
   "metadata": {},
   "outputs": [
    {
     "data": {
      "text/plain": [
       "<matplotlib.axes._subplots.AxesSubplot at 0x118c705f8>"
      ]
     },
     "execution_count": 45,
     "metadata": {},
     "output_type": "execute_result"
    },
    {
     "data": {
      "image/png": "[encoded data removed]",
      "text/plain": [
       "<matplotlib.figure.Figure at 0x118ca3780>"
      ]
     },
     "metadata": {},
     "output_type": "display_data"
    }
   ],
   "source": [
    "df['CN'].value_counts(dropna=False).plot.bar()"
   ]
  },
  {
   "cell_type": "markdown",
   "metadata": {},
   "source": [
    "might need to merge nan to 1.0, since most people from China"
   ]
  },
  {
   "cell_type": "code",
   "execution_count": 46,
   "metadata": {},
   "outputs": [
    {
     "data": {
      "text/plain": [
       "<matplotlib.axes._subplots.AxesSubplot at 0x118e7e080>"
      ]
     },
     "execution_count": 46,
     "metadata": {},
     "output_type": "execute_result"
    },
    {
     "data": {
      "image/png": "[encoded data removed]",
      "text/plain": [
       "<matplotlib.figure.Figure at 0x118e856d8>"
      ]
     },
     "metadata": {},
     "output_type": "display_data"
    }
   ],
   "source": [
    "df['source'].value_counts(dropna=False).plot.bar()"
   ]
  },
  {
   "cell_type": "markdown",
   "metadata": {},
   "source": [
    "might need to change source, create another value for nan: these people might already know sensordata, and go to the website directly."
   ]
  },
  {
   "cell_type": "code",
   "execution_count": 47,
   "metadata": {},
   "outputs": [
    {
     "data": {
      "text/plain": [
       "<matplotlib.axes._subplots.AxesSubplot at 0x118eaea90>"
      ]
     },
     "execution_count": 47,
     "metadata": {},
     "output_type": "execute_result"
    },
    {
     "data": {
      "image/png": "[encoded data removed]",
      "text/plain": [
       "<matplotlib.figure.Figure at 0x118f81240>"
      ]
     },
     "metadata": {},
     "output_type": "display_data"
    }
   ],
   "source": [
    "df['weekend'].value_counts(dropna=False).plot.bar()"
   ]
  },
  {
   "cell_type": "markdown",
   "metadata": {},
   "source": [
    "Most people know or check this website for work. The number of interactions on weekends is small."
   ]
  },
  {
   "cell_type": "code",
   "execution_count": 48,
   "metadata": {},
   "outputs": [
    {
     "data": {
      "text/plain": [
       "<matplotlib.axes._subplots.AxesSubplot at 0x118f927b8>"
      ]
     },
     "execution_count": 48,
     "metadata": {},
     "output_type": "execute_result"
    },
    {
     "data": {
      "image/png": "[encoded data removed]",
      "text/plain": [
       "<matplotlib.figure.Figure at 0x11907b198>"
      ]
     },
     "metadata": {},
     "output_type": "display_data"
    }
   ],
   "source": [
    "df['is_fd'].value_counts(dropna=False).plot.bar()"
   ]
  },
  {
   "cell_type": "markdown",
   "metadata": {},
   "source": [
    "Some people come the other day"
   ]
  },
  {
   "cell_type": "code",
   "execution_count": 49,
   "metadata": {},
   "outputs": [
    {
     "data": {
      "text/plain": [
       "<matplotlib.axes._subplots.AxesSubplot at 0x1191785c0>"
      ]
     },
     "execution_count": 49,
     "metadata": {},
     "output_type": "execute_result"
    },
    {
     "data": {
      "image/png": "[encoded data removed]",
      "text/plain": [
       "<matplotlib.figure.Figure at 0x1191847f0>"
      ]
     },
     "metadata": {},
     "output_type": "display_data"
    }
   ],
   "source": [
    "df['is_ft'].value_counts(dropna=False).plot.bar()"
   ]
  },
  {
   "cell_type": "markdown",
   "metadata": {
    "collapsed": true
   },
   "source": [
    "## Clean data - dealing with missing values"
   ]
  },
  {
   "cell_type": "code",
   "execution_count": 50,
   "metadata": {},
   "outputs": [
    {
     "data": {
      "text/plain": [
       "browser           0\n",
       "browser_v         0\n",
       "day               0\n",
       "is_fd             0\n",
       "is_ft             0\n",
       "ip                0\n",
       "latest_utm_s    621\n",
       "model             0\n",
       "os                0\n",
       "os_version        0\n",
       "pageS             0\n",
       "time              0\n",
       "CN              204\n",
       "source            0\n",
       "weekend           0\n",
       "signup            0\n",
       "browser_bin       0\n",
       "model_bin         0\n",
       "os_bin            0\n",
       "dtype: int64"
      ]
     },
     "execution_count": 50,
     "metadata": {},
     "output_type": "execute_result"
    }
   ],
   "source": [
    "# Count missing values by column\n",
    "df.isnull().sum()"
   ]
  },
  {
   "cell_type": "code",
   "execution_count": 51,
   "metadata": {
    "collapsed": true
   },
   "outputs": [],
   "source": [
    "df['source'] = (df.latest_utm_s == 'baidu') * 2 + (df.latest_utm_s.isnull()) * 1 "
   ]
  },
  {
   "cell_type": "code",
   "execution_count": 52,
   "metadata": {},
   "outputs": [
    {
     "data": {
      "text/plain": [
       "<matplotlib.axes._subplots.AxesSubplot at 0x1191c5860>"
      ]
     },
     "execution_count": 52,
     "metadata": {},
     "output_type": "execute_result"
    },
    {
     "data": {
      "image/png": "[encoded data removed]",
      "text/plain": [
       "<matplotlib.figure.Figure at 0x118b5d4e0>"
      ]
     },
     "metadata": {},
     "output_type": "display_data"
    }
   ],
   "source": [
    "df['source'].value_counts(dropna=False).plot.bar()"
   ]
  },
  {
   "cell_type": "code",
   "execution_count": 54,
   "metadata": {},
   "outputs": [
    {
     "data": {
      "text/html": [
       "<div>\n",
       "<style>\n",
       "    .dataframe thead tr:only-child th {\n",
       "        text-align: right;\n",
       "    }\n",
       "\n",
       "    .dataframe thead th {\n",
       "        text-align: left;\n",
       "    }\n",
       "\n",
       "    .dataframe tbody tr th {\n",
       "        vertical-align: top;\n",
       "    }\n",
       "</style>\n",
       "<table border=\"1\" class=\"dataframe\">\n",
       "  <thead>\n",
       "    <tr style=\"text-align: right;\">\n",
       "      <th></th>\n",
       "      <th>latest_utm_s</th>\n",
       "      <th>source</th>\n",
       "    </tr>\n",
       "  </thead>\n",
       "  <tbody>\n",
       "    <tr>\n",
       "      <th>0</th>\n",
       "      <td>baidu</td>\n",
       "      <td>2</td>\n",
       "    </tr>\n",
       "    <tr>\n",
       "      <th>1</th>\n",
       "      <td>NaN</td>\n",
       "      <td>1</td>\n",
       "    </tr>\n",
       "    <tr>\n",
       "      <th>2</th>\n",
       "      <td>baidu</td>\n",
       "      <td>2</td>\n",
       "    </tr>\n",
       "    <tr>\n",
       "      <th>3</th>\n",
       "      <td>NaN</td>\n",
       "      <td>1</td>\n",
       "    </tr>\n",
       "    <tr>\n",
       "      <th>4</th>\n",
       "      <td>baidu</td>\n",
       "      <td>2</td>\n",
       "    </tr>\n",
       "  </tbody>\n",
       "</table>\n",
       "</div>"
      ],
      "text/plain": [
       "  latest_utm_s  source\n",
       "0        baidu       2\n",
       "1          NaN       1\n",
       "2        baidu       2\n",
       "3          NaN       1\n",
       "4        baidu       2"
      ]
     },
     "execution_count": 54,
     "metadata": {},
     "output_type": "execute_result"
    }
   ],
   "source": [
    "df[['latest_utm_s','source']].head()"
   ]
  },
  {
   "cell_type": "code",
   "execution_count": 55,
   "metadata": {
    "collapsed": true
   },
   "outputs": [],
   "source": [
    "# Make a copy of df, because you don't want to mess up with orignal df when you experiment stuff\n",
    "df_fillna = df.copy()"
   ]
  },
  {
   "cell_type": "code",
   "execution_count": 56,
   "metadata": {},
   "outputs": [
    {
     "data": {
      "text/html": [
       "<div>\n",
       "<style>\n",
       "    .dataframe thead tr:only-child th {\n",
       "        text-align: right;\n",
       "    }\n",
       "\n",
       "    .dataframe thead th {\n",
       "        text-align: left;\n",
       "    }\n",
       "\n",
       "    .dataframe tbody tr th {\n",
       "        vertical-align: top;\n",
       "    }\n",
       "</style>\n",
       "<table border=\"1\" class=\"dataframe\">\n",
       "  <thead>\n",
       "    <tr style=\"text-align: right;\">\n",
       "      <th></th>\n",
       "      <th>browser</th>\n",
       "      <th>browser_v</th>\n",
       "      <th>day</th>\n",
       "      <th>is_fd</th>\n",
       "      <th>ip</th>\n",
       "      <th>latest_utm_s</th>\n",
       "      <th>model</th>\n",
       "      <th>os</th>\n",
       "      <th>os_version</th>\n",
       "      <th>pageS</th>\n",
       "      <th>time</th>\n",
       "      <th>CN</th>\n",
       "      <th>source</th>\n",
       "      <th>weekend</th>\n",
       "      <th>signup</th>\n",
       "      <th>browser_bin</th>\n",
       "      <th>model_bin</th>\n",
       "      <th>os_bin</th>\n",
       "    </tr>\n",
       "  </thead>\n",
       "  <tbody>\n",
       "    <tr>\n",
       "      <th>0</th>\n",
       "      <td>chrome</td>\n",
       "      <td>45.00000</td>\n",
       "      <td>2017-03-10</td>\n",
       "      <td>True</td>\n",
       "      <td>111.207.114.194</td>\n",
       "      <td>baidu</td>\n",
       "      <td>pc</td>\n",
       "      <td>windows</td>\n",
       "      <td>6.10</td>\n",
       "      <td>166.465</td>\n",
       "      <td>1489131657773</td>\n",
       "      <td>1.0</td>\n",
       "      <td>2</td>\n",
       "      <td>0</td>\n",
       "      <td>1</td>\n",
       "      <td>chrome_others</td>\n",
       "      <td>pc</td>\n",
       "      <td>windows</td>\n",
       "    </tr>\n",
       "    <tr>\n",
       "      <th>1</th>\n",
       "      <td>sogou</td>\n",
       "      <td>2.00000</td>\n",
       "      <td>2017-03-13</td>\n",
       "      <td>False</td>\n",
       "      <td>1.202.80.36</td>\n",
       "      <td>NaN</td>\n",
       "      <td>pc</td>\n",
       "      <td>windows</td>\n",
       "      <td>6.10</td>\n",
       "      <td>1289.224</td>\n",
       "      <td>1489403913702</td>\n",
       "      <td>1.0</td>\n",
       "      <td>1</td>\n",
       "      <td>0</td>\n",
       "      <td>1</td>\n",
       "      <td>sogou</td>\n",
       "      <td>pc</td>\n",
       "      <td>windows</td>\n",
       "    </tr>\n",
       "    <tr>\n",
       "      <th>2</th>\n",
       "      <td>chrome</td>\n",
       "      <td>56.00000</td>\n",
       "      <td>2017-03-13</td>\n",
       "      <td>True</td>\n",
       "      <td>210.12.8.240</td>\n",
       "      <td>baidu</td>\n",
       "      <td>pc</td>\n",
       "      <td>windows</td>\n",
       "      <td>6.10</td>\n",
       "      <td>1474.397</td>\n",
       "      <td>1489398682974</td>\n",
       "      <td>1.0</td>\n",
       "      <td>2</td>\n",
       "      <td>0</td>\n",
       "      <td>0</td>\n",
       "      <td>chrome</td>\n",
       "      <td>pc</td>\n",
       "      <td>windows</td>\n",
       "    </tr>\n",
       "    <tr>\n",
       "      <th>3</th>\n",
       "      <td>qq</td>\n",
       "      <td>9.50000</td>\n",
       "      <td>2017-03-06</td>\n",
       "      <td>True</td>\n",
       "      <td>61.183.68.74</td>\n",
       "      <td>NaN</td>\n",
       "      <td>pc</td>\n",
       "      <td>windows</td>\n",
       "      <td>6.10</td>\n",
       "      <td>4.252</td>\n",
       "      <td>1488854597360</td>\n",
       "      <td>1.0</td>\n",
       "      <td>1</td>\n",
       "      <td>0</td>\n",
       "      <td>0</td>\n",
       "      <td>qq</td>\n",
       "      <td>pc</td>\n",
       "      <td>windows</td>\n",
       "    </tr>\n",
       "    <tr>\n",
       "      <th>4</th>\n",
       "      <td>chrome</td>\n",
       "      <td>56.00000</td>\n",
       "      <td>2017-03-11</td>\n",
       "      <td>True</td>\n",
       "      <td>101.80.177.64</td>\n",
       "      <td>baidu</td>\n",
       "      <td>mac</td>\n",
       "      <td>macosx</td>\n",
       "      <td>10.11</td>\n",
       "      <td>25.329</td>\n",
       "      <td>1489241919295</td>\n",
       "      <td>1.0</td>\n",
       "      <td>2</td>\n",
       "      <td>1</td>\n",
       "      <td>0</td>\n",
       "      <td>chrome</td>\n",
       "      <td>mac</td>\n",
       "      <td>macosx_others</td>\n",
       "    </tr>\n",
       "    <tr>\n",
       "      <th>5</th>\n",
       "      <td>chrome</td>\n",
       "      <td>56.00000</td>\n",
       "      <td>2017-03-09</td>\n",
       "      <td>True</td>\n",
       "      <td>114.249.167.81</td>\n",
       "      <td>baidu</td>\n",
       "      <td>mac</td>\n",
       "      <td>macosx</td>\n",
       "      <td>10.12</td>\n",
       "      <td>25.133</td>\n",
       "      <td>1489066436365</td>\n",
       "      <td>1.0</td>\n",
       "      <td>2</td>\n",
       "      <td>0</td>\n",
       "      <td>0</td>\n",
       "      <td>chrome</td>\n",
       "      <td>mac</td>\n",
       "      <td>macosx</td>\n",
       "    </tr>\n",
       "    <tr>\n",
       "      <th>6</th>\n",
       "      <td>sogou</td>\n",
       "      <td>2.00000</td>\n",
       "      <td>2017-03-07</td>\n",
       "      <td>True</td>\n",
       "      <td>119.123.126.233</td>\n",
       "      <td>baidu</td>\n",
       "      <td>pc</td>\n",
       "      <td>windows</td>\n",
       "      <td>6.10</td>\n",
       "      <td>2076.163</td>\n",
       "      <td>1488881113235</td>\n",
       "      <td>NaN</td>\n",
       "      <td>2</td>\n",
       "      <td>0</td>\n",
       "      <td>1</td>\n",
       "      <td>sogou</td>\n",
       "      <td>pc</td>\n",
       "      <td>windows</td>\n",
       "    </tr>\n",
       "    <tr>\n",
       "      <th>7</th>\n",
       "      <td>chrome</td>\n",
       "      <td>56.00000</td>\n",
       "      <td>2017-03-11</td>\n",
       "      <td>False</td>\n",
       "      <td>182.48.107.156</td>\n",
       "      <td>baidu</td>\n",
       "      <td>mac</td>\n",
       "      <td>macosx</td>\n",
       "      <td>10.12</td>\n",
       "      <td>73659.349</td>\n",
       "      <td>1489214616479</td>\n",
       "      <td>1.0</td>\n",
       "      <td>2</td>\n",
       "      <td>1</td>\n",
       "      <td>0</td>\n",
       "      <td>chrome</td>\n",
       "      <td>mac</td>\n",
       "      <td>macosx</td>\n",
       "    </tr>\n",
       "    <tr>\n",
       "      <th>8</th>\n",
       "      <td>safari</td>\n",
       "      <td>10.00000</td>\n",
       "      <td>2017-03-08</td>\n",
       "      <td>True</td>\n",
       "      <td>182.18.2.100</td>\n",
       "      <td>NaN</td>\n",
       "      <td>mac</td>\n",
       "      <td>macosx</td>\n",
       "      <td>10.12</td>\n",
       "      <td>8.556</td>\n",
       "      <td>1488959994351</td>\n",
       "      <td>NaN</td>\n",
       "      <td>1</td>\n",
       "      <td>0</td>\n",
       "      <td>0</td>\n",
       "      <td>safari</td>\n",
       "      <td>mac</td>\n",
       "      <td>macosx</td>\n",
       "    </tr>\n",
       "    <tr>\n",
       "      <th>9</th>\n",
       "      <td>chrome</td>\n",
       "      <td>56.00000</td>\n",
       "      <td>2017-03-08</td>\n",
       "      <td>False</td>\n",
       "      <td>116.226.99.241</td>\n",
       "      <td>admin</td>\n",
       "      <td>mac</td>\n",
       "      <td>macosx</td>\n",
       "      <td>10.12</td>\n",
       "      <td>150.305</td>\n",
       "      <td>1488967729544</td>\n",
       "      <td>1.0</td>\n",
       "      <td>0</td>\n",
       "      <td>0</td>\n",
       "      <td>0</td>\n",
       "      <td>chrome</td>\n",
       "      <td>mac</td>\n",
       "      <td>macosx</td>\n",
       "    </tr>\n",
       "    <tr>\n",
       "      <th>10</th>\n",
       "      <td>chrome</td>\n",
       "      <td>41.00000</td>\n",
       "      <td>2017-03-07</td>\n",
       "      <td>True</td>\n",
       "      <td>60.30.79.106</td>\n",
       "      <td>baidu</td>\n",
       "      <td>pc</td>\n",
       "      <td>windows</td>\n",
       "      <td>6.10</td>\n",
       "      <td>21.617</td>\n",
       "      <td>1488874431162</td>\n",
       "      <td>0.0</td>\n",
       "      <td>2</td>\n",
       "      <td>0</td>\n",
       "      <td>1</td>\n",
       "      <td>chrome_others</td>\n",
       "      <td>pc</td>\n",
       "      <td>windows</td>\n",
       "    </tr>\n",
       "    <tr>\n",
       "      <th>11</th>\n",
       "      <td>chrome</td>\n",
       "      <td>56.00000</td>\n",
       "      <td>2017-03-09</td>\n",
       "      <td>False</td>\n",
       "      <td>101.71.220.126</td>\n",
       "      <td>baidu</td>\n",
       "      <td>pc</td>\n",
       "      <td>windows</td>\n",
       "      <td>6.10</td>\n",
       "      <td>17.025</td>\n",
       "      <td>1489124047148</td>\n",
       "      <td>1.0</td>\n",
       "      <td>2</td>\n",
       "      <td>0</td>\n",
       "      <td>0</td>\n",
       "      <td>chrome</td>\n",
       "      <td>pc</td>\n",
       "      <td>windows</td>\n",
       "    </tr>\n",
       "    <tr>\n",
       "      <th>12</th>\n",
       "      <td>chrome</td>\n",
       "      <td>52.00000</td>\n",
       "      <td>2017-03-07</td>\n",
       "      <td>True</td>\n",
       "      <td>222.92.130.218</td>\n",
       "      <td>baidu</td>\n",
       "      <td>pc</td>\n",
       "      <td>windows</td>\n",
       "      <td>6.10</td>\n",
       "      <td>6955.990</td>\n",
       "      <td>1488871645023</td>\n",
       "      <td>1.0</td>\n",
       "      <td>2</td>\n",
       "      <td>0</td>\n",
       "      <td>1</td>\n",
       "      <td>chrome_others</td>\n",
       "      <td>pc</td>\n",
       "      <td>windows</td>\n",
       "    </tr>\n",
       "    <tr>\n",
       "      <th>13</th>\n",
       "      <td>sogou</td>\n",
       "      <td>2.00000</td>\n",
       "      <td>2017-03-07</td>\n",
       "      <td>True</td>\n",
       "      <td>183.26.51.225</td>\n",
       "      <td>NaN</td>\n",
       "      <td>pc</td>\n",
       "      <td>windows</td>\n",
       "      <td>5.10</td>\n",
       "      <td>0.931</td>\n",
       "      <td>1488875176741</td>\n",
       "      <td>NaN</td>\n",
       "      <td>1</td>\n",
       "      <td>0</td>\n",
       "      <td>0</td>\n",
       "      <td>sogou</td>\n",
       "      <td>pc</td>\n",
       "      <td>windows_others</td>\n",
       "    </tr>\n",
       "    <tr>\n",
       "      <th>14</th>\n",
       "      <td>safari</td>\n",
       "      <td>9.10000</td>\n",
       "      <td>2017-03-10</td>\n",
       "      <td>True</td>\n",
       "      <td>111.165.63.96</td>\n",
       "      <td>NaN</td>\n",
       "      <td>mac</td>\n",
       "      <td>macosx</td>\n",
       "      <td>10.11</td>\n",
       "      <td>703.404</td>\n",
       "      <td>1489126151109</td>\n",
       "      <td>1.0</td>\n",
       "      <td>1</td>\n",
       "      <td>0</td>\n",
       "      <td>0</td>\n",
       "      <td>safari</td>\n",
       "      <td>mac</td>\n",
       "      <td>macosx_others</td>\n",
       "    </tr>\n",
       "    <tr>\n",
       "      <th>15</th>\n",
       "      <td>firefox</td>\n",
       "      <td>51.00000</td>\n",
       "      <td>2017-03-14</td>\n",
       "      <td>False</td>\n",
       "      <td>111.200.23.44</td>\n",
       "      <td>baidu</td>\n",
       "      <td>pc</td>\n",
       "      <td>windows</td>\n",
       "      <td>6.10</td>\n",
       "      <td>2286.971</td>\n",
       "      <td>1489480382141</td>\n",
       "      <td>1.0</td>\n",
       "      <td>2</td>\n",
       "      <td>0</td>\n",
       "      <td>1</td>\n",
       "      <td>firefox</td>\n",
       "      <td>pc</td>\n",
       "      <td>windows</td>\n",
       "    </tr>\n",
       "    <tr>\n",
       "      <th>16</th>\n",
       "      <td>edge</td>\n",
       "      <td>14.14393</td>\n",
       "      <td>2017-03-08</td>\n",
       "      <td>True</td>\n",
       "      <td>58.42.251.112</td>\n",
       "      <td>NaN</td>\n",
       "      <td>pc</td>\n",
       "      <td>windows</td>\n",
       "      <td>10.00</td>\n",
       "      <td>5.481</td>\n",
       "      <td>1488956426870</td>\n",
       "      <td>1.0</td>\n",
       "      <td>1</td>\n",
       "      <td>0</td>\n",
       "      <td>0</td>\n",
       "      <td>others</td>\n",
       "      <td>pc</td>\n",
       "      <td>windows_others</td>\n",
       "    </tr>\n",
       "    <tr>\n",
       "      <th>17</th>\n",
       "      <td>chrome</td>\n",
       "      <td>58.00000</td>\n",
       "      <td>2017-03-13</td>\n",
       "      <td>True</td>\n",
       "      <td>124.65.131.18</td>\n",
       "      <td>baidu</td>\n",
       "      <td>pc</td>\n",
       "      <td>windows</td>\n",
       "      <td>6.10</td>\n",
       "      <td>212.060</td>\n",
       "      <td>1489386477815</td>\n",
       "      <td>1.0</td>\n",
       "      <td>2</td>\n",
       "      <td>0</td>\n",
       "      <td>0</td>\n",
       "      <td>chrome_others</td>\n",
       "      <td>pc</td>\n",
       "      <td>windows</td>\n",
       "    </tr>\n",
       "    <tr>\n",
       "      <th>18</th>\n",
       "      <td>chrome</td>\n",
       "      <td>40.00000</td>\n",
       "      <td>2017-03-13</td>\n",
       "      <td>True</td>\n",
       "      <td>116.247.71.78</td>\n",
       "      <td>NaN</td>\n",
       "      <td>pc</td>\n",
       "      <td>windows</td>\n",
       "      <td>6.10</td>\n",
       "      <td>9505.192</td>\n",
       "      <td>1489392013906</td>\n",
       "      <td>1.0</td>\n",
       "      <td>1</td>\n",
       "      <td>0</td>\n",
       "      <td>0</td>\n",
       "      <td>chrome_others</td>\n",
       "      <td>pc</td>\n",
       "      <td>windows</td>\n",
       "    </tr>\n",
       "    <tr>\n",
       "      <th>19</th>\n",
       "      <td>firefox</td>\n",
       "      <td>51.00000</td>\n",
       "      <td>2017-03-09</td>\n",
       "      <td>False</td>\n",
       "      <td>49.4.178.50</td>\n",
       "      <td>NaN</td>\n",
       "      <td>pc</td>\n",
       "      <td>windows</td>\n",
       "      <td>6.10</td>\n",
       "      <td>2.978</td>\n",
       "      <td>1489056503256</td>\n",
       "      <td>1.0</td>\n",
       "      <td>1</td>\n",
       "      <td>0</td>\n",
       "      <td>0</td>\n",
       "      <td>firefox</td>\n",
       "      <td>pc</td>\n",
       "      <td>windows</td>\n",
       "    </tr>\n",
       "    <tr>\n",
       "      <th>20</th>\n",
       "      <td>chrome</td>\n",
       "      <td>51.00000</td>\n",
       "      <td>2017-03-07</td>\n",
       "      <td>True</td>\n",
       "      <td>211.148.195.211</td>\n",
       "      <td>NaN</td>\n",
       "      <td>pc</td>\n",
       "      <td>windows</td>\n",
       "      <td>6.10</td>\n",
       "      <td>681.512</td>\n",
       "      <td>1488870890300</td>\n",
       "      <td>1.0</td>\n",
       "      <td>1</td>\n",
       "      <td>0</td>\n",
       "      <td>1</td>\n",
       "      <td>chrome_others</td>\n",
       "      <td>pc</td>\n",
       "      <td>windows</td>\n",
       "    </tr>\n",
       "    <tr>\n",
       "      <th>21</th>\n",
       "      <td>chrome</td>\n",
       "      <td>55.00000</td>\n",
       "      <td>2017-03-08</td>\n",
       "      <td>True</td>\n",
       "      <td>125.121.71.111</td>\n",
       "      <td>NaN</td>\n",
       "      <td>mac</td>\n",
       "      <td>macosx</td>\n",
       "      <td>10.12</td>\n",
       "      <td>901.935</td>\n",
       "      <td>1488991090919</td>\n",
       "      <td>1.0</td>\n",
       "      <td>1</td>\n",
       "      <td>0</td>\n",
       "      <td>0</td>\n",
       "      <td>chrome_others</td>\n",
       "      <td>mac</td>\n",
       "      <td>macosx</td>\n",
       "    </tr>\n",
       "    <tr>\n",
       "      <th>22</th>\n",
       "      <td>firefox</td>\n",
       "      <td>51.00000</td>\n",
       "      <td>2017-03-14</td>\n",
       "      <td>True</td>\n",
       "      <td>27.38.37.66</td>\n",
       "      <td>NaN</td>\n",
       "      <td>pc</td>\n",
       "      <td>windows</td>\n",
       "      <td>6.10</td>\n",
       "      <td>190.923</td>\n",
       "      <td>1489481053478</td>\n",
       "      <td>1.0</td>\n",
       "      <td>1</td>\n",
       "      <td>0</td>\n",
       "      <td>1</td>\n",
       "      <td>firefox</td>\n",
       "      <td>pc</td>\n",
       "      <td>windows</td>\n",
       "    </tr>\n",
       "    <tr>\n",
       "      <th>23</th>\n",
       "      <td>chrome</td>\n",
       "      <td>56.00000</td>\n",
       "      <td>2017-03-08</td>\n",
       "      <td>False</td>\n",
       "      <td>61.129.119.185</td>\n",
       "      <td>baidu</td>\n",
       "      <td>pc</td>\n",
       "      <td>windows</td>\n",
       "      <td>10.00</td>\n",
       "      <td>169350.877</td>\n",
       "      <td>1489038629376</td>\n",
       "      <td>1.0</td>\n",
       "      <td>2</td>\n",
       "      <td>0</td>\n",
       "      <td>0</td>\n",
       "      <td>chrome</td>\n",
       "      <td>pc</td>\n",
       "      <td>windows_others</td>\n",
       "    </tr>\n",
       "    <tr>\n",
       "      <th>24</th>\n",
       "      <td>sogou</td>\n",
       "      <td>2.00000</td>\n",
       "      <td>2017-03-13</td>\n",
       "      <td>True</td>\n",
       "      <td>122.225.24.50</td>\n",
       "      <td>NaN</td>\n",
       "      <td>pc</td>\n",
       "      <td>windows</td>\n",
       "      <td>6.10</td>\n",
       "      <td>94.601</td>\n",
       "      <td>1489397113051</td>\n",
       "      <td>1.0</td>\n",
       "      <td>1</td>\n",
       "      <td>0</td>\n",
       "      <td>0</td>\n",
       "      <td>sogou</td>\n",
       "      <td>pc</td>\n",
       "      <td>windows</td>\n",
       "    </tr>\n",
       "    <tr>\n",
       "      <th>25</th>\n",
       "      <td>chrome</td>\n",
       "      <td>56.00000</td>\n",
       "      <td>2017-03-12</td>\n",
       "      <td>False</td>\n",
       "      <td>117.139.14.48</td>\n",
       "      <td>baidu</td>\n",
       "      <td>mac</td>\n",
       "      <td>macosx</td>\n",
       "      <td>10.12</td>\n",
       "      <td>856.076</td>\n",
       "      <td>1489335408380</td>\n",
       "      <td>NaN</td>\n",
       "      <td>2</td>\n",
       "      <td>1</td>\n",
       "      <td>1</td>\n",
       "      <td>chrome</td>\n",
       "      <td>mac</td>\n",
       "      <td>macosx</td>\n",
       "    </tr>\n",
       "    <tr>\n",
       "      <th>26</th>\n",
       "      <td>chrome</td>\n",
       "      <td>56.00000</td>\n",
       "      <td>2017-03-09</td>\n",
       "      <td>True</td>\n",
       "      <td>124.219.180.78</td>\n",
       "      <td>NaN</td>\n",
       "      <td>mac</td>\n",
       "      <td>macosx</td>\n",
       "      <td>10.12</td>\n",
       "      <td>2320.322</td>\n",
       "      <td>1489045894134</td>\n",
       "      <td>1.0</td>\n",
       "      <td>1</td>\n",
       "      <td>0</td>\n",
       "      <td>0</td>\n",
       "      <td>chrome</td>\n",
       "      <td>mac</td>\n",
       "      <td>macosx</td>\n",
       "    </tr>\n",
       "    <tr>\n",
       "      <th>27</th>\n",
       "      <td>chrome</td>\n",
       "      <td>50.00000</td>\n",
       "      <td>2017-03-10</td>\n",
       "      <td>True</td>\n",
       "      <td>183.16.189.192</td>\n",
       "      <td>NaN</td>\n",
       "      <td>pc</td>\n",
       "      <td>windows</td>\n",
       "      <td>6.10</td>\n",
       "      <td>1999.605</td>\n",
       "      <td>1489131972357</td>\n",
       "      <td>1.0</td>\n",
       "      <td>1</td>\n",
       "      <td>0</td>\n",
       "      <td>0</td>\n",
       "      <td>chrome_others</td>\n",
       "      <td>pc</td>\n",
       "      <td>windows</td>\n",
       "    </tr>\n",
       "    <tr>\n",
       "      <th>28</th>\n",
       "      <td>chrome</td>\n",
       "      <td>56.00000</td>\n",
       "      <td>2017-03-07</td>\n",
       "      <td>True</td>\n",
       "      <td>202.103.48.2</td>\n",
       "      <td>NaN</td>\n",
       "      <td>pc</td>\n",
       "      <td>windows</td>\n",
       "      <td>6.10</td>\n",
       "      <td>99.068</td>\n",
       "      <td>1488941263731</td>\n",
       "      <td>1.0</td>\n",
       "      <td>1</td>\n",
       "      <td>0</td>\n",
       "      <td>0</td>\n",
       "      <td>chrome</td>\n",
       "      <td>pc</td>\n",
       "      <td>windows</td>\n",
       "    </tr>\n",
       "    <tr>\n",
       "      <th>29</th>\n",
       "      <td>ie</td>\n",
       "      <td>8.00000</td>\n",
       "      <td>2017-03-06</td>\n",
       "      <td>True</td>\n",
       "      <td>116.231.5.148</td>\n",
       "      <td>baidu</td>\n",
       "      <td>pc</td>\n",
       "      <td>windows</td>\n",
       "      <td>6.10</td>\n",
       "      <td>182.748</td>\n",
       "      <td>1488792142343</td>\n",
       "      <td>1.0</td>\n",
       "      <td>2</td>\n",
       "      <td>0</td>\n",
       "      <td>1</td>\n",
       "      <td>others</td>\n",
       "      <td>pc</td>\n",
       "      <td>windows</td>\n",
       "    </tr>\n",
       "    <tr>\n",
       "      <th>...</th>\n",
       "      <td>...</td>\n",
       "      <td>...</td>\n",
       "      <td>...</td>\n",
       "      <td>...</td>\n",
       "      <td>...</td>\n",
       "      <td>...</td>\n",
       "      <td>...</td>\n",
       "      <td>...</td>\n",
       "      <td>...</td>\n",
       "      <td>...</td>\n",
       "      <td>...</td>\n",
       "      <td>...</td>\n",
       "      <td>...</td>\n",
       "      <td>...</td>\n",
       "      <td>...</td>\n",
       "      <td>...</td>\n",
       "      <td>...</td>\n",
       "      <td>...</td>\n",
       "    </tr>\n",
       "    <tr>\n",
       "      <th>1406</th>\n",
       "      <td>edge</td>\n",
       "      <td>14.14393</td>\n",
       "      <td>2017-03-09</td>\n",
       "      <td>False</td>\n",
       "      <td>119.57.167.153</td>\n",
       "      <td>baidu</td>\n",
       "      <td>pc</td>\n",
       "      <td>windows</td>\n",
       "      <td>10.00</td>\n",
       "      <td>91069.521</td>\n",
       "      <td>1489061268683</td>\n",
       "      <td>1.0</td>\n",
       "      <td>2</td>\n",
       "      <td>0</td>\n",
       "      <td>0</td>\n",
       "      <td>others</td>\n",
       "      <td>pc</td>\n",
       "      <td>windows_others</td>\n",
       "    </tr>\n",
       "    <tr>\n",
       "      <th>1407</th>\n",
       "      <td>firefox</td>\n",
       "      <td>51.00000</td>\n",
       "      <td>2017-03-07</td>\n",
       "      <td>False</td>\n",
       "      <td>14.23.124.130</td>\n",
       "      <td>baidu</td>\n",
       "      <td>pc</td>\n",
       "      <td>windows</td>\n",
       "      <td>6.10</td>\n",
       "      <td>64.474</td>\n",
       "      <td>1488875448103</td>\n",
       "      <td>1.0</td>\n",
       "      <td>2</td>\n",
       "      <td>0</td>\n",
       "      <td>0</td>\n",
       "      <td>firefox</td>\n",
       "      <td>pc</td>\n",
       "      <td>windows</td>\n",
       "    </tr>\n",
       "    <tr>\n",
       "      <th>1408</th>\n",
       "      <td>chrome</td>\n",
       "      <td>56.00000</td>\n",
       "      <td>2017-03-14</td>\n",
       "      <td>True</td>\n",
       "      <td>183.16.0.35</td>\n",
       "      <td>baidu</td>\n",
       "      <td>mac</td>\n",
       "      <td>macosx</td>\n",
       "      <td>10.12</td>\n",
       "      <td>11227.800</td>\n",
       "      <td>1489488981093</td>\n",
       "      <td>1.0</td>\n",
       "      <td>2</td>\n",
       "      <td>0</td>\n",
       "      <td>0</td>\n",
       "      <td>chrome</td>\n",
       "      <td>mac</td>\n",
       "      <td>macosx</td>\n",
       "    </tr>\n",
       "    <tr>\n",
       "      <th>1409</th>\n",
       "      <td>chrome</td>\n",
       "      <td>51.00000</td>\n",
       "      <td>2017-03-14</td>\n",
       "      <td>False</td>\n",
       "      <td>123.125.250.164</td>\n",
       "      <td>baidu</td>\n",
       "      <td>pc</td>\n",
       "      <td>windows</td>\n",
       "      <td>6.10</td>\n",
       "      <td>14938.687</td>\n",
       "      <td>1489479696834</td>\n",
       "      <td>1.0</td>\n",
       "      <td>2</td>\n",
       "      <td>0</td>\n",
       "      <td>1</td>\n",
       "      <td>chrome_others</td>\n",
       "      <td>pc</td>\n",
       "      <td>windows</td>\n",
       "    </tr>\n",
       "    <tr>\n",
       "      <th>1410</th>\n",
       "      <td>chrome</td>\n",
       "      <td>55.00000</td>\n",
       "      <td>2017-03-13</td>\n",
       "      <td>False</td>\n",
       "      <td>116.231.196.168</td>\n",
       "      <td>NaN</td>\n",
       "      <td>pc</td>\n",
       "      <td>windows</td>\n",
       "      <td>6.10</td>\n",
       "      <td>16790.261</td>\n",
       "      <td>1489402509537</td>\n",
       "      <td>1.0</td>\n",
       "      <td>1</td>\n",
       "      <td>0</td>\n",
       "      <td>0</td>\n",
       "      <td>chrome_others</td>\n",
       "      <td>pc</td>\n",
       "      <td>windows</td>\n",
       "    </tr>\n",
       "    <tr>\n",
       "      <th>1411</th>\n",
       "      <td>chrome</td>\n",
       "      <td>56.00000</td>\n",
       "      <td>2017-03-06</td>\n",
       "      <td>True</td>\n",
       "      <td>180.166.92.34</td>\n",
       "      <td>NaN</td>\n",
       "      <td>mac</td>\n",
       "      <td>macosx</td>\n",
       "      <td>10.12</td>\n",
       "      <td>34.459</td>\n",
       "      <td>1488795057876</td>\n",
       "      <td>1.0</td>\n",
       "      <td>1</td>\n",
       "      <td>0</td>\n",
       "      <td>0</td>\n",
       "      <td>chrome</td>\n",
       "      <td>mac</td>\n",
       "      <td>macosx</td>\n",
       "    </tr>\n",
       "    <tr>\n",
       "      <th>1412</th>\n",
       "      <td>safari</td>\n",
       "      <td>10.00000</td>\n",
       "      <td>2017-03-08</td>\n",
       "      <td>True</td>\n",
       "      <td>111.198.71.214</td>\n",
       "      <td>NaN</td>\n",
       "      <td>mac</td>\n",
       "      <td>macosx</td>\n",
       "      <td>10.12</td>\n",
       "      <td>90.540</td>\n",
       "      <td>1488969900112</td>\n",
       "      <td>1.0</td>\n",
       "      <td>1</td>\n",
       "      <td>0</td>\n",
       "      <td>1</td>\n",
       "      <td>safari</td>\n",
       "      <td>mac</td>\n",
       "      <td>macosx</td>\n",
       "    </tr>\n",
       "    <tr>\n",
       "      <th>1413</th>\n",
       "      <td>chrome</td>\n",
       "      <td>54.00000</td>\n",
       "      <td>2017-03-13</td>\n",
       "      <td>True</td>\n",
       "      <td>60.171.122.93</td>\n",
       "      <td>NaN</td>\n",
       "      <td>pc</td>\n",
       "      <td>windows</td>\n",
       "      <td>6.10</td>\n",
       "      <td>6.540</td>\n",
       "      <td>1489381306974</td>\n",
       "      <td>1.0</td>\n",
       "      <td>1</td>\n",
       "      <td>0</td>\n",
       "      <td>0</td>\n",
       "      <td>chrome_others</td>\n",
       "      <td>pc</td>\n",
       "      <td>windows</td>\n",
       "    </tr>\n",
       "    <tr>\n",
       "      <th>1414</th>\n",
       "      <td>sogou</td>\n",
       "      <td>2.00000</td>\n",
       "      <td>2017-03-09</td>\n",
       "      <td>True</td>\n",
       "      <td>115.172.30.214</td>\n",
       "      <td>sogou</td>\n",
       "      <td>pc</td>\n",
       "      <td>windows</td>\n",
       "      <td>6.10</td>\n",
       "      <td>59.478</td>\n",
       "      <td>1489121117774</td>\n",
       "      <td>1.0</td>\n",
       "      <td>0</td>\n",
       "      <td>0</td>\n",
       "      <td>1</td>\n",
       "      <td>sogou</td>\n",
       "      <td>pc</td>\n",
       "      <td>windows</td>\n",
       "    </tr>\n",
       "    <tr>\n",
       "      <th>1415</th>\n",
       "      <td>chrome</td>\n",
       "      <td>52.00000</td>\n",
       "      <td>2017-03-14</td>\n",
       "      <td>False</td>\n",
       "      <td>220.231.10.97</td>\n",
       "      <td>baidu</td>\n",
       "      <td>pc</td>\n",
       "      <td>windows</td>\n",
       "      <td>10.00</td>\n",
       "      <td>6464.470</td>\n",
       "      <td>1489485715004</td>\n",
       "      <td>NaN</td>\n",
       "      <td>2</td>\n",
       "      <td>0</td>\n",
       "      <td>1</td>\n",
       "      <td>chrome_others</td>\n",
       "      <td>pc</td>\n",
       "      <td>windows_others</td>\n",
       "    </tr>\n",
       "    <tr>\n",
       "      <th>1416</th>\n",
       "      <td>chrome</td>\n",
       "      <td>56.00000</td>\n",
       "      <td>2017-03-06</td>\n",
       "      <td>False</td>\n",
       "      <td>219.82.134.82</td>\n",
       "      <td>baidu</td>\n",
       "      <td>mac</td>\n",
       "      <td>macosx</td>\n",
       "      <td>10.11</td>\n",
       "      <td>82.750</td>\n",
       "      <td>1488818877649</td>\n",
       "      <td>1.0</td>\n",
       "      <td>2</td>\n",
       "      <td>0</td>\n",
       "      <td>0</td>\n",
       "      <td>chrome</td>\n",
       "      <td>mac</td>\n",
       "      <td>macosx_others</td>\n",
       "    </tr>\n",
       "    <tr>\n",
       "      <th>1417</th>\n",
       "      <td>chrome</td>\n",
       "      <td>55.00000</td>\n",
       "      <td>2017-03-10</td>\n",
       "      <td>True</td>\n",
       "      <td>49.80.219.19</td>\n",
       "      <td>NaN</td>\n",
       "      <td>pc</td>\n",
       "      <td>windows</td>\n",
       "      <td>6.10</td>\n",
       "      <td>12.974</td>\n",
       "      <td>1489137762914</td>\n",
       "      <td>1.0</td>\n",
       "      <td>1</td>\n",
       "      <td>0</td>\n",
       "      <td>0</td>\n",
       "      <td>chrome_others</td>\n",
       "      <td>pc</td>\n",
       "      <td>windows</td>\n",
       "    </tr>\n",
       "    <tr>\n",
       "      <th>1418</th>\n",
       "      <td>chrome</td>\n",
       "      <td>56.00000</td>\n",
       "      <td>2017-03-13</td>\n",
       "      <td>True</td>\n",
       "      <td>114.217.6.223</td>\n",
       "      <td>baidu</td>\n",
       "      <td>pc</td>\n",
       "      <td>windows</td>\n",
       "      <td>6.10</td>\n",
       "      <td>34.782</td>\n",
       "      <td>1489397416223</td>\n",
       "      <td>1.0</td>\n",
       "      <td>2</td>\n",
       "      <td>0</td>\n",
       "      <td>0</td>\n",
       "      <td>chrome</td>\n",
       "      <td>pc</td>\n",
       "      <td>windows</td>\n",
       "    </tr>\n",
       "    <tr>\n",
       "      <th>1419</th>\n",
       "      <td>edge</td>\n",
       "      <td>12.10240</td>\n",
       "      <td>2017-03-12</td>\n",
       "      <td>True</td>\n",
       "      <td>58.250.60.2</td>\n",
       "      <td>NaN</td>\n",
       "      <td>pc</td>\n",
       "      <td>windows</td>\n",
       "      <td>10.00</td>\n",
       "      <td>0.610</td>\n",
       "      <td>1489376664014</td>\n",
       "      <td>1.0</td>\n",
       "      <td>1</td>\n",
       "      <td>1</td>\n",
       "      <td>0</td>\n",
       "      <td>others</td>\n",
       "      <td>pc</td>\n",
       "      <td>windows_others</td>\n",
       "    </tr>\n",
       "    <tr>\n",
       "      <th>1420</th>\n",
       "      <td>safari</td>\n",
       "      <td>9.00000</td>\n",
       "      <td>2017-03-10</td>\n",
       "      <td>False</td>\n",
       "      <td>113.208.112.126</td>\n",
       "      <td>baidu</td>\n",
       "      <td>mac</td>\n",
       "      <td>macosx</td>\n",
       "      <td>10.11</td>\n",
       "      <td>1174.571</td>\n",
       "      <td>1489136486468</td>\n",
       "      <td>1.0</td>\n",
       "      <td>2</td>\n",
       "      <td>0</td>\n",
       "      <td>1</td>\n",
       "      <td>safari</td>\n",
       "      <td>mac</td>\n",
       "      <td>macosx_others</td>\n",
       "    </tr>\n",
       "    <tr>\n",
       "      <th>1421</th>\n",
       "      <td>firefox</td>\n",
       "      <td>52.00000</td>\n",
       "      <td>2017-03-10</td>\n",
       "      <td>True</td>\n",
       "      <td>116.226.189.116</td>\n",
       "      <td>baidu</td>\n",
       "      <td>pc</td>\n",
       "      <td>windows</td>\n",
       "      <td>10.00</td>\n",
       "      <td>35.487</td>\n",
       "      <td>1489126643142</td>\n",
       "      <td>1.0</td>\n",
       "      <td>2</td>\n",
       "      <td>0</td>\n",
       "      <td>0</td>\n",
       "      <td>firefox</td>\n",
       "      <td>pc</td>\n",
       "      <td>windows_others</td>\n",
       "    </tr>\n",
       "    <tr>\n",
       "      <th>1422</th>\n",
       "      <td>chrome</td>\n",
       "      <td>55.00000</td>\n",
       "      <td>2017-03-14</td>\n",
       "      <td>True</td>\n",
       "      <td>118.199.213.56</td>\n",
       "      <td>baidu</td>\n",
       "      <td>mac</td>\n",
       "      <td>macosx</td>\n",
       "      <td>10.12</td>\n",
       "      <td>15604.954</td>\n",
       "      <td>1489487434713</td>\n",
       "      <td>1.0</td>\n",
       "      <td>2</td>\n",
       "      <td>0</td>\n",
       "      <td>0</td>\n",
       "      <td>chrome_others</td>\n",
       "      <td>mac</td>\n",
       "      <td>macosx</td>\n",
       "    </tr>\n",
       "    <tr>\n",
       "      <th>1423</th>\n",
       "      <td>chrome</td>\n",
       "      <td>56.00000</td>\n",
       "      <td>2017-03-09</td>\n",
       "      <td>True</td>\n",
       "      <td>101.254.99.22</td>\n",
       "      <td>baidu</td>\n",
       "      <td>pc</td>\n",
       "      <td>windows</td>\n",
       "      <td>6.10</td>\n",
       "      <td>7.126</td>\n",
       "      <td>1489046416510</td>\n",
       "      <td>1.0</td>\n",
       "      <td>2</td>\n",
       "      <td>0</td>\n",
       "      <td>0</td>\n",
       "      <td>chrome</td>\n",
       "      <td>pc</td>\n",
       "      <td>windows</td>\n",
       "    </tr>\n",
       "    <tr>\n",
       "      <th>1424</th>\n",
       "      <td>chrome</td>\n",
       "      <td>51.00000</td>\n",
       "      <td>2017-03-06</td>\n",
       "      <td>True</td>\n",
       "      <td>123.119.95.206</td>\n",
       "      <td>baidu</td>\n",
       "      <td>pc</td>\n",
       "      <td>windows</td>\n",
       "      <td>6.10</td>\n",
       "      <td>11.173</td>\n",
       "      <td>1488793910519</td>\n",
       "      <td>1.0</td>\n",
       "      <td>2</td>\n",
       "      <td>0</td>\n",
       "      <td>0</td>\n",
       "      <td>chrome_others</td>\n",
       "      <td>pc</td>\n",
       "      <td>windows</td>\n",
       "    </tr>\n",
       "    <tr>\n",
       "      <th>1425</th>\n",
       "      <td>chrome</td>\n",
       "      <td>56.00000</td>\n",
       "      <td>2017-03-09</td>\n",
       "      <td>False</td>\n",
       "      <td>101.251.244.242</td>\n",
       "      <td>baidu</td>\n",
       "      <td>mac</td>\n",
       "      <td>macosx</td>\n",
       "      <td>10.11</td>\n",
       "      <td>5001.414</td>\n",
       "      <td>1489048818753</td>\n",
       "      <td>1.0</td>\n",
       "      <td>2</td>\n",
       "      <td>0</td>\n",
       "      <td>0</td>\n",
       "      <td>chrome</td>\n",
       "      <td>mac</td>\n",
       "      <td>macosx_others</td>\n",
       "    </tr>\n",
       "    <tr>\n",
       "      <th>1426</th>\n",
       "      <td>chrome</td>\n",
       "      <td>47.00000</td>\n",
       "      <td>2017-03-13</td>\n",
       "      <td>False</td>\n",
       "      <td>103.242.168.167</td>\n",
       "      <td>baidu</td>\n",
       "      <td>pc</td>\n",
       "      <td>windows</td>\n",
       "      <td>6.30</td>\n",
       "      <td>96.494</td>\n",
       "      <td>1489401281816</td>\n",
       "      <td>NaN</td>\n",
       "      <td>2</td>\n",
       "      <td>0</td>\n",
       "      <td>0</td>\n",
       "      <td>chrome_others</td>\n",
       "      <td>pc</td>\n",
       "      <td>windows_others</td>\n",
       "    </tr>\n",
       "    <tr>\n",
       "      <th>1427</th>\n",
       "      <td>chrome</td>\n",
       "      <td>56.00000</td>\n",
       "      <td>2017-03-07</td>\n",
       "      <td>False</td>\n",
       "      <td>106.38.101.36</td>\n",
       "      <td>baidu</td>\n",
       "      <td>mac</td>\n",
       "      <td>macosx</td>\n",
       "      <td>10.12</td>\n",
       "      <td>190.033</td>\n",
       "      <td>1488875358291</td>\n",
       "      <td>0.0</td>\n",
       "      <td>2</td>\n",
       "      <td>0</td>\n",
       "      <td>0</td>\n",
       "      <td>chrome</td>\n",
       "      <td>mac</td>\n",
       "      <td>macosx</td>\n",
       "    </tr>\n",
       "    <tr>\n",
       "      <th>1428</th>\n",
       "      <td>safari</td>\n",
       "      <td>10.00000</td>\n",
       "      <td>2017-03-08</td>\n",
       "      <td>True</td>\n",
       "      <td>118.194.240.141</td>\n",
       "      <td>baidu</td>\n",
       "      <td>mac</td>\n",
       "      <td>macosx</td>\n",
       "      <td>10.12</td>\n",
       "      <td>11.274</td>\n",
       "      <td>1488957439493</td>\n",
       "      <td>NaN</td>\n",
       "      <td>2</td>\n",
       "      <td>0</td>\n",
       "      <td>0</td>\n",
       "      <td>safari</td>\n",
       "      <td>mac</td>\n",
       "      <td>macosx</td>\n",
       "    </tr>\n",
       "    <tr>\n",
       "      <th>1429</th>\n",
       "      <td>safari</td>\n",
       "      <td>10.00000</td>\n",
       "      <td>2017-03-09</td>\n",
       "      <td>False</td>\n",
       "      <td>118.26.73.2</td>\n",
       "      <td>baidu</td>\n",
       "      <td>mac</td>\n",
       "      <td>macosx</td>\n",
       "      <td>10.12</td>\n",
       "      <td>154.580</td>\n",
       "      <td>1489053750770</td>\n",
       "      <td>1.0</td>\n",
       "      <td>2</td>\n",
       "      <td>0</td>\n",
       "      <td>0</td>\n",
       "      <td>safari</td>\n",
       "      <td>mac</td>\n",
       "      <td>macosx</td>\n",
       "    </tr>\n",
       "    <tr>\n",
       "      <th>1430</th>\n",
       "      <td>sogou</td>\n",
       "      <td>2.00000</td>\n",
       "      <td>2017-03-13</td>\n",
       "      <td>True</td>\n",
       "      <td>114.248.123.38</td>\n",
       "      <td>baidu</td>\n",
       "      <td>pc</td>\n",
       "      <td>windows</td>\n",
       "      <td>10.00</td>\n",
       "      <td>186.185</td>\n",
       "      <td>1489392294346</td>\n",
       "      <td>NaN</td>\n",
       "      <td>2</td>\n",
       "      <td>0</td>\n",
       "      <td>1</td>\n",
       "      <td>sogou</td>\n",
       "      <td>pc</td>\n",
       "      <td>windows_others</td>\n",
       "    </tr>\n",
       "    <tr>\n",
       "      <th>1431</th>\n",
       "      <td>chrome</td>\n",
       "      <td>53.00000</td>\n",
       "      <td>2017-03-08</td>\n",
       "      <td>False</td>\n",
       "      <td>1.119.129.16</td>\n",
       "      <td>NaN</td>\n",
       "      <td>pc</td>\n",
       "      <td>windows</td>\n",
       "      <td>10.00</td>\n",
       "      <td>190383.222</td>\n",
       "      <td>1488967706061</td>\n",
       "      <td>1.0</td>\n",
       "      <td>1</td>\n",
       "      <td>0</td>\n",
       "      <td>0</td>\n",
       "      <td>chrome_others</td>\n",
       "      <td>pc</td>\n",
       "      <td>windows_others</td>\n",
       "    </tr>\n",
       "    <tr>\n",
       "      <th>1432</th>\n",
       "      <td>chrome</td>\n",
       "      <td>45.00000</td>\n",
       "      <td>2017-03-09</td>\n",
       "      <td>False</td>\n",
       "      <td>58.246.51.178</td>\n",
       "      <td>baidu</td>\n",
       "      <td>pc</td>\n",
       "      <td>windows</td>\n",
       "      <td>6.10</td>\n",
       "      <td>25498.787</td>\n",
       "      <td>1489053135402</td>\n",
       "      <td>1.0</td>\n",
       "      <td>2</td>\n",
       "      <td>0</td>\n",
       "      <td>0</td>\n",
       "      <td>chrome_others</td>\n",
       "      <td>pc</td>\n",
       "      <td>windows</td>\n",
       "    </tr>\n",
       "    <tr>\n",
       "      <th>1433</th>\n",
       "      <td>chrome</td>\n",
       "      <td>56.00000</td>\n",
       "      <td>2017-03-14</td>\n",
       "      <td>False</td>\n",
       "      <td>116.243.222.97</td>\n",
       "      <td>NaN</td>\n",
       "      <td>pc</td>\n",
       "      <td>windows</td>\n",
       "      <td>6.30</td>\n",
       "      <td>986.718</td>\n",
       "      <td>1489470592852</td>\n",
       "      <td>1.0</td>\n",
       "      <td>1</td>\n",
       "      <td>0</td>\n",
       "      <td>0</td>\n",
       "      <td>chrome</td>\n",
       "      <td>pc</td>\n",
       "      <td>windows_others</td>\n",
       "    </tr>\n",
       "    <tr>\n",
       "      <th>1434</th>\n",
       "      <td>chrome</td>\n",
       "      <td>40.00000</td>\n",
       "      <td>2017-03-10</td>\n",
       "      <td>True</td>\n",
       "      <td>223.73.57.224</td>\n",
       "      <td>NaN</td>\n",
       "      <td>meizu</td>\n",
       "      <td>Android</td>\n",
       "      <td>5.10</td>\n",
       "      <td>11.685</td>\n",
       "      <td>1489159119983</td>\n",
       "      <td>1.0</td>\n",
       "      <td>1</td>\n",
       "      <td>0</td>\n",
       "      <td>1</td>\n",
       "      <td>chrome_others</td>\n",
       "      <td>others</td>\n",
       "      <td>others</td>\n",
       "    </tr>\n",
       "    <tr>\n",
       "      <th>1435</th>\n",
       "      <td>chrome</td>\n",
       "      <td>51.00000</td>\n",
       "      <td>2017-03-14</td>\n",
       "      <td>False</td>\n",
       "      <td>111.200.23.62</td>\n",
       "      <td>NaN</td>\n",
       "      <td>pc</td>\n",
       "      <td>windows</td>\n",
       "      <td>6.10</td>\n",
       "      <td>44677.491</td>\n",
       "      <td>1489508789593</td>\n",
       "      <td>1.0</td>\n",
       "      <td>1</td>\n",
       "      <td>0</td>\n",
       "      <td>0</td>\n",
       "      <td>chrome_others</td>\n",
       "      <td>pc</td>\n",
       "      <td>windows</td>\n",
       "    </tr>\n",
       "  </tbody>\n",
       "</table>\n",
       "<p>1436 rows × 18 columns</p>\n",
       "</div>"
      ],
      "text/plain": [
       "      browser  browser_v         day  is_fd               ip latest_utm_s  \\\n",
       "0      chrome   45.00000  2017-03-10   True  111.207.114.194        baidu   \n",
       "1       sogou    2.00000  2017-03-13  False      1.202.80.36          NaN   \n",
       "2      chrome   56.00000  2017-03-13   True     210.12.8.240        baidu   \n",
       "3          qq    9.50000  2017-03-06   True     61.183.68.74          NaN   \n",
       "4      chrome   56.00000  2017-03-11   True    101.80.177.64        baidu   \n",
       "5      chrome   56.00000  2017-03-09   True   114.249.167.81        baidu   \n",
       "6       sogou    2.00000  2017-03-07   True  119.123.126.233        baidu   \n",
       "7      chrome   56.00000  2017-03-11  False   182.48.107.156        baidu   \n",
       "8      safari   10.00000  2017-03-08   True     182.18.2.100          NaN   \n",
       "9      chrome   56.00000  2017-03-08  False   116.226.99.241        admin   \n",
       "10     chrome   41.00000  2017-03-07   True     60.30.79.106        baidu   \n",
       "11     chrome   56.00000  2017-03-09  False   101.71.220.126        baidu   \n",
       "12     chrome   52.00000  2017-03-07   True   222.92.130.218        baidu   \n",
       "13      sogou    2.00000  2017-03-07   True    183.26.51.225          NaN   \n",
       "14     safari    9.10000  2017-03-10   True    111.165.63.96          NaN   \n",
       "15    firefox   51.00000  2017-03-14  False    111.200.23.44        baidu   \n",
       "16       edge   14.14393  2017-03-08   True    58.42.251.112          NaN   \n",
       "17     chrome   58.00000  2017-03-13   True    124.65.131.18        baidu   \n",
       "18     chrome   40.00000  2017-03-13   True    116.247.71.78          NaN   \n",
       "19    firefox   51.00000  2017-03-09  False      49.4.178.50          NaN   \n",
       "20     chrome   51.00000  2017-03-07   True  211.148.195.211          NaN   \n",
       "21     chrome   55.00000  2017-03-08   True   125.121.71.111          NaN   \n",
       "22    firefox   51.00000  2017-03-14   True      27.38.37.66          NaN   \n",
       "23     chrome   56.00000  2017-03-08  False   61.129.119.185        baidu   \n",
       "24      sogou    2.00000  2017-03-13   True    122.225.24.50          NaN   \n",
       "25     chrome   56.00000  2017-03-12  False    117.139.14.48        baidu   \n",
       "26     chrome   56.00000  2017-03-09   True   124.219.180.78          NaN   \n",
       "27     chrome   50.00000  2017-03-10   True   183.16.189.192          NaN   \n",
       "28     chrome   56.00000  2017-03-07   True     202.103.48.2          NaN   \n",
       "29         ie    8.00000  2017-03-06   True    116.231.5.148        baidu   \n",
       "...       ...        ...         ...    ...              ...          ...   \n",
       "1406     edge   14.14393  2017-03-09  False   119.57.167.153        baidu   \n",
       "1407  firefox   51.00000  2017-03-07  False    14.23.124.130        baidu   \n",
       "1408   chrome   56.00000  2017-03-14   True      183.16.0.35        baidu   \n",
       "1409   chrome   51.00000  2017-03-14  False  123.125.250.164        baidu   \n",
       "1410   chrome   55.00000  2017-03-13  False  116.231.196.168          NaN   \n",
       "1411   chrome   56.00000  2017-03-06   True    180.166.92.34          NaN   \n",
       "1412   safari   10.00000  2017-03-08   True   111.198.71.214          NaN   \n",
       "1413   chrome   54.00000  2017-03-13   True    60.171.122.93          NaN   \n",
       "1414    sogou    2.00000  2017-03-09   True   115.172.30.214        sogou   \n",
       "1415   chrome   52.00000  2017-03-14  False    220.231.10.97        baidu   \n",
       "1416   chrome   56.00000  2017-03-06  False    219.82.134.82        baidu   \n",
       "1417   chrome   55.00000  2017-03-10   True     49.80.219.19          NaN   \n",
       "1418   chrome   56.00000  2017-03-13   True    114.217.6.223        baidu   \n",
       "1419     edge   12.10240  2017-03-12   True      58.250.60.2          NaN   \n",
       "1420   safari    9.00000  2017-03-10  False  113.208.112.126        baidu   \n",
       "1421  firefox   52.00000  2017-03-10   True  116.226.189.116        baidu   \n",
       "1422   chrome   55.00000  2017-03-14   True   118.199.213.56        baidu   \n",
       "1423   chrome   56.00000  2017-03-09   True    101.254.99.22        baidu   \n",
       "1424   chrome   51.00000  2017-03-06   True   123.119.95.206        baidu   \n",
       "1425   chrome   56.00000  2017-03-09  False  101.251.244.242        baidu   \n",
       "1426   chrome   47.00000  2017-03-13  False  103.242.168.167        baidu   \n",
       "1427   chrome   56.00000  2017-03-07  False    106.38.101.36        baidu   \n",
       "1428   safari   10.00000  2017-03-08   True  118.194.240.141        baidu   \n",
       "1429   safari   10.00000  2017-03-09  False      118.26.73.2        baidu   \n",
       "1430    sogou    2.00000  2017-03-13   True   114.248.123.38        baidu   \n",
       "1431   chrome   53.00000  2017-03-08  False     1.119.129.16          NaN   \n",
       "1432   chrome   45.00000  2017-03-09  False    58.246.51.178        baidu   \n",
       "1433   chrome   56.00000  2017-03-14  False   116.243.222.97          NaN   \n",
       "1434   chrome   40.00000  2017-03-10   True    223.73.57.224          NaN   \n",
       "1435   chrome   51.00000  2017-03-14  False    111.200.23.62          NaN   \n",
       "\n",
       "      model       os  os_version       pageS           time   CN  source  \\\n",
       "0        pc  windows        6.10     166.465  1489131657773  1.0       2   \n",
       "1        pc  windows        6.10    1289.224  1489403913702  1.0       1   \n",
       "2        pc  windows        6.10    1474.397  1489398682974  1.0       2   \n",
       "3        pc  windows        6.10       4.252  1488854597360  1.0       1   \n",
       "4       mac   macosx       10.11      25.329  1489241919295  1.0       2   \n",
       "5       mac   macosx       10.12      25.133  1489066436365  1.0       2   \n",
       "6        pc  windows        6.10    2076.163  1488881113235  NaN       2   \n",
       "7       mac   macosx       10.12   73659.349  1489214616479  1.0       2   \n",
       "8       mac   macosx       10.12       8.556  1488959994351  NaN       1   \n",
       "9       mac   macosx       10.12     150.305  1488967729544  1.0       0   \n",
       "10       pc  windows        6.10      21.617  1488874431162  0.0       2   \n",
       "11       pc  windows        6.10      17.025  1489124047148  1.0       2   \n",
       "12       pc  windows        6.10    6955.990  1488871645023  1.0       2   \n",
       "13       pc  windows        5.10       0.931  1488875176741  NaN       1   \n",
       "14      mac   macosx       10.11     703.404  1489126151109  1.0       1   \n",
       "15       pc  windows        6.10    2286.971  1489480382141  1.0       2   \n",
       "16       pc  windows       10.00       5.481  1488956426870  1.0       1   \n",
       "17       pc  windows        6.10     212.060  1489386477815  1.0       2   \n",
       "18       pc  windows        6.10    9505.192  1489392013906  1.0       1   \n",
       "19       pc  windows        6.10       2.978  1489056503256  1.0       1   \n",
       "20       pc  windows        6.10     681.512  1488870890300  1.0       1   \n",
       "21      mac   macosx       10.12     901.935  1488991090919  1.0       1   \n",
       "22       pc  windows        6.10     190.923  1489481053478  1.0       1   \n",
       "23       pc  windows       10.00  169350.877  1489038629376  1.0       2   \n",
       "24       pc  windows        6.10      94.601  1489397113051  1.0       1   \n",
       "25      mac   macosx       10.12     856.076  1489335408380  NaN       2   \n",
       "26      mac   macosx       10.12    2320.322  1489045894134  1.0       1   \n",
       "27       pc  windows        6.10    1999.605  1489131972357  1.0       1   \n",
       "28       pc  windows        6.10      99.068  1488941263731  1.0       1   \n",
       "29       pc  windows        6.10     182.748  1488792142343  1.0       2   \n",
       "...     ...      ...         ...         ...            ...  ...     ...   \n",
       "1406     pc  windows       10.00   91069.521  1489061268683  1.0       2   \n",
       "1407     pc  windows        6.10      64.474  1488875448103  1.0       2   \n",
       "1408    mac   macosx       10.12   11227.800  1489488981093  1.0       2   \n",
       "1409     pc  windows        6.10   14938.687  1489479696834  1.0       2   \n",
       "1410     pc  windows        6.10   16790.261  1489402509537  1.0       1   \n",
       "1411    mac   macosx       10.12      34.459  1488795057876  1.0       1   \n",
       "1412    mac   macosx       10.12      90.540  1488969900112  1.0       1   \n",
       "1413     pc  windows        6.10       6.540  1489381306974  1.0       1   \n",
       "1414     pc  windows        6.10      59.478  1489121117774  1.0       0   \n",
       "1415     pc  windows       10.00    6464.470  1489485715004  NaN       2   \n",
       "1416    mac   macosx       10.11      82.750  1488818877649  1.0       2   \n",
       "1417     pc  windows        6.10      12.974  1489137762914  1.0       1   \n",
       "1418     pc  windows        6.10      34.782  1489397416223  1.0       2   \n",
       "1419     pc  windows       10.00       0.610  1489376664014  1.0       1   \n",
       "1420    mac   macosx       10.11    1174.571  1489136486468  1.0       2   \n",
       "1421     pc  windows       10.00      35.487  1489126643142  1.0       2   \n",
       "1422    mac   macosx       10.12   15604.954  1489487434713  1.0       2   \n",
       "1423     pc  windows        6.10       7.126  1489046416510  1.0       2   \n",
       "1424     pc  windows        6.10      11.173  1488793910519  1.0       2   \n",
       "1425    mac   macosx       10.11    5001.414  1489048818753  1.0       2   \n",
       "1426     pc  windows        6.30      96.494  1489401281816  NaN       2   \n",
       "1427    mac   macosx       10.12     190.033  1488875358291  0.0       2   \n",
       "1428    mac   macosx       10.12      11.274  1488957439493  NaN       2   \n",
       "1429    mac   macosx       10.12     154.580  1489053750770  1.0       2   \n",
       "1430     pc  windows       10.00     186.185  1489392294346  NaN       2   \n",
       "1431     pc  windows       10.00  190383.222  1488967706061  1.0       1   \n",
       "1432     pc  windows        6.10   25498.787  1489053135402  1.0       2   \n",
       "1433     pc  windows        6.30     986.718  1489470592852  1.0       1   \n",
       "1434  meizu  Android        5.10      11.685  1489159119983  1.0       1   \n",
       "1435     pc  windows        6.10   44677.491  1489508789593  1.0       1   \n",
       "\n",
       "      weekend  signup    browser_bin model_bin          os_bin  \n",
       "0           0       1  chrome_others        pc         windows  \n",
       "1           0       1          sogou        pc         windows  \n",
       "2           0       0         chrome        pc         windows  \n",
       "3           0       0             qq        pc         windows  \n",
       "4           1       0         chrome       mac   macosx_others  \n",
       "5           0       0         chrome       mac          macosx  \n",
       "6           0       1          sogou        pc         windows  \n",
       "7           1       0         chrome       mac          macosx  \n",
       "8           0       0         safari       mac          macosx  \n",
       "9           0       0         chrome       mac          macosx  \n",
       "10          0       1  chrome_others        pc         windows  \n",
       "11          0       0         chrome        pc         windows  \n",
       "12          0       1  chrome_others        pc         windows  \n",
       "13          0       0          sogou        pc  windows_others  \n",
       "14          0       0         safari       mac   macosx_others  \n",
       "15          0       1        firefox        pc         windows  \n",
       "16          0       0         others        pc  windows_others  \n",
       "17          0       0  chrome_others        pc         windows  \n",
       "18          0       0  chrome_others        pc         windows  \n",
       "19          0       0        firefox        pc         windows  \n",
       "20          0       1  chrome_others        pc         windows  \n",
       "21          0       0  chrome_others       mac          macosx  \n",
       "22          0       1        firefox        pc         windows  \n",
       "23          0       0         chrome        pc  windows_others  \n",
       "24          0       0          sogou        pc         windows  \n",
       "25          1       1         chrome       mac          macosx  \n",
       "26          0       0         chrome       mac          macosx  \n",
       "27          0       0  chrome_others        pc         windows  \n",
       "28          0       0         chrome        pc         windows  \n",
       "29          0       1         others        pc         windows  \n",
       "...       ...     ...            ...       ...             ...  \n",
       "1406        0       0         others        pc  windows_others  \n",
       "1407        0       0        firefox        pc         windows  \n",
       "1408        0       0         chrome       mac          macosx  \n",
       "1409        0       1  chrome_others        pc         windows  \n",
       "1410        0       0  chrome_others        pc         windows  \n",
       "1411        0       0         chrome       mac          macosx  \n",
       "1412        0       1         safari       mac          macosx  \n",
       "1413        0       0  chrome_others        pc         windows  \n",
       "1414        0       1          sogou        pc         windows  \n",
       "1415        0       1  chrome_others        pc  windows_others  \n",
       "1416        0       0         chrome       mac   macosx_others  \n",
       "1417        0       0  chrome_others        pc         windows  \n",
       "1418        0       0         chrome        pc         windows  \n",
       "1419        1       0         others        pc  windows_others  \n",
       "1420        0       1         safari       mac   macosx_others  \n",
       "1421        0       0        firefox        pc  windows_others  \n",
       "1422        0       0  chrome_others       mac          macosx  \n",
       "1423        0       0         chrome        pc         windows  \n",
       "1424        0       0  chrome_others        pc         windows  \n",
       "1425        0       0         chrome       mac   macosx_others  \n",
       "1426        0       0  chrome_others        pc  windows_others  \n",
       "1427        0       0         chrome       mac          macosx  \n",
       "1428        0       0         safari       mac          macosx  \n",
       "1429        0       0         safari       mac          macosx  \n",
       "1430        0       1          sogou        pc  windows_others  \n",
       "1431        0       0  chrome_others        pc  windows_others  \n",
       "1432        0       0  chrome_others        pc         windows  \n",
       "1433        0       0         chrome        pc  windows_others  \n",
       "1434        0       1  chrome_others    others          others  \n",
       "1435        0       0  chrome_others        pc         windows  \n",
       "\n",
       "[1436 rows x 18 columns]"
      ]
     },
     "execution_count": 56,
     "metadata": {},
     "output_type": "execute_result"
    }
   ],
   "source": [
    "# drop column with only one variable\n",
    "df_fillna.drop(['is_ft'],axis=1)"
   ]
  },
  {
   "cell_type": "code",
   "execution_count": 59,
   "metadata": {
    "collapsed": true
   },
   "outputs": [],
   "source": [
    "# Fill missing value for CN\n",
    "df_fillna['CN'] = df['CN'].fillna('2')"
   ]
  },
  {
   "cell_type": "code",
   "execution_count": 60,
   "metadata": {
    "collapsed": true
   },
   "outputs": [],
   "source": [
    "# Fill missing value for latest_utm_s, make the nan source from sensordata itself\n",
    "df_fillna['latest_utm_s'] = df['latest_utm_s'].fillna('sensordata')"
   ]
  },
  {
   "cell_type": "code",
   "execution_count": 61,
   "metadata": {
    "collapsed": true
   },
   "outputs": [],
   "source": [
    "import geoip2.database\n",
    "# read library from local file\n",
    "reader = geoip2.database.Reader('./data/GeoLite2-City_20180206/GeoLite2-City.mmdb')"
   ]
  },
  {
   "cell_type": "code",
   "execution_count": 62,
   "metadata": {
    "collapsed": true
   },
   "outputs": [],
   "source": [
    "CT=[]\n",
    "for i in range(len(df_fillna['ip'])):\n",
    "    try:\n",
    "        CT.append (reader.city(df.loc[i,'ip']).city.name) \n",
    "    except:\n",
    "        CT.append('')"
   ]
  },
  {
   "cell_type": "code",
   "execution_count": 63,
   "metadata": {},
   "outputs": [
    {
     "data": {
      "text/plain": [
       "'GD'"
      ]
     },
     "execution_count": 63,
     "metadata": {},
     "output_type": "execute_result"
    }
   ],
   "source": [
    "#example usage\n",
    "reader.city('219.135.131.99').subdivisions.most_specific.iso_code"
   ]
  },
  {
   "cell_type": "code",
   "execution_count": 64,
   "metadata": {
    "collapsed": true
   },
   "outputs": [],
   "source": [
    "df_fillna['CT'] = CT"
   ]
  },
  {
   "cell_type": "code",
   "execution_count": 65,
   "metadata": {},
   "outputs": [
    {
     "data": {
      "text/plain": [
       "<matplotlib.axes._subplots.AxesSubplot at 0x11d162e48>"
      ]
     },
     "execution_count": 65,
     "metadata": {},
     "output_type": "execute_result"
    },
    {
     "data": {
      "image/png": "[encoded data removed]",
      "text/plain": [
       "<matplotlib.figure.Figure at 0x1192b69e8>"
      ]
     },
     "metadata": {},
     "output_type": "display_data"
    }
   ],
   "source": [
    "df_fillna['CT'].value_counts(dropna=False).plot.bar()"
   ]
  },
  {
   "cell_type": "code",
   "execution_count": 73,
   "metadata": {
    "collapsed": true
   },
   "outputs": [],
   "source": [
    "CT_c = df_fillna['CT'].value_counts(dropna=False)"
   ]
  },
  {
   "cell_type": "code",
   "execution_count": 74,
   "metadata": {},
   "outputs": [
    {
     "data": {
      "text/plain": [
       "Beijing             543\n",
       "Shanghai            189\n",
       "Guangzhou           149\n",
       "Hangzhou            129\n",
       "Shenzhen            103\n",
       "Nanjing              51\n",
       "Chengdu              50\n",
       "Wuhan                32\n",
       "others               20\n",
       "Tianjin              15\n",
       "Hefei                14\n",
       "Xiamen                9\n",
       "Xi'an                 9\n",
       "Zhengzhou             8\n",
       "Dongguan              7\n",
       "Shenyang              7\n",
       "Chongqing             7\n",
       "Jinan                 6\n",
       "Wenzhou               5\n",
       "Changsha              5\n",
       "Suzhou                5\n",
       "Hebei                 5\n",
       "Foshan                4\n",
       "Zhuhai                4\n",
       "Fuzhou                4\n",
       "Shantou               4\n",
       "Tokyo                 3\n",
       "Los Angeles           2\n",
       "Ürümqi                2\n",
       "Chaoyang              2\n",
       "                   ... \n",
       "Langfang              2\n",
       "Guiyang               2\n",
       "Shenzhou              2\n",
       "Hohhot                1\n",
       "Xiulin                1\n",
       "Xushan                1\n",
       "Canterbury            1\n",
       "Guangdong             1\n",
       "Guilin                1\n",
       "Xinan                 1\n",
       "Chengxiang            1\n",
       "Harbin                1\n",
       "Zhangjiagang          1\n",
       "Taoyuan District      1\n",
       "Dalian                1\n",
       "Vancouver             1\n",
       "Gifu City             1\n",
       "New York              1\n",
       "San Francisco         1\n",
       "San Mateo             1\n",
       "Coogee                1\n",
       "Lanzhou               1\n",
       "Yinchuan              1\n",
       "Auckland              1\n",
       "Yiwu                  1\n",
       "Herndon               1\n",
       "Dongying              1\n",
       "Nanning               1\n",
       "Wuhu                  1\n",
       "Songduo               1\n",
       "Name: CT, Length: 65, dtype: int64"
      ]
     },
     "execution_count": 74,
     "metadata": {},
     "output_type": "execute_result"
    }
   ],
   "source": [
    "CT_c"
   ]
  },
  {
   "cell_type": "code",
   "execution_count": 75,
   "metadata": {
    "collapsed": true
   },
   "outputs": [],
   "source": [
    "df_fillna['CT_bin'] = df_fillna['CT']"
   ]
  },
  {
   "cell_type": "code",
   "execution_count": 76,
   "metadata": {},
   "outputs": [
    {
     "name": "stderr",
     "output_type": "stream",
     "text": [
      "/Users/Danielle/anaconda/lib/python3.6/site-packages/pandas/core/indexing.py:179: SettingWithCopyWarning: \n",
      "A value is trying to be set on a copy of a slice from a DataFrame\n",
      "\n",
      "See the caveats in the documentation: http://pandas.pydata.org/pandas-docs/stable/indexing.html#indexing-view-versus-copy\n",
      "  self._setitem_with_indexer(indexer, value)\n"
     ]
    }
   ],
   "source": [
    "for i in range(len(df_fillna['CT'])):\n",
    "    if CT_c[ df_fillna['CT'].loc[i]] > 30:\n",
    "        df_fillna['CT_bin'].loc[i] = df_fillna['CT'].loc[i]   \n",
    "    else:\n",
    "        df_fillna['CT_bin'].loc[i] = 'others'"
   ]
  },
  {
   "cell_type": "code",
   "execution_count": 77,
   "metadata": {},
   "outputs": [
    {
     "data": {
      "text/plain": [
       "Beijing      543\n",
       "others       190\n",
       "Shanghai     189\n",
       "Guangzhou    149\n",
       "Hangzhou     129\n",
       "Shenzhen     103\n",
       "Nanjing       51\n",
       "Chengdu       50\n",
       "Wuhan         32\n",
       "Name: CT_bin, dtype: int64"
      ]
     },
     "execution_count": 77,
     "metadata": {},
     "output_type": "execute_result"
    }
   ],
   "source": [
    "df_fillna['CT_bin'].value_counts(dropna=False)"
   ]
  },
  {
   "cell_type": "code",
   "execution_count": 83,
   "metadata": {
    "collapsed": true
   },
   "outputs": [],
   "source": [
    "# too many cities, use province to do analysis\n",
    "PRO=[]\n",
    "for i in range(len(df_fillna['ip'])):\n",
    "    try:\n",
    "        PRO.append (reader.city(df.loc[i,'ip']).subdivisions.most_specific.iso_code) \n",
    "    except:\n",
    "        PRO.append('')"
   ]
  },
  {
   "cell_type": "code",
   "execution_count": 84,
   "metadata": {
    "collapsed": true
   },
   "outputs": [],
   "source": [
    "df_fillna['PRO'] = PRO"
   ]
  },
  {
   "cell_type": "code",
   "execution_count": 85,
   "metadata": {},
   "outputs": [
    {
     "data": {
      "text/plain": [
       "<matplotlib.axes._subplots.AxesSubplot at 0x11d70d588>"
      ]
     },
     "execution_count": 85,
     "metadata": {},
     "output_type": "execute_result"
    },
    {
     "data": {
      "image/png": "[encoded data removed]",
      "text/plain": [
       "<matplotlib.figure.Figure at 0x11d70d5c0>"
      ]
     },
     "metadata": {},
     "output_type": "display_data"
    }
   ],
   "source": [
    "df_fillna['PRO'].value_counts(dropna=False).plot.bar()"
   ]
  },
  {
   "cell_type": "code",
   "execution_count": 86,
   "metadata": {
    "collapsed": true
   },
   "outputs": [],
   "source": [
    "PRO_c = df_fillna['PRO'].value_counts(dropna=False)"
   ]
  },
  {
   "cell_type": "code",
   "execution_count": 87,
   "metadata": {},
   "outputs": [
    {
     "data": {
      "text/plain": [
       "BJ     543\n",
       "GD     271\n",
       "SH     189\n",
       "ZJ     141\n",
       "JS      60\n",
       "SC      50\n",
       "HB      33\n",
       "AH      15\n",
       "TJ      15\n",
       "FJ      13\n",
       "NaN     13\n",
       "SD      10\n",
       "LN      10\n",
       "SN       9\n",
       "HE       9\n",
       "HA       8\n",
       "HN       8\n",
       "CQ       7\n",
       "CA       4\n",
       "GX       3\n",
       "13       3\n",
       "GZ       2\n",
       "01       2\n",
       "XJ       2\n",
       "BC       1\n",
       "VIC      1\n",
       "TAO      1\n",
       "JL       1\n",
       "XZ       1\n",
       "21       1\n",
       "KKT      1\n",
       "AUK      1\n",
       "NY       1\n",
       "HL       1\n",
       "NM       1\n",
       "NX       1\n",
       "GS       1\n",
       "NSW      1\n",
       "VA       1\n",
       "SX       1\n",
       "Name: PRO, dtype: int64"
      ]
     },
     "execution_count": 87,
     "metadata": {},
     "output_type": "execute_result"
    }
   ],
   "source": [
    "PRO_c"
   ]
  },
  {
   "cell_type": "code",
   "execution_count": 88,
   "metadata": {
    "collapsed": true
   },
   "outputs": [],
   "source": [
    "df_fillna['PRO_bin'] = df_fillna['PRO']"
   ]
  },
  {
   "cell_type": "code",
   "execution_count": 91,
   "metadata": {},
   "outputs": [
    {
     "name": "stderr",
     "output_type": "stream",
     "text": [
      "/Users/Danielle/anaconda/lib/python3.6/site-packages/pandas/core/indexing.py:179: SettingWithCopyWarning: \n",
      "A value is trying to be set on a copy of a slice from a DataFrame\n",
      "\n",
      "See the caveats in the documentation: http://pandas.pydata.org/pandas-docs/stable/indexing.html#indexing-view-versus-copy\n",
      "  self._setitem_with_indexer(indexer, value)\n"
     ]
    }
   ],
   "source": [
    "for i in range(len(df_fillna['PRO'])):\n",
    "    if PRO_c[ df_fillna['PRO'].loc[i]] > 30:\n",
    "        df_fillna['PRO_bin'].loc[i] = df_fillna['PRO'].loc[i]   \n",
    "    else:\n",
    "        df_fillna['PRO_bin'].loc[i] = 'others'"
   ]
  },
  {
   "cell_type": "code",
   "execution_count": 92,
   "metadata": {},
   "outputs": [
    {
     "data": {
      "text/plain": [
       "BJ        543\n",
       "GD        271\n",
       "SH        189\n",
       "others    149\n",
       "ZJ        141\n",
       "JS         60\n",
       "SC         50\n",
       "HB         33\n",
       "Name: PRO_bin, dtype: int64"
      ]
     },
     "execution_count": 92,
     "metadata": {},
     "output_type": "execute_result"
    }
   ],
   "source": [
    "df_fillna['PRO_bin'].value_counts(dropna=False)"
   ]
  },
  {
   "cell_type": "code",
   "execution_count": 93,
   "metadata": {},
   "outputs": [
    {
     "data": {
      "text/html": [
       "<div>\n",
       "<style>\n",
       "    .dataframe thead tr:only-child th {\n",
       "        text-align: right;\n",
       "    }\n",
       "\n",
       "    .dataframe thead th {\n",
       "        text-align: left;\n",
       "    }\n",
       "\n",
       "    .dataframe tbody tr th {\n",
       "        vertical-align: top;\n",
       "    }\n",
       "</style>\n",
       "<table border=\"1\" class=\"dataframe\">\n",
       "  <thead>\n",
       "    <tr style=\"text-align: right;\">\n",
       "      <th></th>\n",
       "      <th>browser_v</th>\n",
       "      <th>os_version</th>\n",
       "      <th>pageS</th>\n",
       "      <th>time</th>\n",
       "      <th>source</th>\n",
       "      <th>weekend</th>\n",
       "      <th>signup</th>\n",
       "    </tr>\n",
       "  </thead>\n",
       "  <tbody>\n",
       "    <tr>\n",
       "      <th>count</th>\n",
       "      <td>1436.000000</td>\n",
       "      <td>1436.000000</td>\n",
       "      <td>1.436000e+03</td>\n",
       "      <td>1.436000e+03</td>\n",
       "      <td>1436.000000</td>\n",
       "      <td>1436.000000</td>\n",
       "      <td>1436.000000</td>\n",
       "    </tr>\n",
       "    <tr>\n",
       "      <th>mean</th>\n",
       "      <td>41.624191</td>\n",
       "      <td>8.167180</td>\n",
       "      <td>1.984706e+04</td>\n",
       "      <td>1.489163e+12</td>\n",
       "      <td>1.489554</td>\n",
       "      <td>0.086351</td>\n",
       "      <td>0.284819</td>\n",
       "    </tr>\n",
       "    <tr>\n",
       "      <th>std</th>\n",
       "      <td>19.656667</td>\n",
       "      <td>2.127232</td>\n",
       "      <td>1.066756e+05</td>\n",
       "      <td>2.279683e+08</td>\n",
       "      <td>0.572812</td>\n",
       "      <td>0.280979</td>\n",
       "      <td>0.451485</td>\n",
       "    </tr>\n",
       "    <tr>\n",
       "      <th>min</th>\n",
       "      <td>-1.000000</td>\n",
       "      <td>-1.000000</td>\n",
       "      <td>1.420000e-01</td>\n",
       "      <td>1.488791e+12</td>\n",
       "      <td>0.000000</td>\n",
       "      <td>0.000000</td>\n",
       "      <td>0.000000</td>\n",
       "    </tr>\n",
       "    <tr>\n",
       "      <th>25%</th>\n",
       "      <td>40.000000</td>\n",
       "      <td>6.100000</td>\n",
       "      <td>2.351475e+01</td>\n",
       "      <td>1.488964e+12</td>\n",
       "      <td>1.000000</td>\n",
       "      <td>0.000000</td>\n",
       "      <td>0.000000</td>\n",
       "    </tr>\n",
       "    <tr>\n",
       "      <th>50%</th>\n",
       "      <td>51.000000</td>\n",
       "      <td>10.000000</td>\n",
       "      <td>2.590280e+02</td>\n",
       "      <td>1.489126e+12</td>\n",
       "      <td>2.000000</td>\n",
       "      <td>0.000000</td>\n",
       "      <td>0.000000</td>\n",
       "    </tr>\n",
       "    <tr>\n",
       "      <th>75%</th>\n",
       "      <td>56.000000</td>\n",
       "      <td>10.110000</td>\n",
       "      <td>4.340998e+03</td>\n",
       "      <td>1.489396e+12</td>\n",
       "      <td>2.000000</td>\n",
       "      <td>0.000000</td>\n",
       "      <td>1.000000</td>\n",
       "    </tr>\n",
       "    <tr>\n",
       "      <th>max</th>\n",
       "      <td>58.000000</td>\n",
       "      <td>10.900000</td>\n",
       "      <td>2.918014e+06</td>\n",
       "      <td>1.489513e+12</td>\n",
       "      <td>2.000000</td>\n",
       "      <td>1.000000</td>\n",
       "      <td>1.000000</td>\n",
       "    </tr>\n",
       "  </tbody>\n",
       "</table>\n",
       "</div>"
      ],
      "text/plain": [
       "         browser_v   os_version         pageS          time       source  \\\n",
       "count  1436.000000  1436.000000  1.436000e+03  1.436000e+03  1436.000000   \n",
       "mean     41.624191     8.167180  1.984706e+04  1.489163e+12     1.489554   \n",
       "std      19.656667     2.127232  1.066756e+05  2.279683e+08     0.572812   \n",
       "min      -1.000000    -1.000000  1.420000e-01  1.488791e+12     0.000000   \n",
       "25%      40.000000     6.100000  2.351475e+01  1.488964e+12     1.000000   \n",
       "50%      51.000000    10.000000  2.590280e+02  1.489126e+12     2.000000   \n",
       "75%      56.000000    10.110000  4.340998e+03  1.489396e+12     2.000000   \n",
       "max      58.000000    10.900000  2.918014e+06  1.489513e+12     2.000000   \n",
       "\n",
       "           weekend       signup  \n",
       "count  1436.000000  1436.000000  \n",
       "mean      0.086351     0.284819  \n",
       "std       0.280979     0.451485  \n",
       "min       0.000000     0.000000  \n",
       "25%       0.000000     0.000000  \n",
       "50%       0.000000     0.000000  \n",
       "75%       0.000000     1.000000  \n",
       "max       1.000000     1.000000  "
      ]
     },
     "execution_count": 93,
     "metadata": {},
     "output_type": "execute_result"
    }
   ],
   "source": [
    "df_fillna.describe()"
   ]
  },
  {
   "cell_type": "code",
   "execution_count": 94,
   "metadata": {
    "collapsed": true
   },
   "outputs": [],
   "source": [
    "# use this fillna feature\n",
    "df = df_fillna"
   ]
  },
  {
   "cell_type": "markdown",
   "metadata": {},
   "source": [
    "### Explore sign up rate split by features "
   ]
  },
  {
   "cell_type": "code",
   "execution_count": 100,
   "metadata": {},
   "outputs": [
    {
     "data": {
      "text/plain": [
       "<matplotlib.axes._subplots.AxesSubplot at 0x11de99a90>"
      ]
     },
     "execution_count": 100,
     "metadata": {},
     "output_type": "execute_result"
    },
    {
     "data": {
      "image/png": "[encoded data removed]",
      "text/plain": [
       "<matplotlib.figure.Figure at 0x11ddda6a0>"
      ]
     },
     "metadata": {},
     "output_type": "display_data"
    }
   ],
   "source": [
    "df[['browser_bin', 'signup']].groupby(['browser_bin']).mean().plot.bar()"
   ]
  },
  {
   "cell_type": "code",
   "execution_count": 101,
   "metadata": {},
   "outputs": [
    {
     "data": {
      "text/plain": [
       "<matplotlib.axes._subplots.AxesSubplot at 0x11dfed978>"
      ]
     },
     "execution_count": 101,
     "metadata": {},
     "output_type": "execute_result"
    },
    {
     "data": {
      "image/png": "[encoded data removed]",
      "text/plain": [
       "<matplotlib.figure.Figure at 0x11da6d5c0>"
      ]
     },
     "metadata": {},
     "output_type": "display_data"
    }
   ],
   "source": [
    "df[['model_bin', 'signup']].groupby(['model_bin']).mean().plot.bar()"
   ]
  },
  {
   "cell_type": "code",
   "execution_count": 102,
   "metadata": {},
   "outputs": [
    {
     "data": {
      "text/plain": [
       "<matplotlib.axes._subplots.AxesSubplot at 0x11e0a2a90>"
      ]
     },
     "execution_count": 102,
     "metadata": {},
     "output_type": "execute_result"
    },
    {
     "data": {
      "image/png": "[encoded data removed]",
      "text/plain": [
       "<matplotlib.figure.Figure at 0x11e1068d0>"
      ]
     },
     "metadata": {},
     "output_type": "display_data"
    }
   ],
   "source": [
    "df[['os_bin', 'signup']].groupby(['os_bin']).mean().plot.bar()"
   ]
  },
  {
   "cell_type": "code",
   "execution_count": 96,
   "metadata": {},
   "outputs": [
    {
     "data": {
      "text/plain": [
       "<matplotlib.axes._subplots.AxesSubplot at 0x11dbdd320>"
      ]
     },
     "execution_count": 96,
     "metadata": {},
     "output_type": "execute_result"
    },
    {
     "data": {
      "image/png": "[encoded data removed]",
      "text/plain": [
       "<matplotlib.figure.Figure at 0x11d8c4358>"
      ]
     },
     "metadata": {},
     "output_type": "display_data"
    }
   ],
   "source": [
    "df[['PRO_bin', 'signup']].groupby(['PRO_bin']).mean().plot.bar()"
   ]
  },
  {
   "cell_type": "code",
   "execution_count": 98,
   "metadata": {},
   "outputs": [
    {
     "data": {
      "text/plain": [
       "<matplotlib.axes._subplots.AxesSubplot at 0x11dcf5d68>"
      ]
     },
     "execution_count": 98,
     "metadata": {},
     "output_type": "execute_result"
    },
    {
     "data": {
      "image/png": "[encoded data removed]",
      "text/plain": [
       "<matplotlib.figure.Figure at 0x11dd1d630>"
      ]
     },
     "metadata": {},
     "output_type": "display_data"
    }
   ],
   "source": [
    "df[['CT_bin', 'signup']].groupby(['CT_bin']).mean().plot.bar()"
   ]
  },
  {
   "cell_type": "code",
   "execution_count": 103,
   "metadata": {},
   "outputs": [
    {
     "data": {
      "text/plain": [
       "<matplotlib.axes._subplots.AxesSubplot at 0x11e1b7358>"
      ]
     },
     "execution_count": 103,
     "metadata": {},
     "output_type": "execute_result"
    },
    {
     "data": {
      "image/png": "[encoded data removed]",
      "text/plain": [
       "<matplotlib.figure.Figure at 0x11e2292e8>"
      ]
     },
     "metadata": {},
     "output_type": "display_data"
    }
   ],
   "source": [
    "df[['latest_utm_s', 'signup']].groupby(['latest_utm_s']).mean().plot.bar()"
   ]
  },
  {
   "cell_type": "code",
   "execution_count": 104,
   "metadata": {},
   "outputs": [
    {
     "data": {
      "text/plain": [
       "baidu                 759\n",
       "sensordata            621\n",
       "sogou                  21\n",
       "sales4c                 6\n",
       "google                  5\n",
       "admin                   5\n",
       "wechat                  3\n",
       "sanjieke.cn             3\n",
       "zhihu                   2\n",
       "next.36kr.com           2\n",
       "sunwenliang             1\n",
       "liujinbo1               1\n",
       "qiye.36kr.com           1\n",
       "liuyaozhou              1\n",
       "linhuiyong              1\n",
       "sina                    1\n",
       "yupan                   1\n",
       "hao.caibaojian.com      1\n",
       "tianguang               1\n",
       "Name: latest_utm_s, dtype: int64"
      ]
     },
     "execution_count": 104,
     "metadata": {},
     "output_type": "execute_result"
    }
   ],
   "source": [
    "df['latest_utm_s'].value_counts(dropna=False)"
   ]
  },
  {
   "cell_type": "markdown",
   "metadata": {},
   "source": [
    "For all the sources has data larger than 5:\n",
    "sogou has the highest signup rate\n",
    "Keep sogou in binning"
   ]
  },
  {
   "cell_type": "code",
   "execution_count": 124,
   "metadata": {
    "collapsed": true
   },
   "outputs": [],
   "source": [
    "source_c = df['latest_utm_s'].value_counts(dropna=False)"
   ]
  },
  {
   "cell_type": "code",
   "execution_count": 125,
   "metadata": {},
   "outputs": [
    {
     "data": {
      "text/plain": [
       "baidu                 759\n",
       "sensordata            621\n",
       "sogou                  21\n",
       "sales4c                 6\n",
       "google                  5\n",
       "admin                   5\n",
       "wechat                  3\n",
       "sanjieke.cn             3\n",
       "zhihu                   2\n",
       "next.36kr.com           2\n",
       "sunwenliang             1\n",
       "liujinbo1               1\n",
       "qiye.36kr.com           1\n",
       "liuyaozhou              1\n",
       "linhuiyong              1\n",
       "sina                    1\n",
       "yupan                   1\n",
       "hao.caibaojian.com      1\n",
       "tianguang               1\n",
       "Name: latest_utm_s, dtype: int64"
      ]
     },
     "execution_count": 125,
     "metadata": {},
     "output_type": "execute_result"
    }
   ],
   "source": [
    "source_c"
   ]
  },
  {
   "cell_type": "code",
   "execution_count": 111,
   "metadata": {},
   "outputs": [
    {
     "name": "stderr",
     "output_type": "stream",
     "text": [
      "/Users/Danielle/anaconda/lib/python3.6/site-packages/pandas/core/indexing.py:179: SettingWithCopyWarning: \n",
      "A value is trying to be set on a copy of a slice from a DataFrame\n",
      "\n",
      "See the caveats in the documentation: http://pandas.pydata.org/pandas-docs/stable/indexing.html#indexing-view-versus-copy\n",
      "  self._setitem_with_indexer(indexer, value)\n"
     ]
    }
   ],
   "source": [
    "for i in range(len(df['latest_utm_s'])):\n",
    "    if source_c[ df['latest_utm_s'].loc[i]] > 20:\n",
    "        df['source'].loc[i] = df['latest_utm_s'].loc[i]   \n",
    "    else:\n",
    "        df['source'].loc[i] = 'others'"
   ]
  },
  {
   "cell_type": "code",
   "execution_count": 112,
   "metadata": {},
   "outputs": [
    {
     "data": {
      "text/plain": [
       "baidu         759\n",
       "sensordata    621\n",
       "others         35\n",
       "sogou          21\n",
       "Name: source, dtype: int64"
      ]
     },
     "execution_count": 112,
     "metadata": {},
     "output_type": "execute_result"
    }
   ],
   "source": [
    "df['source'].value_counts(dropna=False)"
   ]
  },
  {
   "cell_type": "code",
   "execution_count": 113,
   "metadata": {},
   "outputs": [
    {
     "data": {
      "text/plain": [
       "<matplotlib.axes._subplots.AxesSubplot at 0x11e5eb240>"
      ]
     },
     "execution_count": 113,
     "metadata": {},
     "output_type": "execute_result"
    },
    {
     "data": {
      "image/png": "[encoded data removed]",
      "text/plain": [
       "<matplotlib.figure.Figure at 0x11e392860>"
      ]
     },
     "metadata": {},
     "output_type": "display_data"
    }
   ],
   "source": [
    "df[['source', 'signup']].groupby(['source']).mean().plot.bar()"
   ]
  },
  {
   "cell_type": "code",
   "execution_count": 105,
   "metadata": {},
   "outputs": [
    {
     "data": {
      "text/plain": [
       "<matplotlib.axes._subplots.AxesSubplot at 0x11e32a710>"
      ]
     },
     "execution_count": 105,
     "metadata": {},
     "output_type": "execute_result"
    },
    {
     "data": {
      "image/png": "[encoded data removed]",
      "text/plain": [
       "<matplotlib.figure.Figure at 0x11e386550>"
      ]
     },
     "metadata": {},
     "output_type": "display_data"
    }
   ],
   "source": [
    "df[['CN', 'signup']].groupby(['CN']).mean().plot.bar()"
   ]
  },
  {
   "cell_type": "markdown",
   "metadata": {
    "collapsed": true
   },
   "source": [
    "People not in China has higher sign up rate"
   ]
  },
  {
   "cell_type": "markdown",
   "metadata": {},
   "source": [
    "over 1200 users in China, try to create a column for different user interaction of the day"
   ]
  },
  {
   "cell_type": "code",
   "execution_count": 114,
   "metadata": {
    "collapsed": true
   },
   "outputs": [],
   "source": [
    "import datetime"
   ]
  },
  {
   "cell_type": "code",
   "execution_count": 121,
   "metadata": {
    "collapsed": true
   },
   "outputs": [],
   "source": [
    "def to_hour(epoch):\n",
    "    return datetime.datetime.fromtimestamp(epoch/1000).strftime('%H')\n",
    "# first convert from milliseconds to seconds, and then convert format from time stamp"
   ]
  },
  {
   "cell_type": "code",
   "execution_count": 136,
   "metadata": {},
   "outputs": [],
   "source": [
    "#df.apply(lambda row: EOQ(row['D'], row['p'], ck, ch), axis=1)\n",
    "df['hour'] = df['time'].apply(lambda row: (int(to_hour(row))))"
   ]
  },
  {
   "cell_type": "code",
   "execution_count": 137,
   "metadata": {},
   "outputs": [
    {
     "data": {
      "text/plain": [
       "0     1\n",
       "1     6\n",
       "2     4\n",
       "3    20\n",
       "4     8\n",
       "Name: hour, dtype: int64"
      ]
     },
     "execution_count": 137,
     "metadata": {},
     "output_type": "execute_result"
    }
   ],
   "source": [
    "df['hour'].head()"
   ]
  },
  {
   "cell_type": "code",
   "execution_count": 138,
   "metadata": {},
   "outputs": [
    {
     "data": {
      "text/plain": [
       "<matplotlib.axes._subplots.AxesSubplot at 0x11e9b4b70>"
      ]
     },
     "execution_count": 138,
     "metadata": {},
     "output_type": "execute_result"
    },
    {
     "data": {
      "image/png": "[encoded data removed]",
      "text/plain": [
       "<matplotlib.figure.Figure at 0x11e9b42b0>"
      ]
     },
     "metadata": {},
     "output_type": "display_data"
    }
   ],
   "source": [
    "df['hour'].value_counts(dropna=False).plot.bar()"
   ]
  },
  {
   "cell_type": "markdown",
   "metadata": {},
   "source": [
    "Convert UTC time to Beijing Time, work time (8-17) is (0-9)"
   ]
  },
  {
   "cell_type": "code",
   "execution_count": 139,
   "metadata": {},
   "outputs": [],
   "source": [
    "df['worktime'] = ((df.hour >= 0) & (df.hour <= 9)) * 1"
   ]
  },
  {
   "cell_type": "code",
   "execution_count": 140,
   "metadata": {},
   "outputs": [
    {
     "data": {
      "text/plain": [
       "<matplotlib.axes._subplots.AxesSubplot at 0x11ea5bd30>"
      ]
     },
     "execution_count": 140,
     "metadata": {},
     "output_type": "execute_result"
    },
    {
     "data": {
      "image/png": "[encoded data removed]",
      "text/plain": [
       "<matplotlib.figure.Figure at 0x11ea8d198>"
      ]
     },
     "metadata": {},
     "output_type": "display_data"
    }
   ],
   "source": [
    "df['worktime'].value_counts(dropna=False).plot.bar()"
   ]
  },
  {
   "cell_type": "code",
   "execution_count": 141,
   "metadata": {},
   "outputs": [
    {
     "data": {
      "text/plain": [
       "<matplotlib.axes._subplots.AxesSubplot at 0x11e90a3c8>"
      ]
     },
     "execution_count": 141,
     "metadata": {},
     "output_type": "execute_result"
    },
    {
     "data": {
      "image/png": "[encoded data removed]",
      "text/plain": [
       "<matplotlib.figure.Figure at 0x11eaf65f8>"
      ]
     },
     "metadata": {},
     "output_type": "display_data"
    }
   ],
   "source": [
    "df[['worktime', 'signup']].groupby(['worktime']).mean().plot.bar()"
   ]
  },
  {
   "cell_type": "code",
   "execution_count": 106,
   "metadata": {},
   "outputs": [
    {
     "data": {
      "text/plain": [
       "<matplotlib.axes._subplots.AxesSubplot at 0x11e506c50>"
      ]
     },
     "execution_count": 106,
     "metadata": {},
     "output_type": "execute_result"
    },
    {
     "data": {
      "image/png": "[encoded data removed]",
      "text/plain": [
       "<matplotlib.figure.Figure at 0x11e4df6a0>"
      ]
     },
     "metadata": {},
     "output_type": "display_data"
    }
   ],
   "source": [
    "df[['weekend', 'signup']].groupby(['weekend']).mean().plot.bar()"
   ]
  },
  {
   "cell_type": "markdown",
   "metadata": {},
   "source": [
    "People has same signup rate over the weekends"
   ]
  },
  {
   "cell_type": "code",
   "execution_count": 142,
   "metadata": {},
   "outputs": [
    {
     "data": {
      "text/plain": [
       "Index(['browser', 'browser_v', 'day', 'is_fd', 'is_ft', 'ip', 'latest_utm_s',\n",
       "       'model', 'os', 'os_version', 'pageS', 'time', 'CN', 'source', 'weekend',\n",
       "       'signup', 'browser_bin', 'model_bin', 'os_bin', 'CT', 'PRO', 'CT_bin',\n",
       "       'PRO_bin', 'hour', 'worktime'],\n",
       "      dtype='object')"
      ]
     },
     "execution_count": 142,
     "metadata": {},
     "output_type": "execute_result"
    }
   ],
   "source": [
    "df.columns"
   ]
  },
  {
   "cell_type": "code",
   "execution_count": 143,
   "metadata": {
    "collapsed": true
   },
   "outputs": [],
   "source": [
    "selected_data_csv = 'data/selected_data.csv'\n",
    "df.to_csv(selected_data_csv, index=False)"
   ]
  }
 ],
 "metadata": {
  "kernelspec": {
   "display_name": "Python 3",
   "language": "python",
   "name": "python3"
  },
  "language_info": {
   "codemirror_mode": {
    "name": "ipython",
    "version": 3
   },
   "file_extension": ".py",
   "mimetype": "text/x-python",
   "name": "python",
   "nbconvert_exporter": "python",
   "pygments_lexer": "ipython3",
   "version": "3.6.1"
  }
 },
 "nbformat": 4,
 "nbformat_minor": 2
}
