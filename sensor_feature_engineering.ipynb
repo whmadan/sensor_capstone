{
 "cells": [
  {
   "cell_type": "markdown",
   "metadata": {},
   "source": [
    "##  Project objects\n",
    "- Clean dirty log data and transform it for analytics.\n",
    "- Exploratory data analysis, e.g. find user activity levels for different events, and user interaction with web components.\n",
    "- Find the conversion rate of users, identify key factors that bottleneck the conversion rate.\n",
    "- Propose any hypothesis and set up experiments for testing.\n",
    "- Build machine learning models to predict user behaviors, including but not limited to signup, churn, etc.\n",
    "- Discover interesting insights in the dataset and suggest how to improve the user signup rate."
   ]
  },
  {
   "cell_type": "code",
   "execution_count": 1,
   "metadata": {
    "collapsed": true
   },
   "outputs": [],
   "source": [
    "import pandas as pd\n",
    "import json"
   ]
  },
  {
   "cell_type": "code",
   "execution_count": 2,
   "metadata": {
    "collapsed": true
   },
   "outputs": [],
   "source": [
    "# Import modules\n",
    "import numpy as np\n",
    "import matplotlib.pyplot as plt\n",
    "\n",
    "# This statement allow to display plot without asking to\n",
    "%matplotlib inline\n",
    "\n",
    "# Always make it pretty.\n",
    "plt.style.use('ggplot')"
   ]
  },
  {
   "cell_type": "code",
   "execution_count": 3,
   "metadata": {
    "collapsed": true
   },
   "outputs": [],
   "source": [
    "# Load data from file\n",
    "df = pd.read_csv('data/cleaned_data.csv')"
   ]
  },
  {
   "cell_type": "code",
   "execution_count": 4,
   "metadata": {},
   "outputs": [
    {
     "data": {
      "text/html": [
       "<div>\n",
       "<style>\n",
       "    .dataframe thead tr:only-child th {\n",
       "        text-align: right;\n",
       "    }\n",
       "\n",
       "    .dataframe thead th {\n",
       "        text-align: left;\n",
       "    }\n",
       "\n",
       "    .dataframe tbody tr th {\n",
       "        vertical-align: top;\n",
       "    }\n",
       "</style>\n",
       "<table border=\"1\" class=\"dataframe\">\n",
       "  <thead>\n",
       "    <tr style=\"text-align: right;\">\n",
       "      <th></th>\n",
       "      <th>dist_id</th>\n",
       "      <th>event</th>\n",
       "      <th>browser</th>\n",
       "      <th>browser_v</th>\n",
       "      <th>day</th>\n",
       "      <th>is_fd</th>\n",
       "      <th>is_ft</th>\n",
       "      <th>ip</th>\n",
       "      <th>latest_utm_s</th>\n",
       "      <th>latest_utm_m</th>\n",
       "      <th>...</th>\n",
       "      <th>os_version</th>\n",
       "      <th>pageS</th>\n",
       "      <th>time</th>\n",
       "      <th>CN</th>\n",
       "      <th>CT</th>\n",
       "      <th>source</th>\n",
       "      <th>cpc</th>\n",
       "      <th>weekend</th>\n",
       "      <th>signup</th>\n",
       "      <th>freq</th>\n",
       "    </tr>\n",
       "  </thead>\n",
       "  <tbody>\n",
       "    <tr>\n",
       "      <th>0</th>\n",
       "      <td>595466e9a8e733434ce08de16e927d985e0b5d48</td>\n",
       "      <td>index_leave</td>\n",
       "      <td>chrome</td>\n",
       "      <td>56.0</td>\n",
       "      <td>2017-03-06</td>\n",
       "      <td>True</td>\n",
       "      <td>False</td>\n",
       "      <td>219.135.131.99</td>\n",
       "      <td>baidu</td>\n",
       "      <td>cpc</td>\n",
       "      <td>...</td>\n",
       "      <td>6.1</td>\n",
       "      <td>5.692</td>\n",
       "      <td>1488791047953</td>\n",
       "      <td>1</td>\n",
       "      <td>Guangzhou</td>\n",
       "      <td>1</td>\n",
       "      <td>1</td>\n",
       "      <td>0</td>\n",
       "      <td>0</td>\n",
       "      <td>2</td>\n",
       "    </tr>\n",
       "    <tr>\n",
       "      <th>1</th>\n",
       "      <td>9939d3e087bca29c42334d96dccd25ca0e06652a</td>\n",
       "      <td>$pageview</td>\n",
       "      <td>chrome</td>\n",
       "      <td>56.0</td>\n",
       "      <td>2017-03-06</td>\n",
       "      <td>True</td>\n",
       "      <td>True</td>\n",
       "      <td>111.204.198.242</td>\n",
       "      <td>NaN</td>\n",
       "      <td>NaN</td>\n",
       "      <td>...</td>\n",
       "      <td>10.0</td>\n",
       "      <td>NaN</td>\n",
       "      <td>1488791050856</td>\n",
       "      <td>0</td>\n",
       "      <td>0</td>\n",
       "      <td>0</td>\n",
       "      <td>0</td>\n",
       "      <td>0</td>\n",
       "      <td>0</td>\n",
       "      <td>21</td>\n",
       "    </tr>\n",
       "    <tr>\n",
       "      <th>2</th>\n",
       "      <td>9939d3e087bca29c42334d96dccd25ca0e06652a</td>\n",
       "      <td>btnClick</td>\n",
       "      <td>chrome</td>\n",
       "      <td>56.0</td>\n",
       "      <td>2017-03-06</td>\n",
       "      <td>True</td>\n",
       "      <td>False</td>\n",
       "      <td>111.204.198.242</td>\n",
       "      <td>NaN</td>\n",
       "      <td>NaN</td>\n",
       "      <td>...</td>\n",
       "      <td>10.0</td>\n",
       "      <td>NaN</td>\n",
       "      <td>1488791051772</td>\n",
       "      <td>1</td>\n",
       "      <td>Beijing</td>\n",
       "      <td>0</td>\n",
       "      <td>0</td>\n",
       "      <td>0</td>\n",
       "      <td>0</td>\n",
       "      <td>21</td>\n",
       "    </tr>\n",
       "    <tr>\n",
       "      <th>3</th>\n",
       "      <td>9939d3e087bca29c42334d96dccd25ca0e06652a</td>\n",
       "      <td>btnClick</td>\n",
       "      <td>chrome</td>\n",
       "      <td>56.0</td>\n",
       "      <td>2017-03-06</td>\n",
       "      <td>True</td>\n",
       "      <td>False</td>\n",
       "      <td>111.204.198.242</td>\n",
       "      <td>NaN</td>\n",
       "      <td>NaN</td>\n",
       "      <td>...</td>\n",
       "      <td>10.0</td>\n",
       "      <td>NaN</td>\n",
       "      <td>1488791056032</td>\n",
       "      <td>1</td>\n",
       "      <td>Beijing</td>\n",
       "      <td>0</td>\n",
       "      <td>0</td>\n",
       "      <td>0</td>\n",
       "      <td>0</td>\n",
       "      <td>21</td>\n",
       "    </tr>\n",
       "    <tr>\n",
       "      <th>4</th>\n",
       "      <td>595466e9a8e733434ce08de16e927d985e0b5d48</td>\n",
       "      <td>demo_leave</td>\n",
       "      <td>chrome</td>\n",
       "      <td>56.0</td>\n",
       "      <td>2017-03-06</td>\n",
       "      <td>True</td>\n",
       "      <td>False</td>\n",
       "      <td>219.135.131.99</td>\n",
       "      <td>baidu</td>\n",
       "      <td>cpc</td>\n",
       "      <td>...</td>\n",
       "      <td>6.1</td>\n",
       "      <td>21.291</td>\n",
       "      <td>1488791057880</td>\n",
       "      <td>1</td>\n",
       "      <td>Beijing</td>\n",
       "      <td>1</td>\n",
       "      <td>1</td>\n",
       "      <td>0</td>\n",
       "      <td>0</td>\n",
       "      <td>2</td>\n",
       "    </tr>\n",
       "  </tbody>\n",
       "</table>\n",
       "<p>5 rows × 22 columns</p>\n",
       "</div>"
      ],
      "text/plain": [
       "                                    dist_id        event browser  browser_v  \\\n",
       "0  595466e9a8e733434ce08de16e927d985e0b5d48  index_leave  chrome       56.0   \n",
       "1  9939d3e087bca29c42334d96dccd25ca0e06652a    $pageview  chrome       56.0   \n",
       "2  9939d3e087bca29c42334d96dccd25ca0e06652a     btnClick  chrome       56.0   \n",
       "3  9939d3e087bca29c42334d96dccd25ca0e06652a     btnClick  chrome       56.0   \n",
       "4  595466e9a8e733434ce08de16e927d985e0b5d48   demo_leave  chrome       56.0   \n",
       "\n",
       "          day  is_fd  is_ft               ip latest_utm_s latest_utm_m  ...   \\\n",
       "0  2017-03-06   True  False   219.135.131.99        baidu          cpc  ...    \n",
       "1  2017-03-06   True   True  111.204.198.242          NaN          NaN  ...    \n",
       "2  2017-03-06   True  False  111.204.198.242          NaN          NaN  ...    \n",
       "3  2017-03-06   True  False  111.204.198.242          NaN          NaN  ...    \n",
       "4  2017-03-06   True  False   219.135.131.99        baidu          cpc  ...    \n",
       "\n",
       "  os_version   pageS           time  CN         CT  source cpc  weekend  \\\n",
       "0        6.1   5.692  1488791047953   1  Guangzhou       1   1        0   \n",
       "1       10.0     NaN  1488791050856   0          0       0   0        0   \n",
       "2       10.0     NaN  1488791051772   1    Beijing       0   0        0   \n",
       "3       10.0     NaN  1488791056032   1    Beijing       0   0        0   \n",
       "4        6.1  21.291  1488791057880   1    Beijing       1   1        0   \n",
       "\n",
       "   signup  freq  \n",
       "0       0     2  \n",
       "1       0    21  \n",
       "2       0    21  \n",
       "3       0    21  \n",
       "4       0     2  \n",
       "\n",
       "[5 rows x 22 columns]"
      ]
     },
     "execution_count": 4,
     "metadata": {},
     "output_type": "execute_result"
    }
   ],
   "source": [
    "df.head()"
   ]
  },
  {
   "cell_type": "code",
   "execution_count": 5,
   "metadata": {},
   "outputs": [
    {
     "data": {
      "text/plain": [
       "(65673, 22)"
      ]
     },
     "execution_count": 5,
     "metadata": {},
     "output_type": "execute_result"
    }
   ],
   "source": [
    "df.shape"
   ]
  },
  {
   "cell_type": "code",
   "execution_count": 6,
   "metadata": {},
   "outputs": [],
   "source": [
    "avg_st = df[['dist_id','pageS']].groupby(['dist_id']).mean()"
   ]
  },
  {
   "cell_type": "code",
   "execution_count": 8,
   "metadata": {},
   "outputs": [
    {
     "data": {
      "text/html": [
       "<div>\n",
       "<style>\n",
       "    .dataframe thead tr:only-child th {\n",
       "        text-align: right;\n",
       "    }\n",
       "\n",
       "    .dataframe thead th {\n",
       "        text-align: left;\n",
       "    }\n",
       "\n",
       "    .dataframe tbody tr th {\n",
       "        vertical-align: top;\n",
       "    }\n",
       "</style>\n",
       "<table border=\"1\" class=\"dataframe\">\n",
       "  <thead>\n",
       "    <tr style=\"text-align: right;\">\n",
       "      <th></th>\n",
       "      <th>pageS</th>\n",
       "    </tr>\n",
       "    <tr>\n",
       "      <th>dist_id</th>\n",
       "      <th></th>\n",
       "    </tr>\n",
       "  </thead>\n",
       "  <tbody>\n",
       "    <tr>\n",
       "      <th>00007ef910b6c9911f1b89d01a09aa3fc862f4a9</th>\n",
       "      <td>NaN</td>\n",
       "    </tr>\n",
       "    <tr>\n",
       "      <th>000a216b72eff19bd0d5e17b9e676dd6ad9a38ac</th>\n",
       "      <td>921142.371000</td>\n",
       "    </tr>\n",
       "    <tr>\n",
       "      <th>000c46a27ef69fa22b56d253a9c72773338a1686</th>\n",
       "      <td>1742.216571</td>\n",
       "    </tr>\n",
       "    <tr>\n",
       "      <th>000ed1dcd942969b458c5b308937c6389c08f999</th>\n",
       "      <td>30.680000</td>\n",
       "    </tr>\n",
       "    <tr>\n",
       "      <th>00111feff544ef5280a4c7064a362a9ea59c9389</th>\n",
       "      <td>NaN</td>\n",
       "    </tr>\n",
       "  </tbody>\n",
       "</table>\n",
       "</div>"
      ],
      "text/plain": [
       "                                                  pageS\n",
       "dist_id                                                \n",
       "00007ef910b6c9911f1b89d01a09aa3fc862f4a9            NaN\n",
       "000a216b72eff19bd0d5e17b9e676dd6ad9a38ac  921142.371000\n",
       "000c46a27ef69fa22b56d253a9c72773338a1686    1742.216571\n",
       "000ed1dcd942969b458c5b308937c6389c08f999      30.680000\n",
       "00111feff544ef5280a4c7064a362a9ea59c9389            NaN"
      ]
     },
     "execution_count": 8,
     "metadata": {},
     "output_type": "execute_result"
    }
   ],
   "source": [
    "avg_st[0:5]"
   ]
  },
  {
   "cell_type": "code",
   "execution_count": 9,
   "metadata": {},
   "outputs": [],
   "source": [
    "count = []\n",
    "df_new = pd.DataFrame()\n",
    "grouped = df.groupby('dist_id')\n",
    "for name, group in grouped:\n",
    "    ct = 0\n",
    "    for index, row in group.iterrows():\n",
    "        if group.event[index] != \"formSubmit\" and ct != group.shape[0]-1:\n",
    "            ct+=1\n",
    "        else:\n",
    "            df_new = df_new.append(group.loc[index])\n",
    "            ct+=1\n",
    "            count.append(ct)\n",
    "            break"
   ]
  },
  {
   "cell_type": "code",
   "execution_count": 10,
   "metadata": {},
   "outputs": [
    {
     "data": {
      "text/html": [
       "<div>\n",
       "<style>\n",
       "    .dataframe thead tr:only-child th {\n",
       "        text-align: right;\n",
       "    }\n",
       "\n",
       "    .dataframe thead th {\n",
       "        text-align: left;\n",
       "    }\n",
       "\n",
       "    .dataframe tbody tr th {\n",
       "        vertical-align: top;\n",
       "    }\n",
       "</style>\n",
       "<table border=\"1\" class=\"dataframe\">\n",
       "  <thead>\n",
       "    <tr style=\"text-align: right;\">\n",
       "      <th></th>\n",
       "      <th>CN</th>\n",
       "      <th>CT</th>\n",
       "      <th>browser</th>\n",
       "      <th>browser_v</th>\n",
       "      <th>cpc</th>\n",
       "      <th>day</th>\n",
       "      <th>dist_id</th>\n",
       "      <th>event</th>\n",
       "      <th>freq</th>\n",
       "      <th>ip</th>\n",
       "      <th>...</th>\n",
       "      <th>latest_utm_m</th>\n",
       "      <th>latest_utm_s</th>\n",
       "      <th>model</th>\n",
       "      <th>os</th>\n",
       "      <th>os_version</th>\n",
       "      <th>pageS</th>\n",
       "      <th>signup</th>\n",
       "      <th>source</th>\n",
       "      <th>time</th>\n",
       "      <th>weekend</th>\n",
       "    </tr>\n",
       "  </thead>\n",
       "  <tbody>\n",
       "    <tr>\n",
       "      <th>6051</th>\n",
       "      <td>1.0</td>\n",
       "      <td>Hangzhou</td>\n",
       "      <td>qq</td>\n",
       "      <td>7.3</td>\n",
       "      <td>0.0</td>\n",
       "      <td>2017-03-06</td>\n",
       "      <td>00007ef910b6c9911f1b89d01a09aa3fc862f4a9</td>\n",
       "      <td>formSubmit</td>\n",
       "      <td>6.0</td>\n",
       "      <td>36.23.47.33</td>\n",
       "      <td>...</td>\n",
       "      <td>mcpc</td>\n",
       "      <td>baidu</td>\n",
       "      <td>iphone</td>\n",
       "      <td>iOS</td>\n",
       "      <td>10.20</td>\n",
       "      <td>NaN</td>\n",
       "      <td>1.0</td>\n",
       "      <td>1.0</td>\n",
       "      <td>1.488866e+12</td>\n",
       "      <td>0.0</td>\n",
       "    </tr>\n",
       "    <tr>\n",
       "      <th>46921</th>\n",
       "      <td>1.0</td>\n",
       "      <td>Guangzhou</td>\n",
       "      <td>chrome</td>\n",
       "      <td>56.0</td>\n",
       "      <td>1.0</td>\n",
       "      <td>2017-03-12</td>\n",
       "      <td>000a216b72eff19bd0d5e17b9e676dd6ad9a38ac</td>\n",
       "      <td>index_leave</td>\n",
       "      <td>1.0</td>\n",
       "      <td>111.193.183.253</td>\n",
       "      <td>...</td>\n",
       "      <td>cpc</td>\n",
       "      <td>baidu</td>\n",
       "      <td>mac</td>\n",
       "      <td>macosx</td>\n",
       "      <td>10.12</td>\n",
       "      <td>921142.371</td>\n",
       "      <td>0.0</td>\n",
       "      <td>1.0</td>\n",
       "      <td>1.489374e+12</td>\n",
       "      <td>1.0</td>\n",
       "    </tr>\n",
       "    <tr>\n",
       "      <th>7243</th>\n",
       "      <td>1.0</td>\n",
       "      <td>Shenzhen</td>\n",
       "      <td>chrome</td>\n",
       "      <td>56.0</td>\n",
       "      <td>0.0</td>\n",
       "      <td>2017-03-07</td>\n",
       "      <td>000c46a27ef69fa22b56d253a9c72773338a1686</td>\n",
       "      <td>$pageview</td>\n",
       "      <td>22.0</td>\n",
       "      <td>27.38.250.222</td>\n",
       "      <td>...</td>\n",
       "      <td>NaN</td>\n",
       "      <td>NaN</td>\n",
       "      <td>pc</td>\n",
       "      <td>windows</td>\n",
       "      <td>10.00</td>\n",
       "      <td>NaN</td>\n",
       "      <td>0.0</td>\n",
       "      <td>0.0</td>\n",
       "      <td>1.488871e+12</td>\n",
       "      <td>0.0</td>\n",
       "    </tr>\n",
       "    <tr>\n",
       "      <th>47483</th>\n",
       "      <td>1.0</td>\n",
       "      <td>Hangzhou</td>\n",
       "      <td>qq</td>\n",
       "      <td>9.5</td>\n",
       "      <td>0.0</td>\n",
       "      <td>2017-03-12</td>\n",
       "      <td>000ed1dcd942969b458c5b308937c6389c08f999</td>\n",
       "      <td>$pageview</td>\n",
       "      <td>4.0</td>\n",
       "      <td>116.226.32.214</td>\n",
       "      <td>...</td>\n",
       "      <td>NaN</td>\n",
       "      <td>sanjieke.cn</td>\n",
       "      <td>pc</td>\n",
       "      <td>windows</td>\n",
       "      <td>10.00</td>\n",
       "      <td>NaN</td>\n",
       "      <td>0.0</td>\n",
       "      <td>0.0</td>\n",
       "      <td>1.489376e+12</td>\n",
       "      <td>1.0</td>\n",
       "    </tr>\n",
       "    <tr>\n",
       "      <th>28974</th>\n",
       "      <td>1.0</td>\n",
       "      <td>Chengdu</td>\n",
       "      <td>safari</td>\n",
       "      <td>9.0</td>\n",
       "      <td>0.0</td>\n",
       "      <td>2017-03-09</td>\n",
       "      <td>00111feff544ef5280a4c7064a362a9ea59c9389</td>\n",
       "      <td>$pageview</td>\n",
       "      <td>1.0</td>\n",
       "      <td>117.136.38.216</td>\n",
       "      <td>...</td>\n",
       "      <td>mcpc</td>\n",
       "      <td>baidu</td>\n",
       "      <td>iphone</td>\n",
       "      <td>iOS</td>\n",
       "      <td>9.00</td>\n",
       "      <td>NaN</td>\n",
       "      <td>0.0</td>\n",
       "      <td>1.0</td>\n",
       "      <td>1.489059e+12</td>\n",
       "      <td>0.0</td>\n",
       "    </tr>\n",
       "  </tbody>\n",
       "</table>\n",
       "<p>5 rows × 22 columns</p>\n",
       "</div>"
      ],
      "text/plain": [
       "        CN         CT browser  browser_v  cpc         day  \\\n",
       "6051   1.0   Hangzhou      qq        7.3  0.0  2017-03-06   \n",
       "46921  1.0  Guangzhou  chrome       56.0  1.0  2017-03-12   \n",
       "7243   1.0   Shenzhen  chrome       56.0  0.0  2017-03-07   \n",
       "47483  1.0   Hangzhou      qq        9.5  0.0  2017-03-12   \n",
       "28974  1.0    Chengdu  safari        9.0  0.0  2017-03-09   \n",
       "\n",
       "                                        dist_id        event  freq  \\\n",
       "6051   00007ef910b6c9911f1b89d01a09aa3fc862f4a9   formSubmit   6.0   \n",
       "46921  000a216b72eff19bd0d5e17b9e676dd6ad9a38ac  index_leave   1.0   \n",
       "7243   000c46a27ef69fa22b56d253a9c72773338a1686    $pageview  22.0   \n",
       "47483  000ed1dcd942969b458c5b308937c6389c08f999    $pageview   4.0   \n",
       "28974  00111feff544ef5280a4c7064a362a9ea59c9389    $pageview   1.0   \n",
       "\n",
       "                    ip   ...     latest_utm_m  latest_utm_s   model       os  \\\n",
       "6051       36.23.47.33   ...             mcpc         baidu  iphone      iOS   \n",
       "46921  111.193.183.253   ...              cpc         baidu     mac   macosx   \n",
       "7243     27.38.250.222   ...              NaN           NaN      pc  windows   \n",
       "47483   116.226.32.214   ...              NaN   sanjieke.cn      pc  windows   \n",
       "28974   117.136.38.216   ...             mcpc         baidu  iphone      iOS   \n",
       "\n",
       "      os_version       pageS  signup  source          time  weekend  \n",
       "6051       10.20         NaN     1.0     1.0  1.488866e+12      0.0  \n",
       "46921      10.12  921142.371     0.0     1.0  1.489374e+12      1.0  \n",
       "7243       10.00         NaN     0.0     0.0  1.488871e+12      0.0  \n",
       "47483      10.00         NaN     0.0     0.0  1.489376e+12      1.0  \n",
       "28974       9.00         NaN     0.0     1.0  1.489059e+12      0.0  \n",
       "\n",
       "[5 rows x 22 columns]"
      ]
     },
     "execution_count": 10,
     "metadata": {},
     "output_type": "execute_result"
    }
   ],
   "source": [
    "df_new.head()"
   ]
  },
  {
   "cell_type": "code",
   "execution_count": 11,
   "metadata": {},
   "outputs": [
    {
     "data": {
      "text/plain": [
       "(11708, 22)"
      ]
     },
     "execution_count": 11,
     "metadata": {},
     "output_type": "execute_result"
    }
   ],
   "source": [
    "df_new.shape"
   ]
  },
  {
   "cell_type": "code",
   "execution_count": 12,
   "metadata": {
    "collapsed": true
   },
   "outputs": [],
   "source": [
    "df_new['count'] = count"
   ]
  },
  {
   "cell_type": "code",
   "execution_count": 13,
   "metadata": {
    "collapsed": true
   },
   "outputs": [],
   "source": [
    "df_new['avg_st'] = avg_st.values"
   ]
  },
  {
   "cell_type": "code",
   "execution_count": 14,
   "metadata": {},
   "outputs": [
    {
     "data": {
      "text/html": [
       "<div>\n",
       "<style>\n",
       "    .dataframe thead tr:only-child th {\n",
       "        text-align: right;\n",
       "    }\n",
       "\n",
       "    .dataframe thead th {\n",
       "        text-align: left;\n",
       "    }\n",
       "\n",
       "    .dataframe tbody tr th {\n",
       "        vertical-align: top;\n",
       "    }\n",
       "</style>\n",
       "<table border=\"1\" class=\"dataframe\">\n",
       "  <thead>\n",
       "    <tr style=\"text-align: right;\">\n",
       "      <th></th>\n",
       "      <th>CN</th>\n",
       "      <th>CT</th>\n",
       "      <th>browser</th>\n",
       "      <th>browser_v</th>\n",
       "      <th>cpc</th>\n",
       "      <th>day</th>\n",
       "      <th>dist_id</th>\n",
       "      <th>event</th>\n",
       "      <th>freq</th>\n",
       "      <th>ip</th>\n",
       "      <th>...</th>\n",
       "      <th>model</th>\n",
       "      <th>os</th>\n",
       "      <th>os_version</th>\n",
       "      <th>pageS</th>\n",
       "      <th>signup</th>\n",
       "      <th>source</th>\n",
       "      <th>time</th>\n",
       "      <th>weekend</th>\n",
       "      <th>count</th>\n",
       "      <th>avg_st</th>\n",
       "    </tr>\n",
       "  </thead>\n",
       "  <tbody>\n",
       "    <tr>\n",
       "      <th>6051</th>\n",
       "      <td>1.0</td>\n",
       "      <td>Hangzhou</td>\n",
       "      <td>qq</td>\n",
       "      <td>7.30000</td>\n",
       "      <td>0.0</td>\n",
       "      <td>2017-03-06</td>\n",
       "      <td>00007ef910b6c9911f1b89d01a09aa3fc862f4a9</td>\n",
       "      <td>formSubmit</td>\n",
       "      <td>6.0</td>\n",
       "      <td>36.23.47.33</td>\n",
       "      <td>...</td>\n",
       "      <td>iphone</td>\n",
       "      <td>iOS</td>\n",
       "      <td>10.20</td>\n",
       "      <td>NaN</td>\n",
       "      <td>1.0</td>\n",
       "      <td>1.0</td>\n",
       "      <td>1.488866e+12</td>\n",
       "      <td>0.0</td>\n",
       "      <td>5</td>\n",
       "      <td>NaN</td>\n",
       "    </tr>\n",
       "    <tr>\n",
       "      <th>46921</th>\n",
       "      <td>1.0</td>\n",
       "      <td>Guangzhou</td>\n",
       "      <td>chrome</td>\n",
       "      <td>56.00000</td>\n",
       "      <td>1.0</td>\n",
       "      <td>2017-03-12</td>\n",
       "      <td>000a216b72eff19bd0d5e17b9e676dd6ad9a38ac</td>\n",
       "      <td>index_leave</td>\n",
       "      <td>1.0</td>\n",
       "      <td>111.193.183.253</td>\n",
       "      <td>...</td>\n",
       "      <td>mac</td>\n",
       "      <td>macosx</td>\n",
       "      <td>10.12</td>\n",
       "      <td>921142.371</td>\n",
       "      <td>0.0</td>\n",
       "      <td>1.0</td>\n",
       "      <td>1.489374e+12</td>\n",
       "      <td>1.0</td>\n",
       "      <td>1</td>\n",
       "      <td>921142.371000</td>\n",
       "    </tr>\n",
       "    <tr>\n",
       "      <th>7243</th>\n",
       "      <td>1.0</td>\n",
       "      <td>Shenzhen</td>\n",
       "      <td>chrome</td>\n",
       "      <td>56.00000</td>\n",
       "      <td>0.0</td>\n",
       "      <td>2017-03-07</td>\n",
       "      <td>000c46a27ef69fa22b56d253a9c72773338a1686</td>\n",
       "      <td>$pageview</td>\n",
       "      <td>22.0</td>\n",
       "      <td>27.38.250.222</td>\n",
       "      <td>...</td>\n",
       "      <td>pc</td>\n",
       "      <td>windows</td>\n",
       "      <td>10.00</td>\n",
       "      <td>NaN</td>\n",
       "      <td>0.0</td>\n",
       "      <td>0.0</td>\n",
       "      <td>1.488871e+12</td>\n",
       "      <td>0.0</td>\n",
       "      <td>22</td>\n",
       "      <td>1742.216571</td>\n",
       "    </tr>\n",
       "    <tr>\n",
       "      <th>47483</th>\n",
       "      <td>1.0</td>\n",
       "      <td>Hangzhou</td>\n",
       "      <td>qq</td>\n",
       "      <td>9.50000</td>\n",
       "      <td>0.0</td>\n",
       "      <td>2017-03-12</td>\n",
       "      <td>000ed1dcd942969b458c5b308937c6389c08f999</td>\n",
       "      <td>$pageview</td>\n",
       "      <td>4.0</td>\n",
       "      <td>116.226.32.214</td>\n",
       "      <td>...</td>\n",
       "      <td>pc</td>\n",
       "      <td>windows</td>\n",
       "      <td>10.00</td>\n",
       "      <td>NaN</td>\n",
       "      <td>0.0</td>\n",
       "      <td>0.0</td>\n",
       "      <td>1.489376e+12</td>\n",
       "      <td>1.0</td>\n",
       "      <td>4</td>\n",
       "      <td>30.680000</td>\n",
       "    </tr>\n",
       "    <tr>\n",
       "      <th>28974</th>\n",
       "      <td>1.0</td>\n",
       "      <td>Chengdu</td>\n",
       "      <td>safari</td>\n",
       "      <td>9.00000</td>\n",
       "      <td>0.0</td>\n",
       "      <td>2017-03-09</td>\n",
       "      <td>00111feff544ef5280a4c7064a362a9ea59c9389</td>\n",
       "      <td>$pageview</td>\n",
       "      <td>1.0</td>\n",
       "      <td>117.136.38.216</td>\n",
       "      <td>...</td>\n",
       "      <td>iphone</td>\n",
       "      <td>iOS</td>\n",
       "      <td>9.00</td>\n",
       "      <td>NaN</td>\n",
       "      <td>0.0</td>\n",
       "      <td>1.0</td>\n",
       "      <td>1.489059e+12</td>\n",
       "      <td>0.0</td>\n",
       "      <td>1</td>\n",
       "      <td>NaN</td>\n",
       "    </tr>\n",
       "    <tr>\n",
       "      <th>22480</th>\n",
       "      <td>1.0</td>\n",
       "      <td>Zhengzhou</td>\n",
       "      <td>chrome</td>\n",
       "      <td>56.00000</td>\n",
       "      <td>1.0</td>\n",
       "      <td>2017-03-08</td>\n",
       "      <td>0011f5066b1c62717255852fdb15a0473a5c2b19</td>\n",
       "      <td>$pageview</td>\n",
       "      <td>6.0</td>\n",
       "      <td>119.57.163.82</td>\n",
       "      <td>...</td>\n",
       "      <td>mac</td>\n",
       "      <td>macosx</td>\n",
       "      <td>10.12</td>\n",
       "      <td>NaN</td>\n",
       "      <td>0.0</td>\n",
       "      <td>1.0</td>\n",
       "      <td>1.489029e+12</td>\n",
       "      <td>0.0</td>\n",
       "      <td>6</td>\n",
       "      <td>4.170000</td>\n",
       "    </tr>\n",
       "    <tr>\n",
       "      <th>3663</th>\n",
       "      <td>0.0</td>\n",
       "      <td>Nonthaburi</td>\n",
       "      <td>chrome</td>\n",
       "      <td>56.00000</td>\n",
       "      <td>1.0</td>\n",
       "      <td>2017-03-06</td>\n",
       "      <td>0012ea1b517e6959354abaa6954711054ec831b9</td>\n",
       "      <td>index_leave</td>\n",
       "      <td>2.0</td>\n",
       "      <td>101.71.245.170</td>\n",
       "      <td>...</td>\n",
       "      <td>pc</td>\n",
       "      <td>windows</td>\n",
       "      <td>6.10</td>\n",
       "      <td>35.747</td>\n",
       "      <td>0.0</td>\n",
       "      <td>1.0</td>\n",
       "      <td>1.488851e+12</td>\n",
       "      <td>0.0</td>\n",
       "      <td>2</td>\n",
       "      <td>35.747000</td>\n",
       "    </tr>\n",
       "    <tr>\n",
       "      <th>28509</th>\n",
       "      <td>1.0</td>\n",
       "      <td>Beijing</td>\n",
       "      <td>na</td>\n",
       "      <td>-1.00000</td>\n",
       "      <td>0.0</td>\n",
       "      <td>2017-03-09</td>\n",
       "      <td>002232cd6da95fae1cc9a5fbaa7c2d0e11fbd57b</td>\n",
       "      <td>index_leave</td>\n",
       "      <td>3.0</td>\n",
       "      <td>223.73.25.141</td>\n",
       "      <td>...</td>\n",
       "      <td>oppo</td>\n",
       "      <td>Android</td>\n",
       "      <td>4.20</td>\n",
       "      <td>18.916</td>\n",
       "      <td>0.0</td>\n",
       "      <td>1.0</td>\n",
       "      <td>1.489055e+12</td>\n",
       "      <td>0.0</td>\n",
       "      <td>3</td>\n",
       "      <td>18.916000</td>\n",
       "    </tr>\n",
       "    <tr>\n",
       "      <th>21090</th>\n",
       "      <td>1.0</td>\n",
       "      <td>NaN</td>\n",
       "      <td>micromessenger</td>\n",
       "      <td>6.50000</td>\n",
       "      <td>0.0</td>\n",
       "      <td>2017-03-08</td>\n",
       "      <td>00229f012ef316de6efdcbc380ffdb2558e9ff81</td>\n",
       "      <td>$pageview</td>\n",
       "      <td>3.0</td>\n",
       "      <td>223.104.38.131</td>\n",
       "      <td>...</td>\n",
       "      <td>iphone</td>\n",
       "      <td>iOS</td>\n",
       "      <td>10.00</td>\n",
       "      <td>NaN</td>\n",
       "      <td>0.0</td>\n",
       "      <td>0.0</td>\n",
       "      <td>1.489022e+12</td>\n",
       "      <td>0.0</td>\n",
       "      <td>3</td>\n",
       "      <td>NaN</td>\n",
       "    </tr>\n",
       "    <tr>\n",
       "      <th>39158</th>\n",
       "      <td>1.0</td>\n",
       "      <td>Wuhan</td>\n",
       "      <td>qq</td>\n",
       "      <td>6.00000</td>\n",
       "      <td>0.0</td>\n",
       "      <td>2017-03-10</td>\n",
       "      <td>0023b8aa9adf510ef81d0e90e175d809f2bf6059</td>\n",
       "      <td>$pageview</td>\n",
       "      <td>1.0</td>\n",
       "      <td>153.37.200.192</td>\n",
       "      <td>...</td>\n",
       "      <td>android</td>\n",
       "      <td>Android</td>\n",
       "      <td>6.00</td>\n",
       "      <td>NaN</td>\n",
       "      <td>0.0</td>\n",
       "      <td>1.0</td>\n",
       "      <td>1.489157e+12</td>\n",
       "      <td>0.0</td>\n",
       "      <td>1</td>\n",
       "      <td>NaN</td>\n",
       "    </tr>\n",
       "    <tr>\n",
       "      <th>61341</th>\n",
       "      <td>1.0</td>\n",
       "      <td>Ürümqi</td>\n",
       "      <td>chrome</td>\n",
       "      <td>56.00000</td>\n",
       "      <td>1.0</td>\n",
       "      <td>2017-03-14</td>\n",
       "      <td>002d8f97faecdd57156c648b3214e6ace810d974</td>\n",
       "      <td>index_leave</td>\n",
       "      <td>3.0</td>\n",
       "      <td>111.205.85.3</td>\n",
       "      <td>...</td>\n",
       "      <td>pc</td>\n",
       "      <td>windows</td>\n",
       "      <td>10.00</td>\n",
       "      <td>4.490</td>\n",
       "      <td>0.0</td>\n",
       "      <td>1.0</td>\n",
       "      <td>1.489480e+12</td>\n",
       "      <td>0.0</td>\n",
       "      <td>3</td>\n",
       "      <td>4.490000</td>\n",
       "    </tr>\n",
       "    <tr>\n",
       "      <th>15104</th>\n",
       "      <td>1.0</td>\n",
       "      <td>Beijing</td>\n",
       "      <td>sogou</td>\n",
       "      <td>2.00000</td>\n",
       "      <td>0.0</td>\n",
       "      <td>2017-03-07</td>\n",
       "      <td>002e2c1cd393b3d240ef46c45990c76f9b37a182</td>\n",
       "      <td>$pageview</td>\n",
       "      <td>1.0</td>\n",
       "      <td>27.129.37.70</td>\n",
       "      <td>...</td>\n",
       "      <td>pc</td>\n",
       "      <td>windows</td>\n",
       "      <td>10.00</td>\n",
       "      <td>NaN</td>\n",
       "      <td>0.0</td>\n",
       "      <td>0.0</td>\n",
       "      <td>1.488953e+12</td>\n",
       "      <td>0.0</td>\n",
       "      <td>1</td>\n",
       "      <td>NaN</td>\n",
       "    </tr>\n",
       "    <tr>\n",
       "      <th>47926</th>\n",
       "      <td>1.0</td>\n",
       "      <td>Nanjing</td>\n",
       "      <td>chrome</td>\n",
       "      <td>45.00000</td>\n",
       "      <td>0.0</td>\n",
       "      <td>2017-03-12</td>\n",
       "      <td>002f3920ac5c3810f7b7b867d2c43a9bf76c4b11</td>\n",
       "      <td>$pageview</td>\n",
       "      <td>1.0</td>\n",
       "      <td>114.242.94.218</td>\n",
       "      <td>...</td>\n",
       "      <td>pc</td>\n",
       "      <td>windows</td>\n",
       "      <td>10.00</td>\n",
       "      <td>NaN</td>\n",
       "      <td>0.0</td>\n",
       "      <td>0.0</td>\n",
       "      <td>1.489378e+12</td>\n",
       "      <td>1.0</td>\n",
       "      <td>1</td>\n",
       "      <td>NaN</td>\n",
       "    </tr>\n",
       "    <tr>\n",
       "      <th>5203</th>\n",
       "      <td>1.0</td>\n",
       "      <td>Beijing</td>\n",
       "      <td>firefox</td>\n",
       "      <td>51.00000</td>\n",
       "      <td>0.0</td>\n",
       "      <td>2017-03-06</td>\n",
       "      <td>0043fd09595654cedcc8a5d427a365bb33bd94fb</td>\n",
       "      <td>$pageview</td>\n",
       "      <td>1.0</td>\n",
       "      <td>124.42.105.130</td>\n",
       "      <td>...</td>\n",
       "      <td>pc</td>\n",
       "      <td>windows</td>\n",
       "      <td>6.10</td>\n",
       "      <td>NaN</td>\n",
       "      <td>0.0</td>\n",
       "      <td>0.0</td>\n",
       "      <td>1.488859e+12</td>\n",
       "      <td>0.0</td>\n",
       "      <td>1</td>\n",
       "      <td>NaN</td>\n",
       "    </tr>\n",
       "    <tr>\n",
       "      <th>48204</th>\n",
       "      <td>0.0</td>\n",
       "      <td>0</td>\n",
       "      <td>safari</td>\n",
       "      <td>9.00000</td>\n",
       "      <td>0.0</td>\n",
       "      <td>2017-03-12</td>\n",
       "      <td>00475764f3d8010dbe98062df30de20418e5ae0d</td>\n",
       "      <td>btnClick</td>\n",
       "      <td>2.0</td>\n",
       "      <td>42.230.162.32</td>\n",
       "      <td>...</td>\n",
       "      <td>iphone</td>\n",
       "      <td>iOS</td>\n",
       "      <td>9.20</td>\n",
       "      <td>NaN</td>\n",
       "      <td>0.0</td>\n",
       "      <td>1.0</td>\n",
       "      <td>1.489381e+12</td>\n",
       "      <td>1.0</td>\n",
       "      <td>2</td>\n",
       "      <td>NaN</td>\n",
       "    </tr>\n",
       "    <tr>\n",
       "      <th>25761</th>\n",
       "      <td>1.0</td>\n",
       "      <td>Shanghai</td>\n",
       "      <td>chrome</td>\n",
       "      <td>56.00000</td>\n",
       "      <td>1.0</td>\n",
       "      <td>2017-03-09</td>\n",
       "      <td>0048588e5680c0914b4507230ec17c2f4dea9e8b</td>\n",
       "      <td>$pageview</td>\n",
       "      <td>1.0</td>\n",
       "      <td>61.183.121.210</td>\n",
       "      <td>...</td>\n",
       "      <td>pc</td>\n",
       "      <td>windows</td>\n",
       "      <td>10.00</td>\n",
       "      <td>NaN</td>\n",
       "      <td>0.0</td>\n",
       "      <td>1.0</td>\n",
       "      <td>1.489047e+12</td>\n",
       "      <td>0.0</td>\n",
       "      <td>1</td>\n",
       "      <td>NaN</td>\n",
       "    </tr>\n",
       "    <tr>\n",
       "      <th>57935</th>\n",
       "      <td>1.0</td>\n",
       "      <td>Hangzhou</td>\n",
       "      <td>uc</td>\n",
       "      <td>11.40000</td>\n",
       "      <td>0.0</td>\n",
       "      <td>2017-03-13</td>\n",
       "      <td>004abe43ed5bfc667be524f71823a8671815d7df</td>\n",
       "      <td>btnClick</td>\n",
       "      <td>6.0</td>\n",
       "      <td>61.135.194.208</td>\n",
       "      <td>...</td>\n",
       "      <td>android</td>\n",
       "      <td>Android</td>\n",
       "      <td>6.00</td>\n",
       "      <td>NaN</td>\n",
       "      <td>0.0</td>\n",
       "      <td>0.0</td>\n",
       "      <td>1.489466e+12</td>\n",
       "      <td>0.0</td>\n",
       "      <td>6</td>\n",
       "      <td>NaN</td>\n",
       "    </tr>\n",
       "    <tr>\n",
       "      <th>26844</th>\n",
       "      <td>1.0</td>\n",
       "      <td>Hebei</td>\n",
       "      <td>safari</td>\n",
       "      <td>10.00000</td>\n",
       "      <td>0.0</td>\n",
       "      <td>2017-03-09</td>\n",
       "      <td>004c0cbf3a8f91f43757005afa6bc93bc2052def</td>\n",
       "      <td>index_leave</td>\n",
       "      <td>4.0</td>\n",
       "      <td>60.247.54.124</td>\n",
       "      <td>...</td>\n",
       "      <td>mac</td>\n",
       "      <td>macosx</td>\n",
       "      <td>10.12</td>\n",
       "      <td>107.380</td>\n",
       "      <td>0.0</td>\n",
       "      <td>0.0</td>\n",
       "      <td>1.489050e+12</td>\n",
       "      <td>0.0</td>\n",
       "      <td>4</td>\n",
       "      <td>107.380000</td>\n",
       "    </tr>\n",
       "    <tr>\n",
       "      <th>30092</th>\n",
       "      <td>1.0</td>\n",
       "      <td>Beijing</td>\n",
       "      <td>firefox</td>\n",
       "      <td>52.00000</td>\n",
       "      <td>1.0</td>\n",
       "      <td>2017-03-09</td>\n",
       "      <td>005291b9866cfb9f947e51db74f1b0ab80949120</td>\n",
       "      <td>btnClick</td>\n",
       "      <td>12.0</td>\n",
       "      <td>182.148.57.93</td>\n",
       "      <td>...</td>\n",
       "      <td>pc</td>\n",
       "      <td>windows</td>\n",
       "      <td>6.10</td>\n",
       "      <td>NaN</td>\n",
       "      <td>0.0</td>\n",
       "      <td>1.0</td>\n",
       "      <td>1.489071e+12</td>\n",
       "      <td>0.0</td>\n",
       "      <td>12</td>\n",
       "      <td>51.065000</td>\n",
       "    </tr>\n",
       "    <tr>\n",
       "      <th>63496</th>\n",
       "      <td>0.0</td>\n",
       "      <td>0</td>\n",
       "      <td>micromessenger</td>\n",
       "      <td>6.50000</td>\n",
       "      <td>0.0</td>\n",
       "      <td>2017-03-14</td>\n",
       "      <td>0055206aaf867a23387364aac8a5013db1a1c84b</td>\n",
       "      <td>$pageview</td>\n",
       "      <td>1.0</td>\n",
       "      <td>36.110.38.58</td>\n",
       "      <td>...</td>\n",
       "      <td>iphone</td>\n",
       "      <td>iOS</td>\n",
       "      <td>10.20</td>\n",
       "      <td>NaN</td>\n",
       "      <td>0.0</td>\n",
       "      <td>0.0</td>\n",
       "      <td>1.489489e+12</td>\n",
       "      <td>0.0</td>\n",
       "      <td>1</td>\n",
       "      <td>NaN</td>\n",
       "    </tr>\n",
       "    <tr>\n",
       "      <th>2390</th>\n",
       "      <td>1.0</td>\n",
       "      <td>Shanghai</td>\n",
       "      <td>chrome</td>\n",
       "      <td>56.00000</td>\n",
       "      <td>1.0</td>\n",
       "      <td>2017-03-06</td>\n",
       "      <td>00605fe315345c034eaff2392444c2b810dd9259</td>\n",
       "      <td>index_leave</td>\n",
       "      <td>1.0</td>\n",
       "      <td>101.38.108.9</td>\n",
       "      <td>...</td>\n",
       "      <td>mac</td>\n",
       "      <td>macosx</td>\n",
       "      <td>10.11</td>\n",
       "      <td>30889.821</td>\n",
       "      <td>0.0</td>\n",
       "      <td>1.0</td>\n",
       "      <td>1.488809e+12</td>\n",
       "      <td>0.0</td>\n",
       "      <td>1</td>\n",
       "      <td>30889.821000</td>\n",
       "    </tr>\n",
       "    <tr>\n",
       "      <th>44870</th>\n",
       "      <td>1.0</td>\n",
       "      <td>Beijing</td>\n",
       "      <td>chrome</td>\n",
       "      <td>56.00000</td>\n",
       "      <td>0.0</td>\n",
       "      <td>2017-03-12</td>\n",
       "      <td>00682e0b849252a576ae614a5adb2d839f74781e</td>\n",
       "      <td>index_leave</td>\n",
       "      <td>2.0</td>\n",
       "      <td>116.232.83.23</td>\n",
       "      <td>...</td>\n",
       "      <td>mac</td>\n",
       "      <td>macosx</td>\n",
       "      <td>10.11</td>\n",
       "      <td>9.179</td>\n",
       "      <td>0.0</td>\n",
       "      <td>0.0</td>\n",
       "      <td>1.489325e+12</td>\n",
       "      <td>1.0</td>\n",
       "      <td>2</td>\n",
       "      <td>9.179000</td>\n",
       "    </tr>\n",
       "    <tr>\n",
       "      <th>39815</th>\n",
       "      <td>0.0</td>\n",
       "      <td>0</td>\n",
       "      <td>chrome</td>\n",
       "      <td>45.00000</td>\n",
       "      <td>1.0</td>\n",
       "      <td>2017-03-10</td>\n",
       "      <td>0069e4d174d9b15bdb475a5484fecb7bdad1f9af</td>\n",
       "      <td>courses_leave</td>\n",
       "      <td>4.0</td>\n",
       "      <td>223.73.248.241</td>\n",
       "      <td>...</td>\n",
       "      <td>pc</td>\n",
       "      <td>windows</td>\n",
       "      <td>6.10</td>\n",
       "      <td>7.430</td>\n",
       "      <td>0.0</td>\n",
       "      <td>1.0</td>\n",
       "      <td>1.489198e+12</td>\n",
       "      <td>0.0</td>\n",
       "      <td>4</td>\n",
       "      <td>4.165000</td>\n",
       "    </tr>\n",
       "    <tr>\n",
       "      <th>35669</th>\n",
       "      <td>1.0</td>\n",
       "      <td>Hangzhou</td>\n",
       "      <td>chrome</td>\n",
       "      <td>45.00000</td>\n",
       "      <td>1.0</td>\n",
       "      <td>2017-03-10</td>\n",
       "      <td>006cd710d5641e0b1d1c390c6df54a28a5c0f754</td>\n",
       "      <td>formSubmit</td>\n",
       "      <td>11.0</td>\n",
       "      <td>111.207.114.194</td>\n",
       "      <td>...</td>\n",
       "      <td>pc</td>\n",
       "      <td>windows</td>\n",
       "      <td>6.10</td>\n",
       "      <td>NaN</td>\n",
       "      <td>1.0</td>\n",
       "      <td>1.0</td>\n",
       "      <td>1.489131e+12</td>\n",
       "      <td>0.0</td>\n",
       "      <td>6</td>\n",
       "      <td>998.328500</td>\n",
       "    </tr>\n",
       "    <tr>\n",
       "      <th>57878</th>\n",
       "      <td>1.0</td>\n",
       "      <td>Beijing</td>\n",
       "      <td>sogou</td>\n",
       "      <td>2.00000</td>\n",
       "      <td>0.0</td>\n",
       "      <td>2017-03-13</td>\n",
       "      <td>006e2e78686b5d3bd8cbe70d980b9f92e59696af</td>\n",
       "      <td>$pageview</td>\n",
       "      <td>11.0</td>\n",
       "      <td>117.114.151.203</td>\n",
       "      <td>...</td>\n",
       "      <td>pc</td>\n",
       "      <td>windows</td>\n",
       "      <td>6.10</td>\n",
       "      <td>NaN</td>\n",
       "      <td>0.0</td>\n",
       "      <td>0.0</td>\n",
       "      <td>1.489465e+12</td>\n",
       "      <td>0.0</td>\n",
       "      <td>11</td>\n",
       "      <td>22.986000</td>\n",
       "    </tr>\n",
       "    <tr>\n",
       "      <th>53365</th>\n",
       "      <td>1.0</td>\n",
       "      <td>Hangzhou</td>\n",
       "      <td>chrome</td>\n",
       "      <td>56.00000</td>\n",
       "      <td>1.0</td>\n",
       "      <td>2017-03-13</td>\n",
       "      <td>0070b7c071aea52e5c4892455fea839abcd4b82b</td>\n",
       "      <td>index_leave</td>\n",
       "      <td>2.0</td>\n",
       "      <td>114.255.44.132</td>\n",
       "      <td>...</td>\n",
       "      <td>mac</td>\n",
       "      <td>macosx</td>\n",
       "      <td>10.12</td>\n",
       "      <td>2762.240</td>\n",
       "      <td>0.0</td>\n",
       "      <td>1.0</td>\n",
       "      <td>1.489403e+12</td>\n",
       "      <td>0.0</td>\n",
       "      <td>2</td>\n",
       "      <td>2762.240000</td>\n",
       "    </tr>\n",
       "    <tr>\n",
       "      <th>53415</th>\n",
       "      <td>1.0</td>\n",
       "      <td>Guangzhou</td>\n",
       "      <td>sogou</td>\n",
       "      <td>2.00000</td>\n",
       "      <td>0.0</td>\n",
       "      <td>2017-03-13</td>\n",
       "      <td>0077f4cbdf3ab1d500df5f2e766bd4459b9e0246</td>\n",
       "      <td>demo_leave</td>\n",
       "      <td>17.0</td>\n",
       "      <td>1.202.80.36</td>\n",
       "      <td>...</td>\n",
       "      <td>pc</td>\n",
       "      <td>windows</td>\n",
       "      <td>6.10</td>\n",
       "      <td>1289.224</td>\n",
       "      <td>0.0</td>\n",
       "      <td>0.0</td>\n",
       "      <td>1.489404e+12</td>\n",
       "      <td>0.0</td>\n",
       "      <td>17</td>\n",
       "      <td>340.793800</td>\n",
       "    </tr>\n",
       "    <tr>\n",
       "      <th>62672</th>\n",
       "      <td>1.0</td>\n",
       "      <td>Guangzhou</td>\n",
       "      <td>edge</td>\n",
       "      <td>14.14393</td>\n",
       "      <td>1.0</td>\n",
       "      <td>2017-03-14</td>\n",
       "      <td>00800a333e93ce096482141fd2d1c870add920b1</td>\n",
       "      <td>$pageview</td>\n",
       "      <td>32.0</td>\n",
       "      <td>211.154.7.163</td>\n",
       "      <td>...</td>\n",
       "      <td>pc</td>\n",
       "      <td>windows</td>\n",
       "      <td>10.00</td>\n",
       "      <td>NaN</td>\n",
       "      <td>0.0</td>\n",
       "      <td>1.0</td>\n",
       "      <td>1.489484e+12</td>\n",
       "      <td>0.0</td>\n",
       "      <td>32</td>\n",
       "      <td>45.138286</td>\n",
       "    </tr>\n",
       "    <tr>\n",
       "      <th>5486</th>\n",
       "      <td>1.0</td>\n",
       "      <td>Nanjing</td>\n",
       "      <td>uc</td>\n",
       "      <td>6.10000</td>\n",
       "      <td>1.0</td>\n",
       "      <td>2017-03-06</td>\n",
       "      <td>008aafac858ed7d402977ee46b4f24e9b057a829</td>\n",
       "      <td>index_leave</td>\n",
       "      <td>2.0</td>\n",
       "      <td>183.37.247.131</td>\n",
       "      <td>...</td>\n",
       "      <td>pc</td>\n",
       "      <td>windows</td>\n",
       "      <td>6.10</td>\n",
       "      <td>7.393</td>\n",
       "      <td>0.0</td>\n",
       "      <td>1.0</td>\n",
       "      <td>1.488861e+12</td>\n",
       "      <td>0.0</td>\n",
       "      <td>2</td>\n",
       "      <td>7.393000</td>\n",
       "    </tr>\n",
       "    <tr>\n",
       "      <th>17304</th>\n",
       "      <td>1.0</td>\n",
       "      <td>Guangzhou</td>\n",
       "      <td>qq</td>\n",
       "      <td>9.50000</td>\n",
       "      <td>1.0</td>\n",
       "      <td>2017-03-08</td>\n",
       "      <td>0090b0c616f2113d70f0426ebf5bd7b1f13c49b8</td>\n",
       "      <td>$pageview</td>\n",
       "      <td>34.0</td>\n",
       "      <td>14.17.22.35</td>\n",
       "      <td>...</td>\n",
       "      <td>pc</td>\n",
       "      <td>windows</td>\n",
       "      <td>6.10</td>\n",
       "      <td>NaN</td>\n",
       "      <td>0.0</td>\n",
       "      <td>1.0</td>\n",
       "      <td>1.488962e+12</td>\n",
       "      <td>0.0</td>\n",
       "      <td>34</td>\n",
       "      <td>2779.769875</td>\n",
       "    </tr>\n",
       "    <tr>\n",
       "      <th>...</th>\n",
       "      <td>...</td>\n",
       "      <td>...</td>\n",
       "      <td>...</td>\n",
       "      <td>...</td>\n",
       "      <td>...</td>\n",
       "      <td>...</td>\n",
       "      <td>...</td>\n",
       "      <td>...</td>\n",
       "      <td>...</td>\n",
       "      <td>...</td>\n",
       "      <td>...</td>\n",
       "      <td>...</td>\n",
       "      <td>...</td>\n",
       "      <td>...</td>\n",
       "      <td>...</td>\n",
       "      <td>...</td>\n",
       "      <td>...</td>\n",
       "      <td>...</td>\n",
       "      <td>...</td>\n",
       "      <td>...</td>\n",
       "      <td>...</td>\n",
       "    </tr>\n",
       "    <tr>\n",
       "      <th>61992</th>\n",
       "      <td>0.0</td>\n",
       "      <td>0</td>\n",
       "      <td>safari</td>\n",
       "      <td>10.00000</td>\n",
       "      <td>0.0</td>\n",
       "      <td>2017-03-14</td>\n",
       "      <td>ff6b80ceb128a8223e3d1c0b570cac69567b4cdc</td>\n",
       "      <td>$pageview</td>\n",
       "      <td>8.0</td>\n",
       "      <td>121.71.194.228</td>\n",
       "      <td>...</td>\n",
       "      <td>mac</td>\n",
       "      <td>macosx</td>\n",
       "      <td>10.12</td>\n",
       "      <td>NaN</td>\n",
       "      <td>0.0</td>\n",
       "      <td>1.0</td>\n",
       "      <td>1.489482e+12</td>\n",
       "      <td>0.0</td>\n",
       "      <td>8</td>\n",
       "      <td>67.757000</td>\n",
       "    </tr>\n",
       "    <tr>\n",
       "      <th>5291</th>\n",
       "      <td>0.0</td>\n",
       "      <td>0</td>\n",
       "      <td>chrome</td>\n",
       "      <td>38.00000</td>\n",
       "      <td>1.0</td>\n",
       "      <td>2017-03-06</td>\n",
       "      <td>ff6c98bf9d14ea9d1c70dcc5ebcc64e35f81bbee</td>\n",
       "      <td>$pageview</td>\n",
       "      <td>1.0</td>\n",
       "      <td>223.246.229.82</td>\n",
       "      <td>...</td>\n",
       "      <td>vivo</td>\n",
       "      <td>Android</td>\n",
       "      <td>5.10</td>\n",
       "      <td>NaN</td>\n",
       "      <td>0.0</td>\n",
       "      <td>0.0</td>\n",
       "      <td>1.488859e+12</td>\n",
       "      <td>0.0</td>\n",
       "      <td>1</td>\n",
       "      <td>NaN</td>\n",
       "    </tr>\n",
       "    <tr>\n",
       "      <th>23972</th>\n",
       "      <td>1.0</td>\n",
       "      <td>Beijing</td>\n",
       "      <td>safari</td>\n",
       "      <td>6.00000</td>\n",
       "      <td>0.0</td>\n",
       "      <td>2017-03-09</td>\n",
       "      <td>ff702d304d121c9acde3bfe3b1189731796bfc9f</td>\n",
       "      <td>$pageview</td>\n",
       "      <td>1.0</td>\n",
       "      <td>140.205.201.19</td>\n",
       "      <td>...</td>\n",
       "      <td>iphone</td>\n",
       "      <td>iOS</td>\n",
       "      <td>6.10</td>\n",
       "      <td>NaN</td>\n",
       "      <td>0.0</td>\n",
       "      <td>0.0</td>\n",
       "      <td>1.489040e+12</td>\n",
       "      <td>0.0</td>\n",
       "      <td>1</td>\n",
       "      <td>NaN</td>\n",
       "    </tr>\n",
       "    <tr>\n",
       "      <th>1495</th>\n",
       "      <td>1.0</td>\n",
       "      <td>Beijing</td>\n",
       "      <td>chrome</td>\n",
       "      <td>56.00000</td>\n",
       "      <td>1.0</td>\n",
       "      <td>2017-03-06</td>\n",
       "      <td>ff7341ff272be6a5407a26a8fad3b36b9668c50e</td>\n",
       "      <td>$pageview</td>\n",
       "      <td>1.0</td>\n",
       "      <td>106.39.193.37</td>\n",
       "      <td>...</td>\n",
       "      <td>mac</td>\n",
       "      <td>macosx</td>\n",
       "      <td>10.11</td>\n",
       "      <td>NaN</td>\n",
       "      <td>0.0</td>\n",
       "      <td>1.0</td>\n",
       "      <td>1.488798e+12</td>\n",
       "      <td>0.0</td>\n",
       "      <td>1</td>\n",
       "      <td>NaN</td>\n",
       "    </tr>\n",
       "    <tr>\n",
       "      <th>60465</th>\n",
       "      <td>1.0</td>\n",
       "      <td>Beijing</td>\n",
       "      <td>chrome</td>\n",
       "      <td>56.00000</td>\n",
       "      <td>0.0</td>\n",
       "      <td>2017-03-14</td>\n",
       "      <td>ff74d57ea0bf798cdb5246b7c8b7fef3299a85a3</td>\n",
       "      <td>$pageview</td>\n",
       "      <td>24.0</td>\n",
       "      <td>116.243.222.97</td>\n",
       "      <td>...</td>\n",
       "      <td>pc</td>\n",
       "      <td>windows</td>\n",
       "      <td>6.30</td>\n",
       "      <td>NaN</td>\n",
       "      <td>0.0</td>\n",
       "      <td>0.0</td>\n",
       "      <td>1.489477e+12</td>\n",
       "      <td>0.0</td>\n",
       "      <td>24</td>\n",
       "      <td>568.432500</td>\n",
       "    </tr>\n",
       "    <tr>\n",
       "      <th>33087</th>\n",
       "      <td>1.0</td>\n",
       "      <td>Shanghai</td>\n",
       "      <td>chrome</td>\n",
       "      <td>56.00000</td>\n",
       "      <td>0.0</td>\n",
       "      <td>2017-03-09</td>\n",
       "      <td>ff7fed0ca976b40edd5f8e39cca6ec741bcefff0</td>\n",
       "      <td>$pageview</td>\n",
       "      <td>4.0</td>\n",
       "      <td>114.249.244.236</td>\n",
       "      <td>...</td>\n",
       "      <td>pc</td>\n",
       "      <td>windows</td>\n",
       "      <td>6.10</td>\n",
       "      <td>NaN</td>\n",
       "      <td>0.0</td>\n",
       "      <td>0.0</td>\n",
       "      <td>1.489118e+12</td>\n",
       "      <td>0.0</td>\n",
       "      <td>4</td>\n",
       "      <td>1352.953000</td>\n",
       "    </tr>\n",
       "    <tr>\n",
       "      <th>39377</th>\n",
       "      <td>0.0</td>\n",
       "      <td>0</td>\n",
       "      <td>chrome</td>\n",
       "      <td>35.00000</td>\n",
       "      <td>0.0</td>\n",
       "      <td>2017-03-10</td>\n",
       "      <td>ff8a85a80f5f39eed2fe4d3e4e3552a088c4bd80</td>\n",
       "      <td>$pageview</td>\n",
       "      <td>2.0</td>\n",
       "      <td>220.197.208.173</td>\n",
       "      <td>...</td>\n",
       "      <td>huawei</td>\n",
       "      <td>Android</td>\n",
       "      <td>6.00</td>\n",
       "      <td>NaN</td>\n",
       "      <td>0.0</td>\n",
       "      <td>1.0</td>\n",
       "      <td>1.489163e+12</td>\n",
       "      <td>0.0</td>\n",
       "      <td>2</td>\n",
       "      <td>NaN</td>\n",
       "    </tr>\n",
       "    <tr>\n",
       "      <th>31442</th>\n",
       "      <td>1.0</td>\n",
       "      <td>Beijing</td>\n",
       "      <td>chrome</td>\n",
       "      <td>56.00000</td>\n",
       "      <td>0.0</td>\n",
       "      <td>2017-03-09</td>\n",
       "      <td>ff8bbad838f06fa9bed03ebb784435e01d58737b</td>\n",
       "      <td>$pageview</td>\n",
       "      <td>7.0</td>\n",
       "      <td>180.167.65.226</td>\n",
       "      <td>...</td>\n",
       "      <td>pc</td>\n",
       "      <td>windows</td>\n",
       "      <td>10.00</td>\n",
       "      <td>NaN</td>\n",
       "      <td>0.0</td>\n",
       "      <td>0.0</td>\n",
       "      <td>1.489112e+12</td>\n",
       "      <td>0.0</td>\n",
       "      <td>7</td>\n",
       "      <td>924.224000</td>\n",
       "    </tr>\n",
       "    <tr>\n",
       "      <th>43201</th>\n",
       "      <td>1.0</td>\n",
       "      <td>Beijing</td>\n",
       "      <td>chrome</td>\n",
       "      <td>38.00000</td>\n",
       "      <td>0.0</td>\n",
       "      <td>2017-03-11</td>\n",
       "      <td>ff8cdd3709f59d10a7519b74ab43461a9f7ab0b0</td>\n",
       "      <td>$pageview</td>\n",
       "      <td>1.0</td>\n",
       "      <td>49.65.250.83</td>\n",
       "      <td>...</td>\n",
       "      <td>android</td>\n",
       "      <td>Android</td>\n",
       "      <td>5.10</td>\n",
       "      <td>NaN</td>\n",
       "      <td>0.0</td>\n",
       "      <td>0.0</td>\n",
       "      <td>1.489290e+12</td>\n",
       "      <td>1.0</td>\n",
       "      <td>1</td>\n",
       "      <td>NaN</td>\n",
       "    </tr>\n",
       "    <tr>\n",
       "      <th>62399</th>\n",
       "      <td>1.0</td>\n",
       "      <td>Chengdu</td>\n",
       "      <td>micromessenger</td>\n",
       "      <td>6.50000</td>\n",
       "      <td>0.0</td>\n",
       "      <td>2017-03-14</td>\n",
       "      <td>ffac13579f0d23f844f4d8297b3bfcd588a4143f</td>\n",
       "      <td>$pageview</td>\n",
       "      <td>1.0</td>\n",
       "      <td>61.130.183.182</td>\n",
       "      <td>...</td>\n",
       "      <td>pc</td>\n",
       "      <td>windows</td>\n",
       "      <td>6.10</td>\n",
       "      <td>NaN</td>\n",
       "      <td>0.0</td>\n",
       "      <td>0.0</td>\n",
       "      <td>1.489483e+12</td>\n",
       "      <td>0.0</td>\n",
       "      <td>1</td>\n",
       "      <td>NaN</td>\n",
       "    </tr>\n",
       "    <tr>\n",
       "      <th>10244</th>\n",
       "      <td>1.0</td>\n",
       "      <td>Beijing</td>\n",
       "      <td>chrome</td>\n",
       "      <td>45.00000</td>\n",
       "      <td>1.0</td>\n",
       "      <td>2017-03-07</td>\n",
       "      <td>ffacb7806cd72be606f9c6bea309d3c7ffabcfc0</td>\n",
       "      <td>index_leave</td>\n",
       "      <td>14.0</td>\n",
       "      <td>125.91.244.180</td>\n",
       "      <td>...</td>\n",
       "      <td>pc</td>\n",
       "      <td>windows</td>\n",
       "      <td>6.10</td>\n",
       "      <td>5.070</td>\n",
       "      <td>0.0</td>\n",
       "      <td>1.0</td>\n",
       "      <td>1.488881e+12</td>\n",
       "      <td>0.0</td>\n",
       "      <td>14</td>\n",
       "      <td>167.385750</td>\n",
       "    </tr>\n",
       "    <tr>\n",
       "      <th>9277</th>\n",
       "      <td>1.0</td>\n",
       "      <td>Guangzhou</td>\n",
       "      <td>firefox</td>\n",
       "      <td>51.00000</td>\n",
       "      <td>0.0</td>\n",
       "      <td>2017-03-07</td>\n",
       "      <td>ffadf3301b681b8c49d72dc71c6c178181f2cead</td>\n",
       "      <td>$pageview</td>\n",
       "      <td>1.0</td>\n",
       "      <td>110.96.4.30</td>\n",
       "      <td>...</td>\n",
       "      <td>pc</td>\n",
       "      <td>windows</td>\n",
       "      <td>6.10</td>\n",
       "      <td>NaN</td>\n",
       "      <td>0.0</td>\n",
       "      <td>0.0</td>\n",
       "      <td>1.488877e+12</td>\n",
       "      <td>0.0</td>\n",
       "      <td>1</td>\n",
       "      <td>NaN</td>\n",
       "    </tr>\n",
       "    <tr>\n",
       "      <th>10578</th>\n",
       "      <td>1.0</td>\n",
       "      <td>Beijing</td>\n",
       "      <td>firefox</td>\n",
       "      <td>51.00000</td>\n",
       "      <td>0.0</td>\n",
       "      <td>2017-03-07</td>\n",
       "      <td>ffaee352ac5df23289cabc6bd15b6468d31cfa79</td>\n",
       "      <td>$pageview</td>\n",
       "      <td>1.0</td>\n",
       "      <td>123.124.206.69</td>\n",
       "      <td>...</td>\n",
       "      <td>mac</td>\n",
       "      <td>macosx</td>\n",
       "      <td>10.11</td>\n",
       "      <td>NaN</td>\n",
       "      <td>0.0</td>\n",
       "      <td>0.0</td>\n",
       "      <td>1.488884e+12</td>\n",
       "      <td>0.0</td>\n",
       "      <td>1</td>\n",
       "      <td>NaN</td>\n",
       "    </tr>\n",
       "    <tr>\n",
       "      <th>36485</th>\n",
       "      <td>1.0</td>\n",
       "      <td>Beijing</td>\n",
       "      <td>safari</td>\n",
       "      <td>10.00000</td>\n",
       "      <td>0.0</td>\n",
       "      <td>2017-03-10</td>\n",
       "      <td>ffb55c7f9d1229f39c073fe60bb0c75571be89ca</td>\n",
       "      <td>$pageview</td>\n",
       "      <td>1.0</td>\n",
       "      <td>218.249.59.226</td>\n",
       "      <td>...</td>\n",
       "      <td>iphone</td>\n",
       "      <td>iOS</td>\n",
       "      <td>10.20</td>\n",
       "      <td>NaN</td>\n",
       "      <td>0.0</td>\n",
       "      <td>1.0</td>\n",
       "      <td>1.489135e+12</td>\n",
       "      <td>0.0</td>\n",
       "      <td>1</td>\n",
       "      <td>NaN</td>\n",
       "    </tr>\n",
       "    <tr>\n",
       "      <th>39178</th>\n",
       "      <td>1.0</td>\n",
       "      <td>Guangzhou</td>\n",
       "      <td>chrome</td>\n",
       "      <td>45.00000</td>\n",
       "      <td>1.0</td>\n",
       "      <td>2017-03-10</td>\n",
       "      <td>ffb99458ec4af589b207dc49d8abe8d8a3c365ab</td>\n",
       "      <td>index_leave</td>\n",
       "      <td>2.0</td>\n",
       "      <td>123.66.127.15</td>\n",
       "      <td>...</td>\n",
       "      <td>pc</td>\n",
       "      <td>windows</td>\n",
       "      <td>6.10</td>\n",
       "      <td>169.672</td>\n",
       "      <td>0.0</td>\n",
       "      <td>1.0</td>\n",
       "      <td>1.489158e+12</td>\n",
       "      <td>0.0</td>\n",
       "      <td>2</td>\n",
       "      <td>169.672000</td>\n",
       "    </tr>\n",
       "    <tr>\n",
       "      <th>47962</th>\n",
       "      <td>1.0</td>\n",
       "      <td>Guangzhou</td>\n",
       "      <td>chrome</td>\n",
       "      <td>56.00000</td>\n",
       "      <td>0.0</td>\n",
       "      <td>2017-03-12</td>\n",
       "      <td>ffba0da231dbced6e7b853c591bd87d0f9676086</td>\n",
       "      <td>$pageview</td>\n",
       "      <td>9.0</td>\n",
       "      <td>218.241.195.18</td>\n",
       "      <td>...</td>\n",
       "      <td>mac</td>\n",
       "      <td>macosx</td>\n",
       "      <td>10.12</td>\n",
       "      <td>NaN</td>\n",
       "      <td>0.0</td>\n",
       "      <td>0.0</td>\n",
       "      <td>1.489378e+12</td>\n",
       "      <td>1.0</td>\n",
       "      <td>9</td>\n",
       "      <td>124.567000</td>\n",
       "    </tr>\n",
       "    <tr>\n",
       "      <th>39225</th>\n",
       "      <td>1.0</td>\n",
       "      <td>Guangzhou</td>\n",
       "      <td>chrome</td>\n",
       "      <td>40.00000</td>\n",
       "      <td>0.0</td>\n",
       "      <td>2017-03-10</td>\n",
       "      <td>ffbabac7e036dfa0896887d5a33ef1a970bf8394</td>\n",
       "      <td>formSubmit</td>\n",
       "      <td>18.0</td>\n",
       "      <td>223.73.57.224</td>\n",
       "      <td>...</td>\n",
       "      <td>meizu</td>\n",
       "      <td>Android</td>\n",
       "      <td>5.10</td>\n",
       "      <td>NaN</td>\n",
       "      <td>1.0</td>\n",
       "      <td>0.0</td>\n",
       "      <td>1.489159e+12</td>\n",
       "      <td>0.0</td>\n",
       "      <td>7</td>\n",
       "      <td>15.194375</td>\n",
       "    </tr>\n",
       "    <tr>\n",
       "      <th>49758</th>\n",
       "      <td>1.0</td>\n",
       "      <td>Nanchang</td>\n",
       "      <td>chrome</td>\n",
       "      <td>56.00000</td>\n",
       "      <td>0.0</td>\n",
       "      <td>2017-03-13</td>\n",
       "      <td>ffc6c89bdf63555f2a4f4c3221934521ad631009</td>\n",
       "      <td>$pageview</td>\n",
       "      <td>1.0</td>\n",
       "      <td>218.14.86.138</td>\n",
       "      <td>...</td>\n",
       "      <td>pc</td>\n",
       "      <td>windows</td>\n",
       "      <td>6.10</td>\n",
       "      <td>NaN</td>\n",
       "      <td>0.0</td>\n",
       "      <td>0.0</td>\n",
       "      <td>1.489389e+12</td>\n",
       "      <td>0.0</td>\n",
       "      <td>1</td>\n",
       "      <td>NaN</td>\n",
       "    </tr>\n",
       "    <tr>\n",
       "      <th>12026</th>\n",
       "      <td>0.0</td>\n",
       "      <td>0</td>\n",
       "      <td>sogou</td>\n",
       "      <td>2.00000</td>\n",
       "      <td>1.0</td>\n",
       "      <td>2017-03-07</td>\n",
       "      <td>ffc8ee900f28e2f14fd066413f1f74082125e6e1</td>\n",
       "      <td>index_leave</td>\n",
       "      <td>2.0</td>\n",
       "      <td>124.127.167.249</td>\n",
       "      <td>...</td>\n",
       "      <td>pc</td>\n",
       "      <td>windows</td>\n",
       "      <td>10.00</td>\n",
       "      <td>9646.634</td>\n",
       "      <td>0.0</td>\n",
       "      <td>1.0</td>\n",
       "      <td>1.488900e+12</td>\n",
       "      <td>0.0</td>\n",
       "      <td>2</td>\n",
       "      <td>9646.634000</td>\n",
       "    </tr>\n",
       "    <tr>\n",
       "      <th>33596</th>\n",
       "      <td>1.0</td>\n",
       "      <td>Beijing</td>\n",
       "      <td>webview</td>\n",
       "      <td>-1.00000</td>\n",
       "      <td>0.0</td>\n",
       "      <td>2017-03-09</td>\n",
       "      <td>ffc97d4a5d6396e902a05f53ae07ad98e7d3cd11</td>\n",
       "      <td>$pageview</td>\n",
       "      <td>1.0</td>\n",
       "      <td>125.78.190.42</td>\n",
       "      <td>...</td>\n",
       "      <td>iphone</td>\n",
       "      <td>iOS</td>\n",
       "      <td>9.30</td>\n",
       "      <td>NaN</td>\n",
       "      <td>0.0</td>\n",
       "      <td>1.0</td>\n",
       "      <td>1.489123e+12</td>\n",
       "      <td>0.0</td>\n",
       "      <td>1</td>\n",
       "      <td>NaN</td>\n",
       "    </tr>\n",
       "    <tr>\n",
       "      <th>52415</th>\n",
       "      <td>1.0</td>\n",
       "      <td>Shenzhen</td>\n",
       "      <td>safari</td>\n",
       "      <td>10.00000</td>\n",
       "      <td>0.0</td>\n",
       "      <td>2017-03-13</td>\n",
       "      <td>ffd1975dd8c5685ded5467218b6266a80ecc7287</td>\n",
       "      <td>index_leave</td>\n",
       "      <td>2.0</td>\n",
       "      <td>183.13.7.198</td>\n",
       "      <td>...</td>\n",
       "      <td>mac</td>\n",
       "      <td>macosx</td>\n",
       "      <td>10.12</td>\n",
       "      <td>3.245</td>\n",
       "      <td>0.0</td>\n",
       "      <td>0.0</td>\n",
       "      <td>1.489398e+12</td>\n",
       "      <td>0.0</td>\n",
       "      <td>2</td>\n",
       "      <td>3.245000</td>\n",
       "    </tr>\n",
       "    <tr>\n",
       "      <th>26389</th>\n",
       "      <td>1.0</td>\n",
       "      <td>Beijing</td>\n",
       "      <td>chrome</td>\n",
       "      <td>46.00000</td>\n",
       "      <td>0.0</td>\n",
       "      <td>2017-03-09</td>\n",
       "      <td>ffd207edf81afd355fbba616480ccae95666a439</td>\n",
       "      <td>$pageview</td>\n",
       "      <td>1.0</td>\n",
       "      <td>116.247.112.151</td>\n",
       "      <td>...</td>\n",
       "      <td>pc</td>\n",
       "      <td>windows</td>\n",
       "      <td>6.10</td>\n",
       "      <td>NaN</td>\n",
       "      <td>0.0</td>\n",
       "      <td>0.0</td>\n",
       "      <td>1.489048e+12</td>\n",
       "      <td>0.0</td>\n",
       "      <td>1</td>\n",
       "      <td>NaN</td>\n",
       "    </tr>\n",
       "    <tr>\n",
       "      <th>6260</th>\n",
       "      <td>1.0</td>\n",
       "      <td>Beijing</td>\n",
       "      <td>chrome</td>\n",
       "      <td>12.00000</td>\n",
       "      <td>0.0</td>\n",
       "      <td>2017-03-07</td>\n",
       "      <td>ffdb2208bf05f87ffa460b8e61ff8c60d6b1582d</td>\n",
       "      <td>$pageview</td>\n",
       "      <td>1.0</td>\n",
       "      <td>111.206.36.147</td>\n",
       "      <td>...</td>\n",
       "      <td>pc</td>\n",
       "      <td>windows</td>\n",
       "      <td>5.20</td>\n",
       "      <td>NaN</td>\n",
       "      <td>0.0</td>\n",
       "      <td>1.0</td>\n",
       "      <td>1.488867e+12</td>\n",
       "      <td>0.0</td>\n",
       "      <td>1</td>\n",
       "      <td>NaN</td>\n",
       "    </tr>\n",
       "    <tr>\n",
       "      <th>51191</th>\n",
       "      <td>1.0</td>\n",
       "      <td>Hangzhou</td>\n",
       "      <td>chrome</td>\n",
       "      <td>56.00000</td>\n",
       "      <td>0.0</td>\n",
       "      <td>2017-03-13</td>\n",
       "      <td>ffe255d0409c58e765344ba6150296816dcbb9b6</td>\n",
       "      <td>$pageview</td>\n",
       "      <td>1.0</td>\n",
       "      <td>61.140.25.31</td>\n",
       "      <td>...</td>\n",
       "      <td>mac</td>\n",
       "      <td>macosx</td>\n",
       "      <td>10.11</td>\n",
       "      <td>NaN</td>\n",
       "      <td>0.0</td>\n",
       "      <td>0.0</td>\n",
       "      <td>1.489394e+12</td>\n",
       "      <td>0.0</td>\n",
       "      <td>1</td>\n",
       "      <td>NaN</td>\n",
       "    </tr>\n",
       "    <tr>\n",
       "      <th>60027</th>\n",
       "      <td>1.0</td>\n",
       "      <td>Hangzhou</td>\n",
       "      <td>chrome</td>\n",
       "      <td>47.00000</td>\n",
       "      <td>1.0</td>\n",
       "      <td>2017-03-14</td>\n",
       "      <td>ffe73e9c5cb3232d6a8664f9c8ac1fe5071054e9</td>\n",
       "      <td>formSubmit</td>\n",
       "      <td>8.0</td>\n",
       "      <td>125.94.209.89</td>\n",
       "      <td>...</td>\n",
       "      <td>pc</td>\n",
       "      <td>windows</td>\n",
       "      <td>5.10</td>\n",
       "      <td>NaN</td>\n",
       "      <td>1.0</td>\n",
       "      <td>1.0</td>\n",
       "      <td>1.489476e+12</td>\n",
       "      <td>0.0</td>\n",
       "      <td>3</td>\n",
       "      <td>592.853000</td>\n",
       "    </tr>\n",
       "    <tr>\n",
       "      <th>28472</th>\n",
       "      <td>1.0</td>\n",
       "      <td>Guangzhou</td>\n",
       "      <td>firefox</td>\n",
       "      <td>51.00000</td>\n",
       "      <td>0.0</td>\n",
       "      <td>2017-03-09</td>\n",
       "      <td>ffe7a2a48843239c636c0ec54503e223531a03d2</td>\n",
       "      <td>page_close</td>\n",
       "      <td>2.0</td>\n",
       "      <td>117.144.208.37</td>\n",
       "      <td>...</td>\n",
       "      <td>pc</td>\n",
       "      <td>windows</td>\n",
       "      <td>10.00</td>\n",
       "      <td>738.756</td>\n",
       "      <td>0.0</td>\n",
       "      <td>0.0</td>\n",
       "      <td>1.489055e+12</td>\n",
       "      <td>0.0</td>\n",
       "      <td>2</td>\n",
       "      <td>738.756000</td>\n",
       "    </tr>\n",
       "    <tr>\n",
       "      <th>43699</th>\n",
       "      <td>1.0</td>\n",
       "      <td>Shanghai</td>\n",
       "      <td>edge</td>\n",
       "      <td>14.14393</td>\n",
       "      <td>1.0</td>\n",
       "      <td>2017-03-12</td>\n",
       "      <td>ffe9025fc888f30546528e5e9f1cac24d1526476</td>\n",
       "      <td>index_leave</td>\n",
       "      <td>2.0</td>\n",
       "      <td>223.2.38.34</td>\n",
       "      <td>...</td>\n",
       "      <td>pc</td>\n",
       "      <td>windows</td>\n",
       "      <td>10.00</td>\n",
       "      <td>29.237</td>\n",
       "      <td>0.0</td>\n",
       "      <td>1.0</td>\n",
       "      <td>1.489304e+12</td>\n",
       "      <td>1.0</td>\n",
       "      <td>2</td>\n",
       "      <td>29.237000</td>\n",
       "    </tr>\n",
       "    <tr>\n",
       "      <th>65493</th>\n",
       "      <td>1.0</td>\n",
       "      <td>Beijing</td>\n",
       "      <td>chrome</td>\n",
       "      <td>51.00000</td>\n",
       "      <td>0.0</td>\n",
       "      <td>2017-03-14</td>\n",
       "      <td>ffefc810b023309eb54560e207fa96bf49cb07d5</td>\n",
       "      <td>demo_leave</td>\n",
       "      <td>2.0</td>\n",
       "      <td>111.200.23.62</td>\n",
       "      <td>...</td>\n",
       "      <td>pc</td>\n",
       "      <td>windows</td>\n",
       "      <td>6.10</td>\n",
       "      <td>44677.491</td>\n",
       "      <td>0.0</td>\n",
       "      <td>0.0</td>\n",
       "      <td>1.489509e+12</td>\n",
       "      <td>0.0</td>\n",
       "      <td>2</td>\n",
       "      <td>44677.491000</td>\n",
       "    </tr>\n",
       "    <tr>\n",
       "      <th>31087</th>\n",
       "      <td>1.0</td>\n",
       "      <td>Beijing</td>\n",
       "      <td>chrome</td>\n",
       "      <td>56.00000</td>\n",
       "      <td>0.0</td>\n",
       "      <td>2017-03-09</td>\n",
       "      <td>fff9ee23119dac9d0379b2f8149cca8d31744d5c</td>\n",
       "      <td>index_leave</td>\n",
       "      <td>11.0</td>\n",
       "      <td>182.50.124.75</td>\n",
       "      <td>...</td>\n",
       "      <td>mac</td>\n",
       "      <td>macosx</td>\n",
       "      <td>10.11</td>\n",
       "      <td>411.445</td>\n",
       "      <td>0.0</td>\n",
       "      <td>0.0</td>\n",
       "      <td>1.489109e+12</td>\n",
       "      <td>0.0</td>\n",
       "      <td>11</td>\n",
       "      <td>190.720333</td>\n",
       "    </tr>\n",
       "    <tr>\n",
       "      <th>18012</th>\n",
       "      <td>1.0</td>\n",
       "      <td>Beijing</td>\n",
       "      <td>chrome</td>\n",
       "      <td>43.00000</td>\n",
       "      <td>1.0</td>\n",
       "      <td>2017-03-08</td>\n",
       "      <td>fffa276c4cc840ddb5993a52112b22542bd29c8b</td>\n",
       "      <td>$pageview</td>\n",
       "      <td>4.0</td>\n",
       "      <td>210.82.120.65</td>\n",
       "      <td>...</td>\n",
       "      <td>pc</td>\n",
       "      <td>windows</td>\n",
       "      <td>6.10</td>\n",
       "      <td>NaN</td>\n",
       "      <td>0.0</td>\n",
       "      <td>1.0</td>\n",
       "      <td>1.488964e+12</td>\n",
       "      <td>0.0</td>\n",
       "      <td>4</td>\n",
       "      <td>4.151000</td>\n",
       "    </tr>\n",
       "  </tbody>\n",
       "</table>\n",
       "<p>11708 rows × 24 columns</p>\n",
       "</div>"
      ],
      "text/plain": [
       "        CN          CT         browser  browser_v  cpc         day  \\\n",
       "6051   1.0    Hangzhou              qq    7.30000  0.0  2017-03-06   \n",
       "46921  1.0   Guangzhou          chrome   56.00000  1.0  2017-03-12   \n",
       "7243   1.0    Shenzhen          chrome   56.00000  0.0  2017-03-07   \n",
       "47483  1.0    Hangzhou              qq    9.50000  0.0  2017-03-12   \n",
       "28974  1.0     Chengdu          safari    9.00000  0.0  2017-03-09   \n",
       "22480  1.0   Zhengzhou          chrome   56.00000  1.0  2017-03-08   \n",
       "3663   0.0  Nonthaburi          chrome   56.00000  1.0  2017-03-06   \n",
       "28509  1.0     Beijing              na   -1.00000  0.0  2017-03-09   \n",
       "21090  1.0         NaN  micromessenger    6.50000  0.0  2017-03-08   \n",
       "39158  1.0       Wuhan              qq    6.00000  0.0  2017-03-10   \n",
       "61341  1.0      Ürümqi          chrome   56.00000  1.0  2017-03-14   \n",
       "15104  1.0     Beijing           sogou    2.00000  0.0  2017-03-07   \n",
       "47926  1.0     Nanjing          chrome   45.00000  0.0  2017-03-12   \n",
       "5203   1.0     Beijing         firefox   51.00000  0.0  2017-03-06   \n",
       "48204  0.0           0          safari    9.00000  0.0  2017-03-12   \n",
       "25761  1.0    Shanghai          chrome   56.00000  1.0  2017-03-09   \n",
       "57935  1.0    Hangzhou              uc   11.40000  0.0  2017-03-13   \n",
       "26844  1.0       Hebei          safari   10.00000  0.0  2017-03-09   \n",
       "30092  1.0     Beijing         firefox   52.00000  1.0  2017-03-09   \n",
       "63496  0.0           0  micromessenger    6.50000  0.0  2017-03-14   \n",
       "2390   1.0    Shanghai          chrome   56.00000  1.0  2017-03-06   \n",
       "44870  1.0     Beijing          chrome   56.00000  0.0  2017-03-12   \n",
       "39815  0.0           0          chrome   45.00000  1.0  2017-03-10   \n",
       "35669  1.0    Hangzhou          chrome   45.00000  1.0  2017-03-10   \n",
       "57878  1.0     Beijing           sogou    2.00000  0.0  2017-03-13   \n",
       "53365  1.0    Hangzhou          chrome   56.00000  1.0  2017-03-13   \n",
       "53415  1.0   Guangzhou           sogou    2.00000  0.0  2017-03-13   \n",
       "62672  1.0   Guangzhou            edge   14.14393  1.0  2017-03-14   \n",
       "5486   1.0     Nanjing              uc    6.10000  1.0  2017-03-06   \n",
       "17304  1.0   Guangzhou              qq    9.50000  1.0  2017-03-08   \n",
       "...    ...         ...             ...        ...  ...         ...   \n",
       "61992  0.0           0          safari   10.00000  0.0  2017-03-14   \n",
       "5291   0.0           0          chrome   38.00000  1.0  2017-03-06   \n",
       "23972  1.0     Beijing          safari    6.00000  0.0  2017-03-09   \n",
       "1495   1.0     Beijing          chrome   56.00000  1.0  2017-03-06   \n",
       "60465  1.0     Beijing          chrome   56.00000  0.0  2017-03-14   \n",
       "33087  1.0    Shanghai          chrome   56.00000  0.0  2017-03-09   \n",
       "39377  0.0           0          chrome   35.00000  0.0  2017-03-10   \n",
       "31442  1.0     Beijing          chrome   56.00000  0.0  2017-03-09   \n",
       "43201  1.0     Beijing          chrome   38.00000  0.0  2017-03-11   \n",
       "62399  1.0     Chengdu  micromessenger    6.50000  0.0  2017-03-14   \n",
       "10244  1.0     Beijing          chrome   45.00000  1.0  2017-03-07   \n",
       "9277   1.0   Guangzhou         firefox   51.00000  0.0  2017-03-07   \n",
       "10578  1.0     Beijing         firefox   51.00000  0.0  2017-03-07   \n",
       "36485  1.0     Beijing          safari   10.00000  0.0  2017-03-10   \n",
       "39178  1.0   Guangzhou          chrome   45.00000  1.0  2017-03-10   \n",
       "47962  1.0   Guangzhou          chrome   56.00000  0.0  2017-03-12   \n",
       "39225  1.0   Guangzhou          chrome   40.00000  0.0  2017-03-10   \n",
       "49758  1.0    Nanchang          chrome   56.00000  0.0  2017-03-13   \n",
       "12026  0.0           0           sogou    2.00000  1.0  2017-03-07   \n",
       "33596  1.0     Beijing         webview   -1.00000  0.0  2017-03-09   \n",
       "52415  1.0    Shenzhen          safari   10.00000  0.0  2017-03-13   \n",
       "26389  1.0     Beijing          chrome   46.00000  0.0  2017-03-09   \n",
       "6260   1.0     Beijing          chrome   12.00000  0.0  2017-03-07   \n",
       "51191  1.0    Hangzhou          chrome   56.00000  0.0  2017-03-13   \n",
       "60027  1.0    Hangzhou          chrome   47.00000  1.0  2017-03-14   \n",
       "28472  1.0   Guangzhou         firefox   51.00000  0.0  2017-03-09   \n",
       "43699  1.0    Shanghai            edge   14.14393  1.0  2017-03-12   \n",
       "65493  1.0     Beijing          chrome   51.00000  0.0  2017-03-14   \n",
       "31087  1.0     Beijing          chrome   56.00000  0.0  2017-03-09   \n",
       "18012  1.0     Beijing          chrome   43.00000  1.0  2017-03-08   \n",
       "\n",
       "                                        dist_id          event  freq  \\\n",
       "6051   00007ef910b6c9911f1b89d01a09aa3fc862f4a9     formSubmit   6.0   \n",
       "46921  000a216b72eff19bd0d5e17b9e676dd6ad9a38ac    index_leave   1.0   \n",
       "7243   000c46a27ef69fa22b56d253a9c72773338a1686      $pageview  22.0   \n",
       "47483  000ed1dcd942969b458c5b308937c6389c08f999      $pageview   4.0   \n",
       "28974  00111feff544ef5280a4c7064a362a9ea59c9389      $pageview   1.0   \n",
       "22480  0011f5066b1c62717255852fdb15a0473a5c2b19      $pageview   6.0   \n",
       "3663   0012ea1b517e6959354abaa6954711054ec831b9    index_leave   2.0   \n",
       "28509  002232cd6da95fae1cc9a5fbaa7c2d0e11fbd57b    index_leave   3.0   \n",
       "21090  00229f012ef316de6efdcbc380ffdb2558e9ff81      $pageview   3.0   \n",
       "39158  0023b8aa9adf510ef81d0e90e175d809f2bf6059      $pageview   1.0   \n",
       "61341  002d8f97faecdd57156c648b3214e6ace810d974    index_leave   3.0   \n",
       "15104  002e2c1cd393b3d240ef46c45990c76f9b37a182      $pageview   1.0   \n",
       "47926  002f3920ac5c3810f7b7b867d2c43a9bf76c4b11      $pageview   1.0   \n",
       "5203   0043fd09595654cedcc8a5d427a365bb33bd94fb      $pageview   1.0   \n",
       "48204  00475764f3d8010dbe98062df30de20418e5ae0d       btnClick   2.0   \n",
       "25761  0048588e5680c0914b4507230ec17c2f4dea9e8b      $pageview   1.0   \n",
       "57935  004abe43ed5bfc667be524f71823a8671815d7df       btnClick   6.0   \n",
       "26844  004c0cbf3a8f91f43757005afa6bc93bc2052def    index_leave   4.0   \n",
       "30092  005291b9866cfb9f947e51db74f1b0ab80949120       btnClick  12.0   \n",
       "63496  0055206aaf867a23387364aac8a5013db1a1c84b      $pageview   1.0   \n",
       "2390   00605fe315345c034eaff2392444c2b810dd9259    index_leave   1.0   \n",
       "44870  00682e0b849252a576ae614a5adb2d839f74781e    index_leave   2.0   \n",
       "39815  0069e4d174d9b15bdb475a5484fecb7bdad1f9af  courses_leave   4.0   \n",
       "35669  006cd710d5641e0b1d1c390c6df54a28a5c0f754     formSubmit  11.0   \n",
       "57878  006e2e78686b5d3bd8cbe70d980b9f92e59696af      $pageview  11.0   \n",
       "53365  0070b7c071aea52e5c4892455fea839abcd4b82b    index_leave   2.0   \n",
       "53415  0077f4cbdf3ab1d500df5f2e766bd4459b9e0246     demo_leave  17.0   \n",
       "62672  00800a333e93ce096482141fd2d1c870add920b1      $pageview  32.0   \n",
       "5486   008aafac858ed7d402977ee46b4f24e9b057a829    index_leave   2.0   \n",
       "17304  0090b0c616f2113d70f0426ebf5bd7b1f13c49b8      $pageview  34.0   \n",
       "...                                         ...            ...   ...   \n",
       "61992  ff6b80ceb128a8223e3d1c0b570cac69567b4cdc      $pageview   8.0   \n",
       "5291   ff6c98bf9d14ea9d1c70dcc5ebcc64e35f81bbee      $pageview   1.0   \n",
       "23972  ff702d304d121c9acde3bfe3b1189731796bfc9f      $pageview   1.0   \n",
       "1495   ff7341ff272be6a5407a26a8fad3b36b9668c50e      $pageview   1.0   \n",
       "60465  ff74d57ea0bf798cdb5246b7c8b7fef3299a85a3      $pageview  24.0   \n",
       "33087  ff7fed0ca976b40edd5f8e39cca6ec741bcefff0      $pageview   4.0   \n",
       "39377  ff8a85a80f5f39eed2fe4d3e4e3552a088c4bd80      $pageview   2.0   \n",
       "31442  ff8bbad838f06fa9bed03ebb784435e01d58737b      $pageview   7.0   \n",
       "43201  ff8cdd3709f59d10a7519b74ab43461a9f7ab0b0      $pageview   1.0   \n",
       "62399  ffac13579f0d23f844f4d8297b3bfcd588a4143f      $pageview   1.0   \n",
       "10244  ffacb7806cd72be606f9c6bea309d3c7ffabcfc0    index_leave  14.0   \n",
       "9277   ffadf3301b681b8c49d72dc71c6c178181f2cead      $pageview   1.0   \n",
       "10578  ffaee352ac5df23289cabc6bd15b6468d31cfa79      $pageview   1.0   \n",
       "36485  ffb55c7f9d1229f39c073fe60bb0c75571be89ca      $pageview   1.0   \n",
       "39178  ffb99458ec4af589b207dc49d8abe8d8a3c365ab    index_leave   2.0   \n",
       "47962  ffba0da231dbced6e7b853c591bd87d0f9676086      $pageview   9.0   \n",
       "39225  ffbabac7e036dfa0896887d5a33ef1a970bf8394     formSubmit  18.0   \n",
       "49758  ffc6c89bdf63555f2a4f4c3221934521ad631009      $pageview   1.0   \n",
       "12026  ffc8ee900f28e2f14fd066413f1f74082125e6e1    index_leave   2.0   \n",
       "33596  ffc97d4a5d6396e902a05f53ae07ad98e7d3cd11      $pageview   1.0   \n",
       "52415  ffd1975dd8c5685ded5467218b6266a80ecc7287    index_leave   2.0   \n",
       "26389  ffd207edf81afd355fbba616480ccae95666a439      $pageview   1.0   \n",
       "6260   ffdb2208bf05f87ffa460b8e61ff8c60d6b1582d      $pageview   1.0   \n",
       "51191  ffe255d0409c58e765344ba6150296816dcbb9b6      $pageview   1.0   \n",
       "60027  ffe73e9c5cb3232d6a8664f9c8ac1fe5071054e9     formSubmit   8.0   \n",
       "28472  ffe7a2a48843239c636c0ec54503e223531a03d2     page_close   2.0   \n",
       "43699  ffe9025fc888f30546528e5e9f1cac24d1526476    index_leave   2.0   \n",
       "65493  ffefc810b023309eb54560e207fa96bf49cb07d5     demo_leave   2.0   \n",
       "31087  fff9ee23119dac9d0379b2f8149cca8d31744d5c    index_leave  11.0   \n",
       "18012  fffa276c4cc840ddb5993a52112b22542bd29c8b      $pageview   4.0   \n",
       "\n",
       "                    ip      ...          model       os os_version  \\\n",
       "6051       36.23.47.33      ...         iphone      iOS      10.20   \n",
       "46921  111.193.183.253      ...            mac   macosx      10.12   \n",
       "7243     27.38.250.222      ...             pc  windows      10.00   \n",
       "47483   116.226.32.214      ...             pc  windows      10.00   \n",
       "28974   117.136.38.216      ...         iphone      iOS       9.00   \n",
       "22480    119.57.163.82      ...            mac   macosx      10.12   \n",
       "3663    101.71.245.170      ...             pc  windows       6.10   \n",
       "28509    223.73.25.141      ...           oppo  Android       4.20   \n",
       "21090   223.104.38.131      ...         iphone      iOS      10.00   \n",
       "39158   153.37.200.192      ...        android  Android       6.00   \n",
       "61341     111.205.85.3      ...             pc  windows      10.00   \n",
       "15104     27.129.37.70      ...             pc  windows      10.00   \n",
       "47926   114.242.94.218      ...             pc  windows      10.00   \n",
       "5203    124.42.105.130      ...             pc  windows       6.10   \n",
       "48204    42.230.162.32      ...         iphone      iOS       9.20   \n",
       "25761   61.183.121.210      ...             pc  windows      10.00   \n",
       "57935   61.135.194.208      ...        android  Android       6.00   \n",
       "26844    60.247.54.124      ...            mac   macosx      10.12   \n",
       "30092    182.148.57.93      ...             pc  windows       6.10   \n",
       "63496     36.110.38.58      ...         iphone      iOS      10.20   \n",
       "2390      101.38.108.9      ...            mac   macosx      10.11   \n",
       "44870    116.232.83.23      ...            mac   macosx      10.11   \n",
       "39815   223.73.248.241      ...             pc  windows       6.10   \n",
       "35669  111.207.114.194      ...             pc  windows       6.10   \n",
       "57878  117.114.151.203      ...             pc  windows       6.10   \n",
       "53365   114.255.44.132      ...            mac   macosx      10.12   \n",
       "53415      1.202.80.36      ...             pc  windows       6.10   \n",
       "62672    211.154.7.163      ...             pc  windows      10.00   \n",
       "5486    183.37.247.131      ...             pc  windows       6.10   \n",
       "17304      14.17.22.35      ...             pc  windows       6.10   \n",
       "...                ...      ...            ...      ...        ...   \n",
       "61992   121.71.194.228      ...            mac   macosx      10.12   \n",
       "5291    223.246.229.82      ...           vivo  Android       5.10   \n",
       "23972   140.205.201.19      ...         iphone      iOS       6.10   \n",
       "1495     106.39.193.37      ...            mac   macosx      10.11   \n",
       "60465   116.243.222.97      ...             pc  windows       6.30   \n",
       "33087  114.249.244.236      ...             pc  windows       6.10   \n",
       "39377  220.197.208.173      ...         huawei  Android       6.00   \n",
       "31442   180.167.65.226      ...             pc  windows      10.00   \n",
       "43201     49.65.250.83      ...        android  Android       5.10   \n",
       "62399   61.130.183.182      ...             pc  windows       6.10   \n",
       "10244   125.91.244.180      ...             pc  windows       6.10   \n",
       "9277       110.96.4.30      ...             pc  windows       6.10   \n",
       "10578   123.124.206.69      ...            mac   macosx      10.11   \n",
       "36485   218.249.59.226      ...         iphone      iOS      10.20   \n",
       "39178    123.66.127.15      ...             pc  windows       6.10   \n",
       "47962   218.241.195.18      ...            mac   macosx      10.12   \n",
       "39225    223.73.57.224      ...          meizu  Android       5.10   \n",
       "49758    218.14.86.138      ...             pc  windows       6.10   \n",
       "12026  124.127.167.249      ...             pc  windows      10.00   \n",
       "33596    125.78.190.42      ...         iphone      iOS       9.30   \n",
       "52415     183.13.7.198      ...            mac   macosx      10.12   \n",
       "26389  116.247.112.151      ...             pc  windows       6.10   \n",
       "6260    111.206.36.147      ...             pc  windows       5.20   \n",
       "51191     61.140.25.31      ...            mac   macosx      10.11   \n",
       "60027    125.94.209.89      ...             pc  windows       5.10   \n",
       "28472   117.144.208.37      ...             pc  windows      10.00   \n",
       "43699      223.2.38.34      ...             pc  windows      10.00   \n",
       "65493    111.200.23.62      ...             pc  windows       6.10   \n",
       "31087    182.50.124.75      ...            mac   macosx      10.11   \n",
       "18012    210.82.120.65      ...             pc  windows       6.10   \n",
       "\n",
       "            pageS signup source          time  weekend  count         avg_st  \n",
       "6051          NaN    1.0    1.0  1.488866e+12      0.0      5            NaN  \n",
       "46921  921142.371    0.0    1.0  1.489374e+12      1.0      1  921142.371000  \n",
       "7243          NaN    0.0    0.0  1.488871e+12      0.0     22    1742.216571  \n",
       "47483         NaN    0.0    0.0  1.489376e+12      1.0      4      30.680000  \n",
       "28974         NaN    0.0    1.0  1.489059e+12      0.0      1            NaN  \n",
       "22480         NaN    0.0    1.0  1.489029e+12      0.0      6       4.170000  \n",
       "3663       35.747    0.0    1.0  1.488851e+12      0.0      2      35.747000  \n",
       "28509      18.916    0.0    1.0  1.489055e+12      0.0      3      18.916000  \n",
       "21090         NaN    0.0    0.0  1.489022e+12      0.0      3            NaN  \n",
       "39158         NaN    0.0    1.0  1.489157e+12      0.0      1            NaN  \n",
       "61341       4.490    0.0    1.0  1.489480e+12      0.0      3       4.490000  \n",
       "15104         NaN    0.0    0.0  1.488953e+12      0.0      1            NaN  \n",
       "47926         NaN    0.0    0.0  1.489378e+12      1.0      1            NaN  \n",
       "5203          NaN    0.0    0.0  1.488859e+12      0.0      1            NaN  \n",
       "48204         NaN    0.0    1.0  1.489381e+12      1.0      2            NaN  \n",
       "25761         NaN    0.0    1.0  1.489047e+12      0.0      1            NaN  \n",
       "57935         NaN    0.0    0.0  1.489466e+12      0.0      6            NaN  \n",
       "26844     107.380    0.0    0.0  1.489050e+12      0.0      4     107.380000  \n",
       "30092         NaN    0.0    1.0  1.489071e+12      0.0     12      51.065000  \n",
       "63496         NaN    0.0    0.0  1.489489e+12      0.0      1            NaN  \n",
       "2390    30889.821    0.0    1.0  1.488809e+12      0.0      1   30889.821000  \n",
       "44870       9.179    0.0    0.0  1.489325e+12      1.0      2       9.179000  \n",
       "39815       7.430    0.0    1.0  1.489198e+12      0.0      4       4.165000  \n",
       "35669         NaN    1.0    1.0  1.489131e+12      0.0      6     998.328500  \n",
       "57878         NaN    0.0    0.0  1.489465e+12      0.0     11      22.986000  \n",
       "53365    2762.240    0.0    1.0  1.489403e+12      0.0      2    2762.240000  \n",
       "53415    1289.224    0.0    0.0  1.489404e+12      0.0     17     340.793800  \n",
       "62672         NaN    0.0    1.0  1.489484e+12      0.0     32      45.138286  \n",
       "5486        7.393    0.0    1.0  1.488861e+12      0.0      2       7.393000  \n",
       "17304         NaN    0.0    1.0  1.488962e+12      0.0     34    2779.769875  \n",
       "...           ...    ...    ...           ...      ...    ...            ...  \n",
       "61992         NaN    0.0    1.0  1.489482e+12      0.0      8      67.757000  \n",
       "5291          NaN    0.0    0.0  1.488859e+12      0.0      1            NaN  \n",
       "23972         NaN    0.0    0.0  1.489040e+12      0.0      1            NaN  \n",
       "1495          NaN    0.0    1.0  1.488798e+12      0.0      1            NaN  \n",
       "60465         NaN    0.0    0.0  1.489477e+12      0.0     24     568.432500  \n",
       "33087         NaN    0.0    0.0  1.489118e+12      0.0      4    1352.953000  \n",
       "39377         NaN    0.0    1.0  1.489163e+12      0.0      2            NaN  \n",
       "31442         NaN    0.0    0.0  1.489112e+12      0.0      7     924.224000  \n",
       "43201         NaN    0.0    0.0  1.489290e+12      1.0      1            NaN  \n",
       "62399         NaN    0.0    0.0  1.489483e+12      0.0      1            NaN  \n",
       "10244       5.070    0.0    1.0  1.488881e+12      0.0     14     167.385750  \n",
       "9277          NaN    0.0    0.0  1.488877e+12      0.0      1            NaN  \n",
       "10578         NaN    0.0    0.0  1.488884e+12      0.0      1            NaN  \n",
       "36485         NaN    0.0    1.0  1.489135e+12      0.0      1            NaN  \n",
       "39178     169.672    0.0    1.0  1.489158e+12      0.0      2     169.672000  \n",
       "47962         NaN    0.0    0.0  1.489378e+12      1.0      9     124.567000  \n",
       "39225         NaN    1.0    0.0  1.489159e+12      0.0      7      15.194375  \n",
       "49758         NaN    0.0    0.0  1.489389e+12      0.0      1            NaN  \n",
       "12026    9646.634    0.0    1.0  1.488900e+12      0.0      2    9646.634000  \n",
       "33596         NaN    0.0    1.0  1.489123e+12      0.0      1            NaN  \n",
       "52415       3.245    0.0    0.0  1.489398e+12      0.0      2       3.245000  \n",
       "26389         NaN    0.0    0.0  1.489048e+12      0.0      1            NaN  \n",
       "6260          NaN    0.0    1.0  1.488867e+12      0.0      1            NaN  \n",
       "51191         NaN    0.0    0.0  1.489394e+12      0.0      1            NaN  \n",
       "60027         NaN    1.0    1.0  1.489476e+12      0.0      3     592.853000  \n",
       "28472     738.756    0.0    0.0  1.489055e+12      0.0      2     738.756000  \n",
       "43699      29.237    0.0    1.0  1.489304e+12      1.0      2      29.237000  \n",
       "65493   44677.491    0.0    0.0  1.489509e+12      0.0      2   44677.491000  \n",
       "31087     411.445    0.0    0.0  1.489109e+12      0.0     11     190.720333  \n",
       "18012         NaN    0.0    1.0  1.488964e+12      0.0      4       4.151000  \n",
       "\n",
       "[11708 rows x 24 columns]"
      ]
     },
     "execution_count": 14,
     "metadata": {},
     "output_type": "execute_result"
    }
   ],
   "source": [
    "df_new"
   ]
  },
  {
   "cell_type": "code",
   "execution_count": 15,
   "metadata": {},
   "outputs": [
    {
     "data": {
      "text/plain": [
       "(11708, 24)"
      ]
     },
     "execution_count": 15,
     "metadata": {},
     "output_type": "execute_result"
    }
   ],
   "source": [
    "df_new.shape"
   ]
  },
  {
   "cell_type": "code",
   "execution_count": 16,
   "metadata": {},
   "outputs": [
    {
     "data": {
      "text/plain": [
       "CN                 0\n",
       "CT               168\n",
       "browser            0\n",
       "browser_v          0\n",
       "cpc                0\n",
       "day                0\n",
       "dist_id            0\n",
       "event              0\n",
       "freq               0\n",
       "ip                 0\n",
       "is_fd              0\n",
       "is_ft              0\n",
       "latest_utm_m    4488\n",
       "latest_utm_s    4395\n",
       "model              0\n",
       "os                 0\n",
       "os_version         0\n",
       "pageS           6137\n",
       "signup             0\n",
       "source             0\n",
       "time               0\n",
       "weekend            0\n",
       "count              0\n",
       "avg_st          4296\n",
       "dtype: int64"
      ]
     },
     "execution_count": 16,
     "metadata": {},
     "output_type": "execute_result"
    }
   ],
   "source": [
    "df_new.isnull().sum()"
   ]
  },
  {
   "cell_type": "markdown",
   "metadata": {},
   "source": [
    "## Dataset Description\n",
    "\n",
    "- browser\n",
    "- browser version\n",
    "- cost per click: source medium \n",
    "- the day of this event\n",
    "- is first day\n",
    "- is first time\n",
    "- event\n",
    "- frequency (total)\n",
    "- utm_source\n",
    "- utm_medium\n",
    "- ip address\n",
    "- user source\n",
    "- model (pc or mac or cellphone)\n",
    "- operation system\n",
    "- os version\n",
    "- page stay time\n",
    "- time \n",
    "- is ip address in China\n",
    "- ip address location city\n",
    "- is the time in weekend\n",
    "- did the user sign up \n",
    "- count user interactions before form submit\n",
    "- average stay time on page"
   ]
  },
  {
   "cell_type": "markdown",
   "metadata": {},
   "source": [
    "Explore data"
   ]
  },
  {
   "cell_type": "code",
   "execution_count": 17,
   "metadata": {},
   "outputs": [
    {
     "data": {
      "text/plain": [
       "<matplotlib.axes._subplots.AxesSubplot at 0x11795bef0>"
      ]
     },
     "execution_count": 17,
     "metadata": {},
     "output_type": "execute_result"
    },
    {
     "data": {
      "image/png": "[encoded data removed]",
      "text/plain": [
       "<matplotlib.figure.Figure at 0x1181d99b0>"
      ]
     },
     "metadata": {},
     "output_type": "display_data"
    }
   ],
   "source": [
    "df_new['browser'].value_counts(dropna=False).plot.bar()"
   ]
  },
  {
   "cell_type": "code",
   "execution_count": 18,
   "metadata": {},
   "outputs": [
    {
     "data": {
      "text/plain": [
       "<matplotlib.axes._subplots.AxesSubplot at 0x116e15358>"
      ]
     },
     "execution_count": 18,
     "metadata": {},
     "output_type": "execute_result"
    },
    {
     "data": {
      "image/png": "[encoded data removed]",
      "text/plain": [
       "<matplotlib.figure.Figure at 0x116e22c50>"
      ]
     },
     "metadata": {},
     "output_type": "display_data"
    }
   ],
   "source": [
    "df_new.loc[df['browser'] == 'chrome']['browser_v'].value_counts(dropna=False).plot.bar()"
   ]
  },
  {
   "cell_type": "code",
   "execution_count": 22,
   "metadata": {},
   "outputs": [],
   "source": [
    "df_new['browser_chrome'] = np.where(df_new['browser'] == 'chrome', '1', '0')"
   ]
  },
  {
   "cell_type": "code",
   "execution_count": 23,
   "metadata": {},
   "outputs": [
    {
     "data": {
      "text/plain": [
       "1    6531\n",
       "0    5177\n",
       "Name: browser_chrome, dtype: int64"
      ]
     },
     "execution_count": 23,
     "metadata": {},
     "output_type": "execute_result"
    }
   ],
   "source": [
    "df_new['browser_chrome'].value_counts(dropna=False)"
   ]
  },
  {
   "cell_type": "code",
   "execution_count": 24,
   "metadata": {},
   "outputs": [
    {
     "data": {
      "text/plain": [
       "<matplotlib.axes._subplots.AxesSubplot at 0x117500438>"
      ]
     },
     "execution_count": 24,
     "metadata": {},
     "output_type": "execute_result"
    },
    {
     "data": {
      "image/png": "[encoded data removed]",
      "text/plain": [
       "<matplotlib.figure.Figure at 0x1179034a8>"
      ]
     },
     "metadata": {},
     "output_type": "display_data"
    }
   ],
   "source": [
    "df_new['model'].value_counts(dropna=False).plot.bar()"
   ]
  },
  {
   "cell_type": "code",
   "execution_count": 31,
   "metadata": {
    "collapsed": true
   },
   "outputs": [],
   "source": [
    "df_new['model_bin'] = df_new['model'] "
   ]
  },
  {
   "cell_type": "code",
   "execution_count": 39,
   "metadata": {},
   "outputs": [
    {
     "name": "stderr",
     "output_type": "stream",
     "text": [
      "/Users/Danielle/anaconda/lib/python3.6/site-packages/ipykernel_launcher.py:1: SettingWithCopyWarning: \n",
      "A value is trying to be set on a copy of a slice from a DataFrame\n",
      "\n",
      "See the caveats in the documentation: http://pandas.pydata.org/pandas-docs/stable/indexing.html#indexing-view-versus-copy\n",
      "  \"\"\"Entry point for launching an IPython kernel.\n"
     ]
    }
   ],
   "source": [
    "df_new.model_bin[~df_new.model.isin(['pc','mac'])] = 'others'\n",
    "\n",
    "#s[s.index.isin([2, 4, 6])]"
   ]
  },
  {
   "cell_type": "code",
   "execution_count": 42,
   "metadata": {},
   "outputs": [
    {
     "data": {
      "text/plain": [
       "pc        7178\n",
       "others    2439\n",
       "mac       2091\n",
       "Name: model_bin, dtype: int64"
      ]
     },
     "execution_count": 42,
     "metadata": {},
     "output_type": "execute_result"
    }
   ],
   "source": [
    "df_new['model_bin'].value_counts(dropna=False)"
   ]
  },
  {
   "cell_type": "code",
   "execution_count": 43,
   "metadata": {},
   "outputs": [
    {
     "data": {
      "text/plain": [
       "<matplotlib.axes._subplots.AxesSubplot at 0x119934d68>"
      ]
     },
     "execution_count": 43,
     "metadata": {},
     "output_type": "execute_result"
    },
    {
     "data": {
      "image/png": "[encoded data removed]",
      "text/plain": [
       "<matplotlib.figure.Figure at 0x11998c550>"
      ]
     },
     "metadata": {},
     "output_type": "display_data"
    }
   ],
   "source": [
    "df_new['os'].value_counts(dropna=False).plot.bar()"
   ]
  },
  {
   "cell_type": "code",
   "execution_count": 56,
   "metadata": {},
   "outputs": [
    {
     "data": {
      "text/plain": [
       "<matplotlib.axes._subplots.AxesSubplot at 0x11ed0aa58>"
      ]
     },
     "execution_count": 56,
     "metadata": {},
     "output_type": "execute_result"
    },
    {
     "data": {
      "image/png": "[encoded data removed]",
      "text/plain": [
       "<matplotlib.figure.Figure at 0x119e10fd0>"
      ]
     },
     "metadata": {},
     "output_type": "display_data"
    }
   ],
   "source": [
    "df_new.loc[df['os'] == 'windows']['os_version'].value_counts(dropna=False).plot.bar()"
   ]
  },
  {
   "cell_type": "code",
   "execution_count": 57,
   "metadata": {},
   "outputs": [
    {
     "data": {
      "text/plain": [
       "<matplotlib.axes._subplots.AxesSubplot at 0x1207bdc88>"
      ]
     },
     "execution_count": 57,
     "metadata": {},
     "output_type": "execute_result"
    },
    {
     "data": {
      "image/png": "[encoded data removed]",
      "text/plain": [
       "<matplotlib.figure.Figure at 0x119c5c2b0>"
      ]
     },
     "metadata": {},
     "output_type": "display_data"
    }
   ],
   "source": [
    "df_new.loc[df['os'] == 'macosx']['os_version'].value_counts(dropna=False).plot.bar()"
   ]
  },
  {
   "cell_type": "code",
   "execution_count": 64,
   "metadata": {
    "collapsed": true
   },
   "outputs": [],
   "source": [
    "df_new['os_bin'] = df_new['os'] "
   ]
  },
  {
   "cell_type": "code",
   "execution_count": 65,
   "metadata": {},
   "outputs": [
    {
     "name": "stderr",
     "output_type": "stream",
     "text": [
      "/Users/Danielle/anaconda/lib/python3.6/site-packages/ipykernel_launcher.py:1: SettingWithCopyWarning: \n",
      "A value is trying to be set on a copy of a slice from a DataFrame\n",
      "\n",
      "See the caveats in the documentation: http://pandas.pydata.org/pandas-docs/stable/indexing.html#indexing-view-versus-copy\n",
      "  \"\"\"Entry point for launching an IPython kernel.\n"
     ]
    }
   ],
   "source": [
    "df_new.os_bin[~df_new.os.isin(['windows','macosx'])] = 'others'"
   ]
  },
  {
   "cell_type": "code",
   "execution_count": 67,
   "metadata": {},
   "outputs": [
    {
     "data": {
      "text/plain": [
       "windows    7178\n",
       "others     2439\n",
       "macosx     2091\n",
       "Name: os_bin, dtype: int64"
      ]
     },
     "execution_count": 67,
     "metadata": {},
     "output_type": "execute_result"
    }
   ],
   "source": [
    "df_new['os_bin'].value_counts(dropna=False)"
   ]
  },
  {
   "cell_type": "code",
   "execution_count": 68,
   "metadata": {},
   "outputs": [
    {
     "data": {
      "text/plain": [
       "<matplotlib.axes._subplots.AxesSubplot at 0x1207af860>"
      ]
     },
     "execution_count": 68,
     "metadata": {},
     "output_type": "execute_result"
    },
    {
     "data": {
      "image/png": "[encoded data removed]",
      "text/plain": [
       "<matplotlib.figure.Figure at 0x1207b6208>"
      ]
     },
     "metadata": {},
     "output_type": "display_data"
    }
   ],
   "source": [
    "df_new['CN'].value_counts(dropna=False).plot.bar()"
   ]
  },
  {
   "cell_type": "code",
   "execution_count": 69,
   "metadata": {},
   "outputs": [
    {
     "data": {
      "text/plain": [
       "<matplotlib.axes._subplots.AxesSubplot at 0x11e2c9198>"
      ]
     },
     "execution_count": 69,
     "metadata": {},
     "output_type": "execute_result"
    },
    {
     "data": {
      "image/png": "[encoded data removed]",
      "text/plain": [
       "<matplotlib.figure.Figure at 0x11ec16390>"
      ]
     },
     "metadata": {},
     "output_type": "display_data"
    }
   ],
   "source": [
    "df_new['source'].value_counts(dropna=False).plot.bar()"
   ]
  },
  {
   "cell_type": "markdown",
   "metadata": {},
   "source": [
    "might need to change source, create another value for nan: these people might already know sensordata, and go to the website directly."
   ]
  },
  {
   "cell_type": "code",
   "execution_count": 70,
   "metadata": {},
   "outputs": [
    {
     "data": {
      "text/plain": [
       "<matplotlib.axes._subplots.AxesSubplot at 0x11eac6e10>"
      ]
     },
     "execution_count": 70,
     "metadata": {},
     "output_type": "execute_result"
    },
    {
     "data": {
      "image/png": "[encoded data removed]",
      "text/plain": [
       "<matplotlib.figure.Figure at 0x119ba60b8>"
      ]
     },
     "metadata": {},
     "output_type": "display_data"
    }
   ],
   "source": [
    "df_new['weekend'].value_counts(dropna=False).plot.bar()"
   ]
  },
  {
   "cell_type": "markdown",
   "metadata": {},
   "source": [
    "Most people know or check this website for work. The number of interactions on weekends is small."
   ]
  },
  {
   "cell_type": "code",
   "execution_count": 71,
   "metadata": {},
   "outputs": [
    {
     "data": {
      "text/plain": [
       "<matplotlib.axes._subplots.AxesSubplot at 0x119c52f98>"
      ]
     },
     "execution_count": 71,
     "metadata": {},
     "output_type": "execute_result"
    },
    {
     "data": {
      "image/png": "[encoded data removed]",
      "text/plain": [
       "<matplotlib.figure.Figure at 0x11e28e358>"
      ]
     },
     "metadata": {},
     "output_type": "display_data"
    }
   ],
   "source": [
    "df_new['is_fd'].value_counts(dropna=False).plot.bar()"
   ]
  },
  {
   "cell_type": "markdown",
   "metadata": {},
   "source": [
    "Some people come the other day"
   ]
  },
  {
   "cell_type": "code",
   "execution_count": 72,
   "metadata": {},
   "outputs": [
    {
     "data": {
      "text/plain": [
       "<matplotlib.axes._subplots.AxesSubplot at 0x1206d3a58>"
      ]
     },
     "execution_count": 72,
     "metadata": {},
     "output_type": "execute_result"
    },
    {
     "data": {
      "image/png": "[encoded data removed]",
      "text/plain": [
       "<matplotlib.figure.Figure at 0x11ec8d710>"
      ]
     },
     "metadata": {},
     "output_type": "display_data"
    }
   ],
   "source": [
    "df_new['is_ft'].value_counts(dropna=False).plot.bar()"
   ]
  },
  {
   "cell_type": "code",
   "execution_count": 73,
   "metadata": {},
   "outputs": [
    {
     "data": {
      "text/plain": [
       "<matplotlib.axes._subplots.AxesSubplot at 0x11e8e1f28>"
      ]
     },
     "execution_count": 73,
     "metadata": {},
     "output_type": "execute_result"
    },
    {
     "data": {
      "image/png": "[encoded data removed]",
      "text/plain": [
       "<matplotlib.figure.Figure at 0x120b61d68>"
      ]
     },
     "metadata": {},
     "output_type": "display_data"
    }
   ],
   "source": [
    "df_new[['is_ft', 'signup']].groupby(['is_ft']).mean().plot.bar()"
   ]
  },
  {
   "cell_type": "markdown",
   "metadata": {
    "collapsed": true
   },
   "source": [
    "## Clean data - dealing with missing values"
   ]
  },
  {
   "cell_type": "code",
   "execution_count": 74,
   "metadata": {},
   "outputs": [
    {
     "data": {
      "text/plain": [
       "CN                   0\n",
       "CT                 168\n",
       "browser              0\n",
       "browser_v            0\n",
       "cpc                  0\n",
       "day                  0\n",
       "dist_id              0\n",
       "event                0\n",
       "freq                 0\n",
       "ip                   0\n",
       "is_fd                0\n",
       "is_ft                0\n",
       "latest_utm_m      4488\n",
       "latest_utm_s      4395\n",
       "model                0\n",
       "os                   0\n",
       "os_version           0\n",
       "pageS             6137\n",
       "signup               0\n",
       "source               0\n",
       "time                 0\n",
       "weekend              0\n",
       "count                0\n",
       "avg_st            4296\n",
       "browser_chrome       0\n",
       "model_bin            0\n",
       "os_bin               0\n",
       "dtype: int64"
      ]
     },
     "execution_count": 74,
     "metadata": {},
     "output_type": "execute_result"
    }
   ],
   "source": [
    "# Count missing values by column\n",
    "df_new.isnull().sum()"
   ]
  },
  {
   "cell_type": "code",
   "execution_count": 76,
   "metadata": {},
   "outputs": [
    {
     "data": {
      "text/html": [
       "<div>\n",
       "<style>\n",
       "    .dataframe thead tr:only-child th {\n",
       "        text-align: right;\n",
       "    }\n",
       "\n",
       "    .dataframe thead th {\n",
       "        text-align: left;\n",
       "    }\n",
       "\n",
       "    .dataframe tbody tr th {\n",
       "        vertical-align: top;\n",
       "    }\n",
       "</style>\n",
       "<table border=\"1\" class=\"dataframe\">\n",
       "  <thead>\n",
       "    <tr style=\"text-align: right;\">\n",
       "      <th></th>\n",
       "      <th>latest_utm_s</th>\n",
       "      <th>source</th>\n",
       "    </tr>\n",
       "  </thead>\n",
       "  <tbody>\n",
       "    <tr>\n",
       "      <th>6051</th>\n",
       "      <td>baidu</td>\n",
       "      <td>1.0</td>\n",
       "    </tr>\n",
       "    <tr>\n",
       "      <th>46921</th>\n",
       "      <td>baidu</td>\n",
       "      <td>1.0</td>\n",
       "    </tr>\n",
       "    <tr>\n",
       "      <th>7243</th>\n",
       "      <td>NaN</td>\n",
       "      <td>0.0</td>\n",
       "    </tr>\n",
       "    <tr>\n",
       "      <th>47483</th>\n",
       "      <td>sanjieke.cn</td>\n",
       "      <td>0.0</td>\n",
       "    </tr>\n",
       "    <tr>\n",
       "      <th>28974</th>\n",
       "      <td>baidu</td>\n",
       "      <td>1.0</td>\n",
       "    </tr>\n",
       "  </tbody>\n",
       "</table>\n",
       "</div>"
      ],
      "text/plain": [
       "      latest_utm_s  source\n",
       "6051         baidu     1.0\n",
       "46921        baidu     1.0\n",
       "7243           NaN     0.0\n",
       "47483  sanjieke.cn     0.0\n",
       "28974        baidu     1.0"
      ]
     },
     "execution_count": 76,
     "metadata": {},
     "output_type": "execute_result"
    }
   ],
   "source": [
    "df_new[['latest_utm_s','source']].head()"
   ]
  },
  {
   "cell_type": "code",
   "execution_count": 77,
   "metadata": {
    "collapsed": true
   },
   "outputs": [],
   "source": [
    "# Fill missing value for latest_utm_s, make the nan source from sensordata itself\n",
    "df_new['latest_utm_s'] = df_new['latest_utm_s'].fillna('sensordata')"
   ]
  },
  {
   "cell_type": "code",
   "execution_count": 78,
   "metadata": {
    "collapsed": true
   },
   "outputs": [],
   "source": [
    "df_new['CT_bin'] = df_new['CT']"
   ]
  },
  {
   "cell_type": "code",
   "execution_count": 80,
   "metadata": {},
   "outputs": [
    {
     "name": "stderr",
     "output_type": "stream",
     "text": [
      "/Users/Danielle/anaconda/lib/python3.6/site-packages/ipykernel_launcher.py:1: SettingWithCopyWarning: \n",
      "A value is trying to be set on a copy of a slice from a DataFrame\n",
      "\n",
      "See the caveats in the documentation: http://pandas.pydata.org/pandas-docs/stable/indexing.html#indexing-view-versus-copy\n",
      "  \"\"\"Entry point for launching an IPython kernel.\n"
     ]
    }
   ],
   "source": [
    "df_new.CT_bin[~df_new.CT.isin(['Beijing','Shanghai','Guangzhou'])] = 'others'"
   ]
  },
  {
   "cell_type": "code",
   "execution_count": 81,
   "metadata": {},
   "outputs": [
    {
     "data": {
      "text/plain": [
       "others       5292\n",
       "Beijing      4041\n",
       "Shanghai     1219\n",
       "Guangzhou    1156\n",
       "Name: CT_bin, dtype: int64"
      ]
     },
     "execution_count": 81,
     "metadata": {},
     "output_type": "execute_result"
    }
   ],
   "source": [
    "df_new['CT_bin'].value_counts(dropna=False)"
   ]
  },
  {
   "cell_type": "code",
   "execution_count": 101,
   "metadata": {
    "collapsed": true
   },
   "outputs": [],
   "source": [
    "import geoip2.database\n",
    "# read library from local file\n",
    "reader = geoip2.database.Reader('./data/GeoLite2-City_20180206/GeoLite2-City.mmdb')"
   ]
  },
  {
   "cell_type": "code",
   "execution_count": 103,
   "metadata": {},
   "outputs": [],
   "source": [
    "# too many cities, use province to do analysis\n",
    "PRO=[]\n",
    "for index, row in df_new.iterrows():\n",
    "    try:\n",
    "        PRO.append(reader.city(df_new.loc[index,'ip']).subdivisions.most_specific.iso_code) \n",
    "    except:\n",
    "        PRO.append('0')"
   ]
  },
  {
   "cell_type": "code",
   "execution_count": 104,
   "metadata": {
    "collapsed": true
   },
   "outputs": [],
   "source": [
    "df_new['PRO'] = PRO"
   ]
  },
  {
   "cell_type": "code",
   "execution_count": 107,
   "metadata": {
    "collapsed": true
   },
   "outputs": [],
   "source": [
    "df_new['PRO_bin'] = df_new['PRO']"
   ]
  },
  {
   "cell_type": "code",
   "execution_count": 108,
   "metadata": {},
   "outputs": [
    {
     "name": "stderr",
     "output_type": "stream",
     "text": [
      "/Users/Danielle/anaconda/lib/python3.6/site-packages/ipykernel_launcher.py:1: SettingWithCopyWarning: \n",
      "A value is trying to be set on a copy of a slice from a DataFrame\n",
      "\n",
      "See the caveats in the documentation: http://pandas.pydata.org/pandas-docs/stable/indexing.html#indexing-view-versus-copy\n",
      "  \"\"\"Entry point for launching an IPython kernel.\n"
     ]
    }
   ],
   "source": [
    "df_new.PRO_bin[~df_new.PRO.isin(['BJ','GD','SH','ZJ'])] = 'others'"
   ]
  },
  {
   "cell_type": "code",
   "execution_count": 109,
   "metadata": {},
   "outputs": [
    {
     "data": {
      "text/plain": [
       "BJ        4014\n",
       "others    2832\n",
       "GD        2430\n",
       "SH        1388\n",
       "ZJ        1044\n",
       "Name: PRO_bin, dtype: int64"
      ]
     },
     "execution_count": 109,
     "metadata": {},
     "output_type": "execute_result"
    }
   ],
   "source": [
    "df_new['PRO_bin'].value_counts(dropna=False)"
   ]
  },
  {
   "cell_type": "code",
   "execution_count": 110,
   "metadata": {},
   "outputs": [
    {
     "data": {
      "text/html": [
       "<div>\n",
       "<style>\n",
       "    .dataframe thead tr:only-child th {\n",
       "        text-align: right;\n",
       "    }\n",
       "\n",
       "    .dataframe thead th {\n",
       "        text-align: left;\n",
       "    }\n",
       "\n",
       "    .dataframe tbody tr th {\n",
       "        vertical-align: top;\n",
       "    }\n",
       "</style>\n",
       "<table border=\"1\" class=\"dataframe\">\n",
       "  <thead>\n",
       "    <tr style=\"text-align: right;\">\n",
       "      <th></th>\n",
       "      <th>CN</th>\n",
       "      <th>browser_v</th>\n",
       "      <th>cpc</th>\n",
       "      <th>freq</th>\n",
       "      <th>is_fd</th>\n",
       "      <th>is_ft</th>\n",
       "      <th>os_version</th>\n",
       "      <th>pageS</th>\n",
       "      <th>signup</th>\n",
       "      <th>source</th>\n",
       "      <th>time</th>\n",
       "      <th>weekend</th>\n",
       "      <th>count</th>\n",
       "      <th>avg_st</th>\n",
       "    </tr>\n",
       "  </thead>\n",
       "  <tbody>\n",
       "    <tr>\n",
       "      <th>count</th>\n",
       "      <td>11708.000000</td>\n",
       "      <td>11708.000000</td>\n",
       "      <td>11708.000000</td>\n",
       "      <td>11708.000000</td>\n",
       "      <td>11708.000000</td>\n",
       "      <td>11708.000000</td>\n",
       "      <td>11708.000000</td>\n",
       "      <td>5.571000e+03</td>\n",
       "      <td>11708.000000</td>\n",
       "      <td>11708.000000</td>\n",
       "      <td>1.170800e+04</td>\n",
       "      <td>11708.000000</td>\n",
       "      <td>11708.000000</td>\n",
       "      <td>7.412000e+03</td>\n",
       "    </tr>\n",
       "    <tr>\n",
       "      <th>mean</th>\n",
       "      <td>0.864622</td>\n",
       "      <td>33.023361</td>\n",
       "      <td>0.470362</td>\n",
       "      <td>5.609242</td>\n",
       "      <td>0.764178</td>\n",
       "      <td>0.229587</td>\n",
       "      <td>7.753071</td>\n",
       "      <td>1.009756e+04</td>\n",
       "      <td>0.042450</td>\n",
       "      <td>0.550820</td>\n",
       "      <td>1.489164e+12</td>\n",
       "      <td>0.139136</td>\n",
       "      <td>4.987444</td>\n",
       "      <td>7.860027e+03</td>\n",
       "    </tr>\n",
       "    <tr>\n",
       "      <th>std</th>\n",
       "      <td>0.342141</td>\n",
       "      <td>21.660523</td>\n",
       "      <td>0.499142</td>\n",
       "      <td>10.500759</td>\n",
       "      <td>0.424529</td>\n",
       "      <td>0.420585</td>\n",
       "      <td>2.205608</td>\n",
       "      <td>6.525297e+04</td>\n",
       "      <td>0.201621</td>\n",
       "      <td>0.497432</td>\n",
       "      <td>2.263144e+08</td>\n",
       "      <td>0.346103</td>\n",
       "      <td>9.048549</td>\n",
       "      <td>6.512723e+04</td>\n",
       "    </tr>\n",
       "    <tr>\n",
       "      <th>min</th>\n",
       "      <td>0.000000</td>\n",
       "      <td>-1.000000</td>\n",
       "      <td>0.000000</td>\n",
       "      <td>1.000000</td>\n",
       "      <td>0.000000</td>\n",
       "      <td>0.000000</td>\n",
       "      <td>-1.000000</td>\n",
       "      <td>3.300000e-02</td>\n",
       "      <td>0.000000</td>\n",
       "      <td>0.000000</td>\n",
       "      <td>1.488791e+12</td>\n",
       "      <td>0.000000</td>\n",
       "      <td>1.000000</td>\n",
       "      <td>3.300000e-02</td>\n",
       "    </tr>\n",
       "    <tr>\n",
       "      <th>25%</th>\n",
       "      <td>1.000000</td>\n",
       "      <td>9.500000</td>\n",
       "      <td>0.000000</td>\n",
       "      <td>1.000000</td>\n",
       "      <td>1.000000</td>\n",
       "      <td>0.000000</td>\n",
       "      <td>6.100000</td>\n",
       "      <td>7.478000e+00</td>\n",
       "      <td>0.000000</td>\n",
       "      <td>0.000000</td>\n",
       "      <td>1.488965e+12</td>\n",
       "      <td>0.000000</td>\n",
       "      <td>1.000000</td>\n",
       "      <td>8.976813e+00</td>\n",
       "    </tr>\n",
       "    <tr>\n",
       "      <th>50%</th>\n",
       "      <td>1.000000</td>\n",
       "      <td>45.000000</td>\n",
       "      <td>0.000000</td>\n",
       "      <td>2.000000</td>\n",
       "      <td>1.000000</td>\n",
       "      <td>0.000000</td>\n",
       "      <td>6.200000</td>\n",
       "      <td>2.704500e+01</td>\n",
       "      <td>0.000000</td>\n",
       "      <td>1.000000</td>\n",
       "      <td>1.489130e+12</td>\n",
       "      <td>0.000000</td>\n",
       "      <td>2.000000</td>\n",
       "      <td>3.236250e+01</td>\n",
       "    </tr>\n",
       "    <tr>\n",
       "      <th>75%</th>\n",
       "      <td>1.000000</td>\n",
       "      <td>55.000000</td>\n",
       "      <td>1.000000</td>\n",
       "      <td>5.000000</td>\n",
       "      <td>1.000000</td>\n",
       "      <td>0.000000</td>\n",
       "      <td>10.000000</td>\n",
       "      <td>5.896960e+02</td>\n",
       "      <td>0.000000</td>\n",
       "      <td>1.000000</td>\n",
       "      <td>1.489391e+12</td>\n",
       "      <td>0.000000</td>\n",
       "      <td>5.000000</td>\n",
       "      <td>4.707285e+02</td>\n",
       "    </tr>\n",
       "    <tr>\n",
       "      <th>max</th>\n",
       "      <td>1.000000</td>\n",
       "      <td>59.000000</td>\n",
       "      <td>1.000000</td>\n",
       "      <td>254.000000</td>\n",
       "      <td>1.000000</td>\n",
       "      <td>1.000000</td>\n",
       "      <td>10.900000</td>\n",
       "      <td>1.749192e+06</td>\n",
       "      <td>1.000000</td>\n",
       "      <td>1.000000</td>\n",
       "      <td>1.489517e+12</td>\n",
       "      <td>1.000000</td>\n",
       "      <td>254.000000</td>\n",
       "      <td>2.918014e+06</td>\n",
       "    </tr>\n",
       "  </tbody>\n",
       "</table>\n",
       "</div>"
      ],
      "text/plain": [
       "                 CN     browser_v           cpc          freq         is_fd  \\\n",
       "count  11708.000000  11708.000000  11708.000000  11708.000000  11708.000000   \n",
       "mean       0.864622     33.023361      0.470362      5.609242      0.764178   \n",
       "std        0.342141     21.660523      0.499142     10.500759      0.424529   \n",
       "min        0.000000     -1.000000      0.000000      1.000000      0.000000   \n",
       "25%        1.000000      9.500000      0.000000      1.000000      1.000000   \n",
       "50%        1.000000     45.000000      0.000000      2.000000      1.000000   \n",
       "75%        1.000000     55.000000      1.000000      5.000000      1.000000   \n",
       "max        1.000000     59.000000      1.000000    254.000000      1.000000   \n",
       "\n",
       "              is_ft    os_version         pageS        signup        source  \\\n",
       "count  11708.000000  11708.000000  5.571000e+03  11708.000000  11708.000000   \n",
       "mean       0.229587      7.753071  1.009756e+04      0.042450      0.550820   \n",
       "std        0.420585      2.205608  6.525297e+04      0.201621      0.497432   \n",
       "min        0.000000     -1.000000  3.300000e-02      0.000000      0.000000   \n",
       "25%        0.000000      6.100000  7.478000e+00      0.000000      0.000000   \n",
       "50%        0.000000      6.200000  2.704500e+01      0.000000      1.000000   \n",
       "75%        0.000000     10.000000  5.896960e+02      0.000000      1.000000   \n",
       "max        1.000000     10.900000  1.749192e+06      1.000000      1.000000   \n",
       "\n",
       "               time       weekend         count        avg_st  \n",
       "count  1.170800e+04  11708.000000  11708.000000  7.412000e+03  \n",
       "mean   1.489164e+12      0.139136      4.987444  7.860027e+03  \n",
       "std    2.263144e+08      0.346103      9.048549  6.512723e+04  \n",
       "min    1.488791e+12      0.000000      1.000000  3.300000e-02  \n",
       "25%    1.488965e+12      0.000000      1.000000  8.976813e+00  \n",
       "50%    1.489130e+12      0.000000      2.000000  3.236250e+01  \n",
       "75%    1.489391e+12      0.000000      5.000000  4.707285e+02  \n",
       "max    1.489517e+12      1.000000    254.000000  2.918014e+06  "
      ]
     },
     "execution_count": 110,
     "metadata": {},
     "output_type": "execute_result"
    }
   ],
   "source": [
    "df_new.describe()"
   ]
  },
  {
   "cell_type": "markdown",
   "metadata": {},
   "source": [
    "### Explore sign up rate split by features "
   ]
  },
  {
   "cell_type": "code",
   "execution_count": 112,
   "metadata": {},
   "outputs": [
    {
     "data": {
      "text/plain": [
       "<matplotlib.axes._subplots.AxesSubplot at 0x11e706668>"
      ]
     },
     "execution_count": 112,
     "metadata": {},
     "output_type": "execute_result"
    },
    {
     "data": {
      "image/png": "[encoded data removed]",
      "text/plain": [
       "<matplotlib.figure.Figure at 0x11ecb2b00>"
      ]
     },
     "metadata": {},
     "output_type": "display_data"
    }
   ],
   "source": [
    "df_new[['browser_chrome', 'signup']].groupby(['browser_chrome']).mean().plot.bar()"
   ]
  },
  {
   "cell_type": "code",
   "execution_count": 114,
   "metadata": {},
   "outputs": [
    {
     "data": {
      "text/plain": [
       "<matplotlib.axes._subplots.AxesSubplot at 0x11eafecf8>"
      ]
     },
     "execution_count": 114,
     "metadata": {},
     "output_type": "execute_result"
    },
    {
     "data": {
      "image/png": "[encoded data removed]",
      "text/plain": [
       "<matplotlib.figure.Figure at 0x11eb224e0>"
      ]
     },
     "metadata": {},
     "output_type": "display_data"
    }
   ],
   "source": [
    "df_new[['model_bin', 'signup']].groupby(['model_bin']).mean().plot.bar()"
   ]
  },
  {
   "cell_type": "code",
   "execution_count": 115,
   "metadata": {},
   "outputs": [
    {
     "data": {
      "text/plain": [
       "<matplotlib.axes._subplots.AxesSubplot at 0x11e9142e8>"
      ]
     },
     "execution_count": 115,
     "metadata": {},
     "output_type": "execute_result"
    },
    {
     "data": {
      "image/png": "[encoded data removed]",
      "text/plain": [
       "<matplotlib.figure.Figure at 0x11e8e3048>"
      ]
     },
     "metadata": {},
     "output_type": "display_data"
    }
   ],
   "source": [
    "df_new[['os_bin', 'signup']].groupby(['os_bin']).mean().plot.bar()"
   ]
  },
  {
   "cell_type": "code",
   "execution_count": 116,
   "metadata": {},
   "outputs": [
    {
     "data": {
      "text/plain": [
       "<matplotlib.axes._subplots.AxesSubplot at 0x11eaaaa20>"
      ]
     },
     "execution_count": 116,
     "metadata": {},
     "output_type": "execute_result"
    },
    {
     "data": {
      "image/png": "[encoded data removed]",
      "text/plain": [
       "<matplotlib.figure.Figure at 0x11eb807f0>"
      ]
     },
     "metadata": {},
     "output_type": "display_data"
    }
   ],
   "source": [
    "df_new[['PRO_bin', 'signup']].groupby(['PRO_bin']).mean().plot.bar()"
   ]
  },
  {
   "cell_type": "code",
   "execution_count": 117,
   "metadata": {},
   "outputs": [
    {
     "data": {
      "text/plain": [
       "<matplotlib.axes._subplots.AxesSubplot at 0x11eb55128>"
      ]
     },
     "execution_count": 117,
     "metadata": {},
     "output_type": "execute_result"
    },
    {
     "data": {
      "image/png": "[encoded data removed]",
      "text/plain": [
       "<matplotlib.figure.Figure at 0x11ea0b668>"
      ]
     },
     "metadata": {},
     "output_type": "display_data"
    }
   ],
   "source": [
    "df_new[['CT_bin', 'signup']].groupby(['CT_bin']).mean().plot.bar()"
   ]
  },
  {
   "cell_type": "code",
   "execution_count": 118,
   "metadata": {},
   "outputs": [
    {
     "data": {
      "text/plain": [
       "<matplotlib.axes._subplots.AxesSubplot at 0x11e7efe80>"
      ]
     },
     "execution_count": 118,
     "metadata": {},
     "output_type": "execute_result"
    },
    {
     "data": {
      "image/png": "[encoded data removed]",
      "text/plain": [
       "<matplotlib.figure.Figure at 0x11e897630>"
      ]
     },
     "metadata": {},
     "output_type": "display_data"
    }
   ],
   "source": [
    "df_new[['latest_utm_s', 'signup']].groupby(['latest_utm_s']).mean().plot.bar()"
   ]
  },
  {
   "cell_type": "code",
   "execution_count": 119,
   "metadata": {},
   "outputs": [
    {
     "data": {
      "text/plain": [
       "baidu                 6449\n",
       "sensordata            4395\n",
       "sogou                  562\n",
       "google                 111\n",
       "wechat                  63\n",
       "sanjieke.cn             39\n",
       "next.36kr.com           16\n",
       "admin                   14\n",
       "sales4c                 12\n",
       "toutiao.io               4\n",
       "zhihu                    3\n",
       "yupan                    2\n",
       "email                    2\n",
       "mulumu.com               2\n",
       "shenyulong               2\n",
       "23h5                     2\n",
       "sunwenliang              2\n",
       "liuyaozhou               1\n",
       "lingchentian             1\n",
       "lul                      1\n",
       "prd_luzhaobo             1\n",
       "liujinbo1                1\n",
       "analytics_test           1\n",
       "wangcheng                1\n",
       "Jeremy                   1\n",
       "diaopeng                 1\n",
       "zhangyuejiao             1\n",
       "hao.caibaojian.com       1\n",
       "xueting                  1\n",
       "sidashidai               1\n",
       "liyizi                   1\n",
       "hzcaibin                 1\n",
       "lijiong                  1\n",
       "gongxinrong              1\n",
       "guohongyao               1\n",
       "xiangc                   1\n",
       "zhangji                  1\n",
       "jonson                   1\n",
       "fuyu                     1\n",
       "qiye.36kr.com            1\n",
       "huangkan                 1\n",
       "wangxuelin               1\n",
       "quqianshun               1\n",
       "liquantao                1\n",
       "dichang                  1\n",
       "Name: latest_utm_s, dtype: int64"
      ]
     },
     "execution_count": 119,
     "metadata": {},
     "output_type": "execute_result"
    }
   ],
   "source": [
    "df_new['latest_utm_s'].value_counts(dropna=False)"
   ]
  },
  {
   "cell_type": "code",
   "execution_count": 121,
   "metadata": {},
   "outputs": [
    {
     "name": "stderr",
     "output_type": "stream",
     "text": [
      "/Users/Danielle/anaconda/lib/python3.6/site-packages/ipykernel_launcher.py:1: SettingWithCopyWarning: \n",
      "A value is trying to be set on a copy of a slice from a DataFrame\n",
      "\n",
      "See the caveats in the documentation: http://pandas.pydata.org/pandas-docs/stable/indexing.html#indexing-view-versus-copy\n",
      "  \"\"\"Entry point for launching an IPython kernel.\n"
     ]
    }
   ],
   "source": [
    "df_new.source[~df_new.latest_utm_s.isin(['baidu','sensordata'])] = 'others'"
   ]
  },
  {
   "cell_type": "code",
   "execution_count": 122,
   "metadata": {},
   "outputs": [
    {
     "data": {
      "text/plain": [
       "1.0       6449\n",
       "0.0       4395\n",
       "others     864\n",
       "Name: source, dtype: int64"
      ]
     },
     "execution_count": 122,
     "metadata": {},
     "output_type": "execute_result"
    }
   ],
   "source": [
    "df_new['source'].value_counts(dropna=False)"
   ]
  },
  {
   "cell_type": "code",
   "execution_count": 124,
   "metadata": {},
   "outputs": [
    {
     "data": {
      "text/plain": [
       "<matplotlib.axes._subplots.AxesSubplot at 0x11e412b38>"
      ]
     },
     "execution_count": 124,
     "metadata": {},
     "output_type": "execute_result"
    },
    {
     "data": {
      "image/png": "[encoded data removed]",
      "text/plain": [
       "<matplotlib.figure.Figure at 0x125de8400>"
      ]
     },
     "metadata": {},
     "output_type": "display_data"
    }
   ],
   "source": [
    "df_new[['source', 'signup']].groupby(['source']).mean().plot.bar()"
   ]
  },
  {
   "cell_type": "code",
   "execution_count": 125,
   "metadata": {},
   "outputs": [
    {
     "data": {
      "text/plain": [
       "<matplotlib.axes._subplots.AxesSubplot at 0x125deb438>"
      ]
     },
     "execution_count": 125,
     "metadata": {},
     "output_type": "execute_result"
    },
    {
     "data": {
      "image/png": "[encoded data removed]",
      "text/plain": [
       "<matplotlib.figure.Figure at 0x12617a128>"
      ]
     },
     "metadata": {},
     "output_type": "display_data"
    }
   ],
   "source": [
    "df_new[['CN', 'signup']].groupby(['CN']).mean().plot.bar()"
   ]
  },
  {
   "cell_type": "code",
   "execution_count": 138,
   "metadata": {},
   "outputs": [
    {
     "data": {
      "text/plain": [
       "<matplotlib.axes._subplots.AxesSubplot at 0x1258b1f98>"
      ]
     },
     "execution_count": 138,
     "metadata": {},
     "output_type": "execute_result"
    },
    {
     "data": {
      "image/png": "[encoded data removed]",
      "text/plain": [
       "<matplotlib.figure.Figure at 0x126b14b70>"
      ]
     },
     "metadata": {},
     "output_type": "display_data"
    }
   ],
   "source": [
    "df_new[['cpc', 'signup']].groupby(['cpc']).mean().plot.bar()"
   ]
  },
  {
   "cell_type": "code",
   "execution_count": 126,
   "metadata": {},
   "outputs": [
    {
     "data": {
      "image/png": "[encoded data removed]",
      "text/plain": [
       "<matplotlib.figure.Figure at 0x126221be0>"
      ]
     },
     "metadata": {},
     "output_type": "display_data"
    }
   ],
   "source": [
    "# Use scatter_matrix from Pandas\n",
    "from pandas.plotting import scatter_matrix\n",
    "scatter_matrix(df_new[[u'signup', u'freq', u'count',u'avg_st']], \n",
    "               alpha=0.2, figsize=(8, 8), diagonal='kde')\n",
    "plt.show()"
   ]
  },
  {
   "cell_type": "markdown",
   "metadata": {
    "collapsed": true
   },
   "source": [
    "People not in China has higher sign up rate"
   ]
  },
  {
   "cell_type": "markdown",
   "metadata": {},
   "source": [
    "over 1200 users in China, try to create a column for different user interaction of the day"
   ]
  },
  {
   "cell_type": "code",
   "execution_count": 127,
   "metadata": {
    "collapsed": true
   },
   "outputs": [],
   "source": [
    "import datetime"
   ]
  },
  {
   "cell_type": "code",
   "execution_count": 128,
   "metadata": {
    "collapsed": true
   },
   "outputs": [],
   "source": [
    "def to_hour(epoch):\n",
    "    return datetime.datetime.fromtimestamp(epoch/1000).strftime('%H')\n",
    "# first convert from milliseconds to seconds, and then convert format from time stamp"
   ]
  },
  {
   "cell_type": "code",
   "execution_count": 129,
   "metadata": {
    "collapsed": true
   },
   "outputs": [],
   "source": [
    "#df.apply(lambda row: EOQ(row['D'], row['p'], ck, ch), axis=1)\n",
    "df_new['hour'] = df_new['time'].apply(lambda row: (int(to_hour(row))))"
   ]
  },
  {
   "cell_type": "code",
   "execution_count": 130,
   "metadata": {},
   "outputs": [
    {
     "data": {
      "text/plain": [
       "6051     23\n",
       "46921    21\n",
       "7243      1\n",
       "47483    22\n",
       "28974     5\n",
       "Name: hour, dtype: int64"
      ]
     },
     "execution_count": 130,
     "metadata": {},
     "output_type": "execute_result"
    }
   ],
   "source": [
    "df_new['hour'].head()"
   ]
  },
  {
   "cell_type": "code",
   "execution_count": 131,
   "metadata": {},
   "outputs": [
    {
     "data": {
      "text/plain": [
       "<matplotlib.axes._subplots.AxesSubplot at 0x119fa5668>"
      ]
     },
     "execution_count": 131,
     "metadata": {},
     "output_type": "execute_result"
    },
    {
     "data": {
      "image/png": "[encoded data removed]",
      "text/plain": [
       "<matplotlib.figure.Figure at 0x119fad748>"
      ]
     },
     "metadata": {},
     "output_type": "display_data"
    }
   ],
   "source": [
    "df_new['hour'].value_counts(dropna=False).plot.bar()"
   ]
  },
  {
   "cell_type": "markdown",
   "metadata": {},
   "source": [
    "Convert UTC time to Beijing Time, work time (8-17) is (0-9)"
   ]
  },
  {
   "cell_type": "code",
   "execution_count": 132,
   "metadata": {
    "collapsed": true
   },
   "outputs": [],
   "source": [
    "df_new['worktime'] = ((df_new.hour >= 0) & (df_new.hour <= 9)) * 1"
   ]
  },
  {
   "cell_type": "code",
   "execution_count": 133,
   "metadata": {},
   "outputs": [
    {
     "data": {
      "text/plain": [
       "<matplotlib.axes._subplots.AxesSubplot at 0x120a7d390>"
      ]
     },
     "execution_count": 133,
     "metadata": {},
     "output_type": "execute_result"
    },
    {
     "data": {
      "image/png": "[encoded data removed]",
      "text/plain": [
       "<matplotlib.figure.Figure at 0x120a91908>"
      ]
     },
     "metadata": {},
     "output_type": "display_data"
    }
   ],
   "source": [
    "df_new['worktime'].value_counts(dropna=False).plot.bar()"
   ]
  },
  {
   "cell_type": "code",
   "execution_count": 134,
   "metadata": {},
   "outputs": [
    {
     "data": {
      "text/plain": [
       "<matplotlib.axes._subplots.AxesSubplot at 0x11a3bf550>"
      ]
     },
     "execution_count": 134,
     "metadata": {},
     "output_type": "execute_result"
    },
    {
     "data": {
      "image/png": "[encoded data removed]",
      "text/plain": [
       "<matplotlib.figure.Figure at 0x121508e10>"
      ]
     },
     "metadata": {},
     "output_type": "display_data"
    }
   ],
   "source": [
    "df_new[['worktime', 'signup']].groupby(['worktime']).mean().plot.bar()"
   ]
  },
  {
   "cell_type": "code",
   "execution_count": 135,
   "metadata": {},
   "outputs": [
    {
     "data": {
      "text/plain": [
       "<matplotlib.axes._subplots.AxesSubplot at 0x1214f8f98>"
      ]
     },
     "execution_count": 135,
     "metadata": {},
     "output_type": "execute_result"
    },
    {
     "data": {
      "image/png": "[encoded data removed]",
      "text/plain": [
       "<matplotlib.figure.Figure at 0x121558860>"
      ]
     },
     "metadata": {},
     "output_type": "display_data"
    }
   ],
   "source": [
    "df_new[['weekend', 'signup']].groupby(['weekend']).mean().plot.bar()"
   ]
  },
  {
   "cell_type": "markdown",
   "metadata": {},
   "source": [
    "People has same signup rate over the weekends"
   ]
  },
  {
   "cell_type": "code",
   "execution_count": 136,
   "metadata": {},
   "outputs": [
    {
     "data": {
      "text/plain": [
       "Index(['CN', 'CT', 'browser', 'browser_v', 'cpc', 'day', 'dist_id', 'event',\n",
       "       'freq', 'ip', 'is_fd', 'is_ft', 'latest_utm_m', 'latest_utm_s', 'model',\n",
       "       'os', 'os_version', 'pageS', 'signup', 'source', 'time', 'weekend',\n",
       "       'count', 'avg_st', 'browser_chrome', 'model_bin', 'os_bin', 'CT_bin',\n",
       "       'PRO', 'PRO_bin', 'hour', 'worktime'],\n",
       "      dtype='object')"
      ]
     },
     "execution_count": 136,
     "metadata": {},
     "output_type": "execute_result"
    }
   ],
   "source": [
    "df_new.columns"
   ]
  },
  {
   "cell_type": "code",
   "execution_count": 137,
   "metadata": {
    "collapsed": true
   },
   "outputs": [],
   "source": [
    "selected_data_csv = 'data/selected_data.csv'\n",
    "df_new.to_csv(selected_data_csv, index=False)"
   ]
  }
 ],
 "metadata": {
  "kernelspec": {
   "display_name": "Python 3",
   "language": "python",
   "name": "python3"
  },
  "language_info": {
   "codemirror_mode": {
    "name": "ipython",
    "version": 3
   },
   "file_extension": ".py",
   "mimetype": "text/x-python",
   "name": "python",
   "nbconvert_exporter": "python",
   "pygments_lexer": "ipython3",
   "version": "3.6.1"
  }
 },
 "nbformat": 4,
 "nbformat_minor": 2
}
