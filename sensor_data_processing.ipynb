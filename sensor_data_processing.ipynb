{
 "cells": [
  {
   "cell_type": "markdown",
   "metadata": {},
   "source": [
    "##  Project objects\n",
    "- Clean dirty log data and transform it for analytics.\n",
    "- Exploratory data analysis, e.g. find user activity levels for different events, and user interaction with web components.\n",
    "- Find the conversion rate of users, identify key factors that bottleneck the conversion rate.\n",
    "- Propose any hypothesis and set up experiments for testing.\n",
    "- Build machine learning models to predict user behaviors, including but not limited to signup, churn, etc.\n",
    "- Discover interesting insights in the dataset and suggest how to improve the user signup rate."
   ]
  },
  {
   "cell_type": "code",
   "execution_count": 1,
   "metadata": {
    "collapsed": true
   },
   "outputs": [],
   "source": [
    "import pandas as pd\n",
    "import json\n",
    "import os\n",
    "import datetime"
   ]
  },
  {
   "cell_type": "code",
   "execution_count": 2,
   "metadata": {
    "collapsed": true
   },
   "outputs": [],
   "source": [
    "def to_date(epoch):\n",
    "    return datetime.datetime.fromtimestamp(epoch/1000).strftime(\"%Y-%m-%d\")\n",
    "# first convert from milliseconds to seconds, and then convert format from time stamp"
   ]
  },
  {
   "cell_type": "code",
   "execution_count": 3,
   "metadata": {
    "collapsed": true
   },
   "outputs": [],
   "source": [
    "# this finds our txt files\n",
    "filename = \"data/sensorswww_data.txt\"\n",
    "data = []\n",
    "for line in open(filename, 'r'):\n",
    "    data.append(json.loads(line))"
   ]
  },
  {
   "cell_type": "code",
   "execution_count": 4,
   "metadata": {
    "scrolled": true
   },
   "outputs": [
    {
     "data": {
      "text/plain": [
       "75092"
      ]
     },
     "execution_count": 4,
     "metadata": {},
     "output_type": "execute_result"
    }
   ],
   "source": [
    "# total number of rows\n",
    "len(data)"
   ]
  },
  {
   "cell_type": "markdown",
   "metadata": {},
   "source": [
    "hash: change from browser and cookie id to protect user privacy, randomnized id, can be used to conduct unbiased experiments/tran test split"
   ]
  },
  {
   "cell_type": "code",
   "execution_count": 5,
   "metadata": {
    "collapsed": true
   },
   "outputs": [],
   "source": [
    "# here I define my pandas Dataframe with the columns I want to get from the text\n",
    "nocache = []\n",
    "dist_id = []\n",
    "event = []\n",
    "\n",
    "browser = []\n",
    "browser_v = []\n",
    "ip = []\n",
    "is_fd = []\n",
    "is_ft = []\n",
    "latest_r = []\n",
    "latest_rh = []\n",
    "latest_ch = []\n",
    "latest_utm_campaign = []\n",
    "latest_utm_content = []\n",
    "latest_utm_m = []\n",
    "latest_utm_s = []\n",
    "latest_utm_t = []\n",
    "model = []\n",
    "os = []\n",
    "os_version = []\n",
    "screen_h = []\n",
    "screen_w = []\n",
    "session_r = []\n",
    "session_rh = []\n",
    "time = []\n",
    "day = []\n",
    "\n",
    "pageP = []\n",
    "pageS = []\n",
    "pageUrl = []\n",
    "session_p = []\n",
    "name = []\n",
    "requestBtn = []\n",
    "isSuccess = []\n",
    "isMsg = []\n",
    "page = []\n",
    "site_url = []\n",
    "from_url = []\n",
    "referrerUrl = []\n",
    "referrHostUrl = []\n",
    "siteUrl = []\n",
    "url_path = []\n",
    "url = []\n",
    "title = []\n",
    "result = []\n",
    "referrer = []\n",
    "refer_Host = []\n",
    "title = []\n",
    "ch = []\n",
    "tp = []"
   ]
  },
  {
   "cell_type": "code",
   "execution_count": 6,
   "metadata": {
    "collapsed": true
   },
   "outputs": [],
   "source": [
    "#define NA and use get to assign NA when the key value not found \n",
    "na = None\n",
    "\n",
    "for i in range(len(data)):\n",
    "    tp.append(data[i].get('type',na))\n",
    "    nocache.append(data[i].get('_nocache',na)) \n",
    "    dist_id.append(data[i]['distinct_id'])\n",
    "    event.append(data[i].get('event',na))\n",
    "    pageP.append(data[i]['properties'].get('pagePosition',na))\n",
    "    pageS.append(data[i]['properties'].get('pageStayTime',na))\n",
    "    pageUrl.append(data[i]['properties'].get('pageUrl',na))\n",
    "    session_p.append(data[i]['properties'].get('session_page_url',na))\n",
    "    latest_r.append(data[i]['properties'].get('$latest_referrer',na)) \n",
    "    latest_rh.append(data[i]['properties'].get('$latest_referrer_host',na))\n",
    "    latest_ch.append(data[i]['properties'].get('_latest_ch',na))\n",
    "    latest_utm_campaign.append(data[i]['properties'].get('$latest_utm_campaign',na))\n",
    "    latest_utm_content.append(data[i]['properties'].get('$latest_utm_content',na))\n",
    "    latest_utm_m.append(data[i]['properties'].get('$latest_utm_medium',na))\n",
    "    latest_utm_s.append(data[i]['properties'].get('$latest_utm_source',na))\n",
    "    latest_utm_t.append(data[i]['properties'].get('$latest_utm_term',na))\n",
    "    name.append(data[i]['properties'].get('name',na))\n",
    "    requestBtn.append(data[i]['properties'].get('requestBtn',na))\n",
    "    isSuccess.append(data[i]['properties'].get('isSuccess',na))\n",
    "    isMsg.append(data[i]['properties'].get('isMsg',na))\n",
    "    page.append(data[i]['properties'].get('page',na))\n",
    "    site_url.append(data[i]['properties'].get('site_url',na))\n",
    "    from_url.append(data[i]['properties'].get('from_url',na))\n",
    "    referrerUrl.append(data[i]['properties'].get('referrerUrl',na))\n",
    "    referrHostUrl.append(data[i]['properties'].get('referrHostUrl',na))\n",
    "    siteUrl.append(data[i]['properties'].get('siteUrl',na))\n",
    "    url_path.append(data[i]['properties'].get('$url_path',na))\n",
    "    url.append(data[i]['properties'].get('$url',na))\n",
    "    result.append(data[i]['properties'].get('result',na))\n",
    "    referrer.append(data[i]['properties'].get('$referrer',na))\n",
    "    refer_Host.append(data[i]['properties'].get('$referrer_host',na))\n",
    "    title.append(data[i]['properties'].get('$title',na))\n",
    "    ch.append(data[i]['properties'].get('$referrer_host',na))        \n",
    "    browser.append(data[i]['properties'].get('$browser',na)) \n",
    "    browser_v.append(data[i]['properties'].get('$browser_version',na)) \n",
    "    ip.append(data[i]['properties'].get('$ip',na)) \n",
    "    is_fd.append(data[i]['properties'].get('$is_first_day',na)) \n",
    "    is_ft.append(data[i]['properties'].get('$is_first_time',na))      \n",
    "    model.append(data[i]['properties'].get('$model',na))\n",
    "    os.append(data[i]['properties'].get('$os',na))\n",
    "    os_version.append(data[i]['properties'].get('$os_version',na))\n",
    "    screen_h.append(data[i]['properties'].get('$screen_height',na))\n",
    "    screen_w.append(data[i]['properties'].get('$screen_width',na))\n",
    "    session_r.append(data[i]['properties'].get('_session_referrer',na))\n",
    "    session_rh.append(data[i]['properties'].get('_session_referrer_host',na))\n",
    "    time.append(data[i]['time'])\n",
    "    day.append(to_date(data[i]['time']))"
   ]
  },
  {
   "cell_type": "code",
   "execution_count": 7,
   "metadata": {
    "collapsed": true
   },
   "outputs": [],
   "source": [
    "#generate pandas dataframe\n",
    "df = pd.DataFrame({'nocache':nocache, \n",
    "    'dist_id': dist_id,\n",
    "    'event':event,\n",
    "    'browser':browser,\n",
    "    'browser_v':browser_v,\n",
    "    'ip':ip,\n",
    "    'is_fd':is_fd,\n",
    "    'is_ft':is_ft,\n",
    "    'latest_r':latest_r,\n",
    "    'latest_rh':latest_rh,\n",
    "    'latest_ch':latest_ch,\n",
    "    'latest_utm_campaign':latest_utm_campaign,\n",
    "    'latest_utm_content':latest_utm_content,\n",
    "    'latest_utm_m':latest_utm_m,\n",
    "    'latest_utm_s':latest_utm_s,\n",
    "    'latest_utm_t':latest_utm_t,\n",
    "    'model':model,\n",
    "    'os':os,\n",
    "    'os_version':os_version,\n",
    "    'screen_h':screen_h,\n",
    "    'screen_w':screen_w,\n",
    "    'screen_r':session_r,\n",
    "    'screen_rh':session_rh,\n",
    "    'time':time,\n",
    "    'pageP':pageP,\n",
    "    'pageS':pageS,\n",
    "    'pageUrl':pageUrl,\n",
    "    'session_p':session_p,\n",
    "    'name':name,\n",
    "    'requestBtn':requestBtn,\n",
    "    'isSuccess':isSuccess,\n",
    "    'isMsg':isMsg,\n",
    "    'page':page,\n",
    "    'site_url':site_url,\n",
    "    'from_url':from_url,\n",
    "    'referrerUrl':referrerUrl,\n",
    "    'referrHostUrl':referrHostUrl,\n",
    "    'siteUrl':siteUrl,\n",
    "    'url_path':url_path,\n",
    "    'url':url,\n",
    "    'title':title,\n",
    "    'result':result,\n",
    "    'referrer':referrer,\n",
    "    'refer_Host':refer_Host,\n",
    "    'ch':ch,\n",
    "    'tp':tp,\n",
    "    'day':day})"
   ]
  },
  {
   "cell_type": "code",
   "execution_count": 8,
   "metadata": {},
   "outputs": [
    {
     "data": {
      "text/html": [
       "<div>\n",
       "<style>\n",
       "    .dataframe thead tr:only-child th {\n",
       "        text-align: right;\n",
       "    }\n",
       "\n",
       "    .dataframe thead th {\n",
       "        text-align: left;\n",
       "    }\n",
       "\n",
       "    .dataframe tbody tr th {\n",
       "        vertical-align: top;\n",
       "    }\n",
       "</style>\n",
       "<table border=\"1\" class=\"dataframe\">\n",
       "  <thead>\n",
       "    <tr style=\"text-align: right;\">\n",
       "      <th></th>\n",
       "      <th>browser</th>\n",
       "      <th>browser_v</th>\n",
       "      <th>ch</th>\n",
       "      <th>day</th>\n",
       "      <th>dist_id</th>\n",
       "      <th>event</th>\n",
       "      <th>from_url</th>\n",
       "      <th>ip</th>\n",
       "      <th>isMsg</th>\n",
       "      <th>isSuccess</th>\n",
       "      <th>...</th>\n",
       "      <th>screen_rh</th>\n",
       "      <th>screen_w</th>\n",
       "      <th>session_p</th>\n",
       "      <th>siteUrl</th>\n",
       "      <th>site_url</th>\n",
       "      <th>time</th>\n",
       "      <th>title</th>\n",
       "      <th>tp</th>\n",
       "      <th>url</th>\n",
       "      <th>url_path</th>\n",
       "    </tr>\n",
       "  </thead>\n",
       "  <tbody>\n",
       "    <tr>\n",
       "      <th>0</th>\n",
       "      <td>chrome</td>\n",
       "      <td>56</td>\n",
       "      <td>None</td>\n",
       "      <td>2017-03-06</td>\n",
       "      <td>595466e9a8e733434ce08de16e927d985e0b5d48</td>\n",
       "      <td>index_leave</td>\n",
       "      <td>None</td>\n",
       "      <td>219.135.131.99</td>\n",
       "      <td>None</td>\n",
       "      <td>None</td>\n",
       "      <td>...</td>\n",
       "      <td>www.baidu.com</td>\n",
       "      <td>1280.0</td>\n",
       "      <td>https://www.sensorsdata.cn/?utm_source=baidu&amp;u...</td>\n",
       "      <td>None</td>\n",
       "      <td>None</td>\n",
       "      <td>1488791047953</td>\n",
       "      <td>None</td>\n",
       "      <td>track</td>\n",
       "      <td>None</td>\n",
       "      <td>None</td>\n",
       "    </tr>\n",
       "    <tr>\n",
       "      <th>1</th>\n",
       "      <td>None</td>\n",
       "      <td>None</td>\n",
       "      <td>None</td>\n",
       "      <td>2017-03-31</td>\n",
       "      <td>9939d3e087bca29c42334d96dccd25ca0e06652a</td>\n",
       "      <td>None</td>\n",
       "      <td>None</td>\n",
       "      <td>None</td>\n",
       "      <td>None</td>\n",
       "      <td>None</td>\n",
       "      <td>...</td>\n",
       "      <td>None</td>\n",
       "      <td>NaN</td>\n",
       "      <td>None</td>\n",
       "      <td>None</td>\n",
       "      <td>None</td>\n",
       "      <td>1490958296645</td>\n",
       "      <td>None</td>\n",
       "      <td>profile_set_once</td>\n",
       "      <td>None</td>\n",
       "      <td>None</td>\n",
       "    </tr>\n",
       "    <tr>\n",
       "      <th>2</th>\n",
       "      <td>chrome</td>\n",
       "      <td>56</td>\n",
       "      <td></td>\n",
       "      <td>2017-03-06</td>\n",
       "      <td>9939d3e087bca29c42334d96dccd25ca0e06652a</td>\n",
       "      <td>$pageview</td>\n",
       "      <td>None</td>\n",
       "      <td>111.204.198.242</td>\n",
       "      <td>None</td>\n",
       "      <td>None</td>\n",
       "      <td>...</td>\n",
       "      <td></td>\n",
       "      <td>1366.0</td>\n",
       "      <td>https://sensorsdata.cn/?ch=demo</td>\n",
       "      <td>None</td>\n",
       "      <td>None</td>\n",
       "      <td>1488791050856</td>\n",
       "      <td>神策数据 | Sensors Data - 国内领先的用户行为分析产品</td>\n",
       "      <td>track</td>\n",
       "      <td>https://sensorsdata.cn/?ch=demo</td>\n",
       "      <td>/</td>\n",
       "    </tr>\n",
       "    <tr>\n",
       "      <th>3</th>\n",
       "      <td>chrome</td>\n",
       "      <td>56</td>\n",
       "      <td>None</td>\n",
       "      <td>2017-03-06</td>\n",
       "      <td>9939d3e087bca29c42334d96dccd25ca0e06652a</td>\n",
       "      <td>btnClick</td>\n",
       "      <td>None</td>\n",
       "      <td>111.204.198.242</td>\n",
       "      <td>None</td>\n",
       "      <td>None</td>\n",
       "      <td>...</td>\n",
       "      <td></td>\n",
       "      <td>1366.0</td>\n",
       "      <td>https://sensorsdata.cn/?ch=demo</td>\n",
       "      <td>None</td>\n",
       "      <td>None</td>\n",
       "      <td>1488791051772</td>\n",
       "      <td>None</td>\n",
       "      <td>track</td>\n",
       "      <td>None</td>\n",
       "      <td>None</td>\n",
       "    </tr>\n",
       "    <tr>\n",
       "      <th>4</th>\n",
       "      <td>chrome</td>\n",
       "      <td>56</td>\n",
       "      <td>None</td>\n",
       "      <td>2017-03-06</td>\n",
       "      <td>9939d3e087bca29c42334d96dccd25ca0e06652a</td>\n",
       "      <td>btnClick</td>\n",
       "      <td>None</td>\n",
       "      <td>111.204.198.242</td>\n",
       "      <td>None</td>\n",
       "      <td>None</td>\n",
       "      <td>...</td>\n",
       "      <td></td>\n",
       "      <td>1366.0</td>\n",
       "      <td>https://sensorsdata.cn/?ch=demo</td>\n",
       "      <td>None</td>\n",
       "      <td>None</td>\n",
       "      <td>1488791056032</td>\n",
       "      <td>None</td>\n",
       "      <td>track</td>\n",
       "      <td>None</td>\n",
       "      <td>None</td>\n",
       "    </tr>\n",
       "  </tbody>\n",
       "</table>\n",
       "<p>5 rows × 47 columns</p>\n",
       "</div>"
      ],
      "text/plain": [
       "  browser browser_v    ch         day  \\\n",
       "0  chrome        56  None  2017-03-06   \n",
       "1    None      None  None  2017-03-31   \n",
       "2  chrome        56        2017-03-06   \n",
       "3  chrome        56  None  2017-03-06   \n",
       "4  chrome        56  None  2017-03-06   \n",
       "\n",
       "                                    dist_id        event from_url  \\\n",
       "0  595466e9a8e733434ce08de16e927d985e0b5d48  index_leave     None   \n",
       "1  9939d3e087bca29c42334d96dccd25ca0e06652a         None     None   \n",
       "2  9939d3e087bca29c42334d96dccd25ca0e06652a    $pageview     None   \n",
       "3  9939d3e087bca29c42334d96dccd25ca0e06652a     btnClick     None   \n",
       "4  9939d3e087bca29c42334d96dccd25ca0e06652a     btnClick     None   \n",
       "\n",
       "                ip isMsg isSuccess   ...         screen_rh screen_w  \\\n",
       "0   219.135.131.99  None      None   ...     www.baidu.com   1280.0   \n",
       "1             None  None      None   ...              None      NaN   \n",
       "2  111.204.198.242  None      None   ...                     1366.0   \n",
       "3  111.204.198.242  None      None   ...                     1366.0   \n",
       "4  111.204.198.242  None      None   ...                     1366.0   \n",
       "\n",
       "                                           session_p siteUrl site_url  \\\n",
       "0  https://www.sensorsdata.cn/?utm_source=baidu&u...    None     None   \n",
       "1                                               None    None     None   \n",
       "2                    https://sensorsdata.cn/?ch=demo    None     None   \n",
       "3                    https://sensorsdata.cn/?ch=demo    None     None   \n",
       "4                    https://sensorsdata.cn/?ch=demo    None     None   \n",
       "\n",
       "            time                                title                tp  \\\n",
       "0  1488791047953                                 None             track   \n",
       "1  1490958296645                                 None  profile_set_once   \n",
       "2  1488791050856  神策数据 | Sensors Data - 国内领先的用户行为分析产品             track   \n",
       "3  1488791051772                                 None             track   \n",
       "4  1488791056032                                 None             track   \n",
       "\n",
       "                               url url_path  \n",
       "0                             None     None  \n",
       "1                             None     None  \n",
       "2  https://sensorsdata.cn/?ch=demo        /  \n",
       "3                             None     None  \n",
       "4                             None     None  \n",
       "\n",
       "[5 rows x 47 columns]"
      ]
     },
     "execution_count": 8,
     "metadata": {},
     "output_type": "execute_result"
    }
   ],
   "source": [
    "df.head()"
   ]
  },
  {
   "cell_type": "code",
   "execution_count": 9,
   "metadata": {
    "collapsed": true
   },
   "outputs": [],
   "source": [
    "# Create Pandas DataFrame filters based on different events\n",
    "df_ileave = df.loc[df.event == 'index_leave']\n",
    "df_btnclick = df.loc[df.event == 'btnClick']\n",
    "df_aleave = df.loc[df.event == 'about_leave']\n",
    "df_form = df.loc[df.event == 'formSubmit']\n",
    "df_submit = df.loc[df.event == 'clickSubmit']\n",
    "df_cleave = df.loc[df.event == 'courses_leave']\n",
    "df_dleave = df.loc[df.event == 'demo_leave']\n",
    "df_playleave = df.loc[df.event == 'courses_play_leave']\n",
    "df_close = df.loc[df.event == 'page_close']\n",
    "df_view = df.loc[df.event == '$pageview']\n",
    "df_send = df.loc[df.event == 'click_send_cellphone']\n",
    "df_verify = df.loc[df.event == 'verify_cellphone_code']"
   ]
  },
  {
   "cell_type": "code",
   "execution_count": 10,
   "metadata": {
    "collapsed": true
   },
   "outputs": [],
   "source": [
    "# save DataFrame to csv file\n",
    "ileave = 'data/index_leave.csv'\n",
    "df_ileave.to_csv(ileave, index=False)\n",
    "btnclick = 'data/btnClick.csv'\n",
    "df_btnclick.to_csv(btnclick, index=False)\n",
    "aleave = 'data/about_leave.csv'\n",
    "df_aleave.to_csv(aleave, index=False)\n",
    "form = 'data/formSubmit.csv'\n",
    "df_form.to_csv(form, index=False)\n",
    "submit = 'data/clickSubmit.csv'\n",
    "df_submit.to_csv(submit, index=False)\n",
    "cleave = 'data/courses_leave.csv'\n",
    "df_cleave.to_csv(cleave, index=False)\n",
    "dleave = 'data/demo_leave.csv'\n",
    "df_dleave.to_csv(dleave, index=False)\n",
    "playleave = 'data/courses_play_leave.csv'\n",
    "df_playleave.to_csv(playleave, index=False)\n",
    "close = 'data/page_close.csv'\n",
    "df_close.to_csv(close, index=False)\n",
    "view = 'data/pageview.csv'\n",
    "df_view.to_csv(view, index=False)\n",
    "send = 'data/click_send_cellphone.csv'\n",
    "df_send.to_csv(send, index=False)\n",
    "verify = 'data/verify_cellphone_code.csv'\n",
    "df_verify.to_csv(verify, index=False)"
   ]
  },
  {
   "cell_type": "code",
   "execution_count": 11,
   "metadata": {
    "collapsed": true
   },
   "outputs": [],
   "source": [
    "data_all = 'data/data_all.csv'\n",
    "df.to_csv(data_all, index=False)"
   ]
  },
  {
   "cell_type": "code",
   "execution_count": 12,
   "metadata": {},
   "outputs": [
    {
     "data": {
      "text/plain": [
       "track               65673\n",
       "profile_set_once     9419\n",
       "Name: tp, dtype: int64"
      ]
     },
     "execution_count": 12,
     "metadata": {},
     "output_type": "execute_result"
    }
   ],
   "source": [
    "df['tp'].value_counts()"
   ]
  },
  {
   "cell_type": "markdown",
   "metadata": {},
   "source": [
    "track: keep track of an event, as shown in events below\n",
    "profile set once: used for first time activate, register, ignored when profile already exist"
   ]
  },
  {
   "cell_type": "code",
   "execution_count": 13,
   "metadata": {},
   "outputs": [
    {
     "data": {
      "text/plain": [
       "$pageview                32620\n",
       "btnClick                 13866\n",
       "index_leave              10394\n",
       "demo_leave                3411\n",
       "about_leave               1032\n",
       "courses_leave              906\n",
       "formSubmit                 791\n",
       "courses_play_leave         747\n",
       "click_send_cellphone       600\n",
       "verify_cellphone_code      563\n",
       "clickSubmit                513\n",
       "page_close                 230\n",
       "Name: event, dtype: int64"
      ]
     },
     "execution_count": 13,
     "metadata": {},
     "output_type": "execute_result"
    }
   ],
   "source": [
    "df['event'].value_counts()"
   ]
  },
  {
   "cell_type": "markdown",
   "metadata": {},
   "source": [
    "- possible user behavior analysis: pageview, btnClick\n",
    "- funnel analysis: formSubmit(791) > click_send_cellphone(600) > verify_cellphone_code(563) > clickSubmit(513)"
   ]
  },
  {
   "cell_type": "markdown",
   "metadata": {},
   "source": [
    "Do more EDA here"
   ]
  },
  {
   "cell_type": "code",
   "execution_count": 14,
   "metadata": {
    "collapsed": true
   },
   "outputs": [],
   "source": [
    "import matplotlib.pyplot as plt\n",
    "% matplotlib inline"
   ]
  },
  {
   "cell_type": "code",
   "execution_count": 15,
   "metadata": {},
   "outputs": [
    {
     "data": {
      "text/plain": [
       "count                                        75092\n",
       "unique                                       11756\n",
       "top       835cc4405ee7e42e5b401a25e65b4830b02af7d3\n",
       "freq                                           254\n",
       "Name: dist_id, dtype: object"
      ]
     },
     "execution_count": 15,
     "metadata": {},
     "output_type": "execute_result"
    }
   ],
   "source": [
    "df['dist_id'].describe()"
   ]
  },
  {
   "cell_type": "code",
   "execution_count": 16,
   "metadata": {},
   "outputs": [
    {
     "data": {
      "text/plain": [
       "<matplotlib.axes._subplots.AxesSubplot at 0x12e593ac8>"
      ]
     },
     "execution_count": 16,
     "metadata": {},
     "output_type": "execute_result"
    },
    {
     "data": {
      "image/png": "[encoded data removed]",
      "text/plain": [
       "<matplotlib.figure.Figure at 0x12e593208>"
      ]
     },
     "metadata": {},
     "output_type": "display_data"
    }
   ],
   "source": [
    "# e.g. calculate counts of distinct id, and plot it\n",
    "df['dist_id'].value_counts().plot.hist(bins=100)"
   ]
  },
  {
   "cell_type": "code",
   "execution_count": 17,
   "metadata": {},
   "outputs": [
    {
     "data": {
      "text/plain": [
       "count             75092\n",
       "unique            75065\n",
       "top       6176568740047\n",
       "freq                  7\n",
       "Name: nocache, dtype: object"
      ]
     },
     "execution_count": 17,
     "metadata": {},
     "output_type": "execute_result"
    }
   ],
   "source": [
    "df['nocache'].describe()"
   ]
  },
  {
   "cell_type": "code",
   "execution_count": 18,
   "metadata": {},
   "outputs": [
    {
     "data": {
      "text/plain": [
       "<matplotlib.axes._subplots.AxesSubplot at 0x12f539d30>"
      ]
     },
     "execution_count": 18,
     "metadata": {},
     "output_type": "execute_result"
    },
    {
     "data": {
      "image/png": "[encoded data removed]",
      "text/plain": [
       "<matplotlib.figure.Figure at 0x12f4e08d0>"
      ]
     },
     "metadata": {},
     "output_type": "display_data"
    }
   ],
   "source": [
    "# e.g. calculate counts of nochache, and plot it\n",
    "df['nocache'].value_counts().plot.hist(bins=100)"
   ]
  },
  {
   "cell_type": "code",
   "execution_count": 19,
   "metadata": {},
   "outputs": [
    {
     "data": {
      "text/plain": [
       "count               65673\n",
       "unique               9870\n",
       "top       113.208.116.250\n",
       "freq                 1399\n",
       "Name: ip, dtype: object"
      ]
     },
     "execution_count": 19,
     "metadata": {},
     "output_type": "execute_result"
    }
   ],
   "source": [
    "df['ip'].describe()"
   ]
  },
  {
   "cell_type": "code",
   "execution_count": 20,
   "metadata": {},
   "outputs": [
    {
     "data": {
      "text/plain": [
       "<matplotlib.axes._subplots.AxesSubplot at 0x135243ef0>"
      ]
     },
     "execution_count": 20,
     "metadata": {},
     "output_type": "execute_result"
    },
    {
     "data": {
      "image/png": "[encoded data removed]",
      "text/plain": [
       "<matplotlib.figure.Figure at 0x12f789588>"
      ]
     },
     "metadata": {},
     "output_type": "display_data"
    }
   ],
   "source": [
    "df['ip'].value_counts().plot.hist(bins=100)"
   ]
  },
  {
   "cell_type": "markdown",
   "metadata": {},
   "source": [
    "##  Choice of identifier\n",
    "- distinct_id, hash: change from browser and cookie id to protect user privacy; 11756 distinct values\n",
    "- nocache: might be simplified identifier. The number of distinct nocache is 75065. The frequency is too low. \n",
    "- ip: 9870 distinct values, each ip address can have multiple users\n",
    "- distinct_id is a better identifier，it is random，and can be used for unbiased experiments/tran test split"
   ]
  },
  {
   "cell_type": "code",
   "execution_count": 21,
   "metadata": {},
   "outputs": [
    {
     "data": {
      "text/plain": [
       "count          75092\n",
       "unique            10\n",
       "top       2017-03-09\n",
       "freq           10446\n",
       "Name: day, dtype: object"
      ]
     },
     "execution_count": 21,
     "metadata": {},
     "output_type": "execute_result"
    }
   ],
   "source": [
    "df['day'].describe()"
   ]
  },
  {
   "cell_type": "code",
   "execution_count": 22,
   "metadata": {},
   "outputs": [
    {
     "name": "stderr",
     "output_type": "stream",
     "text": [
      "/Users/Danielle/anaconda/lib/python3.6/site-packages/pandas/core/internals.py:3224: FutureWarning: Passing in 'datetime64' dtype with no frequency is deprecated and will raise in a future version. Please pass in 'datetime64[ns]' instead.\n",
      "  return self.apply('astype', dtype=dtype, **kwargs)\n"
     ]
    },
    {
     "data": {
      "text/plain": [
       "<matplotlib.axes._subplots.AxesSubplot at 0x13591cb00>"
      ]
     },
     "execution_count": 22,
     "metadata": {},
     "output_type": "execute_result"
    },
    {
     "data": {
      "image/png": "[encoded data removed]",
      "text/plain": [
       "<matplotlib.figure.Figure at 0x1159e8b70>"
      ]
     },
     "metadata": {},
     "output_type": "display_data"
    }
   ],
   "source": [
    "df[\"day\"] = df[\"day\"].astype(\"datetime64\")\n",
    "df[\"day\"].groupby(df[\"day\"].dt.day).count().plot(kind=\"bar\")"
   ]
  },
  {
   "cell_type": "markdown",
   "metadata": {},
   "source": [
    "2017 March, 11th and 12th are weekends, have the least number of counts"
   ]
  },
  {
   "cell_type": "code",
   "execution_count": 23,
   "metadata": {
    "scrolled": true
   },
   "outputs": [
    {
     "data": {
      "text/plain": [
       "<matplotlib.axes._subplots.AxesSubplot at 0x12b91f278>"
      ]
     },
     "execution_count": 23,
     "metadata": {},
     "output_type": "execute_result"
    },
    {
     "data": {
      "image/png": "[encoded data removed]",
      "text/plain": [
       "<matplotlib.figure.Figure at 0x135923668>"
      ]
     },
     "metadata": {},
     "output_type": "display_data"
    }
   ],
   "source": [
    "df[\"day\"].groupby(df[\"day\"].dt.month).count().plot(kind=\"bar\")"
   ]
  },
  {
   "cell_type": "markdown",
   "metadata": {},
   "source": [
    "- All the data collected on March 2017, and only distribute in 6th-14th and 31st\n",
    "- 31st is a wrong data, should be eliminated from the dataset"
   ]
  },
  {
   "cell_type": "code",
   "execution_count": 24,
   "metadata": {
    "collapsed": true
   },
   "outputs": [],
   "source": [
    "df = df[df.day != \"2017-03-31\"]"
   ]
  },
  {
   "cell_type": "markdown",
   "metadata": {},
   "source": [
    "Check missing data and propose possible missing data imputation"
   ]
  },
  {
   "cell_type": "code",
   "execution_count": 25,
   "metadata": {},
   "outputs": [
    {
     "name": "stdout",
     "output_type": "stream",
     "text": [
      "<class 'pandas.core.frame.DataFrame'>\n",
      "Int64Index: 65673 entries, 0 to 75090\n",
      "Data columns (total 47 columns):\n",
      "browser                65673 non-null object\n",
      "browser_v              65673 non-null object\n",
      "ch                     32335 non-null object\n",
      "day                    65673 non-null datetime64[ns]\n",
      "dist_id                65673 non-null object\n",
      "event                  65673 non-null object\n",
      "from_url               982 non-null object\n",
      "ip                     65673 non-null object\n",
      "isMsg                  469 non-null object\n",
      "isSuccess              791 non-null object\n",
      "is_fd                  65673 non-null object\n",
      "is_ft                  65673 non-null object\n",
      "latest_ch              8537 non-null object\n",
      "latest_r               64862 non-null object\n",
      "latest_rh              64862 non-null object\n",
      "latest_utm_campaign    39903 non-null object\n",
      "latest_utm_content     38763 non-null object\n",
      "latest_utm_m           39691 non-null object\n",
      "latest_utm_s           40583 non-null object\n",
      "latest_utm_t           39095 non-null object\n",
      "model                  65673 non-null object\n",
      "name                   15170 non-null object\n",
      "nocache                65673 non-null object\n",
      "os                     65673 non-null object\n",
      "os_version             65673 non-null object\n",
      "page                   11716 non-null object\n",
      "pageP                  16490 non-null float64\n",
      "pageS                  16720 non-null float64\n",
      "pageUrl                30356 non-null object\n",
      "refer_Host             32335 non-null object\n",
      "referrHostUrl          469 non-null object\n",
      "referrer               32334 non-null object\n",
      "referrerUrl            469 non-null object\n",
      "requestBtn             4271 non-null object\n",
      "result                 1163 non-null object\n",
      "screen_h               65673 non-null float64\n",
      "screen_r               63046 non-null object\n",
      "screen_rh              63039 non-null object\n",
      "screen_w               65673 non-null float64\n",
      "session_p              62766 non-null object\n",
      "siteUrl                469 non-null object\n",
      "site_url               982 non-null object\n",
      "time                   65673 non-null int64\n",
      "title                  32620 non-null object\n",
      "tp                     65673 non-null object\n",
      "url                    32598 non-null object\n",
      "url_path               32620 non-null object\n",
      "dtypes: datetime64[ns](1), float64(4), int64(1), object(41)\n",
      "memory usage: 24.1+ MB\n"
     ]
    }
   ],
   "source": [
    "df.info()"
   ]
  },
  {
   "cell_type": "code",
   "execution_count": 26,
   "metadata": {},
   "outputs": [
    {
     "data": {
      "text/plain": [
       "browser                    0\n",
       "browser_v                  0\n",
       "ch                     33338\n",
       "day                        0\n",
       "dist_id                    0\n",
       "event                      0\n",
       "from_url               64691\n",
       "ip                         0\n",
       "isMsg                  65204\n",
       "isSuccess              64882\n",
       "is_fd                      0\n",
       "is_ft                      0\n",
       "latest_ch              57136\n",
       "latest_r                 811\n",
       "latest_rh                811\n",
       "latest_utm_campaign    25770\n",
       "latest_utm_content     26910\n",
       "latest_utm_m           25982\n",
       "latest_utm_s           25090\n",
       "latest_utm_t           26578\n",
       "model                      0\n",
       "name                   50503\n",
       "nocache                    0\n",
       "os                         0\n",
       "os_version                 0\n",
       "page                   53957\n",
       "pageP                  49183\n",
       "pageS                  48953\n",
       "pageUrl                35317\n",
       "refer_Host             33338\n",
       "referrHostUrl          65204\n",
       "referrer               33339\n",
       "referrerUrl            65204\n",
       "requestBtn             61402\n",
       "result                 64510\n",
       "screen_h                   0\n",
       "screen_r                2627\n",
       "screen_rh               2634\n",
       "screen_w                   0\n",
       "session_p               2907\n",
       "siteUrl                65204\n",
       "site_url               64691\n",
       "time                       0\n",
       "title                  33053\n",
       "tp                         0\n",
       "url                    33075\n",
       "url_path               33053\n",
       "dtype: int64"
      ]
     },
     "execution_count": 26,
     "metadata": {},
     "output_type": "execute_result"
    }
   ],
   "source": [
    "df.isnull().sum()"
   ]
  },
  {
   "cell_type": "markdown",
   "metadata": {},
   "source": [
    "The rows with \"profile_set_once\" were exactly the mistake 31st dates that were deleted (9419 rows)\n",
    "Features that have null value only at \"profile_set_once\" type: \n",
    "browser, browser_v, event, ip, is_fd, is_ft, model, os, os_version, screen_h, screen_w\n",
    "if we consider event, all these features inclusing time, dist_id might be useful"
   ]
  },
  {
   "cell_type": "markdown",
   "metadata": {},
   "source": [
    "conversion rate (the percentage of users who take a desired action) analyses"
   ]
  },
  {
   "cell_type": "code",
   "execution_count": 27,
   "metadata": {},
   "outputs": [
    {
     "data": {
      "text/plain": [
       "$pageview                32620\n",
       "btnClick                 13866\n",
       "index_leave              10394\n",
       "demo_leave                3411\n",
       "about_leave               1032\n",
       "courses_leave              906\n",
       "formSubmit                 791\n",
       "courses_play_leave         747\n",
       "click_send_cellphone       600\n",
       "verify_cellphone_code      563\n",
       "clickSubmit                513\n",
       "page_close                 230\n",
       "Name: event, dtype: int64"
      ]
     },
     "execution_count": 27,
     "metadata": {},
     "output_type": "execute_result"
    }
   ],
   "source": [
    "df['event'].value_counts()"
   ]
  },
  {
   "cell_type": "code",
   "execution_count": 28,
   "metadata": {},
   "outputs": [
    {
     "data": {
      "text/plain": [
       "count                                         3411\n",
       "unique                                        1436\n",
       "top       87091bab3fc571740f15ac4021efc4c7674776d5\n",
       "freq                                            31\n",
       "Name: dist_id, dtype: object"
      ]
     },
     "execution_count": 28,
     "metadata": {},
     "output_type": "execute_result"
    }
   ],
   "source": [
    "df_dleave['dist_id'].describe()"
   ]
  },
  {
   "cell_type": "code",
   "execution_count": 29,
   "metadata": {},
   "outputs": [
    {
     "data": {
      "text/plain": [
       "count                                          600\n",
       "unique                                         501\n",
       "top       cc03b92cbfeebd715cd97f7f3d0cff31d96322a8\n",
       "freq                                             6\n",
       "Name: dist_id, dtype: object"
      ]
     },
     "execution_count": 29,
     "metadata": {},
     "output_type": "execute_result"
    }
   ],
   "source": [
    "df_send['dist_id'].describe()"
   ]
  },
  {
   "cell_type": "code",
   "execution_count": 30,
   "metadata": {},
   "outputs": [
    {
     "data": {
      "text/plain": [
       "count                                          563\n",
       "unique                                         472\n",
       "top       6618aedb4bb5bf0002a2f500d9f1904018b1b217\n",
       "freq                                             6\n",
       "Name: dist_id, dtype: object"
      ]
     },
     "execution_count": 30,
     "metadata": {},
     "output_type": "execute_result"
    }
   ],
   "source": [
    "df_verify['dist_id'].describe()"
   ]
  },
  {
   "cell_type": "code",
   "execution_count": 31,
   "metadata": {},
   "outputs": [
    {
     "data": {
      "text/plain": [
       "count     563\n",
       "unique      3\n",
       "top        正确\n",
       "freq      528\n",
       "Name: result, dtype: object"
      ]
     },
     "execution_count": 31,
     "metadata": {},
     "output_type": "execute_result"
    }
   ],
   "source": [
    "df_verify['result'].describe()"
   ]
  },
  {
   "cell_type": "code",
   "execution_count": 32,
   "metadata": {},
   "outputs": [
    {
     "data": {
      "text/plain": [
       "count                                          528\n",
       "unique                                         471\n",
       "top       cc03b92cbfeebd715cd97f7f3d0cff31d96322a8\n",
       "freq                                             6\n",
       "Name: dist_id, dtype: object"
      ]
     },
     "execution_count": 32,
     "metadata": {},
     "output_type": "execute_result"
    }
   ],
   "source": [
    "df_verify['dist_id'][df_verify['result']=='正确'].describe()"
   ]
  },
  {
   "cell_type": "markdown",
   "metadata": {},
   "source": [
    "Only one user from 472 users has wrong verification code, and never has correct verification code"
   ]
  },
  {
   "cell_type": "code",
   "execution_count": 33,
   "metadata": {},
   "outputs": [
    {
     "data": {
      "text/plain": [
       "count                                          791\n",
       "unique                                         497\n",
       "top       04b0e0ed4def01a7a2881d3d8aa55c341a36cbbc\n",
       "freq                                            17\n",
       "Name: dist_id, dtype: object"
      ]
     },
     "execution_count": 33,
     "metadata": {},
     "output_type": "execute_result"
    }
   ],
   "source": [
    "df_form['dist_id'].describe()"
   ]
  },
  {
   "cell_type": "code",
   "execution_count": 34,
   "metadata": {},
   "outputs": [
    {
     "data": {
      "text/plain": [
       "count                                          513\n",
       "unique                                         461\n",
       "top       1e31a9423d07802ba5fe38822ac548ae9c33a14d\n",
       "freq                                            24\n",
       "Name: dist_id, dtype: object"
      ]
     },
     "execution_count": 34,
     "metadata": {},
     "output_type": "execute_result"
    }
   ],
   "source": [
    "df_submit['dist_id'].describe()"
   ]
  },
  {
   "cell_type": "code",
   "execution_count": 35,
   "metadata": {},
   "outputs": [
    {
     "name": "stdout",
     "output_type": "stream",
     "text": [
      "conversation rate of click send cellphone:\n",
      "0.042616536236815244\n"
     ]
    }
   ],
   "source": [
    "print(\"conversation rate of click send cellphone:\")\n",
    "print(501/11756)"
   ]
  },
  {
   "cell_type": "code",
   "execution_count": 36,
   "metadata": {},
   "outputs": [
    {
     "name": "stdout",
     "output_type": "stream",
     "text": [
      "conversation rate of verify cellphone code:\n",
      "0.040149710785981625\n"
     ]
    }
   ],
   "source": [
    "print(\"conversation rate of verify cellphone code:\")\n",
    "print(472/11756)"
   ]
  },
  {
   "cell_type": "code",
   "execution_count": 37,
   "metadata": {},
   "outputs": [
    {
     "name": "stdout",
     "output_type": "stream",
     "text": [
      "conversation rate of form submit:\n",
      "0.04227628445049336\n"
     ]
    }
   ],
   "source": [
    "print(\"conversation rate of form submit:\")\n",
    "print(497/11756)"
   ]
  },
  {
   "cell_type": "code",
   "execution_count": 38,
   "metadata": {},
   "outputs": [
    {
     "name": "stdout",
     "output_type": "stream",
     "text": [
      "conversation rate of click submit:\n",
      "0.03921401837359646\n"
     ]
    }
   ],
   "source": [
    "print(\"conversation rate of click submit:\")\n",
    "print(461/11756)"
   ]
  },
  {
   "cell_type": "code",
   "execution_count": 39,
   "metadata": {},
   "outputs": [
    {
     "name": "stdout",
     "output_type": "stream",
     "text": [
      "conversation rate of demo leave:\n",
      "0.12215039128955427\n"
     ]
    }
   ],
   "source": [
    "print(\"conversation rate of demo leave:\")\n",
    "print(1436/11756)"
   ]
  },
  {
   "cell_type": "markdown",
   "metadata": {},
   "source": [
    "The key factors that bottleneck the conversion rate is sign up/send celpphone verification"
   ]
  },
  {
   "cell_type": "code",
   "execution_count": 40,
   "metadata": {},
   "outputs": [
    {
     "data": {
      "text/plain": [
       "browser                   0\n",
       "browser_v                 0\n",
       "ch                     3411\n",
       "day                       0\n",
       "dist_id                   0\n",
       "event                     0\n",
       "from_url               3411\n",
       "ip                        0\n",
       "isMsg                  3411\n",
       "isSuccess              3411\n",
       "is_fd                     0\n",
       "is_ft                     0\n",
       "latest_ch              2694\n",
       "latest_r                 39\n",
       "latest_rh                39\n",
       "latest_utm_campaign    1455\n",
       "latest_utm_content     1492\n",
       "latest_utm_m           1458\n",
       "latest_utm_s           1426\n",
       "latest_utm_t           1478\n",
       "model                     0\n",
       "name                   3411\n",
       "nocache                   0\n",
       "os                        0\n",
       "os_version                0\n",
       "page                   3411\n",
       "pageP                     0\n",
       "pageS                     0\n",
       "pageUrl                   0\n",
       "refer_Host             3411\n",
       "referrHostUrl          3411\n",
       "referrer               3411\n",
       "referrerUrl            3411\n",
       "requestBtn             3411\n",
       "result                 3411\n",
       "screen_h                  0\n",
       "screen_r                  0\n",
       "screen_rh                 0\n",
       "screen_w                  0\n",
       "session_p                 0\n",
       "siteUrl                3411\n",
       "site_url               3411\n",
       "time                      0\n",
       "title                  3411\n",
       "tp                        0\n",
       "url                    3411\n",
       "url_path               3411\n",
       "dtype: int64"
      ]
     },
     "execution_count": 40,
     "metadata": {},
     "output_type": "execute_result"
    }
   ],
   "source": [
    "df_dleave.isnull().sum()"
   ]
  },
  {
   "cell_type": "markdown",
   "metadata": {},
   "source": [
    "Total number of rows in btnclick: 3411\n",
    "Pssible useful feature: session_r, session_rh, session_page_url, pageStayTime, pagePosition, pageUrl"
   ]
  },
  {
   "cell_type": "code",
   "execution_count": 41,
   "metadata": {},
   "outputs": [
    {
     "data": {
      "text/plain": [
       "https://www.sensorsdata.cn/                                                                                                                                                                                                                                                                                                                                                                                                                         815\n",
       "https://www.sensorsdata.cn/?utm_source=baidu&utm_medium=cpc&utm_term=%E7%A5%9E%E7%AD%96&utm_content=%E5%93%81%E7%89%8C%2D%E7%A5%9E%E7%AD%96&utm_campaign=%E5%93%81%E7%89%8C%E8%AF%8D                                                                                                                                                                                                                                                                427\n",
       "https://www.sensorsdata.cn/demo.html                                                                                                                                                                                                                                                                                                                                                                                                                381\n",
       "https://sensorsdata.cn/                                                                                                                                                                                                                                                                                                                                                                                                                             240\n",
       "https://www.sensorsdata.cn/?utm_source=baidu&utm_medium=cpc&utm_term=%E7%94%A8%E6%88%B7%E7%94%BB%E5%83%8F&utm_content=%E9%80%9A%E7%94%A8%2D%E7%94%A8%E6%88%B7%E7%94%BB%E5%83%8F&utm_campaign=%E9%80%9A%E7%94%A8%E8%AF%8D                                                                                                                                                                                                                            234\n",
       "https://www.sensorsdata.cn/?utm_source=baidu&utm_medium=cpc&utm_term=%E7%A5%9E%E7%AD%96%E6%95%B0%E6%8D%AE&utm_content=%E5%93%81%E7%89%8C%2D%E7%A5%9E%E7%AD%96&utm_campaign=%E5%93%81%E7%89%8C%E8%AF%8D                                                                                                                                                                                                                                              127\n",
       "https://sensorsdata.cn/demo.html                                                                                                                                                                                                                                                                                                                                                                                                                    110\n",
       "https://www.sensorsdata.cn/index.html                                                                                                                                                                                                                                                                                                                                                                                                                56\n",
       "https://www.sensorsdata.cn/?utm_source=baidu&utm_medium=cpc&utm_term=%E7%BD%91%E7%AB%99%E6%95%B0%E6%8D%AE%E7%BB%9F%E8%AE%A1&utm_content=%E9%80%9A%E7%94%A8%2D%E6%95%B0%E6%8D%AE%E7%BB%9F%E8%AE%A1&utm_campaign=%E9%80%9A%E7%94%A8%E8%AF%8D                                                                                                                                                                                                           42\n",
       "https://www.sensorsdata.cn/demo.html?winzoom=1                                                                                                                                                                                                                                                                                                                                                                                                       40\n",
       "https://www.sensorsdata.cn/?utm_source=baidu&utm_medium=cpc&utm_term=%E7%94%A8%E6%88%B7%E5%88%86%E6%9E%90&utm_content=%E9%80%9A%E7%94%A8%2D%E7%94%A8%E6%88%B7%E5%88%86%E6%9E%90&utm_campaign=%E9%80%9A%E7%94%A8%E8%AF%8D                                                                                                                                                                                                                             39\n",
       "https://www.sensorsdata.cn/?utm_source=baidu&utm_medium=cpc&utm_term=%E7%BD%91%E7%AB%99%E8%BF%90%E8%90%A5%E6%95%B0%E6%8D%AE%E5%88%86%E6%9E%90&utm_content=%E9%80%9A%E7%94%A8%2D%E6%95%B0%E6%8D%AE%E5%88%86%E6%9E%90%2D%E8%BF%90%E8%90%A5&utm_campaign=%E9%80%9A%E7%94%A8%E8%AF%8D                                                                                                                                                                    33\n",
       "https://www.sensorsdata.cn/?utm_source=baidu&utm_medium=cpc&utm_term=%E7%A5%9E%E7%AD%96%E5%88%86%E6%9E%90&utm_content=%E5%93%81%E7%89%8C%2D%E7%A5%9E%E7%AD%96&utm_campaign=%E5%93%81%E7%89%8C%E8%AF%8D                                                                                                                                                                                                                                               28\n",
       "https://sensorsdata.cn/?ch=demo                                                                                                                                                                                                                                                                                                                                                                                                                      27\n",
       "https://www.sensorsdata.cn/?utm_source=baidu&utm_medium=cpc&utm_term=%E7%94%A8%E6%88%B7%E7%94%BB%E5%83%8F%E5%88%86%E6%9E%90&utm_content=%E9%80%9A%E7%94%A8%2D%E7%94%A8%E6%88%B7%E7%94%BB%E5%83%8F%2D%E4%BA%A7%E5%93%81&utm_campaign=%E9%80%9A%E7%94%A8%E8%AF%8D                                                                                                                                                                                      25\n",
       "https://www.sensorsdata.cn/?utm_source=baidu&utm_medium=cpc&utm_term=%E7%94%B5%E5%95%86%E6%95%B0%E6%8D%AE%E5%88%86%E6%9E%90&utm_content=%E9%80%9A%E7%94%A8%2D%E6%95%B0%E6%8D%AE%E5%88%86%E6%9E%90%2D%E8%A1%8C%E4%B8%9A&utm_campaign=%E9%80%9A%E7%94%A8%E8%AF%8D                                                                                                                                                                                      21\n",
       "https://www.sensorsdata.cn/?utm_source=baidu&utm_medium=cpc&utm_term=%E4%BA%BA%E7%BE%A4%E7%94%BB%E5%83%8F%E5%88%86%E6%9E%90&utm_content=%E9%80%9A%E7%94%A8%2D%E7%94%A8%E6%88%B7%E7%94%BB%E5%83%8F%2D%E5%8A%9F%E8%83%BD&utm_campaign=%E9%80%9A%E7%94%A8%E8%AF%8D                                                                                                                                                                                      19\n",
       "https://www.sensorsdata.cn/?utm_source=baidu&utm_medium=cpc&utm_term=%E4%BA%A7%E5%93%81%E6%95%B0%E6%8D%AE%E5%88%86%E6%9E%90&utm_content=%E9%80%9A%E7%94%A8%2D%E6%95%B0%E6%8D%AE%E5%88%86%E6%9E%90&utm_campaign=%E9%80%9A%E7%94%A8%E8%AF%8D                                                                                                                                                                                                           19\n",
       "https://www.sensorsdata.cn/?utm_source=baidu&utm_medium=cpc&utm_term=app%E6%95%B0%E6%8D%AE&utm_content=%E9%80%9A%E7%94%A8%2DAPP%E8%BF%90%E8%90%A5&utm_campaign=%E9%80%9A%E7%94%A8%E8%AF%8D                                                                                                                                                                                                                                                           19\n",
       "https://www.sensorsdata.cn/?utm_source=baidu&utm_medium=cpc&utm_term=%E6%95%B0%E6%8D%AE%E5%88%86%E6%9E%90%E7%B3%BB%E7%BB%9F&utm_content=%E9%80%9A%E7%94%A8%2D%E6%95%B0%E6%8D%AE%E5%88%86%E6%9E%90%2D%E4%BA%A7%E5%93%81&utm_campaign=%E9%80%9A%E7%94%A8%E8%AF%8D                                                                                                                                                                                      18\n",
       "https://www.sensorsdata.cn/?utm_source=sogou&utm_medium=mcpc&utm_term=%e6%95%b0%e6%8d%ae%e5%88%86%e6%9e%90&utm_content=%e9%80%9a%e7%94%a8-%e6%95%b0%e6%8d%ae%e5%88%86%e6%9e%90&utm_campaign=S-%e9%80%9a%e7%94%a8%e8%af%8d                                                                                                                                                                                                                            17\n",
       "https://www.sensorsdata.cn/?utm_source=baidu&utm_medium=cpc&utm_term=%E5%A4%A7%E6%95%B0%E6%8D%AE%E5%88%86%E6%9E%90&utm_content=%E9%80%9A%E7%94%A8%2D%E6%95%B0%E6%8D%AE%E5%88%86%E6%9E%90&utm_campaign=%E9%80%9A%E7%94%A8%E8%AF%8D                                                                                                                                                                                                                    16\n",
       "https://www.sensorsdata.cn/?utm_source=baidu&utm_medium=cpc&utm_term=%E8%81%9A%E7%B1%BB%E5%88%86%E6%9E%90&utm_content=%E9%80%9A%E7%94%A8%2D%E6%95%B0%E6%8D%AE%E5%88%86%E6%9E%90&utm_campaign=%E9%80%9A%E7%94%A8%E8%AF%8D                                                                                                                                                                                                                             16\n",
       "https://www.sensorsdata.cn/?utm_source=baidu&utm_medium=cpc&utm_term=%E7%94%B5%E5%AD%90%E5%95%86%E5%8A%A1%E6%95%B0%E6%8D%AE&utm_content=%E9%80%9A%E7%94%A8%2D%E7%94%B5%E5%95%86%E8%BF%90%E8%90%A5&utm_campaign=%E9%80%9A%E7%94%A8%E8%AF%8D                                                                                                                                                                                                           15\n",
       "https://www.sensorsdata.cn/?utm_source=sogou&utm_medium=mcpc&utm_term=AARRR&utm_content=%e9%80%9a%e7%94%a8-%e6%95%b0%e6%8d%ae%e5%88%86%e6%9e%90%e6%b3%95&utm_campaign=S-%e9%80%9a%e7%94%a8%e8%af%8d                                                                                                                                                                                                                                                  15\n",
       "https://www.sensorsdata.cn/?utm_source=baidu&utm_medium=cpc&utm_term=%E7%94%A8%E6%88%B7%E5%A2%9E%E9%95%BF&utm_content=%E9%80%9A%E7%94%A8%2D%E7%94%A8%E6%88%B7%E5%88%86%E6%9E%90&utm_campaign=%E9%80%9A%E7%94%A8%E8%AF%8D                                                                                                                                                                                                                             14\n",
       "https://sensorsdata.cn/index.html                                                                                                                                                                                                                                                                                                                                                                                                                    14\n",
       "https://www.sensorsdata.cn/?utm_source=baidu&utm_medium=cpc&utm_term=%E6%95%B0%E6%8D%AE%E5%88%86%E6%9E%90&utm_content=%E9%80%9A%E7%94%A8%2D%E6%95%B0%E6%8D%AE%E5%88%86%E6%9E%90&utm_campaign=%E9%80%9A%E7%94%A8%E8%AF%8D                                                                                                                                                                                                                             14\n",
       "https://www.sensorsdata.cn/?utm_source=baidu&utm_medium=cpc&utm_term=%E7%94%A8%E6%88%B7%E7%95%99%E5%AD%98&utm_content=%E9%80%9A%E7%94%A8%2D%E7%94%A8%E6%88%B7%E7%95%99%E5%AD%98&utm_campaign=%E9%80%9A%E7%94%A8%E8%AF%8D                                                                                                                                                                                                                             13\n",
       "https://www.sensorsdata.cn/?utm_source=baidu&utm_medium=cpc&utm_term=%E7%A5%9E%E7%AD%96&utm_content=%E5%93%81%E7%89%8C-%E7%A5%9E%E7%AD%96&utm_campaign=%E5%93%81%E7%89%8C%E8%AF%8D                                                                                                                                                                                                                                                                   13\n",
       "                                                                                                                                                                                                                                                                                                                                                                                                                                                   ... \n",
       "https://www.sensorsdata.cn/?utm_source=baidu&utm_medium=cpc&utm_term=%E5%A4%A7%E6%95%B0%E6%8D%AE%E6%8C%96%E6%8E%98&utm_content=%E9%80%9A%E7%94%A8%2D%E6%95%B0%E6%8D%AE%E5%A4%84%E7%90%86&utm_campaign=%E9%80%9A%E7%94%A8%E8%AF%8D                                                                                                                                                                                                                     1\n",
       "https://www.sensorsdata.cn/?utm_source=sogou&utm_medium=mcpc&utm_term=%e7%94%b5%e5%95%86%e6%95%b0%e6%8d%ae%e5%88%86%e6%9e%90&utm_content=%e9%80%9a%e7%94%a8-%e6%95%b0%e6%8d%ae%e5%88%86%e6%9e%90-%e8%a1%8c%e4%b8%9a&utm_campaign=S-%e9%80%9a%e7%94%a8%e8%af%8d                                                                                                                                                                                        1\n",
       "https://www.sensorsdata.cn/demo.html?nsukey=cEEUtJj4dF5vv5WzHyla%2BvjhGpjRlv%2BPdVgWjkgvh5I6fHdixV8Yw6Z6%2FBHZmbjxeel44zKXkTGFVQfNhVCGOuIcutU9bpn%2Bg%2FuHTudj3BwZB9bNmIfyrVH38ZqV%2FMt3oi6%2F7ohJ8XeUYTEVxX0uMQw0WZM6A4jmYjnNcjMAQlwEy%2BscwS0cFz7bbE%2F0rTY%2F                                                                                                                                                                                      1\n",
       "https://www.sensorsdata.cn/?utm_source=baidu&utm_medium=cpc&utm_term=AARRR&utm_content=%E9%80%9A%E7%94%A8%2D%E6%95%B0%E6%8D%AE%E5%88%86%E6%9E%90%E6%B3%95&utm_campaign=%E9%80%9A%E7%94%A8%E8%AF%8D                                                                                                                                                                                                                                                    1\n",
       "https://sensorsdata.cn/?ch=chiyuan                                                                                                                                                                                                                                                                                                                                                                                                                    1\n",
       "https://sensorsdata.cn/?ch=36kr                                                                                                                                                                                                                                                                                                                                                                                                                       1\n",
       "https://www.sensorsdata.cn/?utm_source=baidu&utm_medium=cpc&utm_term=%E5%A4%A7%E6%95%B0%E6%8D%AE%20%E4%BA%BA%E7%89%A9%E7%94%BB%E5%83%8F%20%E6%A0%87%E7%AD%BE&utm_content=%E9%80%9A%E7%94%A8%2D%E7%94%A8%E6%88%B7%E7%94%BB%E5%83%8F%2D%E5%8A%9F%E8%83%BD&utm_campaign=%E9%80%9A%E7%94%A8%E8%AF%8D                                                                                                                                                      1\n",
       "https://www.sensorsdata.cn/?utm_source=baidu&utm_medium=cpc&utm_term=7%E6%97%A5%E7%95%99%E5%AD%98&utm_content=%E9%80%9A%E7%94%A8%2D%E7%94%A8%E6%88%B7%E7%95%99%E5%AD%98&utm_campaign=%E9%80%9A%E7%94%A8%E8%AF%8D                                                                                                                                                                                                                                      1\n",
       "https://www.sensorsdata.cn/?utm_source=baidu&utm_medium=cpc&utm_term=%E4%BA%92%E8%81%94%E7%BD%91%E6%95%B0%E6%8D%AE%E5%88%86%E6%9E%90&utm_content=%E9%80%9A%E7%94%A8-%E6%95%B0%E6%8D%AE%E5%88%86%E6%9E%90-%E4%BA%92%E8%81%94%E7%BD%91&utm_campaign=%E9%80%9A%E7%94%A8%E8%AF%8D                                                                                                                                                                         1\n",
       "https://www.sensorsdata.cn/?utm_source=baidu&utm_medium=cpc&utm_term=%E6%95%B0%E6%8D%AE%E5%8C%96%E8%BF%90%E8%90%A5&utm_content=%E9%80%9A%E7%94%A8%2D%E6%95%B0%E6%8D%AE%E8%BF%90%E8%90%A5&utm_campaign=%E9%80%9A%E7%94%A8%E8%AF%8D                                                                                                                                                                                                                     1\n",
       "https://sensorsdata.cn/b-round.html                                                                                                                                                                                                                                                                                                                                                                                                                   1\n",
       "https://www.sensorsdata.cn/?utm_source=baidu&utm_medium=cpc&utm_term=%E7%BD%91%E7%AB%99%E8%AE%BF%E5%AE%A2%E5%88%86%E6%9E%90&utm_content=%E9%80%9A%E7%94%A8%2D%E8%AE%BF%E5%AE%A2%E5%88%86%E6%9E%90&utm_campaign=%E9%80%9A%E7%94%A8%E8%AF%8D                                                                                                                                                                                                            1\n",
       "https://www.sensorsdata.cn/?utm_source=baidu&utm_medium=cpc&utm_term=%E5%A4%A7%E6%95%B0%E6%8D%AE%E5%88%86%E6%9E%90%E5%B7%A5%E5%85%B7&utm_content=%E9%80%9A%E7%94%A8-%E6%95%B0%E6%8D%AE%E5%88%86%E6%9E%90-%E4%BA%A7%E5%93%81&utm_campaign=%E9%80%9A%E7%94%A8%E8%AF%8D                                                                                                                                                                                  1\n",
       "https://www.sensorsdata.cn/?utm_source=baidu&utm_medium=cpc&utm_term=%E7%94%A8%E6%88%B7%E8%A1%8C%E4%B8%BA&utm_content=%E9%80%9A%E7%94%A8%2D%E7%94%A8%E6%88%B7%E8%A1%8C%E4%B8%BA%E5%88%86%E6%9E%90&utm_campaign=%E9%80%9A%E7%94%A8%E8%AF%8D                                                                                                                                                                                                            1\n",
       "https://www.sensorsdata.cn/?utm_source=baidu&utm_medium=cpc&utm_term=%E8%A7%86%E9%A2%91%E6%95%B0%E6%8D%AE%E5%88%86%E6%9E%90&utm_content=%E9%80%9A%E7%94%A8%2D%E6%95%B0%E6%8D%AE%E5%88%86%E6%9E%90%2D%E8%A1%8C%E4%B8%9A&utm_campaign=%E9%80%9A%E7%94%A8%E8%AF%8D                                                                                                                                                                                       1\n",
       "https://www.sensorsdata.cn/?utm_source=baidu&utm_medium=cpc&utm_term=%E9%87%91%E8%9E%8D%E5%A4%A7%E6%95%B0%E6%8D%AE%E5%88%86%E6%9E%90&utm_content=%E9%80%9A%E7%94%A8%2D%E6%95%B0%E6%8D%AE%E5%88%86%E6%9E%90%2D%E8%A1%8C%E4%B8%9A&utm_campaign=%E9%80%9A%E7%94%A8%E8%AF%8D                                                                                                                                                                              1\n",
       "https://www.sensorsdata.cn/?utm_source=google&utm_medium=cpc&utm_term=%E7%94%A8%E6%88%B7%E7%94%BB%E5%83%8F%E5%88%86%E6%9E%90&utm_content=%E9%80%9A%E7%94%A8%2D%E7%94%A8%E6%88%B7%E7%94%BB%E5%83%8F%2D%E4%BA%A7%E5%93%81&utm_campaign=G%2D%E9%80%9A%E7%94%A8%E8%AF%8D                                                                                                                                                                                  1\n",
       "https://www.sensorsdata.cn/?utm_source=baidu&utm_medium=cpc&utm_term=%E6%95%B0%E6%8D%AE%E5%8F%AF%E8%A7%86%E5%8C%96%E6%96%B9%E6%A1%88&utm_content=%E9%80%9A%E7%94%A8%2D%E6%95%B0%E6%8D%AE%E5%8F%AF%E8%A7%86%E5%8C%96&utm_campaign=%E9%80%9A%E7%94%A8%E8%AF%8D                                                                                                                                                                                          1\n",
       "https://www.sensorsdata.cn/?utm_source=baidu&utm_medium=cpc&utm_term=%E7%94%A8%E6%88%B7%E8%A1%8C%E4%B8%BA%E8%AE%B0%E5%BD%95&utm_content=%E9%80%9A%E7%94%A8%2D%E7%94%A8%E6%88%B7%E8%A1%8C%E4%B8%BA%E5%88%86%E6%9E%90&utm_campaign=%E9%80%9A%E7%94%A8%E8%AF%8D                                                                                                                                                                                          1\n",
       "https://www.sensorsdata.cn/?utm_source=baidu&utm_medium=cpc&utm_term=%E5%B9%BF%E5%91%8A%E6%95%88%E6%9E%9C%E8%AF%84%E4%BC%B0&utm_content=%E9%80%9A%E7%94%A8%2D%E5%B9%BF%E5%91%8A%E4%BC%98%E5%8C%96&utm_campaign=%E9%80%9A%E7%94%A8%E8%AF%8D                                                                                                                                                                                                            1\n",
       "https://www.sensorsdata.cn/?ch=pedaily                                                                                                                                                                                                                                                                                                                                                                                                                1\n",
       "https://www.sensorsdata.cn/?utm_source=baidu&utm_medium=cpc&utm_term=%e7%94%a8%e6%88%b7%e7%94%bb%e5%83%8f%20%e6%a0%87%e7%ad%be&utm_content=%e9%80%9a%e7%94%a8-%e7%94%a8%e6%88%b7%e7%94%bb%e5%83%8f&utm_campaign=%e9%80%9a%e7%94%a8%e8%af%8d                                                                                                                                                                                                           1\n",
       "https://www.sensorsdata.cn/?utm_source=baidu&utm_medium=cpc&utm_term=%e6%95%b0%e6%8d%ae%e5%88%86%e6%9e%90%e4%ba%a7%e5%93%81&utm_content=%e9%80%9a%e7%94%a8-%e6%95%b0%e6%8d%ae%e5%88%86%e6%9e%90-%e4%ba%a7%e5%93%81&utm_campaign=%e9%80%9a%e7%94%a8%e8%af%8d                                                                                                                                                                                           1\n",
       "https://www.sensorsdata.cn/?utm_source=baidu&utm_medium=cpc&utm_term=%E8%BF%90%E8%90%A5%E6%95%B0%E6%8D%AE%E5%88%86%E6%9E%90%E5%B7%A5%E5%85%B7&utm_content=%E9%80%9A%E7%94%A8%2D%E6%95%B0%E6%8D%AE%E5%88%86%E6%9E%90%2D%E4%BA%A7%E5%93%81&utm_campaign=%E9%80%9A%E7%94%A8%E8%AF%8D                                                                                                                                                                     1\n",
       "https://www.sensorsdata.cn/?utm_source=sogou&utm_medium=mcpc&utm_term=%E5%A4%A7%E6%95%B0%E6%8D%AE%E5%88%86%E6%9E%90%E8%BD%AF%E4%BB%B6&utm_content=%E9%80%9A%E7%94%A8-%E6%95%B0%E6%8D%AE%E5%88%86%E6%9E%90-%E4%BA%A7%E5%93%81&utm_campaign=S-%E9%80%9A%E7%94%A8%E8%AF%8D                                                                                                                                                                               1\n",
       "https://www.sensorsdata.cn/?utm_source=baidu&utm_medium=cpc&utm_term=%E7%94%A8%E6%88%B7%E7%94%BB%E5%83%8F&utm_content=%E9%80%9A%E7%94%A8-%E7%94%A8%E6%88%B7%E7%94%BB%E5%83%8F&utm_campaign=%E9%80%9A%E7%94%A8%E8%AF%8D&nsukey=kQnO7nST9yhCLK1CD%2FC9IzyBWkq%2Bis5z%2FWQg7Js5rBrA7F8u5GXsf%2BW4dglESxTpFPAfWc8dCuugaOHToXwf9SiZLRObkZuifCv79XXk6%2F%2FQkGkkWTtKHKNNLwr%2BPYMhOxOPVq%2F29OXM0Ur8POlTqKN0M3Ubc3vNTDGehjy667pBVRF2z2i6FYW7cl%2BH0FFx      1\n",
       "https://www.sensorsdata.cn/?utm_source=baidu&utm_medium=cpc&utm_term=p2p%E5%B9%B3%E5%8F%B0%E6%95%B0%E6%8D%AE%E5%88%86%E6%9E%90&utm_content=%E9%80%9A%E7%94%A8%2D%E6%95%B0%E6%8D%AE%E5%88%86%E6%9E%90%2D%E8%A1%8C%E4%B8%9A&utm_campaign=%E9%80%9A%E7%94%A8%E8%AF%8D                                                                                                                                                                                    1\n",
       "https://www.sensorsdata.cn/?utm_source=baidu&utm_medium=cpc&utm_term=%E7%94%A8%E6%88%B7%E7%94%BB%E5%83%8F%E7%94%9F%E6%88%90%E5%99%A8&utm_content=%E9%80%9A%E7%94%A8%2D%E7%94%A8%E6%88%B7%E7%94%BB%E5%83%8F%2D%E4%BA%A7%E5%93%81&utm_campaign=%E9%80%9A%E7%94%A8%E8%AF%8D                                                                                                                                                                              1\n",
       "https://sensorsdata.cn/product.html                                                                                                                                                                                                                                                                                                                                                                                                                   1\n",
       "https://www.sensorsdata.cn/?utm_source=baidu&utm_medium=cpc&utm_term=%E5%A4%A7%E6%95%B0%E6%8D%AE%E8%A7%A3%E5%86%B3%E6%96%B9%E6%A1%88&utm_content=%E9%80%9A%E7%94%A8%2D%E5%A4%A7%E6%95%B0%E6%8D%AE%2D%E6%96%B9%E6%A1%88&utm_campaign=%E9%80%9A%E7%94%A8%E8%AF%8D                                                                                                                                                                                       1\n",
       "Name: session_p, Length: 177, dtype: int64"
      ]
     },
     "execution_count": 41,
     "metadata": {},
     "output_type": "execute_result"
    }
   ],
   "source": [
    "df_dleave.session_p.value_counts(dropna=True)"
   ]
  },
  {
   "cell_type": "code",
   "execution_count": 42,
   "metadata": {},
   "outputs": [
    {
     "data": {
      "text/plain": [
       "https://www.baidu.com/baidu.php                                                                                                                                                                             1298\n",
       "                                                                                                                                                                                                            1108\n",
       "https://www.baidu.com/link                                                                                                                                                                                   268\n",
       "https://www.baidu.com/s                                                                                                                                                                                       83\n",
       "https://www.google.com/                                                                                                                                                                                       55\n",
       "https://www.google.com.hk/                                                                                                                                                                                    44\n",
       "https://www.google.co.jp/                                                                                                                                                                                     26\n",
       "https://www.sensorsdata.cn/                                                                                                                                                                                   21\n",
       "https://www.sensorsdata.cn/manual/                                                                                                                                                                            20\n",
       "http://www.baidu.com/baidu.php?sc.IBTK00jyNUHxgmbNsRNO9pwmCW85unoZ3RhY2LA2yYSIy_P_a2rpHF5Zfm3aK0gihACpb2uofjfdgZRsOOEuvUOyAkfOXqqepIc29omYi45Xz8W9GLtwRV3z95qkf9L8sUUhSJZy8T3JHqCw07_EkWHGsnIy6WlObvKeJa      20\n",
       "https://www.sensorsdata.cn/manual/query.html                                                                                                                                                                  16\n",
       "https://www.sensorsdata.cn/about.html                                                                                                                                                                         15\n",
       "http://www.sogou.com/bill_cpc?v=1&p=WJedUFVs989YOUdJ1eA36VXyFq6ASYk1dHTO8XNHJaok2ORYQwr0tiwFTVCfNIIjOC3fHx2G03ClajhGa2Clvxqjl7pYaPU@kaUR9mWyJPmLdaETTuNd8iYgHdpi7b0gsA$m5@sCzkZ$WfDrHtnNoeLlTTi@WqAAeht4      15\n",
       "https://qiye.aliyun.com/alimail/                                                                                                                                                                              13\n",
       "http://www.sensorsdata.cn/                                                                                                                                                                                    13\n",
       "https://www.google.com.ph/                                                                                                                                                                                    10\n",
       "http://mp.weixinbridge.com/mp/wapredirect?url=https%3A%2F%2Fwww.sensorsdata.cn%2Fdemo.html%3Futm_source%3Dwechat                                                                                              10\n",
       "https://www.sensorsdata.cn/index.html                                                                                                                                                                          9\n",
       "https://www.google.com.au/                                                                                                                                                                                     8\n",
       "https://www.sogou.com/link?url=DSOYnZeCC_reF_V0215oSdRkvO5tusgbxcLO2TQn7Ac.&query=%E7%A5%9E%E7%AD%96%E6%95%B0%E6%8D%AE%E5%AE%98%E7%BD%91                                                                       8\n",
       "https://sensorsdata.cn/                                                                                                                                                                                        8\n",
       "https://www.sensorsdata.cn/demo.html                                                                                                                                                                           7\n",
       "https://link.zhihu.com/?target=https%3A//www.sensorsdata.cn/index.html%3Futm_source%3Dzhihu%26utm_medium%3Danswer%26utm_campaign%3Dcaroline                                                                    7\n",
       "https://link.zhihu.com/?target=https%3A//sensorsdata.cn/demo.html                                                                                                                                              7\n",
       "https://link.zhihu.com/?target=https%3A//www.sensorsdata.cn                                                                                                                                                    7\n",
       "http://www.baidu.com/baidu.php?sc.Dz6K00jPaoXmKKI1hpfd4H0th5f7Ljx6oL_NUKpu-TD3SL2nnFIQ7TKPr4eCiGt-DvK7-W2l8aS4w9_UZvw5-p8iPTps1O0vrfPHVm0lR_7mWak7g6Mxyi5m1JtViQV5W1Nornl9dIls5AJF_5QgFFpRIKWhDJOu_Ymvpm       6\n",
       "http://www.baidu.com/baidu.php?sc.5iTK00KyNnnuXev3v_tLr5QzIEUSyCCbxZ5Tpv0JsysxhqYbH1ffVR_GUdnVnHFIpPVAtG2ANEZD4k71uqan6whnpENR1FmyeGiPePDzKKcZV4nbfl72viGRHFs2KK4tz_ljw1bxDT7AxfHKrG1BZwJ6oqs4_3uP8tXyUS       6\n",
       "http://link.zhihu.com/?target=http%3A//sensorsdata.cn/%3Fch%3Dzhihu                                                                                                                                            6\n",
       "http://36kr.com/                                                                                                                                                                                               6\n",
       "http://www.sogou.com/bill_cpc?v=1&p=WJhOU0LwC9lYBKbLKXbL@p9$vbg2ZAauNIJ2G6O6ZUr7qGFpiIeGBXWRinNLBu@sH445buL7aRZy9t4$7x46nx4PHajh7a4Z9nyy3d4nS0jFm@Qc3LeGc4TsKv@is0tPtEKyCfuiSiN5g01CLrT@i6SHda0QQa@dWkFZ       6\n",
       "                                                                                                                                                                                                            ... \n",
       "http://36kr.com/p/5046085.html                                                                                                                                                                                 1\n",
       "http://www.sogou.com/web?query=%E7%A5%9E%E7%AD%96&ie=utf8&_ast=1488796800&_asf=null&w=01029901&cid=&cid=&sut=2859&sst0=1488797048575&lkt=0%2C0%2C0                                                             1\n",
       "https://www.so.com/s?q=%E7%A5%9E%E7%AD%96%E6%95%B0%E6%8D%AE&src=srp&fr=se7_newtab_new&psid=ec33891fa2b8087bdd1b1ca420bac828                                                                                    1\n",
       "https://ebizdemo.cloud.sensorsdata.cn/import/?project=default                                                                                                                                                  1\n",
       "http://newseed.pedaily.cn/project/46531                                                                                                                                                                        1\n",
       "https://www.sensorsdata.cn/manual/index.html                                                                                                                                                                   1\n",
       "http://www.baidu.com/baidu.php?sc.kiTK000q8D4AsW_uSaRFY93K6UFouNaWnVlaF1SiDp594j2xe26tQ6f4QfuL3gvlhYy75tsQDxrZiE7t7xJcDIQgahwqMoWkyLV9UBcINmAp2M2MXLOdDaPlziS-qbu_GMySTnXDwDrqOg2Q0gPTdQUBHWEBPKHwyfL4ke       1\n",
       "https://m.baidu.com/?from=1000953f                                                                                                                                                                             1\n",
       "https://www.so.com/s?q=%E7%A5%9E%E7%AD%96%E5%88%86%E6%9E%90&src=srp&fr=hao_360so_a&psid=f7a4ba40d38438a7de8d281610d0efe1                                                                                       1\n",
       "https://www.so.com/s?q=%E7%A5%9E%E7%AD%96%E6%95%B0%E6%8D%AE&src=srp_suggst_3.2.2&fr=hao_360so_b&psid=d7f7014a0b5e6331945c09d1510efea0                                                                          1\n",
       "https://link.zhihu.com/?target=https%3A//sensorsdata.cn/                                                                                                                                                       1\n",
       "https://sensorsdata.cn/manual/user_sequence.html                                                                                                                                                               1\n",
       "http://m.sogou.com/web/searchList.jsp?uID=l0AwTZ8msHJ7Eh49&v=5&dp=1&e=1427&de=1&pid=sogou-clse-2996962656838a97&w=1278&t=1489424140584&s_t=1489453949101&s_from=result_up&keyword=%E7%A5%9E%E7%AD%96%E6%       1\n",
       "http://www.baidu.com/baidu.php?sc.2i6K00aYY-NfXdCVF8WzTl9HLOvC-T1fo0YuWu96R1vloHKbiVSTpBCRaCulEMswImD8Hwsas6PAFcRbD4Q0RuAlZo-e8pemJdndkT5ZBs4ibTQnfwE7RJFUlQr3wEO9BhO64NIyzzCS2kMM5rTanF-b0P3dvdfTV1H1BT       1\n",
       "https://sensorsdata.cn/manual/use_steps.html                                                                                                                                                                   1\n",
       "https://www.sensorsdata.cn/manual/user_access_path_ana.html                                                                                                                                                    1\n",
       "http://www.sogou.com/bill_cpc?v=1&p=WJhHUFC711lYCvqmuCZJkOHlXre9APxm8XbAMwZAGv9L9pZ7igZiee4cI8uX3bxlflJFVZb9kwy9jZ5$yoQ9U9USUIVlF982yltpJOPkAoF5bN$H9TKvMdEEsrsTTU@IRXISa3CWntV55@$ZdrQArFEFz$2EuTtx@r4C       1\n",
       "https://www.daxiangrenshi.com/                                                                                                                                                                                 1\n",
       "https://passport.36kr.com/pages/?ok_url=%2Foauth%2Fauthorize%3Fclient_id%3Dd80f4c1aaba936ced68ebac474a68ce6c2ca2d6ae346d8232ccf6b9c573f9bb7%26redirect_uri%3Dhttps%253A%252F%252Frong.36kr.com%252Foauth       1\n",
       "https://www.sensorsdata.cn/?utm_source=baidu&utm_medium=cpc&utm_term=%E7%A5%9E%E7%AD%96&utm_content=%E5%93%81%E7%89%8C%2D%E7%A5%9E%E7%AD%96&utm_campaign=%E5%93%81%E7%89%8C%E8%AF%8D                           1\n",
       "http://www.sogou.com/bill_cpc?v=1&p=WJhNUbMaVR9UJX2EHEseJfO6$u1QVXVmGiXKwZHQY$tA20BXJI5B4QSMTjBEWLr0XqPoocLjLw0VQYAwOtUJJhAAcjVYXc1oQnoKoRPBqetHaGhRETTKhDsT9H3cARbupXN5E0ddcnb4Qh@LHNbmHFITa0Cbl@0fCIq5       1\n",
       "https://sensorsdata.cn/manual/use_feature_video.html                                                                                                                                                           1\n",
       "http://www.baidu.com/baidu.php?sc.7aTK000CsN4Tg5PoJD2RkwGeLKw1QQX_gsd5_9wivon8TF7uPKdUs4_3FnTw1N47PgPb_OAt2SvUGv1KPG8Hq2iwK4vdsILAzxmfDHP5bh4Dd0RtxtSc6ED1UtRAXR-2a0yMuRZxfnq-aPU6IRzGs-dsc3h-7iNPINYT4S       1\n",
       "https://note.youdao.com/web/                                                                                                                                                                                   1\n",
       "http://www.baidu.com/link?url=qdddJPjEbvEv7C3mgbm98w9Qb37zDLGrPr0hwtavt5WOYWD5-2Qc4Jxmw52S4NJO&wd=&eqid=886e8ef9000987760000000358be32a0                                                                       1\n",
       "http://cn.bing.com/search?q=sensorsdata&src=IE-SearchBox&FORM=IENTTR&conversationid=&pc=EUPP_                                                                                                                  1\n",
       "https://www.so.com/s?ie=utf-8&src=hao_360so_a1004&shb=1&hsid=7d84d356110baef3&q=%E7%A5%9E%E7%AD%96%E6%95%B0%E6%8D%AE                                                                                           1\n",
       "http://www.baidu.com/baidu.php?sc.Dz6K00jBgtQku-zxy1co27RWhiy-NJznzQ6FdEUZKZiGTMCY7dUt0qLiXDML7zJSaxcy-PfoIEf0PnWDNkrhWGpx2fGuyFrF2x3MK8uKsaMYheW-7v85LF7VxIqKhc2C6a7t-HQsv2dVXUkjcx7ZRcqgl6x97bEaEsn7-M       1\n",
       "http://class.sanjieke.cn/online/course/cid/1548228.html                                                                                                                                                        1\n",
       "https://www.sensorsdata.cn/manual/changelog.html                                                                                                                                                               1\n",
       "Name: screen_r, Length: 190, dtype: int64"
      ]
     },
     "execution_count": 42,
     "metadata": {},
     "output_type": "execute_result"
    }
   ],
   "source": [
    "df_dleave.screen_r.value_counts(dropna=True)"
   ]
  },
  {
   "cell_type": "code",
   "execution_count": 43,
   "metadata": {},
   "outputs": [
    {
     "data": {
      "text/plain": [
       "www.baidu.com                             1725\n",
       "                                          1106\n",
       "www.sensorsdata.cn                         146\n",
       "www.sogou.com                               71\n",
       "www.google.com                              55\n",
       "www.google.com.hk                           44\n",
       "link.zhihu.com                              35\n",
       "www.so.com                                  32\n",
       "www.google.co.jp                            26\n",
       "sensorsdata.cn                              17\n",
       "36kr.com                                    14\n",
       "qiye.aliyun.com                             13\n",
       "cn.bing.com                                 12\n",
       "mp.weixinbridge.com                         10\n",
       "www.google.com.ph                           10\n",
       "www.google.com.au                            8\n",
       "www.woshipm.com                              5\n",
       "www.itjuzi.com                               5\n",
       "mail.qq.com                                  5\n",
       "wenku.baidu.com                              5\n",
       "exmail.qq.com                                5\n",
       "passport.36kr.com                            4\n",
       "www.google.com.sg                            4\n",
       "www.tisiwi.com                               4\n",
       "mail.alibaba-inc.com                         4\n",
       "m.baidu.com                                  3\n",
       "www.qichacha.com                             3\n",
       "www.rinterest.cn                             3\n",
       "class.sanjieke.cn                            3\n",
       "www.juudian.com                              3\n",
       "qiye.36kr.com                                2\n",
       "newseed.pedaily.cn                           2\n",
       "wiki.dataengine.com                          2\n",
       "note.youdao.com                              1\n",
       "tower.im                                     1\n",
       "www.oneapm.com                               1\n",
       "shimo.im                                     1\n",
       "mail.163.com                                 1\n",
       "m.sogou.com                                  1\n",
       "a.youdao.com                                 1\n",
       "www.google.nl                                1\n",
       "pintu.corp.36kr.com                          1\n",
       "shouce.kuchuan.com                           1\n",
       "sensorsdata.vipkid.com.cn                    1\n",
       "wiki.sankuai.com                             1\n",
       "wemart.cloud.sensorsdata.cn                  1\n",
       "ebizdemo.cloud.sensorsdata.cn                1\n",
       "www.google.com.vn                            1\n",
       "huaban.com                                   1\n",
       "www.daxiangrenshi.com                        1\n",
       "www.google.com.tw                            1\n",
       "cpro.baidu.com                               1\n",
       "youxuan.baidu.com                            1\n",
       "tieba.baidu.com                              1\n",
       "next.36kr.com                                1\n",
       "localhost                                    1\n",
       "www.linear.vc                                1\n",
       "zhengbangchuangyi.cloud.sensorsdata.cn       1\n",
       "Name: screen_rh, dtype: int64"
      ]
     },
     "execution_count": 43,
     "metadata": {},
     "output_type": "execute_result"
    }
   ],
   "source": [
    "df_dleave.screen_rh.value_counts(dropna=True)"
   ]
  },
  {
   "cell_type": "markdown",
   "metadata": {},
   "source": [
    "session_page_url extract referrer data to session_r, and further clean the data to session_rh. \n",
    "The last two have over 1000 empty rows.\n",
    "We can see how the session_r/session_rh classify as empty"
   ]
  },
  {
   "cell_type": "code",
   "execution_count": 44,
   "metadata": {},
   "outputs": [
    {
     "data": {
      "text/plain": [
       "16                    https://www.sensorsdata.cn/demo.html\n",
       "34                    https://www.sensorsdata.cn/demo.html\n",
       "38                    https://www.sensorsdata.cn/demo.html\n",
       "42                    https://www.sensorsdata.cn/demo.html\n",
       "48                    https://www.sensorsdata.cn/demo.html\n",
       "56                    https://www.sensorsdata.cn/demo.html\n",
       "107                        https://sensorsdata.cn/?ch=demo\n",
       "139                   https://www.sensorsdata.cn/demo.html\n",
       "150                                https://sensorsdata.cn/\n",
       "154                                https://sensorsdata.cn/\n",
       "172                            https://www.sensorsdata.cn/\n",
       "173                            https://www.sensorsdata.cn/\n",
       "255                   https://www.sensorsdata.cn/demo.html\n",
       "399         https://www.sensorsdata.cn/demo.html?winzoom=1\n",
       "424                   https://www.sensorsdata.cn/demo.html\n",
       "427                   https://www.sensorsdata.cn/demo.html\n",
       "473         https://www.sensorsdata.cn/demo.html?winzoom=1\n",
       "496                   https://www.sensorsdata.cn/demo.html\n",
       "506         https://www.sensorsdata.cn/demo.html?winzoom=1\n",
       "541                   https://www.sensorsdata.cn/demo.html\n",
       "552                   https://www.sensorsdata.cn/demo.html\n",
       "555                   https://www.sensorsdata.cn/demo.html\n",
       "572                        https://sensorsdata.cn/?ch=demo\n",
       "590                   https://www.sensorsdata.cn/demo.html\n",
       "593                   https://www.sensorsdata.cn/demo.html\n",
       "599                   https://www.sensorsdata.cn/demo.html\n",
       "605                   https://www.sensorsdata.cn/demo.html\n",
       "618                   https://www.sensorsdata.cn/demo.html\n",
       "621                   https://www.sensorsdata.cn/demo.html\n",
       "627                   https://www.sensorsdata.cn/demo.html\n",
       "                               ...                        \n",
       "72075                              https://sensorsdata.cn/\n",
       "72087                              https://sensorsdata.cn/\n",
       "72099                https://www.sensorsdata.cn/index.html\n",
       "72101                https://www.sensorsdata.cn/index.html\n",
       "72164                 https://www.sensorsdata.cn/demo.html\n",
       "72213                              https://sensorsdata.cn/\n",
       "72297    https://www.sensorsdata.cn/?utm_source=baidu&u...\n",
       "72340                          https://www.sensorsdata.cn/\n",
       "72342                          https://www.sensorsdata.cn/\n",
       "72433                          https://www.sensorsdata.cn/\n",
       "72526                 https://www.sensorsdata.cn/demo.html\n",
       "72556                          https://www.sensorsdata.cn/\n",
       "72593                          https://www.sensorsdata.cn/\n",
       "72610                 https://www.sensorsdata.cn/demo.html\n",
       "72611                     https://sensorsdata.cn/demo.html\n",
       "72657                          https://www.sensorsdata.cn/\n",
       "72778                 https://www.sensorsdata.cn/demo.html\n",
       "72798                          https://www.sensorsdata.cn/\n",
       "73015                     https://sensorsdata.cn/demo.html\n",
       "73063                  https://sensorsdata.cn/b-round.html\n",
       "73088    https://www.sensorsdata.cn/?utm_source=baidu&u...\n",
       "73089    https://www.sensorsdata.cn/?utm_source=baidu&u...\n",
       "73103                              https://sensorsdata.cn/\n",
       "73133                https://www.sensorsdata.cn/index.html\n",
       "73314                     https://sensorsdata.cn/demo.html\n",
       "73477                              https://sensorsdata.cn/\n",
       "73724                 https://www.sensorsdata.cn/demo.html\n",
       "74017                    https://sensorsdata.cn/index.html\n",
       "74430                              https://sensorsdata.cn/\n",
       "74868                     https://sensorsdata.cn/demo.html\n",
       "Name: session_p, Length: 1108, dtype: object"
      ]
     },
     "execution_count": 44,
     "metadata": {},
     "output_type": "execute_result"
    }
   ],
   "source": [
    "df_dleave['session_p'].loc[df_dleave['screen_r'] == '']"
   ]
  },
  {
   "cell_type": "markdown",
   "metadata": {},
   "source": [
    "most of empty session_r and session_rh are directly from sensordata website, a few have utm_s: baidu"
   ]
  },
  {
   "cell_type": "code",
   "execution_count": 45,
   "metadata": {},
   "outputs": [
    {
     "data": {
      "text/plain": [
       "baidu                 1841\n",
       "sogou                   60\n",
       "sales4c                 18\n",
       "google                  11\n",
       "wechat                  10\n",
       "tianguang                9\n",
       "admin                    9\n",
       "zhihu                    7\n",
       "liujinbo1                4\n",
       "sanjieke.cn              4\n",
       "hao.caibaojian.com       2\n",
       "next.36kr.com            2\n",
       "sunwenliang              2\n",
       "yupan                    1\n",
       "gaoxiaoqing              1\n",
       "linhuiyong               1\n",
       "qiye.36kr.com            1\n",
       "sina                     1\n",
       "liuyaozhou               1\n",
       "Name: latest_utm_s, dtype: int64"
      ]
     },
     "execution_count": 45,
     "metadata": {},
     "output_type": "execute_result"
    }
   ],
   "source": [
    "df_dleave.latest_utm_s.value_counts(dropna=True)"
   ]
  },
  {
   "cell_type": "markdown",
   "metadata": {},
   "source": [
    "latest_utm_s has 1426 empty, they come from sesordata website directly\n",
    "considering the number, we can bin this feature as baidu and not baidu"
   ]
  },
  {
   "cell_type": "code",
   "execution_count": 70,
   "metadata": {
    "collapsed": true
   },
   "outputs": [],
   "source": [
    "df['source'] = (df.latest_utm_s == 'baidu') * 1"
   ]
  },
  {
   "cell_type": "code",
   "execution_count": 71,
   "metadata": {},
   "outputs": [
    {
     "data": {
      "text/plain": [
       "1    36085\n",
       "0    29588\n",
       "Name: source, dtype: int64"
      ]
     },
     "execution_count": 71,
     "metadata": {},
     "output_type": "execute_result"
    }
   ],
   "source": [
    "df.source.value_counts(dropna=True)"
   ]
  },
  {
   "cell_type": "code",
   "execution_count": 46,
   "metadata": {},
   "outputs": [
    {
     "data": {
      "text/plain": [
       "https://www.sensorsdata.cn/demo.html                                                                                                                                                                                                                                2633\n",
       "https://sensorsdata.cn/demo.html                                                                                                                                                                                                                                     736\n",
       "https://www.sensorsdata.cn/demo.html?winzoom=1                                                                                                                                                                                                                        29\n",
       "https://sensorsdata.cn/demo.html?winzoom=1                                                                                                                                                                                                                             5\n",
       "https://www.sensorsdata.cn/demo.html?utm_source=wechat                                                                                                                                                                                                                 4\n",
       "https://www.sensorsdata.cn/demo.html?token=9c283f5711ef03e61e2a67c007100fce                                                                                                                                                                                            2\n",
       "https://www.sensorsdata.cn/demo.html?nsukey=cEEUtJj4dF5vv5WzHyla%2BvjhGpjRlv%2BPdVgWjkgvh5I6fHdixV8Yw6Z6%2FBHZmbjxeel44zKXkTGFVQfNhVCGOuIcutU9bpn%2Bg%2FuHTudj3BwZB9bNmIfyrVH38ZqV%2FMt3oi6%2F7ohJ8XeUYTEVxX0uMQw0WZM6A4jmYjnNcjMAQlwEy%2BscwS0cFz7bbE%2F0rTY%2F       1\n",
       "https://www.sensorsdata.cn/demo.html?token=9c283f5711ef03e61e2a67c007100fce&project=new_project                                                                                                                                                                        1\n",
       "Name: pageUrl, dtype: int64"
      ]
     },
     "execution_count": 46,
     "metadata": {},
     "output_type": "execute_result"
    }
   ],
   "source": [
    "df_dleave.pageUrl.value_counts(dropna=True)"
   ]
  },
  {
   "cell_type": "code",
   "execution_count": 47,
   "metadata": {},
   "outputs": [
    {
     "data": {
      "text/plain": [
       "1.0    3411\n",
       "Name: pageP, dtype: int64"
      ]
     },
     "execution_count": 47,
     "metadata": {},
     "output_type": "execute_result"
    }
   ],
   "source": [
    "df_dleave.pageP.value_counts(dropna=True)"
   ]
  },
  {
   "cell_type": "markdown",
   "metadata": {},
   "source": [
    "PageUrl and PageP has the same information: demo page"
   ]
  },
  {
   "cell_type": "code",
   "execution_count": 48,
   "metadata": {},
   "outputs": [
    {
     "data": {
      "text/plain": [
       "count    3.411000e+03\n",
       "mean     1.199060e+04\n",
       "std      7.518954e+04\n",
       "min      8.400000e-02\n",
       "25%      4.633000e+00\n",
       "50%      3.514100e+01\n",
       "75%      1.085848e+03\n",
       "max      2.918014e+06\n",
       "Name: pageS, dtype: float64"
      ]
     },
     "execution_count": 48,
     "metadata": {},
     "output_type": "execute_result"
    }
   ],
   "source": [
    "df_dleave.pageS.describe()"
   ]
  },
  {
   "cell_type": "code",
   "execution_count": 49,
   "metadata": {},
   "outputs": [
    {
     "data": {
      "text/plain": [
       "browser                    0\n",
       "browser_v                  0\n",
       "ch                     13866\n",
       "day                        0\n",
       "dist_id                    0\n",
       "event                      0\n",
       "from_url               13866\n",
       "ip                         0\n",
       "isMsg                  13866\n",
       "isSuccess              13866\n",
       "is_fd                      0\n",
       "is_ft                      0\n",
       "latest_ch              11837\n",
       "latest_r                  78\n",
       "latest_rh                 78\n",
       "latest_utm_campaign     5227\n",
       "latest_utm_content      5451\n",
       "latest_utm_m            5263\n",
       "latest_utm_s            5069\n",
       "latest_utm_t            5383\n",
       "model                      0\n",
       "name                       0\n",
       "nocache                    0\n",
       "os                         0\n",
       "os_version                 0\n",
       "page                    2150\n",
       "pageP                  13866\n",
       "pageS                  13866\n",
       "pageUrl                    0\n",
       "refer_Host             13866\n",
       "referrHostUrl          13866\n",
       "referrer               13866\n",
       "referrerUrl            13866\n",
       "requestBtn             10899\n",
       "result                 13866\n",
       "screen_h                   0\n",
       "screen_r                   0\n",
       "screen_rh                  0\n",
       "screen_w                   0\n",
       "session_p                  2\n",
       "siteUrl                13866\n",
       "site_url               13866\n",
       "time                       0\n",
       "title                  13866\n",
       "tp                         0\n",
       "url                    13866\n",
       "url_path               13866\n",
       "dtype: int64"
      ]
     },
     "execution_count": 49,
     "metadata": {},
     "output_type": "execute_result"
    }
   ],
   "source": [
    "df_btnclick.isnull().sum()"
   ]
  },
  {
   "cell_type": "markdown",
   "metadata": {},
   "source": [
    "Total number of rows in btnclick: 13866; posible features with not too much null values.\n",
    "latest_r                  78\n",
    "latest_rh                 78\n",
    "latest_utm_campaign     5227\n",
    "latest_utm_content      5451\n",
    "latest_utm_m            5263\n",
    "latest_utm_s            5069\n",
    "latest_utm_t            5383\n",
    "page                    2150\n",
    "pageUrl                    0\n",
    "screen_h                   0\n",
    "screen_r                   0\n",
    "screen_rh                  0\n",
    "screen_w                   0\n",
    "session_p                  2"
   ]
  },
  {
   "cell_type": "code",
   "execution_count": 50,
   "metadata": {},
   "outputs": [
    {
     "data": {
      "text/plain": [
       "baidu                 7921\n",
       "sogou                  368\n",
       "sales4c                 96\n",
       "wechat                  78\n",
       "admin                   71\n",
       "google                  70\n",
       "sanjieke.cn             69\n",
       "sunwenliang             22\n",
       "mulumu.com              18\n",
       "tianguang               14\n",
       "next.36kr.com           11\n",
       "gaoxiaoqing             10\n",
       "liuyaozhou               9\n",
       "zhihu                    9\n",
       "sina                     6\n",
       "hao.caibaojian.com       5\n",
       "toutiao.io               5\n",
       "liujinbo1                4\n",
       "admin10                  3\n",
       "qiye.36kr.com            2\n",
       "email                    2\n",
       "shenyulong               2\n",
       "linhuiyong               1\n",
       "yupan                    1\n",
       "Name: latest_utm_s, dtype: int64"
      ]
     },
     "execution_count": 50,
     "metadata": {},
     "output_type": "execute_result"
    }
   ],
   "source": [
    "df_btnclick.latest_utm_s.value_counts()"
   ]
  },
  {
   "cell_type": "code",
   "execution_count": 51,
   "metadata": {},
   "outputs": [
    {
     "data": {
      "text/plain": [
       "index            7964\n",
       "demo             2242\n",
       "about             816\n",
       "courses_index     694\n",
       "Name: page, dtype: int64"
      ]
     },
     "execution_count": 51,
     "metadata": {},
     "output_type": "execute_result"
    }
   ],
   "source": [
    "df_btnclick.page.value_counts()"
   ]
  },
  {
   "cell_type": "code",
   "execution_count": 52,
   "metadata": {},
   "outputs": [
    {
     "data": {
      "text/plain": [
       "request     2967\n",
       "demo        2783\n",
       "document    2067\n",
       "product     1942\n",
       "b-round     1245\n",
       "about        925\n",
       "blog         803\n",
       "viedo        550\n",
       "logo         508\n",
       "mail          76\n",
       "Name: name, dtype: int64"
      ]
     },
     "execution_count": 52,
     "metadata": {},
     "output_type": "execute_result"
    }
   ],
   "source": [
    "df_btnclick.name.value_counts()"
   ]
  },
  {
   "cell_type": "markdown",
   "metadata": {},
   "source": [
    "btnclick has 2242 demo in page and 2783 demo in name, while demo leave has 3411 items"
   ]
  },
  {
   "cell_type": "code",
   "execution_count": 53,
   "metadata": {},
   "outputs": [
    {
     "data": {
      "text/plain": [
       "browser                    0\n",
       "browser_v                  0\n",
       "ch                       285\n",
       "day                        0\n",
       "dist_id                    0\n",
       "event                      0\n",
       "from_url               32620\n",
       "ip                         0\n",
       "isMsg                  32620\n",
       "isSuccess              32620\n",
       "is_fd                      0\n",
       "is_ft                      0\n",
       "latest_ch              28948\n",
       "latest_r                 587\n",
       "latest_rh                587\n",
       "latest_utm_campaign    13847\n",
       "latest_utm_content     14498\n",
       "latest_utm_m           13975\n",
       "latest_utm_s           13507\n",
       "latest_utm_t           14330\n",
       "model                      0\n",
       "name                   32620\n",
       "nocache                    0\n",
       "os                         0\n",
       "os_version                 0\n",
       "page                   32620\n",
       "pageP                  32620\n",
       "pageS                  32620\n",
       "pageUrl                32620\n",
       "refer_Host               285\n",
       "referrHostUrl          32620\n",
       "referrer                 286\n",
       "referrerUrl            32620\n",
       "requestBtn             32620\n",
       "result                 32620\n",
       "screen_h                   0\n",
       "screen_r                2618\n",
       "screen_rh               2625\n",
       "screen_w                   0\n",
       "session_p               2795\n",
       "siteUrl                32620\n",
       "site_url               32620\n",
       "time                       0\n",
       "title                      0\n",
       "tp                         0\n",
       "url                       22\n",
       "url_path                   0\n",
       "dtype: int64"
      ]
     },
     "execution_count": 53,
     "metadata": {},
     "output_type": "execute_result"
    }
   ],
   "source": [
    "df_view.isnull().sum()"
   ]
  },
  {
   "cell_type": "markdown",
   "metadata": {},
   "source": [
    "Total number of rows in page view: 32620"
   ]
  },
  {
   "cell_type": "code",
   "execution_count": 54,
   "metadata": {},
   "outputs": [
    {
     "data": {
      "text/plain": [
       "神策数据 | Sensors Data - 国内领先的用户行为分析产品                                                                                                                                                                                                                                                                                                                                                                                                                                                                                     13700\n",
       "神策分析|Sensors Analytics-帮你实现数据驱动－demo                                                                                                                                                                                                                                                                                                                                                                                                                                                                                     4148\n",
       "介绍 · Sensors Analytics 使用手册                                                                                                                                                                                                                                                                                                                                                                                                                                                                                              3542\n",
       "神策分析|Sensors Analytics-帮你实现数据驱动－产品                                                                                                                                                                                                                                                                                                                                                                                                                                                                                       2455\n",
       "神策分析|Sensors Analytics-帮你实现数据驱动－B轮融资发布会                                                                                                                                                                                                                                                                                                                                                                                                                                                                                  1899\n",
       "神策分析|Sensors Analytics-帮你实现数据驱动－关于                                                                                                                                                                                                                                                                                                                                                                                                                                                                                       1183\n",
       "神策分析|Sensors Analytics-帮你实现数据驱动-视频列表                                                                                                                                                                                                                                                                                                                                                                                                                                                                                     1129\n",
       "神策分析|Sensors Analytics-帮你实现数据驱动－视频播放                                                                                                                                                                                                                                                                                                                                                                                                                                                                                      830\n",
       "数据模型 · Sensors Analytics 使用手册                                                                                                                                                                                                                                                                                                                                                                                                                                                                                             232\n",
       "JavaScript SDK · Sensors Analytics 使用手册                                                                                                                                                                                                                                                                                                                                                                                                                                                                                   214\n",
       "事件分析 · Sensors Analytics 使用手册                                                                                                                                                                                                                                                                                                                                                                                                                                                                                             152\n",
       "数据格式 · Sensors Analytics 使用手册                                                                                                                                                                                                                                                                                                                                                                                                                                                                                             150\n",
       "可视化埋点 · Sensors Analytics 使用手册                                                                                                                                                                                                                                                                                                                                                                                                                                                                                            148\n",
       "神策分析|Sensors Analytics-帮你实现数据驱动-网址构建工具                                                                                                                                                                                                                                                                                                                                                                                                                                                                                    147\n",
       "weixin://private/setresult/SCENE_FETCHQUEUE&eyJmdW5jIjoibG9nIiwicGFyYW1zIjp7Im1zZyI6Il9ydW5PbjNyZEFwaUxpc3QgOiBtZW51OnNoYXJlOnRpbWVsaW5lLG1lbnU6c2hhcmU6YXBwbWVzc2FnZSxvblZvaWNlUmVjb3JkRW5kLG9uVm9pY2VQbGF5QmVnaW4sb25Wb2ljZVBsYXlFbmQsb25Mb2NhbEltYWdlVXBsb2FkUHJvZ3Jlc3Msb25JbWFnZURvd25sb2FkUHJvZ3Jlc3Msb25Wb2ljZVVwbG9hZFByb2dyZXNzLG9uVm9pY2VEb3dubG9hZFByb2dyZXNzLG1lbnU6c2V0Zm9udCxtZW51OnNoYXJlOndlaWJvLG1lbnU6c2hhcmU6ZW1haWwsd3hkb3dubG9hZDpzdGF0ZV9jaGFuZ2UsaGRPbkRldmljZVN0YXRlQ2hhbmdlZCxhY3Rpdml0eTpz      142\n",
       "数据接入 · Sensors Analytics 使用手册                                                                                                                                                                                                                                                                                                                                                                                                                                                                                             139\n",
       "Android SDK · Sensors Analytics 使用手册                                                                                                                                                                                                                                                                                                                                                                                                                                                                                      132\n",
       "电商类产品 · Sensors Analytics 使用手册                                                                                                                                                                                                                                                                                                                                                                                                                                                                                            120\n",
       "iOS SDK · Sensors Analytics 使用手册                                                                                                                                                                                                                                                                                                                                                                                                                                                                                          118\n",
       "神策分析|Sensors Analytics-帮你实现数据驱动-JavaScript SDK 自动生成工具                                                                                                                                                                                                                                                                                                                                                                                                                                                                     110\n",
       "整体使用流程 · Sensors Analytics 使用手册                                                                                                                                                                                                                                                                                                                                                                                                                                                                                           100\n",
       "如何准确的标识用户 · Sensors Analytics 使用手册                                                                                                                                                                                                                                                                                                                                                                                                                                                                                         96\n",
       "惠州网站建设|惠州网站设计|惠州网站制作|网站设计-微斯诺科技                                                                                                                                                                                                                                                                                                                                                                                                                                                                                            81\n",
       "漏斗分析 · Sensors Analytics 使用手册                                                                                                                                                                                                                                                                                                                                                                                                                                                                                              78\n",
       "用户分群 · Sensors Analytics 使用手册                                                                                                                                                                                                                                                                                                                                                                                                                                                                                              76\n",
       "留存分析 · Sensors Analytics 使用手册                                                                                                                                                                                                                                                                                                                                                                                                                                                                                              67\n",
       "Java SDK · Sensors Analytics 使用手册                                                                                                                                                                                                                                                                                                                                                                                                                                                                                          67\n",
       "weixin://private/setresult/SCENE_HANDLEMSGFROMWX&eyJfX2Vycl9jb2RlIjoiY2I0MDQifQ==                                                                                                                                                                                                                                                                                                                                                                                                                                          60\n",
       "自定义查询 · Sensors Analytics 使用手册                                                                                                                                                                                                                                                                                                                                                                                                                                                                                             58\n",
       "用户路径分析 · Sensors Analytics 使用手册                                                                                                                                                                                                                                                                                                                                                                                                                                                                                            50\n",
       "                                                                                                                                                                                                                                                                                                                                                                                                                                                                                                                        ...  \n",
       "功能 API · Sensors Analytics 使用手册                                                                                                                                                                                                                                                                                                                                                                                                                                                                                             7\n",
       "微信小程序 SDK · Sensors Analytics 使用手册                                                                                                                                                                                                                                                                                                                                                                                                                                                                                          7\n",
       "数据接入 API · Sensors Analytics 使用手册                                                                                                                                                                                                                                                                                                                                                                                                                                                                                           7\n",
       "订阅实时数据 · Sensors Analytics 使用手册                                                                                                                                                                                                                                                                                                                                                                                                                                                                                             7\n",
       "从外部 Kafka 接入数据的方案 · Sensors Analytics 使用手册                                                                                                                                                                                                                                                                                                                                                                                                                                                                                  6\n",
       "关于我们 · Sensors Analytics 使用手册                                                                                                                                                                                                                                                                                                                                                                                                                                                                                               6\n",
       "数据接入基本原则 · Sensors Analytics 使用手册                                                                                                                                                                                                                                                                                                                                                                                                                                                                                           6\n",
       "Ruby SDK · Sensors Analytics 使用手册                                                                                                                                                                                                                                                                                                                                                                                                                                                                                           6\n",
       "第三方登录 · Sensors Analytics 使用手册                                                                                                                                                                                                                                                                                                                                                                                                                                                                                              5\n",
       "推荐分享 · Sensors Analytics 使用手册                                                                                                                                                                                                                                                                                                                                                                                                                                                                                               5\n",
       "CustomUserSegmenter 使用说明 · Sensors Analytics 使用手册                                                                                                                                                                                                                                                                                                                                                                                                                                                                           5\n",
       "Java SDK Demo · Sensors Analytics 使用手册                                                                                                                                                                                                                                                                                                                                                                                                                                                                                      4\n",
       "APICloud SDK · Sensors Analytics 使用手册                                                                                                                                                                                                                                                                                                                                                                                                                                                                                       4\n",
       "3 神策数据 | Sensors Data - 国内领先的用户行为分析产品                                                                                                                                                                                                                                                                                                                                                                                                                                                                                       3\n",
       "元数据创建工具使用说明 · Sensors Analytics 使用手册                                                                                                                                                                                                                                                                                                                                                                                                                                                                                        3\n",
       "基础指标解释和配置 · Sensors Analytics 使用手册                                                                                                                                                                                                                                                                                                                                                                                                                                                                                          3\n",
       "查询抽样 · Sensors Analytics 使用手册                                                                                                                                                                                                                                                                                                                                                                                                                                                                                               3\n",
       "数据校验及元数据创建 · Sensors Analytics 使用手册                                                                                                                                                                                                                                                                                                                                                                                                                                                                                         2\n",
       "导入辅助工具 · Sensors Analytics 使用手册                                                                                                                                                                                                                                                                                                                                                                                                                                                                                             2\n",
       "3 神策分析|Sensors Analytics-帮你实现数据驱动－产品                                                                                                                                                                                                                                                                                                                                                                                                                                                                                        2\n",
       "神策分析 | Sensors Analytics - 帮你实现数据驱动－B 轮融资发布会                                                                                                                                                                                                                                                                                                                                                                                                                                                                                1\n",
       "3 神策分析|Sensors Analytics-帮你实现数据驱动－关于                                                                                                                                                                                                                                                                                                                                                                                                                                                                                        1\n",
       "其他辅助工具 · Sensors Analytics 使用手册                                                                                                                                                                                                                                                                                                                                                                                                                                                                                             1\n",
       "分析师事件权限设置工具 · Sensors Analytics 使用手册                                                                                                                                                                                                                                                                                                                                                                                                                                                                                        1\n",
       "4 介绍 · Sensors Analytics 使用手册                                                                                                                                                                                                                                                                                                                                                                                                                                                                                               1\n",
       "3 神策分析|Sensors Analytics-帮你实现数据驱动－demo                                                                                                                                                                                                                                                                                                                                                                                                                                                                                      1\n",
       "C SDK · Sensors Analytics 使用手册                                                                                                                                                                                                                                                                                                                                                                                                                                                                                              1\n",
       "导入状态 · Sensors Analytics 使用手册                                                                                                                                                                                                                                                                                                                                                                                                                                                                                               1\n",
       "Sensor Analytics - help you implement data drivers                                                                                                                                                                                                                                                                                                                                                                                                                                                                          1\n",
       "进阶使用场景 · Sensors Analytics 使用手册                                                                                                                                                                                                                                                                                                                                                                                                                                                                                             1\n",
       "Name: title, Length: 108, dtype: int64"
      ]
     },
     "execution_count": 54,
     "metadata": {},
     "output_type": "execute_result"
    }
   ],
   "source": [
    "df_view.title.value_counts(dropna=True)"
   ]
  },
  {
   "cell_type": "code",
   "execution_count": 55,
   "metadata": {},
   "outputs": [
    {
     "data": {
      "text/plain": [
       "www.sensorsdata.cn                        12634\n",
       "                                           7091\n",
       "www.baidu.com                              6284\n",
       "sensorsdata.cn                             2764\n",
       "m.baidu.com                                 816\n",
       "www.sogou.com                               352\n",
       "36kr.com                                    208\n",
       "www.google.com.hk                           166\n",
       "www.google.com                              156\n",
       "localhost                                   154\n",
       "m.sogou.com                                 147\n",
       "link.zhihu.com                              146\n",
       "wap.sogou.com                               144\n",
       "image.baidu.com                              67\n",
       "www.so.com                                   67\n",
       "www.google.co.jp                             48\n",
       "ebizdemo.cloud.sensorsdata.cn                41\n",
       "googleads.g.doubleclick.net                  41\n",
       "www.woshipm.com                              34\n",
       "cn.bing.com                                  33\n",
       "zhidao.baidu.com                             23\n",
       "sensors.ishansong.com                        21\n",
       "data.isoubu.com                              21\n",
       "sensorswww.cloud.sensorsdata.cn              20\n",
       "zhengbangchuangyi.cloud.sensorsdata.cn       20\n",
       "youxuan.baidu.com                            20\n",
       "data.corp.36kr.com                           17\n",
       "wapbaike.baidu.com                           17\n",
       "so.m.sm.cn                                   16\n",
       "class.sanjieke.cn                            15\n",
       "www.itjuzi.com                               15\n",
       "sensors.jiedaibao.com                        15\n",
       "wenku.baidu.com                              15\n",
       "mp.weixinbridge.com                          14\n",
       "tongji.yeshen.com                            14\n",
       "c.tieba.baidu.com                            14\n",
       "www.sanjieke.cn                              14\n",
       "www.google.com.tw                            14\n",
       "saasdemo.cloud.sensorsdata.cn                12\n",
       "yandex.ru                                    12\n",
       "cpro.baidu.com                               11\n",
       "sd.int.jumei.com                             11\n",
       "Name: ch, dtype: int64"
      ]
     },
     "execution_count": 55,
     "metadata": {},
     "output_type": "execute_result"
    }
   ],
   "source": [
    "df_view.ch.value_counts()[df_view['ch'].value_counts()>10]"
   ]
  },
  {
   "cell_type": "code",
   "execution_count": 56,
   "metadata": {},
   "outputs": [
    {
     "data": {
      "text/plain": [
       "www.sensorsdata.cn                        12634\n",
       "                                           7091\n",
       "www.baidu.com                              6284\n",
       "sensorsdata.cn                             2764\n",
       "m.baidu.com                                 816\n",
       "www.sogou.com                               352\n",
       "36kr.com                                    208\n",
       "www.google.com.hk                           166\n",
       "www.google.com                              156\n",
       "localhost                                   154\n",
       "m.sogou.com                                 147\n",
       "link.zhihu.com                              146\n",
       "wap.sogou.com                               144\n",
       "image.baidu.com                              67\n",
       "www.so.com                                   67\n",
       "www.google.co.jp                             48\n",
       "ebizdemo.cloud.sensorsdata.cn                41\n",
       "googleads.g.doubleclick.net                  41\n",
       "www.woshipm.com                              34\n",
       "cn.bing.com                                  33\n",
       "zhidao.baidu.com                             23\n",
       "sensors.ishansong.com                        21\n",
       "data.isoubu.com                              21\n",
       "sensorswww.cloud.sensorsdata.cn              20\n",
       "zhengbangchuangyi.cloud.sensorsdata.cn       20\n",
       "youxuan.baidu.com                            20\n",
       "data.corp.36kr.com                           17\n",
       "wapbaike.baidu.com                           17\n",
       "so.m.sm.cn                                   16\n",
       "class.sanjieke.cn                            15\n",
       "www.itjuzi.com                               15\n",
       "sensors.jiedaibao.com                        15\n",
       "wenku.baidu.com                              15\n",
       "mp.weixinbridge.com                          14\n",
       "tongji.yeshen.com                            14\n",
       "c.tieba.baidu.com                            14\n",
       "www.sanjieke.cn                              14\n",
       "www.google.com.tw                            14\n",
       "saasdemo.cloud.sensorsdata.cn                12\n",
       "yandex.ru                                    12\n",
       "cpro.baidu.com                               11\n",
       "sd.int.jumei.com                             11\n",
       "Name: refer_Host, dtype: int64"
      ]
     },
     "execution_count": 56,
     "metadata": {},
     "output_type": "execute_result"
    }
   ],
   "source": [
    "df_view.refer_Host.value_counts()[df_view['refer_Host'].value_counts()>10]"
   ]
  },
  {
   "cell_type": "markdown",
   "metadata": {},
   "source": [
    "refer_Host same as ch"
   ]
  },
  {
   "cell_type": "code",
   "execution_count": 57,
   "metadata": {},
   "outputs": [
    {
     "data": {
      "text/plain": [
       "www.baidu.com                             14770\n",
       "                                           8361\n",
       "www.sensorsdata.cn                         1054\n",
       "m.baidu.com                                 994\n",
       "36kr.com                                    790\n",
       "www.sogou.com                               735\n",
       "www.google.com.hk                           445\n",
       "www.google.com                              372\n",
       "sensorsdata.cn                              293\n",
       "www.so.com                                  234\n",
       "link.zhihu.com                              189\n",
       "m.sogou.com                                 165\n",
       "wap.sogou.com                               150\n",
       "www.google.co.jp                            122\n",
       "cn.bing.com                                 122\n",
       "www.woshipm.com                              64\n",
       "image.baidu.com                              61\n",
       "class.sanjieke.cn                            50\n",
       "www.itjuzi.com                               49\n",
       "googleads.g.doubleclick.net                  43\n",
       "wenku.baidu.com                              28\n",
       "zhengbangchuangyi.cloud.sensorsdata.cn       27\n",
       "passport.36kr.com                            27\n",
       "www.sanjieke.cn                              26\n",
       "mp.weixinbridge.com                          25\n",
       "zhidao.baidu.com                             24\n",
       "so.m.sm.cn                                   23\n",
       "youxuan.baidu.com                            22\n",
       "www.mulumu.com                               22\n",
       "www.google.com.tw                            21\n",
       "mail.alibaba-inc.com                         20\n",
       "www.google.com.sg                            20\n",
       "www.google.com.ph                            20\n",
       "www.linear.vc                                19\n",
       "www.google.com.au                            18\n",
       "a.youdao.com                                 18\n",
       "wapbaike.baidu.com                           17\n",
       "mail.qq.com                                  17\n",
       "qiye.aliyun.com                              16\n",
       "ebizdemo.cloud.sensorsdata.cn                14\n",
       "c.tieba.baidu.com                            14\n",
       "www.oneapm.com                               14\n",
       "next.36kr.com                                14\n",
       "saasdemo.cloud.sensorsdata.cn                14\n",
       "www.digitaling.com                           12\n",
       "hippter.com                                  12\n",
       "cpro.baidu.com                               12\n",
       "google.gg-g.org                              12\n",
       "wisd.sogou.com                               11\n",
       "www.tongdao.io                               11\n",
       "www.google.nl                                11\n",
       "www.qichacha.com                             11\n",
       "Name: screen_rh, dtype: int64"
      ]
     },
     "execution_count": 57,
     "metadata": {},
     "output_type": "execute_result"
    }
   ],
   "source": [
    "df_view.screen_rh.value_counts()[df_view['screen_rh'].value_counts()>10]"
   ]
  },
  {
   "cell_type": "code",
   "execution_count": 58,
   "metadata": {},
   "outputs": [
    {
     "data": {
      "text/plain": [
       "baidu                 16756\n",
       "sogou                   975\n",
       "wechat                  258\n",
       "sales4c                 225\n",
       "admin                   205\n",
       "google                  205\n",
       "sanjieke.cn             123\n",
       "next.36kr.com            34\n",
       "sunwenliang              29\n",
       "tianguang                25\n",
       "liujinbo1                25\n",
       "mulumu.com               24\n",
       "hao.caibaojian.com       22\n",
       "liuyaozhou               21\n",
       "sina                     18\n",
       "admin10                  17\n",
       "analytics_test           15\n",
       "gaoxiaoqing              15\n",
       "zhihu                    11\n",
       "guohongyao               11\n",
       "Name: latest_utm_s, dtype: int64"
      ]
     },
     "execution_count": 58,
     "metadata": {},
     "output_type": "execute_result"
    }
   ],
   "source": [
    "df_view.latest_utm_s.value_counts()[df_view['latest_utm_s'].value_counts()>10]"
   ]
  },
  {
   "cell_type": "markdown",
   "metadata": {},
   "source": [
    "Session referrer host similar to refer_Host and ch, but more null values\n",
    "Same as the analysis on btnclick and page view, use latest_utm"
   ]
  },
  {
   "cell_type": "markdown",
   "metadata": {},
   "source": [
    "- Analysis on the reason for demo leave\n",
    "- Note that we can find utm_source on other data frame to see if we can find not null values"
   ]
  },
  {
   "cell_type": "code",
   "execution_count": 59,
   "metadata": {
    "collapsed": true
   },
   "outputs": [],
   "source": [
    "import geoip2.database"
   ]
  },
  {
   "cell_type": "code",
   "execution_count": 60,
   "metadata": {
    "collapsed": true
   },
   "outputs": [],
   "source": [
    "# read library from local file\n",
    "reader = geoip2.database.Reader('./data/GeoLite2-Country_20180206/GeoLite2-Country.mmdb')"
   ]
  },
  {
   "cell_type": "code",
   "execution_count": 61,
   "metadata": {
    "collapsed": true
   },
   "outputs": [],
   "source": [
    "# example usage of geoip2 \n",
    "response = reader.country('219.135.131.99')"
   ]
  },
  {
   "cell_type": "code",
   "execution_count": 62,
   "metadata": {},
   "outputs": [
    {
     "data": {
      "text/plain": [
       "'CN'"
      ]
     },
     "execution_count": 62,
     "metadata": {},
     "output_type": "execute_result"
    }
   ],
   "source": [
    "response.country.iso_code"
   ]
  },
  {
   "cell_type": "code",
   "execution_count": 66,
   "metadata": {},
   "outputs": [],
   "source": [
    "# Define CN: dist_id has ip address in China\n",
    "#df['CN'] = df['ip'].apply(lambda row: reader.country(row).country.iso_code == 'CN')\n",
    "CN=[]\n",
    "for i in range(len(df['ip'])):\n",
    "    try:\n",
    "        CN.append ((reader.country(df.loc[i,'ip']).country.iso_code == 'CN') * 1)\n",
    "    except:\n",
    "        CN.append('')"
   ]
  },
  {
   "cell_type": "code",
   "execution_count": 68,
   "metadata": {},
   "outputs": [],
   "source": [
    "df['CN'] = CN"
   ]
  },
  {
   "cell_type": "code",
   "execution_count": 69,
   "metadata": {},
   "outputs": [
    {
     "data": {
      "text/plain": [
       "1    56427\n",
       "      8296\n",
       "0      950\n",
       "Name: CN, dtype: int64"
      ]
     },
     "execution_count": 69,
     "metadata": {},
     "output_type": "execute_result"
    }
   ],
   "source": [
    "df.CN.value_counts(dropna=True)"
   ]
  },
  {
   "cell_type": "code",
   "execution_count": 72,
   "metadata": {
    "collapsed": true
   },
   "outputs": [],
   "source": [
    "df_ip = df[df.CN != '']"
   ]
  },
  {
   "cell_type": "code",
   "execution_count": 74,
   "metadata": {},
   "outputs": [],
   "source": [
    "df_dleave_ip = df_ip.loc[df.event == 'demo_leave']"
   ]
  },
  {
   "cell_type": "code",
   "execution_count": 130,
   "metadata": {
    "collapsed": true
   },
   "outputs": [],
   "source": [
    "df_dleave = df.loc[df.event == 'demo_leave']"
   ]
  },
  {
   "cell_type": "code",
   "execution_count": 131,
   "metadata": {},
   "outputs": [
    {
     "data": {
      "text/plain": [
       "browser                   0\n",
       "browser_v                 0\n",
       "ch                     3411\n",
       "day                       0\n",
       "dist_id                   0\n",
       "event                     0\n",
       "from_url               3411\n",
       "ip                        0\n",
       "isMsg                  3411\n",
       "isSuccess              3411\n",
       "is_fd                     0\n",
       "is_ft                     0\n",
       "latest_ch              2694\n",
       "latest_r                 39\n",
       "latest_rh                39\n",
       "latest_utm_campaign    1455\n",
       "latest_utm_content     1492\n",
       "latest_utm_m           1458\n",
       "latest_utm_s           1426\n",
       "latest_utm_t           1478\n",
       "model                     0\n",
       "name                   3411\n",
       "nocache                   0\n",
       "os                        0\n",
       "os_version                0\n",
       "page                   3411\n",
       "pageP                     0\n",
       "pageS                     0\n",
       "pageUrl                   0\n",
       "refer_Host             3411\n",
       "referrHostUrl          3411\n",
       "referrer               3411\n",
       "referrerUrl            3411\n",
       "requestBtn             3411\n",
       "result                 3411\n",
       "screen_h                  0\n",
       "screen_r                  0\n",
       "screen_rh                 0\n",
       "screen_w                  0\n",
       "session_p                 0\n",
       "siteUrl                3411\n",
       "site_url               3411\n",
       "time                      0\n",
       "title                  3411\n",
       "tp                        0\n",
       "url                    3411\n",
       "url_path               3411\n",
       "CN                        0\n",
       "source                    0\n",
       "dtype: int64"
      ]
     },
     "execution_count": 131,
     "metadata": {},
     "output_type": "execute_result"
    }
   ],
   "source": [
    "df_dleave.isnull().sum()"
   ]
  },
  {
   "cell_type": "code",
   "execution_count": 132,
   "metadata": {},
   "outputs": [
    {
     "name": "stderr",
     "output_type": "stream",
     "text": [
      "/Users/Danielle/anaconda/lib/python3.6/site-packages/ipykernel_launcher.py:1: SettingWithCopyWarning: \n",
      "A value is trying to be set on a copy of a slice from a DataFrame.\n",
      "Try using .loc[row_indexer,col_indexer] = value instead\n",
      "\n",
      "See the caveats in the documentation: http://pandas.pydata.org/pandas-docs/stable/indexing.html#indexing-view-versus-copy\n",
      "  \"\"\"Entry point for launching an IPython kernel.\n"
     ]
    }
   ],
   "source": [
    "df_dleave['weekend'] = ((df_dleave.day == '2017-03-11') | (df_dleave.day == '2017-03-12')) * 1"
   ]
  },
  {
   "cell_type": "code",
   "execution_count": 140,
   "metadata": {
    "collapsed": true
   },
   "outputs": [],
   "source": [
    "ind = df_dleave.dist_id.isin(df_send.dist_id) *1"
   ]
  },
  {
   "cell_type": "code",
   "execution_count": 141,
   "metadata": {},
   "outputs": [
    {
     "name": "stderr",
     "output_type": "stream",
     "text": [
      "/Users/Danielle/anaconda/lib/python3.6/site-packages/ipykernel_launcher.py:1: SettingWithCopyWarning: \n",
      "A value is trying to be set on a copy of a slice from a DataFrame.\n",
      "Try using .loc[row_indexer,col_indexer] = value instead\n",
      "\n",
      "See the caveats in the documentation: http://pandas.pydata.org/pandas-docs/stable/indexing.html#indexing-view-versus-copy\n",
      "  \"\"\"Entry point for launching an IPython kernel.\n"
     ]
    }
   ],
   "source": [
    "df_dleave['signup'] = ind.tolist()"
   ]
  },
  {
   "cell_type": "code",
   "execution_count": 142,
   "metadata": {},
   "outputs": [],
   "source": [
    "df_dleave_select = df_dleave.sort_values(['time'],ascending=False).groupby('dist_id').first()"
   ]
  },
  {
   "cell_type": "code",
   "execution_count": 143,
   "metadata": {},
   "outputs": [
    {
     "data": {
      "text/plain": [
       "0    1312\n",
       "1     124\n",
       "Name: weekend, dtype: int64"
      ]
     },
     "execution_count": 143,
     "metadata": {},
     "output_type": "execute_result"
    }
   ],
   "source": [
    "df_dleave_select.weekend.value_counts(dropna=True)"
   ]
  },
  {
   "cell_type": "markdown",
   "metadata": {},
   "source": [
    "dleave has 1436 distinct id in total"
   ]
  },
  {
   "cell_type": "code",
   "execution_count": 144,
   "metadata": {},
   "outputs": [
    {
     "data": {
      "text/plain": [
       "0    1027\n",
       "1     409\n",
       "Name: signup, dtype: int64"
      ]
     },
     "execution_count": 144,
     "metadata": {},
     "output_type": "execute_result"
    }
   ],
   "source": [
    "df_dleave_select.signup.value_counts(dropna=True)"
   ]
  },
  {
   "cell_type": "code",
   "execution_count": 145,
   "metadata": {},
   "outputs": [
    {
     "data": {
      "text/plain": [
       "browser                   0\n",
       "browser_v                 0\n",
       "ch                     1436\n",
       "day                       0\n",
       "event                     0\n",
       "from_url               1436\n",
       "ip                        0\n",
       "isMsg                  1436\n",
       "isSuccess              1436\n",
       "is_fd                     0\n",
       "is_ft                     0\n",
       "latest_ch              1220\n",
       "latest_r                 16\n",
       "latest_rh                16\n",
       "latest_utm_campaign     634\n",
       "latest_utm_content      648\n",
       "latest_utm_m            634\n",
       "latest_utm_s            621\n",
       "latest_utm_t            644\n",
       "model                     0\n",
       "name                   1436\n",
       "nocache                   0\n",
       "os                        0\n",
       "os_version                0\n",
       "page                   1436\n",
       "pageP                     0\n",
       "pageS                     0\n",
       "pageUrl                   0\n",
       "refer_Host             1436\n",
       "referrHostUrl          1436\n",
       "referrer               1436\n",
       "referrerUrl            1436\n",
       "requestBtn             1436\n",
       "result                 1436\n",
       "screen_h                  0\n",
       "screen_r                  0\n",
       "screen_rh                 0\n",
       "screen_w                  0\n",
       "session_p                 0\n",
       "siteUrl                1436\n",
       "site_url               1436\n",
       "time                      0\n",
       "title                  1436\n",
       "tp                        0\n",
       "url                    1436\n",
       "url_path               1436\n",
       "CN                        0\n",
       "source                    0\n",
       "weekend                   0\n",
       "signup                    0\n",
       "dtype: int64"
      ]
     },
     "execution_count": 145,
     "metadata": {},
     "output_type": "execute_result"
    }
   ],
   "source": [
    "df_dleave_select.isnull().sum()"
   ]
  },
  {
   "cell_type": "code",
   "execution_count": 148,
   "metadata": {},
   "outputs": [],
   "source": [
    "selected_columns = [u'browser',u'browser_v',u'day', u'is_fd', \n",
    "                     u'is_ft', u'ip', u'latest_utm_s',u'model', u'os', u'os_version',\n",
    "                     u'pageS', u'time', u'CN', u'source', u'weekend',u'signup']"
   ]
  },
  {
   "cell_type": "code",
   "execution_count": 149,
   "metadata": {},
   "outputs": [],
   "source": [
    "cleaned_data_csv = 'data/cleaned_data.csv'\n",
    "df_dleave_select[selected_columns].to_csv(cleaned_data_csv, index=False)"
   ]
  },
  {
   "cell_type": "code",
   "execution_count": null,
   "metadata": {
    "collapsed": true
   },
   "outputs": [],
   "source": [
    "df = df.sort_values(['latest_utm_s'],ascending=False).groupby('dist_id')"
   ]
  },
  {
   "cell_type": "code",
   "execution_count": 158,
   "metadata": {},
   "outputs": [
    {
     "data": {
      "text/html": [
       "<div>\n",
       "<style>\n",
       "    .dataframe thead tr:only-child th {\n",
       "        text-align: right;\n",
       "    }\n",
       "\n",
       "    .dataframe thead th {\n",
       "        text-align: left;\n",
       "    }\n",
       "\n",
       "    .dataframe tbody tr th {\n",
       "        vertical-align: top;\n",
       "    }\n",
       "</style>\n",
       "<table border=\"1\" class=\"dataframe\">\n",
       "  <thead>\n",
       "    <tr style=\"text-align: right;\">\n",
       "      <th></th>\n",
       "      <th>dist_id</th>\n",
       "      <th>latest_utm_s</th>\n",
       "    </tr>\n",
       "  </thead>\n",
       "  <tbody>\n",
       "    <tr>\n",
       "      <th>70151</th>\n",
       "      <td>9bcff4ab72ebd7d5b3ea3251e21b3c21b8a61e50</td>\n",
       "      <td>zhihu</td>\n",
       "    </tr>\n",
       "    <tr>\n",
       "      <th>70154</th>\n",
       "      <td>9bcff4ab72ebd7d5b3ea3251e21b3c21b8a61e50</td>\n",
       "      <td>zhihu</td>\n",
       "    </tr>\n",
       "    <tr>\n",
       "      <th>70198</th>\n",
       "      <td>9bcff4ab72ebd7d5b3ea3251e21b3c21b8a61e50</td>\n",
       "      <td>zhihu</td>\n",
       "    </tr>\n",
       "    <tr>\n",
       "      <th>70193</th>\n",
       "      <td>9bcff4ab72ebd7d5b3ea3251e21b3c21b8a61e50</td>\n",
       "      <td>zhihu</td>\n",
       "    </tr>\n",
       "    <tr>\n",
       "      <th>70194</th>\n",
       "      <td>9bcff4ab72ebd7d5b3ea3251e21b3c21b8a61e50</td>\n",
       "      <td>zhihu</td>\n",
       "    </tr>\n",
       "    <tr>\n",
       "      <th>70206</th>\n",
       "      <td>9bcff4ab72ebd7d5b3ea3251e21b3c21b8a61e50</td>\n",
       "      <td>zhihu</td>\n",
       "    </tr>\n",
       "    <tr>\n",
       "      <th>612</th>\n",
       "      <td>5d06e59f1107ef51b2b04a4fc337c9c102d024e3</td>\n",
       "      <td>zhihu</td>\n",
       "    </tr>\n",
       "    <tr>\n",
       "      <th>70196</th>\n",
       "      <td>9bcff4ab72ebd7d5b3ea3251e21b3c21b8a61e50</td>\n",
       "      <td>zhihu</td>\n",
       "    </tr>\n",
       "    <tr>\n",
       "      <th>613</th>\n",
       "      <td>5d06e59f1107ef51b2b04a4fc337c9c102d024e3</td>\n",
       "      <td>zhihu</td>\n",
       "    </tr>\n",
       "    <tr>\n",
       "      <th>71234</th>\n",
       "      <td>9bcff4ab72ebd7d5b3ea3251e21b3c21b8a61e50</td>\n",
       "      <td>zhihu</td>\n",
       "    </tr>\n",
       "    <tr>\n",
       "      <th>71233</th>\n",
       "      <td>9bcff4ab72ebd7d5b3ea3251e21b3c21b8a61e50</td>\n",
       "      <td>zhihu</td>\n",
       "    </tr>\n",
       "    <tr>\n",
       "      <th>74855</th>\n",
       "      <td>66ee4eb3eea82fea5af84a3a09aedfed37df8de1</td>\n",
       "      <td>zhihu</td>\n",
       "    </tr>\n",
       "    <tr>\n",
       "      <th>74854</th>\n",
       "      <td>66ee4eb3eea82fea5af84a3a09aedfed37df8de1</td>\n",
       "      <td>zhihu</td>\n",
       "    </tr>\n",
       "    <tr>\n",
       "      <th>611</th>\n",
       "      <td>5d06e59f1107ef51b2b04a4fc337c9c102d024e3</td>\n",
       "      <td>zhihu</td>\n",
       "    </tr>\n",
       "    <tr>\n",
       "      <th>610</th>\n",
       "      <td>5d06e59f1107ef51b2b04a4fc337c9c102d024e3</td>\n",
       "      <td>zhihu</td>\n",
       "    </tr>\n",
       "    <tr>\n",
       "      <th>603</th>\n",
       "      <td>5d06e59f1107ef51b2b04a4fc337c9c102d024e3</td>\n",
       "      <td>zhihu</td>\n",
       "    </tr>\n",
       "    <tr>\n",
       "      <th>602</th>\n",
       "      <td>5d06e59f1107ef51b2b04a4fc337c9c102d024e3</td>\n",
       "      <td>zhihu</td>\n",
       "    </tr>\n",
       "    <tr>\n",
       "      <th>601</th>\n",
       "      <td>5d06e59f1107ef51b2b04a4fc337c9c102d024e3</td>\n",
       "      <td>zhihu</td>\n",
       "    </tr>\n",
       "    <tr>\n",
       "      <th>70197</th>\n",
       "      <td>9bcff4ab72ebd7d5b3ea3251e21b3c21b8a61e50</td>\n",
       "      <td>zhihu</td>\n",
       "    </tr>\n",
       "    <tr>\n",
       "      <th>614</th>\n",
       "      <td>5d06e59f1107ef51b2b04a4fc337c9c102d024e3</td>\n",
       "      <td>zhihu</td>\n",
       "    </tr>\n",
       "    <tr>\n",
       "      <th>40904</th>\n",
       "      <td>f296ca47badb7cb272de36b4faf4a4df28cb2863</td>\n",
       "      <td>zhangyuejiao</td>\n",
       "    </tr>\n",
       "    <tr>\n",
       "      <th>40918</th>\n",
       "      <td>f296ca47badb7cb272de36b4faf4a4df28cb2863</td>\n",
       "      <td>zhangyuejiao</td>\n",
       "    </tr>\n",
       "    <tr>\n",
       "      <th>54220</th>\n",
       "      <td>52bd5b3dffa5ef1618a2e70d677625b452f02593</td>\n",
       "      <td>zhangji</td>\n",
       "    </tr>\n",
       "    <tr>\n",
       "      <th>37692</th>\n",
       "      <td>d6f9ff9896caa6cd015de13d49eb9da0529ed584</td>\n",
       "      <td>yupan</td>\n",
       "    </tr>\n",
       "    <tr>\n",
       "      <th>65388</th>\n",
       "      <td>5bb604c85deb2707e22a1fda4c81d71134740529</td>\n",
       "      <td>yupan</td>\n",
       "    </tr>\n",
       "    <tr>\n",
       "      <th>65390</th>\n",
       "      <td>5bb604c85deb2707e22a1fda4c81d71134740529</td>\n",
       "      <td>yupan</td>\n",
       "    </tr>\n",
       "    <tr>\n",
       "      <th>65391</th>\n",
       "      <td>5bb604c85deb2707e22a1fda4c81d71134740529</td>\n",
       "      <td>yupan</td>\n",
       "    </tr>\n",
       "    <tr>\n",
       "      <th>65392</th>\n",
       "      <td>5bb604c85deb2707e22a1fda4c81d71134740529</td>\n",
       "      <td>yupan</td>\n",
       "    </tr>\n",
       "    <tr>\n",
       "      <th>65460</th>\n",
       "      <td>5bb604c85deb2707e22a1fda4c81d71134740529</td>\n",
       "      <td>yupan</td>\n",
       "    </tr>\n",
       "    <tr>\n",
       "      <th>65461</th>\n",
       "      <td>5bb604c85deb2707e22a1fda4c81d71134740529</td>\n",
       "      <td>yupan</td>\n",
       "    </tr>\n",
       "    <tr>\n",
       "      <th>...</th>\n",
       "      <td>...</td>\n",
       "      <td>...</td>\n",
       "    </tr>\n",
       "    <tr>\n",
       "      <th>75009</th>\n",
       "      <td>eaf5f806bfa72509ec5c32eafa0ffbad249824f1</td>\n",
       "      <td>None</td>\n",
       "    </tr>\n",
       "    <tr>\n",
       "      <th>75010</th>\n",
       "      <td>eaf5f806bfa72509ec5c32eafa0ffbad249824f1</td>\n",
       "      <td>None</td>\n",
       "    </tr>\n",
       "    <tr>\n",
       "      <th>75031</th>\n",
       "      <td>262569bd17f5ab872c6569279bd941a89d8fc1ed</td>\n",
       "      <td>None</td>\n",
       "    </tr>\n",
       "    <tr>\n",
       "      <th>75032</th>\n",
       "      <td>c3366e86554b1ced7cc61caa733e3f68468aec30</td>\n",
       "      <td>None</td>\n",
       "    </tr>\n",
       "    <tr>\n",
       "      <th>75043</th>\n",
       "      <td>446a3fe67010d6af6b27b6047c997935a18bcf40</td>\n",
       "      <td>None</td>\n",
       "    </tr>\n",
       "    <tr>\n",
       "      <th>75045</th>\n",
       "      <td>3d1cedd8393394aa0929a4d0411bef51d44c73fc</td>\n",
       "      <td>None</td>\n",
       "    </tr>\n",
       "    <tr>\n",
       "      <th>75046</th>\n",
       "      <td>a3a9470c1dc640b29efdb7a71315777b56fc549e</td>\n",
       "      <td>None</td>\n",
       "    </tr>\n",
       "    <tr>\n",
       "      <th>75047</th>\n",
       "      <td>a3a9470c1dc640b29efdb7a71315777b56fc549e</td>\n",
       "      <td>None</td>\n",
       "    </tr>\n",
       "    <tr>\n",
       "      <th>75049</th>\n",
       "      <td>b4de2de72579af3e6992267fd9837e566f81a3db</td>\n",
       "      <td>None</td>\n",
       "    </tr>\n",
       "    <tr>\n",
       "      <th>75050</th>\n",
       "      <td>b4de2de72579af3e6992267fd9837e566f81a3db</td>\n",
       "      <td>None</td>\n",
       "    </tr>\n",
       "    <tr>\n",
       "      <th>75051</th>\n",
       "      <td>b4de2de72579af3e6992267fd9837e566f81a3db</td>\n",
       "      <td>None</td>\n",
       "    </tr>\n",
       "    <tr>\n",
       "      <th>75052</th>\n",
       "      <td>b4de2de72579af3e6992267fd9837e566f81a3db</td>\n",
       "      <td>None</td>\n",
       "    </tr>\n",
       "    <tr>\n",
       "      <th>75053</th>\n",
       "      <td>b4de2de72579af3e6992267fd9837e566f81a3db</td>\n",
       "      <td>None</td>\n",
       "    </tr>\n",
       "    <tr>\n",
       "      <th>75054</th>\n",
       "      <td>b4de2de72579af3e6992267fd9837e566f81a3db</td>\n",
       "      <td>None</td>\n",
       "    </tr>\n",
       "    <tr>\n",
       "      <th>75056</th>\n",
       "      <td>d3f196b84e054937da9b1e96962f33c1c84a4d1f</td>\n",
       "      <td>None</td>\n",
       "    </tr>\n",
       "    <tr>\n",
       "      <th>75064</th>\n",
       "      <td>4c83c907d9cd9d1fedcd811f930c1531014ecd9a</td>\n",
       "      <td>None</td>\n",
       "    </tr>\n",
       "    <tr>\n",
       "      <th>75065</th>\n",
       "      <td>4c83c907d9cd9d1fedcd811f930c1531014ecd9a</td>\n",
       "      <td>None</td>\n",
       "    </tr>\n",
       "    <tr>\n",
       "      <th>75067</th>\n",
       "      <td>4c83c907d9cd9d1fedcd811f930c1531014ecd9a</td>\n",
       "      <td>None</td>\n",
       "    </tr>\n",
       "    <tr>\n",
       "      <th>75073</th>\n",
       "      <td>6d899088f7848a9eb5d2a4a8e90d1d6f81a65b5a</td>\n",
       "      <td>None</td>\n",
       "    </tr>\n",
       "    <tr>\n",
       "      <th>75075</th>\n",
       "      <td>4d7efffd13f1ba78e9b430ef944a39e74d89b408</td>\n",
       "      <td>None</td>\n",
       "    </tr>\n",
       "    <tr>\n",
       "      <th>75077</th>\n",
       "      <td>215110e7713ef7435524bf321fa894e411338c40</td>\n",
       "      <td>None</td>\n",
       "    </tr>\n",
       "    <tr>\n",
       "      <th>75079</th>\n",
       "      <td>215110e7713ef7435524bf321fa894e411338c40</td>\n",
       "      <td>None</td>\n",
       "    </tr>\n",
       "    <tr>\n",
       "      <th>75080</th>\n",
       "      <td>215110e7713ef7435524bf321fa894e411338c40</td>\n",
       "      <td>None</td>\n",
       "    </tr>\n",
       "    <tr>\n",
       "      <th>75081</th>\n",
       "      <td>215110e7713ef7435524bf321fa894e411338c40</td>\n",
       "      <td>None</td>\n",
       "    </tr>\n",
       "    <tr>\n",
       "      <th>75082</th>\n",
       "      <td>215110e7713ef7435524bf321fa894e411338c40</td>\n",
       "      <td>None</td>\n",
       "    </tr>\n",
       "    <tr>\n",
       "      <th>75083</th>\n",
       "      <td>215110e7713ef7435524bf321fa894e411338c40</td>\n",
       "      <td>None</td>\n",
       "    </tr>\n",
       "    <tr>\n",
       "      <th>75084</th>\n",
       "      <td>215110e7713ef7435524bf321fa894e411338c40</td>\n",
       "      <td>None</td>\n",
       "    </tr>\n",
       "    <tr>\n",
       "      <th>75085</th>\n",
       "      <td>215110e7713ef7435524bf321fa894e411338c40</td>\n",
       "      <td>None</td>\n",
       "    </tr>\n",
       "    <tr>\n",
       "      <th>75086</th>\n",
       "      <td>215110e7713ef7435524bf321fa894e411338c40</td>\n",
       "      <td>None</td>\n",
       "    </tr>\n",
       "    <tr>\n",
       "      <th>75088</th>\n",
       "      <td>1b384ff8574084ef4a7356a8cd0c36350286e576</td>\n",
       "      <td>None</td>\n",
       "    </tr>\n",
       "  </tbody>\n",
       "</table>\n",
       "<p>44209 rows × 2 columns</p>\n",
       "</div>"
      ],
      "text/plain": [
       "                                        dist_id  latest_utm_s\n",
       "70151  9bcff4ab72ebd7d5b3ea3251e21b3c21b8a61e50         zhihu\n",
       "70154  9bcff4ab72ebd7d5b3ea3251e21b3c21b8a61e50         zhihu\n",
       "70198  9bcff4ab72ebd7d5b3ea3251e21b3c21b8a61e50         zhihu\n",
       "70193  9bcff4ab72ebd7d5b3ea3251e21b3c21b8a61e50         zhihu\n",
       "70194  9bcff4ab72ebd7d5b3ea3251e21b3c21b8a61e50         zhihu\n",
       "70206  9bcff4ab72ebd7d5b3ea3251e21b3c21b8a61e50         zhihu\n",
       "612    5d06e59f1107ef51b2b04a4fc337c9c102d024e3         zhihu\n",
       "70196  9bcff4ab72ebd7d5b3ea3251e21b3c21b8a61e50         zhihu\n",
       "613    5d06e59f1107ef51b2b04a4fc337c9c102d024e3         zhihu\n",
       "71234  9bcff4ab72ebd7d5b3ea3251e21b3c21b8a61e50         zhihu\n",
       "71233  9bcff4ab72ebd7d5b3ea3251e21b3c21b8a61e50         zhihu\n",
       "74855  66ee4eb3eea82fea5af84a3a09aedfed37df8de1         zhihu\n",
       "74854  66ee4eb3eea82fea5af84a3a09aedfed37df8de1         zhihu\n",
       "611    5d06e59f1107ef51b2b04a4fc337c9c102d024e3         zhihu\n",
       "610    5d06e59f1107ef51b2b04a4fc337c9c102d024e3         zhihu\n",
       "603    5d06e59f1107ef51b2b04a4fc337c9c102d024e3         zhihu\n",
       "602    5d06e59f1107ef51b2b04a4fc337c9c102d024e3         zhihu\n",
       "601    5d06e59f1107ef51b2b04a4fc337c9c102d024e3         zhihu\n",
       "70197  9bcff4ab72ebd7d5b3ea3251e21b3c21b8a61e50         zhihu\n",
       "614    5d06e59f1107ef51b2b04a4fc337c9c102d024e3         zhihu\n",
       "40904  f296ca47badb7cb272de36b4faf4a4df28cb2863  zhangyuejiao\n",
       "40918  f296ca47badb7cb272de36b4faf4a4df28cb2863  zhangyuejiao\n",
       "54220  52bd5b3dffa5ef1618a2e70d677625b452f02593       zhangji\n",
       "37692  d6f9ff9896caa6cd015de13d49eb9da0529ed584         yupan\n",
       "65388  5bb604c85deb2707e22a1fda4c81d71134740529         yupan\n",
       "65390  5bb604c85deb2707e22a1fda4c81d71134740529         yupan\n",
       "65391  5bb604c85deb2707e22a1fda4c81d71134740529         yupan\n",
       "65392  5bb604c85deb2707e22a1fda4c81d71134740529         yupan\n",
       "65460  5bb604c85deb2707e22a1fda4c81d71134740529         yupan\n",
       "65461  5bb604c85deb2707e22a1fda4c81d71134740529         yupan\n",
       "...                                         ...           ...\n",
       "75009  eaf5f806bfa72509ec5c32eafa0ffbad249824f1          None\n",
       "75010  eaf5f806bfa72509ec5c32eafa0ffbad249824f1          None\n",
       "75031  262569bd17f5ab872c6569279bd941a89d8fc1ed          None\n",
       "75032  c3366e86554b1ced7cc61caa733e3f68468aec30          None\n",
       "75043  446a3fe67010d6af6b27b6047c997935a18bcf40          None\n",
       "75045  3d1cedd8393394aa0929a4d0411bef51d44c73fc          None\n",
       "75046  a3a9470c1dc640b29efdb7a71315777b56fc549e          None\n",
       "75047  a3a9470c1dc640b29efdb7a71315777b56fc549e          None\n",
       "75049  b4de2de72579af3e6992267fd9837e566f81a3db          None\n",
       "75050  b4de2de72579af3e6992267fd9837e566f81a3db          None\n",
       "75051  b4de2de72579af3e6992267fd9837e566f81a3db          None\n",
       "75052  b4de2de72579af3e6992267fd9837e566f81a3db          None\n",
       "75053  b4de2de72579af3e6992267fd9837e566f81a3db          None\n",
       "75054  b4de2de72579af3e6992267fd9837e566f81a3db          None\n",
       "75056  d3f196b84e054937da9b1e96962f33c1c84a4d1f          None\n",
       "75064  4c83c907d9cd9d1fedcd811f930c1531014ecd9a          None\n",
       "75065  4c83c907d9cd9d1fedcd811f930c1531014ecd9a          None\n",
       "75067  4c83c907d9cd9d1fedcd811f930c1531014ecd9a          None\n",
       "75073  6d899088f7848a9eb5d2a4a8e90d1d6f81a65b5a          None\n",
       "75075  4d7efffd13f1ba78e9b430ef944a39e74d89b408          None\n",
       "75077  215110e7713ef7435524bf321fa894e411338c40          None\n",
       "75079  215110e7713ef7435524bf321fa894e411338c40          None\n",
       "75080  215110e7713ef7435524bf321fa894e411338c40          None\n",
       "75081  215110e7713ef7435524bf321fa894e411338c40          None\n",
       "75082  215110e7713ef7435524bf321fa894e411338c40          None\n",
       "75083  215110e7713ef7435524bf321fa894e411338c40          None\n",
       "75084  215110e7713ef7435524bf321fa894e411338c40          None\n",
       "75085  215110e7713ef7435524bf321fa894e411338c40          None\n",
       "75086  215110e7713ef7435524bf321fa894e411338c40          None\n",
       "75088  1b384ff8574084ef4a7356a8cd0c36350286e576          None\n",
       "\n",
       "[44209 rows x 2 columns]"
      ]
     },
     "execution_count": 158,
     "metadata": {},
     "output_type": "execute_result"
    }
   ],
   "source": [
    "df['dist_id','latest_utm_s'].tail(10)"
   ]
  },
  {
   "cell_type": "markdown",
   "metadata": {},
   "source": [
    "Try to check if we can use the first time source for anlysis, seems to be the same"
   ]
  }
 ],
 "metadata": {
  "kernelspec": {
   "display_name": "Python 3",
   "language": "python",
   "name": "python3"
  },
  "language_info": {
   "codemirror_mode": {
    "name": "ipython",
    "version": 3
   },
   "file_extension": ".py",
   "mimetype": "text/x-python",
   "name": "python",
   "nbconvert_exporter": "python",
   "pygments_lexer": "ipython3",
   "version": "3.6.1"
  }
 },
 "nbformat": 4,
 "nbformat_minor": 2
}
