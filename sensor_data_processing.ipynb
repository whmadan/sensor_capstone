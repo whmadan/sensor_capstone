{
 "cells": [
  {
   "cell_type": "markdown",
   "metadata": {},
   "source": [
    "##  Project objects\n",
    "- Clean dirty log data and transform it for analytics.\n",
    "- Exploratory data analysis, e.g. find user activity levels for different events, and user interaction with web components.\n",
    "- Find the conversion rate of users, identify key factors that bottleneck the conversion rate.\n",
    "- Propose any hypothesis and set up experiments for testing.\n",
    "- Build machine learning models to predict user behaviors, including but not limited to signup, churn, etc.\n",
    "- Discover interesting insights in the dataset and suggest how to improve the user signup rate."
   ]
  },
  {
   "cell_type": "code",
   "execution_count": 184,
   "metadata": {
    "collapsed": true
   },
   "outputs": [],
   "source": [
    "import pandas as pd\n",
    "import os\n",
    "import datetime"
   ]
  },
  {
   "cell_type": "code",
   "execution_count": 288,
   "metadata": {
    "collapsed": true
   },
   "outputs": [],
   "source": [
    "def to_date(epoch):\n",
    "    return datetime.datetime.fromtimestamp(epoch/1000).strftime(\"%Y-%m-%d\")\n",
    "# first convert from milliseconds to seconds, and then convert format from time stamp"
   ]
  },
  {
   "cell_type": "code",
   "execution_count": 189,
   "metadata": {},
   "outputs": [],
   "source": [
    "# this finds our txt files\n",
    "filename = \"data/sensorswww_data.txt\"\n",
    "data = []\n",
    "for line in open(filename, 'r'):\n",
    "    data.append(json.loads(line))"
   ]
  },
  {
   "cell_type": "code",
   "execution_count": 289,
   "metadata": {},
   "outputs": [
    {
     "data": {
      "text/plain": [
       "75092"
      ]
     },
     "execution_count": 289,
     "metadata": {},
     "output_type": "execute_result"
    }
   ],
   "source": [
    "# total number of rows\n",
    "len(data)"
   ]
  },
  {
   "cell_type": "code",
   "execution_count": 313,
   "metadata": {
    "collapsed": true
   },
   "outputs": [],
   "source": [
    "# here I define my pandas Dataframe with the columns I want to get from the text\n",
    "nocache = []\n",
    "dist_id = []\n",
    "event = []\n",
    "\n",
    "browser = []\n",
    "browser_v = []\n",
    "ip = []\n",
    "is_fd = []\n",
    "is_ft = []\n",
    "latest_r = []\n",
    "latest_rh = []\n",
    "latest_ch = []\n",
    "latest_utm_campaign = []\n",
    "latest_utm_content = []\n",
    "latest_utm_m = []\n",
    "latest_utm_s = []\n",
    "latest_utm_t = []\n",
    "model = []\n",
    "os = []\n",
    "os_version = []\n",
    "screen_h = []\n",
    "screen_w = []\n",
    "session_r = []\n",
    "session_rh = []\n",
    "time = []\n",
    "day = []\n",
    "\n",
    "pageP = []\n",
    "pageS = []\n",
    "pageUrl = []\n",
    "session_p = []\n",
    "name = []\n",
    "requestBtn = []\n",
    "isSuccess = []\n",
    "isMsg = []\n",
    "page = []\n",
    "site_url = []\n",
    "from_url = []\n",
    "referrerUrl = []\n",
    "referrHostUrl = []\n",
    "siteUrl = []\n",
    "url_path = []\n",
    "url = []\n",
    "title = []\n",
    "result = []\n",
    "referrer = []\n",
    "refer_Host = []\n",
    "title = []\n",
    "ch = []\n",
    "tp = []"
   ]
  },
  {
   "cell_type": "code",
   "execution_count": 314,
   "metadata": {},
   "outputs": [],
   "source": [
    "#define NA and use get to assign NA when the key value not found \n",
    "na = None\n",
    "\n",
    "for i in range(len(data)):\n",
    "    tp.append(data[i].get('type',na))\n",
    "    nocache.append(data[i].get('_nocache',na)) \n",
    "    dist_id.append(data[i]['distinct_id'])\n",
    "    event.append(data[i].get('event',na))\n",
    "    pageP.append(data[i]['properties'].get('pagePosition',na))\n",
    "    pageS.append(data[i]['properties'].get('pageStayTime',na))\n",
    "    pageUrl.append(data[i]['properties'].get('pageUrl',na))\n",
    "    session_p.append(data[i]['properties'].get('session_page_url',na))\n",
    "    latest_r.append(data[i]['properties'].get('$latest_referrer',na)) \n",
    "    latest_rh.append(data[i]['properties'].get('$latest_referrer_host',na))\n",
    "    latest_ch.append(data[i]['properties'].get('_latest_ch',na))\n",
    "    latest_utm_campaign.append(data[i]['properties'].get('$latest_utm_campaign',na))\n",
    "    latest_utm_content.append(data[i]['properties'].get('$latest_utm_content',na))\n",
    "    latest_utm_m.append(data[i]['properties'].get('$latest_utm_medium',na))\n",
    "    latest_utm_s.append(data[i]['properties'].get('$latest_utm_source',na))\n",
    "    latest_utm_t.append(data[i]['properties'].get('$latest_utm_term',na))\n",
    "    name.append(data[i]['properties'].get('name',na))\n",
    "    requestBtn.append(data[i]['properties'].get('requestBtn',na))\n",
    "    isSuccess.append(data[i]['properties'].get('isSuccess',na))\n",
    "    isMsg.append(data[i]['properties'].get('isMsg',na))\n",
    "    page.append(data[i]['properties'].get('page',na))\n",
    "    site_url.append(data[i]['properties'].get('site_url',na))\n",
    "    from_url.append(data[i]['properties'].get('from_url',na))\n",
    "    referrerUrl.append(data[i]['properties'].get('referrerUrl',na))\n",
    "    referrHostUrl.append(data[i]['properties'].get('referrHostUrl',na))\n",
    "    siteUrl.append(data[i]['properties'].get('siteUrl',na))\n",
    "    url_path.append(data[i]['properties'].get('$url_path',na))\n",
    "    url.append(data[i]['properties'].get('$url',na))\n",
    "    result.append(data[i]['properties'].get('result',na))\n",
    "    referrer.append(data[i]['properties'].get('$referrer',na))\n",
    "    refer_Host.append(data[i]['properties'].get('$referrer_host',na))\n",
    "    title.append(data[i]['properties'].get('$title',na))\n",
    "    ch.append(data[i]['properties'].get('$referrer_host',na))        \n",
    "    browser.append(data[i]['properties'].get('$browser',na)) \n",
    "    browser_v.append(data[i]['properties'].get('$browser_version',na)) \n",
    "    ip.append(data[i]['properties'].get('$ip',na)) \n",
    "    is_fd.append(data[i]['properties'].get('$is_first_day',na)) \n",
    "    is_ft.append(data[i]['properties'].get('$is_first_time',na))      \n",
    "    model.append(data[i]['properties'].get('$model',na))\n",
    "    os.append(data[i]['properties'].get('$os',na))\n",
    "    os_version.append(data[i]['properties'].get('$os_version',na))\n",
    "    screen_h.append(data[i]['properties'].get('$screen_height',na))\n",
    "    screen_w.append(data[i]['properties'].get('$screen_width',na))\n",
    "    session_r.append(data[i]['properties'].get('_session_referrer',na))\n",
    "    session_rh.append(data[i]['properties'].get('_session_referrer_host',na))\n",
    "    time.append(data[i]['time'])\n",
    "    day.append(to_date(data[i]['time']))"
   ]
  },
  {
   "cell_type": "code",
   "execution_count": 315,
   "metadata": {},
   "outputs": [],
   "source": [
    "#generate pandas dataframe\n",
    "df = pd.DataFrame({'nocache':nocache, \n",
    "    'dist_id': dist_id,\n",
    "    'event':event,\n",
    "    'browser':browser,\n",
    "    'browser_v':browser_v,\n",
    "    'ip':ip,\n",
    "    'is_fd':is_fd,\n",
    "    'is_ft':is_ft,\n",
    "    'latest_r':latest_r,\n",
    "    'latest_rh':latest_rh,\n",
    "    'latest_ch':latest_ch,\n",
    "    'latest_utm_campaign':latest_utm_campaign,\n",
    "    'latest_utm_content':latest_utm_content,\n",
    "    'latest_utm_m':latest_utm_m,\n",
    "    'latest_utm_s':latest_utm_s,\n",
    "    'latest_utm_t':latest_utm_t,\n",
    "    'model':model,\n",
    "    'os':os,\n",
    "    'os_version':os_version,\n",
    "    'screen_h':screen_h,\n",
    "    'screen_w':screen_w,\n",
    "    'screen_r':session_r,\n",
    "    'screen_rh':session_rh,\n",
    "    'time':time,\n",
    "    'pageP':pageP,\n",
    "    'pageS':pageS,\n",
    "    'pageUrl':pageUrl,\n",
    "    'session_p':session_p,\n",
    "    'name':name,\n",
    "    'requestBtn':requestBtn,\n",
    "    'isSuccess':isSuccess,\n",
    "    'isMsg':isMsg,\n",
    "    'page':page,\n",
    "    'site_url':site_url,\n",
    "    'from_url':from_url,\n",
    "    'referrerUrl':referrerUrl,\n",
    "    'referrHostUrl':referrHostUrl,\n",
    "    'siteUrl':siteUrl,\n",
    "    'url_path':url_path,\n",
    "    'url':url,\n",
    "    'title':title,\n",
    "    'result':result,\n",
    "    'referrer':referrer,\n",
    "    'refer_Host':refer_Host,\n",
    "    'ch':ch,\n",
    "    'tp':tp,\n",
    "    'day':day})"
   ]
  },
  {
   "cell_type": "code",
   "execution_count": 316,
   "metadata": {},
   "outputs": [
    {
     "data": {
      "text/html": [
       "<div>\n",
       "<style>\n",
       "    .dataframe thead tr:only-child th {\n",
       "        text-align: right;\n",
       "    }\n",
       "\n",
       "    .dataframe thead th {\n",
       "        text-align: left;\n",
       "    }\n",
       "\n",
       "    .dataframe tbody tr th {\n",
       "        vertical-align: top;\n",
       "    }\n",
       "</style>\n",
       "<table border=\"1\" class=\"dataframe\">\n",
       "  <thead>\n",
       "    <tr style=\"text-align: right;\">\n",
       "      <th></th>\n",
       "      <th>browser</th>\n",
       "      <th>browser_v</th>\n",
       "      <th>ch</th>\n",
       "      <th>day</th>\n",
       "      <th>dist_id</th>\n",
       "      <th>event</th>\n",
       "      <th>from_url</th>\n",
       "      <th>ip</th>\n",
       "      <th>isMsg</th>\n",
       "      <th>isSuccess</th>\n",
       "      <th>...</th>\n",
       "      <th>screen_rh</th>\n",
       "      <th>screen_w</th>\n",
       "      <th>session_p</th>\n",
       "      <th>siteUrl</th>\n",
       "      <th>site_url</th>\n",
       "      <th>time</th>\n",
       "      <th>title</th>\n",
       "      <th>tp</th>\n",
       "      <th>url</th>\n",
       "      <th>url_path</th>\n",
       "    </tr>\n",
       "  </thead>\n",
       "  <tbody>\n",
       "    <tr>\n",
       "      <th>0</th>\n",
       "      <td>chrome</td>\n",
       "      <td>56</td>\n",
       "      <td>None</td>\n",
       "      <td>2017-03-06</td>\n",
       "      <td>595466e9a8e733434ce08de16e927d985e0b5d48</td>\n",
       "      <td>index_leave</td>\n",
       "      <td>None</td>\n",
       "      <td>219.135.131.99</td>\n",
       "      <td>None</td>\n",
       "      <td>None</td>\n",
       "      <td>...</td>\n",
       "      <td>www.baidu.com</td>\n",
       "      <td>1280.0</td>\n",
       "      <td>https://www.sensorsdata.cn/?utm_source=baidu&amp;u...</td>\n",
       "      <td>None</td>\n",
       "      <td>None</td>\n",
       "      <td>1488791047953</td>\n",
       "      <td>None</td>\n",
       "      <td>track</td>\n",
       "      <td>None</td>\n",
       "      <td>None</td>\n",
       "    </tr>\n",
       "    <tr>\n",
       "      <th>1</th>\n",
       "      <td>None</td>\n",
       "      <td>None</td>\n",
       "      <td>None</td>\n",
       "      <td>2017-03-31</td>\n",
       "      <td>9939d3e087bca29c42334d96dccd25ca0e06652a</td>\n",
       "      <td>None</td>\n",
       "      <td>None</td>\n",
       "      <td>None</td>\n",
       "      <td>None</td>\n",
       "      <td>None</td>\n",
       "      <td>...</td>\n",
       "      <td>None</td>\n",
       "      <td>NaN</td>\n",
       "      <td>None</td>\n",
       "      <td>None</td>\n",
       "      <td>None</td>\n",
       "      <td>1490958296645</td>\n",
       "      <td>None</td>\n",
       "      <td>profile_set_once</td>\n",
       "      <td>None</td>\n",
       "      <td>None</td>\n",
       "    </tr>\n",
       "    <tr>\n",
       "      <th>2</th>\n",
       "      <td>chrome</td>\n",
       "      <td>56</td>\n",
       "      <td></td>\n",
       "      <td>2017-03-06</td>\n",
       "      <td>9939d3e087bca29c42334d96dccd25ca0e06652a</td>\n",
       "      <td>$pageview</td>\n",
       "      <td>None</td>\n",
       "      <td>111.204.198.242</td>\n",
       "      <td>None</td>\n",
       "      <td>None</td>\n",
       "      <td>...</td>\n",
       "      <td></td>\n",
       "      <td>1366.0</td>\n",
       "      <td>https://sensorsdata.cn/?ch=demo</td>\n",
       "      <td>None</td>\n",
       "      <td>None</td>\n",
       "      <td>1488791050856</td>\n",
       "      <td>神策数据 | Sensors Data - 国内领先的用户行为分析产品</td>\n",
       "      <td>track</td>\n",
       "      <td>https://sensorsdata.cn/?ch=demo</td>\n",
       "      <td>/</td>\n",
       "    </tr>\n",
       "    <tr>\n",
       "      <th>3</th>\n",
       "      <td>chrome</td>\n",
       "      <td>56</td>\n",
       "      <td>None</td>\n",
       "      <td>2017-03-06</td>\n",
       "      <td>9939d3e087bca29c42334d96dccd25ca0e06652a</td>\n",
       "      <td>btnClick</td>\n",
       "      <td>None</td>\n",
       "      <td>111.204.198.242</td>\n",
       "      <td>None</td>\n",
       "      <td>None</td>\n",
       "      <td>...</td>\n",
       "      <td></td>\n",
       "      <td>1366.0</td>\n",
       "      <td>https://sensorsdata.cn/?ch=demo</td>\n",
       "      <td>None</td>\n",
       "      <td>None</td>\n",
       "      <td>1488791051772</td>\n",
       "      <td>None</td>\n",
       "      <td>track</td>\n",
       "      <td>None</td>\n",
       "      <td>None</td>\n",
       "    </tr>\n",
       "    <tr>\n",
       "      <th>4</th>\n",
       "      <td>chrome</td>\n",
       "      <td>56</td>\n",
       "      <td>None</td>\n",
       "      <td>2017-03-06</td>\n",
       "      <td>9939d3e087bca29c42334d96dccd25ca0e06652a</td>\n",
       "      <td>btnClick</td>\n",
       "      <td>None</td>\n",
       "      <td>111.204.198.242</td>\n",
       "      <td>None</td>\n",
       "      <td>None</td>\n",
       "      <td>...</td>\n",
       "      <td></td>\n",
       "      <td>1366.0</td>\n",
       "      <td>https://sensorsdata.cn/?ch=demo</td>\n",
       "      <td>None</td>\n",
       "      <td>None</td>\n",
       "      <td>1488791056032</td>\n",
       "      <td>None</td>\n",
       "      <td>track</td>\n",
       "      <td>None</td>\n",
       "      <td>None</td>\n",
       "    </tr>\n",
       "  </tbody>\n",
       "</table>\n",
       "<p>5 rows × 47 columns</p>\n",
       "</div>"
      ],
      "text/plain": [
       "  browser browser_v    ch         day  \\\n",
       "0  chrome        56  None  2017-03-06   \n",
       "1    None      None  None  2017-03-31   \n",
       "2  chrome        56        2017-03-06   \n",
       "3  chrome        56  None  2017-03-06   \n",
       "4  chrome        56  None  2017-03-06   \n",
       "\n",
       "                                    dist_id        event from_url  \\\n",
       "0  595466e9a8e733434ce08de16e927d985e0b5d48  index_leave     None   \n",
       "1  9939d3e087bca29c42334d96dccd25ca0e06652a         None     None   \n",
       "2  9939d3e087bca29c42334d96dccd25ca0e06652a    $pageview     None   \n",
       "3  9939d3e087bca29c42334d96dccd25ca0e06652a     btnClick     None   \n",
       "4  9939d3e087bca29c42334d96dccd25ca0e06652a     btnClick     None   \n",
       "\n",
       "                ip isMsg isSuccess   ...         screen_rh screen_w  \\\n",
       "0   219.135.131.99  None      None   ...     www.baidu.com   1280.0   \n",
       "1             None  None      None   ...              None      NaN   \n",
       "2  111.204.198.242  None      None   ...                     1366.0   \n",
       "3  111.204.198.242  None      None   ...                     1366.0   \n",
       "4  111.204.198.242  None      None   ...                     1366.0   \n",
       "\n",
       "                                           session_p siteUrl site_url  \\\n",
       "0  https://www.sensorsdata.cn/?utm_source=baidu&u...    None     None   \n",
       "1                                               None    None     None   \n",
       "2                    https://sensorsdata.cn/?ch=demo    None     None   \n",
       "3                    https://sensorsdata.cn/?ch=demo    None     None   \n",
       "4                    https://sensorsdata.cn/?ch=demo    None     None   \n",
       "\n",
       "            time                                title                tp  \\\n",
       "0  1488791047953                                 None             track   \n",
       "1  1490958296645                                 None  profile_set_once   \n",
       "2  1488791050856  神策数据 | Sensors Data - 国内领先的用户行为分析产品             track   \n",
       "3  1488791051772                                 None             track   \n",
       "4  1488791056032                                 None             track   \n",
       "\n",
       "                               url url_path  \n",
       "0                             None     None  \n",
       "1                             None     None  \n",
       "2  https://sensorsdata.cn/?ch=demo        /  \n",
       "3                             None     None  \n",
       "4                             None     None  \n",
       "\n",
       "[5 rows x 47 columns]"
      ]
     },
     "execution_count": 316,
     "metadata": {},
     "output_type": "execute_result"
    }
   ],
   "source": [
    "df.head()"
   ]
  },
  {
   "cell_type": "code",
   "execution_count": 317,
   "metadata": {},
   "outputs": [],
   "source": [
    "# Create Pandas DataFrame filters based on different events\n",
    "df_ileave = df.loc[df.event == 'index_leave']\n",
    "df_btnclick = df.loc[df.event == 'btnClick']\n",
    "df_aleave = df.loc[df.event == 'about_leave']\n",
    "df_form = df.loc[df.event == 'formSubmit']\n",
    "df_submit = df.loc[df.event == 'clickSubmit']\n",
    "df_cleave = df.loc[df.event == 'courses_leave']\n",
    "df_dleave = df.loc[df.event == 'demo_leave']\n",
    "df_playleave = df.loc[df.event == 'courses_play_leave']\n",
    "df_close = df.loc[df.event == 'page_close']\n",
    "df_view = df.loc[df.event == '$pageview']\n",
    "df_send = df.loc[df.event == 'click_send_cellphone']\n",
    "df_verify = df.loc[df.event == 'verify_cellphone_code']"
   ]
  },
  {
   "cell_type": "code",
   "execution_count": 318,
   "metadata": {
    "collapsed": true
   },
   "outputs": [],
   "source": [
    "# save DataFrame to csv file\n",
    "ileave = 'data/index_leave.csv'\n",
    "df_ileave.to_csv(ileave, index=False)\n",
    "btnclick = 'data/btnClick.csv'\n",
    "df_btnclick.to_csv(btnclick, index=False)\n",
    "aleave = 'data/about_leave.csv'\n",
    "df_aleave.to_csv(aleave, index=False)\n",
    "form = 'data/formSubmit.csv'\n",
    "df_form.to_csv(form, index=False)\n",
    "submit = 'data/clickSubmit.csv'\n",
    "df_submit.to_csv(submit, index=False)\n",
    "cleave = 'data/courses_leave.csv'\n",
    "df_cleave.to_csv(cleave, index=False)\n",
    "dleave = 'data/demo_leave.csv'\n",
    "df_dleave.to_csv(dleave, index=False)\n",
    "playleave = 'data/courses_play_leave.csv'\n",
    "df_playleave.to_csv(playleave, index=False)\n",
    "close = 'data/page_close.csv'\n",
    "df_close.to_csv(close, index=False)\n",
    "view = 'data/pageview.csv'\n",
    "df_view.to_csv(view, index=False)\n",
    "send = 'data/click_send_cellphone.csv'\n",
    "df_send.to_csv(send, index=False)\n",
    "verify = 'data/verify_cellphone_code.csv'\n",
    "df_verify.to_csv(verify, index=False)"
   ]
  },
  {
   "cell_type": "code",
   "execution_count": 319,
   "metadata": {},
   "outputs": [
    {
     "data": {
      "text/plain": [
       "track               65673\n",
       "profile_set_once     9419\n",
       "Name: tp, dtype: int64"
      ]
     },
     "execution_count": 319,
     "metadata": {},
     "output_type": "execute_result"
    }
   ],
   "source": [
    "df['tp'].value_counts()"
   ]
  },
  {
   "cell_type": "markdown",
   "metadata": {},
   "source": [
    "track: keep track of an event, as shown in events below\n",
    "profile set once: used for first time activate, register, ignored when profile already exist"
   ]
  },
  {
   "cell_type": "code",
   "execution_count": 320,
   "metadata": {},
   "outputs": [
    {
     "data": {
      "text/plain": [
       "$pageview                32620\n",
       "btnClick                 13866\n",
       "index_leave              10394\n",
       "demo_leave                3411\n",
       "about_leave               1032\n",
       "courses_leave              906\n",
       "formSubmit                 791\n",
       "courses_play_leave         747\n",
       "click_send_cellphone       600\n",
       "verify_cellphone_code      563\n",
       "clickSubmit                513\n",
       "page_close                 230\n",
       "Name: event, dtype: int64"
      ]
     },
     "execution_count": 320,
     "metadata": {},
     "output_type": "execute_result"
    }
   ],
   "source": [
    "df['event'].value_counts()"
   ]
  },
  {
   "cell_type": "markdown",
   "metadata": {},
   "source": [
    "- possible user behavior analysis: pageview, btnClick\n",
    "- funnel analysis: formSubmit(791) > click_send_cellphone(600) > verify_cellphone_code(563) > clickSubmit(513)"
   ]
  },
  {
   "cell_type": "markdown",
   "metadata": {},
   "source": [
    "Do more EDA here"
   ]
  },
  {
   "cell_type": "code",
   "execution_count": 269,
   "metadata": {
    "collapsed": true
   },
   "outputs": [],
   "source": [
    "import matplotlib.pyplot as plt\n",
    "% matplotlib inline"
   ]
  },
  {
   "cell_type": "code",
   "execution_count": 340,
   "metadata": {},
   "outputs": [
    {
     "data": {
      "text/plain": [
       "count                                        75092\n",
       "unique                                       11756\n",
       "top       835cc4405ee7e42e5b401a25e65b4830b02af7d3\n",
       "freq                                           254\n",
       "Name: dist_id, dtype: object"
      ]
     },
     "execution_count": 340,
     "metadata": {},
     "output_type": "execute_result"
    }
   ],
   "source": [
    "df['dist_id'].describe()"
   ]
  },
  {
   "cell_type": "code",
   "execution_count": 321,
   "metadata": {},
   "outputs": [
    {
     "data": {
      "text/plain": [
       "<matplotlib.axes._subplots.AxesSubplot at 0x1ee5e59e8>"
      ]
     },
     "execution_count": 321,
     "metadata": {},
     "output_type": "execute_result"
    },
    {
     "data": {
      "image/png": "[encoded data removed]",
      "text/plain": [
       "<matplotlib.figure.Figure at 0x1c1fdecf8>"
      ]
     },
     "metadata": {},
     "output_type": "display_data"
    }
   ],
   "source": [
    "# e.g. calculate counts of distinct id, and plot it\n",
    "df['dist_id'].value_counts().plot.hist(bins=100)"
   ]
  },
  {
   "cell_type": "code",
   "execution_count": 322,
   "metadata": {},
   "outputs": [
    {
     "data": {
      "text/plain": [
       "count               65673\n",
       "unique               9870\n",
       "top       113.208.116.250\n",
       "freq                 1399\n",
       "Name: ip, dtype: object"
      ]
     },
     "execution_count": 322,
     "metadata": {},
     "output_type": "execute_result"
    }
   ],
   "source": [
    "df['ip'].describe()"
   ]
  },
  {
   "cell_type": "code",
   "execution_count": 323,
   "metadata": {},
   "outputs": [
    {
     "data": {
      "text/plain": [
       "<matplotlib.axes._subplots.AxesSubplot at 0x1c241e0f0>"
      ]
     },
     "execution_count": 323,
     "metadata": {},
     "output_type": "execute_result"
    },
    {
     "data": {
      "image/png": "[encoded data removed]",
      "text/plain": [
       "<matplotlib.figure.Figure at 0x1c1e55cf8>"
      ]
     },
     "metadata": {},
     "output_type": "display_data"
    }
   ],
   "source": [
    "df['ip'].value_counts().plot.hist(bins=100)"
   ]
  },
  {
   "cell_type": "code",
   "execution_count": 328,
   "metadata": {},
   "outputs": [
    {
     "data": {
      "text/plain": [
       "count          75092\n",
       "unique            10\n",
       "top       2017-03-09\n",
       "freq           10150\n",
       "Name: day, dtype: object"
      ]
     },
     "execution_count": 328,
     "metadata": {},
     "output_type": "execute_result"
    }
   ],
   "source": [
    "df['day'].describe()"
   ]
  },
  {
   "cell_type": "code",
   "execution_count": 338,
   "metadata": {},
   "outputs": [
    {
     "data": {
      "text/plain": [
       "<matplotlib.axes._subplots.AxesSubplot at 0x1c21f5dd8>"
      ]
     },
     "execution_count": 338,
     "metadata": {},
     "output_type": "execute_result"
    },
    {
     "data": {
      "image/png": "[encoded data removed]",
      "text/plain": [
       "<matplotlib.figure.Figure at 0x1c233b4e0>"
      ]
     },
     "metadata": {},
     "output_type": "display_data"
    }
   ],
   "source": [
    "df[\"day\"] = df[\"day\"].astype(\"datetime64\")\n",
    "df[\"day\"].groupby(df[\"day\"].dt.day).count().plot(kind=\"bar\")"
   ]
  },
  {
   "cell_type": "code",
   "execution_count": 339,
   "metadata": {
    "scrolled": true
   },
   "outputs": [
    {
     "data": {
      "text/plain": [
       "<matplotlib.axes._subplots.AxesSubplot at 0x1cab20ba8>"
      ]
     },
     "execution_count": 339,
     "metadata": {},
     "output_type": "execute_result"
    },
    {
     "data": {
      "image/png": "[encoded data removed]",
      "text/plain": [
       "<matplotlib.figure.Figure at 0x1c2375780>"
      ]
     },
     "metadata": {},
     "output_type": "display_data"
    }
   ],
   "source": [
    "df[\"day\"].groupby(df[\"day\"].dt.month).count().plot(kind=\"bar\")"
   ]
  },
  {
   "cell_type": "markdown",
   "metadata": {},
   "source": [
    "All the data collected on March 2017, and only distribute in 6th-14th and 31st"
   ]
  },
  {
   "cell_type": "markdown",
   "metadata": {},
   "source": [
    "Check missing data and propose possible missing data imputation"
   ]
  },
  {
   "cell_type": "code",
   "execution_count": 332,
   "metadata": {},
   "outputs": [
    {
     "name": "stdout",
     "output_type": "stream",
     "text": [
      "<class 'pandas.core.frame.DataFrame'>\n",
      "RangeIndex: 75092 entries, 0 to 75091\n",
      "Data columns (total 47 columns):\n",
      "browser                65673 non-null object\n",
      "browser_v              65673 non-null object\n",
      "ch                     32335 non-null object\n",
      "day                    75092 non-null datetime64[ns]\n",
      "dist_id                75092 non-null object\n",
      "event                  65673 non-null object\n",
      "from_url               982 non-null object\n",
      "ip                     65673 non-null object\n",
      "isMsg                  469 non-null object\n",
      "isSuccess              791 non-null object\n",
      "is_fd                  65673 non-null object\n",
      "is_ft                  65673 non-null object\n",
      "latest_ch              8537 non-null object\n",
      "latest_r               64862 non-null object\n",
      "latest_rh              64862 non-null object\n",
      "latest_utm_campaign    39903 non-null object\n",
      "latest_utm_content     38763 non-null object\n",
      "latest_utm_m           39691 non-null object\n",
      "latest_utm_s           40583 non-null object\n",
      "latest_utm_t           39095 non-null object\n",
      "model                  65673 non-null object\n",
      "name                   15170 non-null object\n",
      "nocache                75092 non-null object\n",
      "os                     65673 non-null object\n",
      "os_version             65673 non-null object\n",
      "page                   11716 non-null object\n",
      "pageP                  16490 non-null float64\n",
      "pageS                  16720 non-null float64\n",
      "pageUrl                30356 non-null object\n",
      "refer_Host             32335 non-null object\n",
      "referrHostUrl          469 non-null object\n",
      "referrer               32334 non-null object\n",
      "referrerUrl            469 non-null object\n",
      "requestBtn             4271 non-null object\n",
      "result                 1163 non-null object\n",
      "screen_h               65673 non-null float64\n",
      "screen_r               63046 non-null object\n",
      "screen_rh              63039 non-null object\n",
      "screen_w               65673 non-null float64\n",
      "session_p              62766 non-null object\n",
      "siteUrl                469 non-null object\n",
      "site_url               982 non-null object\n",
      "time                   75092 non-null int64\n",
      "title                  32620 non-null object\n",
      "tp                     75092 non-null object\n",
      "url                    32598 non-null object\n",
      "url_path               32620 non-null object\n",
      "dtypes: datetime64[ns](1), float64(4), int64(1), object(41)\n",
      "memory usage: 26.9+ MB\n"
     ]
    }
   ],
   "source": [
    "df.info()"
   ]
  },
  {
   "cell_type": "code",
   "execution_count": 325,
   "metadata": {},
   "outputs": [
    {
     "data": {
      "text/plain": [
       "browser                 9419\n",
       "browser_v               9419\n",
       "ch                     42757\n",
       "day                        0\n",
       "dist_id                    0\n",
       "event                   9419\n",
       "from_url               74110\n",
       "ip                      9419\n",
       "isMsg                  74623\n",
       "isSuccess              74301\n",
       "is_fd                   9419\n",
       "is_ft                   9419\n",
       "latest_ch              66555\n",
       "latest_r               10230\n",
       "latest_rh              10230\n",
       "latest_utm_campaign    35189\n",
       "latest_utm_content     36329\n",
       "latest_utm_m           35401\n",
       "latest_utm_s           34509\n",
       "latest_utm_t           35997\n",
       "model                   9419\n",
       "name                   59922\n",
       "nocache                    0\n",
       "os                      9419\n",
       "os_version              9419\n",
       "page                   63376\n",
       "pageP                  58602\n",
       "pageS                  58372\n",
       "pageUrl                44736\n",
       "refer_Host             42757\n",
       "referrHostUrl          74623\n",
       "referrer               42758\n",
       "referrerUrl            74623\n",
       "requestBtn             70821\n",
       "result                 73929\n",
       "screen_h                9419\n",
       "screen_r               12046\n",
       "screen_rh              12053\n",
       "screen_w                9419\n",
       "session_p              12326\n",
       "siteUrl                74623\n",
       "site_url               74110\n",
       "time                       0\n",
       "title                  42472\n",
       "tp                         0\n",
       "url                    42494\n",
       "url_path               42472\n",
       "dtype: int64"
      ]
     },
     "execution_count": 325,
     "metadata": {},
     "output_type": "execute_result"
    }
   ],
   "source": [
    "df.isnull().sum()"
   ]
  },
  {
   "cell_type": "markdown",
   "metadata": {},
   "source": [
    "conversion rate (the percentage of users who take a desired action) analyses"
   ]
  },
  {
   "cell_type": "code",
   "execution_count": 341,
   "metadata": {},
   "outputs": [
    {
     "data": {
      "text/plain": [
       "$pageview                32620\n",
       "btnClick                 13866\n",
       "index_leave              10394\n",
       "demo_leave                3411\n",
       "about_leave               1032\n",
       "courses_leave              906\n",
       "formSubmit                 791\n",
       "courses_play_leave         747\n",
       "click_send_cellphone       600\n",
       "verify_cellphone_code      563\n",
       "clickSubmit                513\n",
       "page_close                 230\n",
       "Name: event, dtype: int64"
      ]
     },
     "execution_count": 341,
     "metadata": {},
     "output_type": "execute_result"
    }
   ],
   "source": [
    "df['event'].value_counts()"
   ]
  },
  {
   "cell_type": "code",
   "execution_count": 368,
   "metadata": {},
   "outputs": [
    {
     "data": {
      "text/plain": [
       "count                                         3411\n",
       "unique                                        1436\n",
       "top       87091bab3fc571740f15ac4021efc4c7674776d5\n",
       "freq                                            31\n",
       "Name: dist_id, dtype: object"
      ]
     },
     "execution_count": 368,
     "metadata": {},
     "output_type": "execute_result"
    }
   ],
   "source": [
    "df_dleave['dist_id'].describe()"
   ]
  },
  {
   "cell_type": "code",
   "execution_count": 344,
   "metadata": {},
   "outputs": [
    {
     "data": {
      "text/plain": [
       "count                                          600\n",
       "unique                                         501\n",
       "top       cc03b92cbfeebd715cd97f7f3d0cff31d96322a8\n",
       "freq                                             6\n",
       "Name: dist_id, dtype: object"
      ]
     },
     "execution_count": 344,
     "metadata": {},
     "output_type": "execute_result"
    }
   ],
   "source": [
    "df_send['dist_id'].describe()"
   ]
  },
  {
   "cell_type": "code",
   "execution_count": 347,
   "metadata": {},
   "outputs": [
    {
     "data": {
      "text/plain": [
       "count                                          563\n",
       "unique                                         472\n",
       "top       cc03b92cbfeebd715cd97f7f3d0cff31d96322a8\n",
       "freq                                             6\n",
       "Name: dist_id, dtype: object"
      ]
     },
     "execution_count": 347,
     "metadata": {},
     "output_type": "execute_result"
    }
   ],
   "source": [
    "df_verify['dist_id'].describe()"
   ]
  },
  {
   "cell_type": "code",
   "execution_count": 371,
   "metadata": {},
   "outputs": [
    {
     "data": {
      "text/plain": [
       "count     563\n",
       "unique      3\n",
       "top        正确\n",
       "freq      528\n",
       "Name: result, dtype: object"
      ]
     },
     "execution_count": 371,
     "metadata": {},
     "output_type": "execute_result"
    }
   ],
   "source": [
    "df_verify['result'].describe()"
   ]
  },
  {
   "cell_type": "code",
   "execution_count": 372,
   "metadata": {},
   "outputs": [
    {
     "data": {
      "text/plain": [
       "count                                          528\n",
       "unique                                         471\n",
       "top       cc03b92cbfeebd715cd97f7f3d0cff31d96322a8\n",
       "freq                                             6\n",
       "Name: dist_id, dtype: object"
      ]
     },
     "execution_count": 372,
     "metadata": {},
     "output_type": "execute_result"
    }
   ],
   "source": [
    "df_verify['dist_id'][df_verify['result']=='正确'].describe()"
   ]
  },
  {
   "cell_type": "markdown",
   "metadata": {},
   "source": [
    "Only one id has wrong verification code"
   ]
  },
  {
   "cell_type": "code",
   "execution_count": 348,
   "metadata": {},
   "outputs": [
    {
     "data": {
      "text/plain": [
       "count                                          791\n",
       "unique                                         497\n",
       "top       04b0e0ed4def01a7a2881d3d8aa55c341a36cbbc\n",
       "freq                                            17\n",
       "Name: dist_id, dtype: object"
      ]
     },
     "execution_count": 348,
     "metadata": {},
     "output_type": "execute_result"
    }
   ],
   "source": [
    "df_form['dist_id'].describe()"
   ]
  },
  {
   "cell_type": "code",
   "execution_count": 349,
   "metadata": {},
   "outputs": [
    {
     "data": {
      "text/plain": [
       "count                                          513\n",
       "unique                                         461\n",
       "top       1e31a9423d07802ba5fe38822ac548ae9c33a14d\n",
       "freq                                            24\n",
       "Name: dist_id, dtype: object"
      ]
     },
     "execution_count": 349,
     "metadata": {},
     "output_type": "execute_result"
    }
   ],
   "source": [
    "df_submit['dist_id'].describe()"
   ]
  },
  {
   "cell_type": "code",
   "execution_count": 355,
   "metadata": {},
   "outputs": [
    {
     "name": "stdout",
     "output_type": "stream",
     "text": [
      "conversation rate of click send cellphone:\n",
      "0.042616536236815244\n"
     ]
    }
   ],
   "source": [
    "print(\"conversation rate of click send cellphone:\")\n",
    "print(501/11756)"
   ]
  },
  {
   "cell_type": "code",
   "execution_count": 356,
   "metadata": {},
   "outputs": [
    {
     "name": "stdout",
     "output_type": "stream",
     "text": [
      "conversation rate of verify cellphone code:\n",
      "0.040149710785981625\n"
     ]
    }
   ],
   "source": [
    "print(\"conversation rate of verify cellphone code:\")\n",
    "print(472/11756)"
   ]
  },
  {
   "cell_type": "code",
   "execution_count": 352,
   "metadata": {},
   "outputs": [
    {
     "name": "stdout",
     "output_type": "stream",
     "text": [
      "conversation rate of form submit:\n",
      "0.04227628445049336\n"
     ]
    }
   ],
   "source": [
    "print(\"conversation rate of form submit:\")\n",
    "print(497/11756)"
   ]
  },
  {
   "cell_type": "code",
   "execution_count": 357,
   "metadata": {},
   "outputs": [
    {
     "name": "stdout",
     "output_type": "stream",
     "text": [
      "conversation rate of click submit:\n",
      "0.03921401837359646\n"
     ]
    }
   ],
   "source": [
    "print(\"conversation rate of click submit:\")\n",
    "print(461/11756)"
   ]
  },
  {
   "cell_type": "markdown",
   "metadata": {},
   "source": [
    "The key factors that bottleneck the conversion rate is sign up/send celpphone verification"
   ]
  },
  {
   "cell_type": "code",
   "execution_count": 359,
   "metadata": {},
   "outputs": [
    {
     "data": {
      "text/plain": [
       "demo             1827\n",
       "zhihu             100\n",
       "pedaily            53\n",
       "ebiz_demo_doc      23\n",
       "itjuzi             10\n",
       "chiyuan             6\n",
       "sangwf              4\n",
       "edu_demo_doc        3\n",
       "36kr                2\n",
       "sangwenfeng         1\n",
       "Name: latest_ch, dtype: int64"
      ]
     },
     "execution_count": 359,
     "metadata": {},
     "output_type": "execute_result"
    }
   ],
   "source": [
    "df_btnclick.latest_ch.value_counts()"
   ]
  },
  {
   "cell_type": "code",
   "execution_count": 360,
   "metadata": {},
   "outputs": [
    {
     "data": {
      "text/plain": [
       "index            7964\n",
       "demo             2242\n",
       "about             816\n",
       "courses_index     694\n",
       "Name: page, dtype: int64"
      ]
     },
     "execution_count": 360,
     "metadata": {},
     "output_type": "execute_result"
    }
   ],
   "source": [
    "df_btnclick.page.value_counts()"
   ]
  },
  {
   "cell_type": "code",
   "execution_count": 361,
   "metadata": {},
   "outputs": [
    {
     "data": {
      "text/plain": [
       "request     2967\n",
       "demo        2783\n",
       "document    2067\n",
       "product     1942\n",
       "b-round     1245\n",
       "about        925\n",
       "blog         803\n",
       "viedo        550\n",
       "logo         508\n",
       "mail          76\n",
       "Name: name, dtype: int64"
      ]
     },
     "execution_count": 361,
     "metadata": {},
     "output_type": "execute_result"
    }
   ],
   "source": [
    "df_btnclick.name.value_counts()"
   ]
  },
  {
   "cell_type": "code",
   "execution_count": 367,
   "metadata": {},
   "outputs": [
    {
     "data": {
      "text/plain": [
       "神策数据 | Sensors Data - 国内领先的用户行为分析产品                                                                                                                                                                                                                                                                                                                                                                                                                                                                                     13700\n",
       "神策分析|Sensors Analytics-帮你实现数据驱动－demo                                                                                                                                                                                                                                                                                                                                                                                                                                                                                     4148\n",
       "介绍 · Sensors Analytics 使用手册                                                                                                                                                                                                                                                                                                                                                                                                                                                                                              3542\n",
       "神策分析|Sensors Analytics-帮你实现数据驱动－产品                                                                                                                                                                                                                                                                                                                                                                                                                                                                                       2455\n",
       "神策分析|Sensors Analytics-帮你实现数据驱动－B轮融资发布会                                                                                                                                                                                                                                                                                                                                                                                                                                                                                  1899\n",
       "神策分析|Sensors Analytics-帮你实现数据驱动－关于                                                                                                                                                                                                                                                                                                                                                                                                                                                                                       1183\n",
       "神策分析|Sensors Analytics-帮你实现数据驱动-视频列表                                                                                                                                                                                                                                                                                                                                                                                                                                                                                     1129\n",
       "神策分析|Sensors Analytics-帮你实现数据驱动－视频播放                                                                                                                                                                                                                                                                                                                                                                                                                                                                                      830\n",
       "数据模型 · Sensors Analytics 使用手册                                                                                                                                                                                                                                                                                                                                                                                                                                                                                             232\n",
       "JavaScript SDK · Sensors Analytics 使用手册                                                                                                                                                                                                                                                                                                                                                                                                                                                                                   214\n",
       "事件分析 · Sensors Analytics 使用手册                                                                                                                                                                                                                                                                                                                                                                                                                                                                                             152\n",
       "数据格式 · Sensors Analytics 使用手册                                                                                                                                                                                                                                                                                                                                                                                                                                                                                             150\n",
       "可视化埋点 · Sensors Analytics 使用手册                                                                                                                                                                                                                                                                                                                                                                                                                                                                                            148\n",
       "神策分析|Sensors Analytics-帮你实现数据驱动-网址构建工具                                                                                                                                                                                                                                                                                                                                                                                                                                                                                    147\n",
       "weixin://private/setresult/SCENE_FETCHQUEUE&eyJmdW5jIjoibG9nIiwicGFyYW1zIjp7Im1zZyI6Il9ydW5PbjNyZEFwaUxpc3QgOiBtZW51OnNoYXJlOnRpbWVsaW5lLG1lbnU6c2hhcmU6YXBwbWVzc2FnZSxvblZvaWNlUmVjb3JkRW5kLG9uVm9pY2VQbGF5QmVnaW4sb25Wb2ljZVBsYXlFbmQsb25Mb2NhbEltYWdlVXBsb2FkUHJvZ3Jlc3Msb25JbWFnZURvd25sb2FkUHJvZ3Jlc3Msb25Wb2ljZVVwbG9hZFByb2dyZXNzLG9uVm9pY2VEb3dubG9hZFByb2dyZXNzLG1lbnU6c2V0Zm9udCxtZW51OnNoYXJlOndlaWJvLG1lbnU6c2hhcmU6ZW1haWwsd3hkb3dubG9hZDpzdGF0ZV9jaGFuZ2UsaGRPbkRldmljZVN0YXRlQ2hhbmdlZCxhY3Rpdml0eTpz      142\n",
       "数据接入 · Sensors Analytics 使用手册                                                                                                                                                                                                                                                                                                                                                                                                                                                                                             139\n",
       "Android SDK · Sensors Analytics 使用手册                                                                                                                                                                                                                                                                                                                                                                                                                                                                                      132\n",
       "电商类产品 · Sensors Analytics 使用手册                                                                                                                                                                                                                                                                                                                                                                                                                                                                                            120\n",
       "iOS SDK · Sensors Analytics 使用手册                                                                                                                                                                                                                                                                                                                                                                                                                                                                                          118\n",
       "神策分析|Sensors Analytics-帮你实现数据驱动-JavaScript SDK 自动生成工具                                                                                                                                                                                                                                                                                                                                                                                                                                                                     110\n",
       "整体使用流程 · Sensors Analytics 使用手册                                                                                                                                                                                                                                                                                                                                                                                                                                                                                           100\n",
       "如何准确的标识用户 · Sensors Analytics 使用手册                                                                                                                                                                                                                                                                                                                                                                                                                                                                                         96\n",
       "惠州网站建设|惠州网站设计|惠州网站制作|网站设计-微斯诺科技                                                                                                                                                                                                                                                                                                                                                                                                                                                                                            81\n",
       "漏斗分析 · Sensors Analytics 使用手册                                                                                                                                                                                                                                                                                                                                                                                                                                                                                              78\n",
       "用户分群 · Sensors Analytics 使用手册                                                                                                                                                                                                                                                                                                                                                                                                                                                                                              76\n",
       "留存分析 · Sensors Analytics 使用手册                                                                                                                                                                                                                                                                                                                                                                                                                                                                                              67\n",
       "Java SDK · Sensors Analytics 使用手册                                                                                                                                                                                                                                                                                                                                                                                                                                                                                          67\n",
       "weixin://private/setresult/SCENE_HANDLEMSGFROMWX&eyJfX2Vycl9jb2RlIjoiY2I0MDQifQ==                                                                                                                                                                                                                                                                                                                                                                                                                                          60\n",
       "自定义查询 · Sensors Analytics 使用手册                                                                                                                                                                                                                                                                                                                                                                                                                                                                                             58\n",
       "用户路径分析 · Sensors Analytics 使用手册                                                                                                                                                                                                                                                                                                                                                                                                                                                                                            50\n",
       "                                                                                                                                                                                                                                                                                                                                                                                                                                                                                                                        ...  \n",
       "数据接入 API · Sensors Analytics 使用手册                                                                                                                                                                                                                                                                                                                                                                                                                                                                                           7\n",
       "微信小程序 SDK · Sensors Analytics 使用手册                                                                                                                                                                                                                                                                                                                                                                                                                                                                                          7\n",
       "订阅实时数据 · Sensors Analytics 使用手册                                                                                                                                                                                                                                                                                                                                                                                                                                                                                             7\n",
       "功能 API · Sensors Analytics 使用手册                                                                                                                                                                                                                                                                                                                                                                                                                                                                                             7\n",
       "Ruby SDK · Sensors Analytics 使用手册                                                                                                                                                                                                                                                                                                                                                                                                                                                                                           6\n",
       "从外部 Kafka 接入数据的方案 · Sensors Analytics 使用手册                                                                                                                                                                                                                                                                                                                                                                                                                                                                                  6\n",
       "数据接入基本原则 · Sensors Analytics 使用手册                                                                                                                                                                                                                                                                                                                                                                                                                                                                                           6\n",
       "关于我们 · Sensors Analytics 使用手册                                                                                                                                                                                                                                                                                                                                                                                                                                                                                               6\n",
       "推荐分享 · Sensors Analytics 使用手册                                                                                                                                                                                                                                                                                                                                                                                                                                                                                               5\n",
       "第三方登录 · Sensors Analytics 使用手册                                                                                                                                                                                                                                                                                                                                                                                                                                                                                              5\n",
       "CustomUserSegmenter 使用说明 · Sensors Analytics 使用手册                                                                                                                                                                                                                                                                                                                                                                                                                                                                           5\n",
       "APICloud SDK · Sensors Analytics 使用手册                                                                                                                                                                                                                                                                                                                                                                                                                                                                                       4\n",
       "Java SDK Demo · Sensors Analytics 使用手册                                                                                                                                                                                                                                                                                                                                                                                                                                                                                      4\n",
       "3 神策数据 | Sensors Data - 国内领先的用户行为分析产品                                                                                                                                                                                                                                                                                                                                                                                                                                                                                       3\n",
       "查询抽样 · Sensors Analytics 使用手册                                                                                                                                                                                                                                                                                                                                                                                                                                                                                               3\n",
       "基础指标解释和配置 · Sensors Analytics 使用手册                                                                                                                                                                                                                                                                                                                                                                                                                                                                                          3\n",
       "元数据创建工具使用说明 · Sensors Analytics 使用手册                                                                                                                                                                                                                                                                                                                                                                                                                                                                                        3\n",
       "数据校验及元数据创建 · Sensors Analytics 使用手册                                                                                                                                                                                                                                                                                                                                                                                                                                                                                         2\n",
       "3 神策分析|Sensors Analytics-帮你实现数据驱动－产品                                                                                                                                                                                                                                                                                                                                                                                                                                                                                        2\n",
       "导入辅助工具 · Sensors Analytics 使用手册                                                                                                                                                                                                                                                                                                                                                                                                                                                                                             2\n",
       "进阶使用场景 · Sensors Analytics 使用手册                                                                                                                                                                                                                                                                                                                                                                                                                                                                                             1\n",
       "Sensor Analytics - help you implement data drivers                                                                                                                                                                                                                                                                                                                                                                                                                                                                          1\n",
       "分析师事件权限设置工具 · Sensors Analytics 使用手册                                                                                                                                                                                                                                                                                                                                                                                                                                                                                        1\n",
       "3 神策分析|Sensors Analytics-帮你实现数据驱动－关于                                                                                                                                                                                                                                                                                                                                                                                                                                                                                        1\n",
       "3 神策分析|Sensors Analytics-帮你实现数据驱动－demo                                                                                                                                                                                                                                                                                                                                                                                                                                                                                      1\n",
       "C SDK · Sensors Analytics 使用手册                                                                                                                                                                                                                                                                                                                                                                                                                                                                                              1\n",
       "其他辅助工具 · Sensors Analytics 使用手册                                                                                                                                                                                                                                                                                                                                                                                                                                                                                             1\n",
       "4 介绍 · Sensors Analytics 使用手册                                                                                                                                                                                                                                                                                                                                                                                                                                                                                               1\n",
       "导入状态 · Sensors Analytics 使用手册                                                                                                                                                                                                                                                                                                                                                                                                                                                                                               1\n",
       "神策分析 | Sensors Analytics - 帮你实现数据驱动－B 轮融资发布会                                                                                                                                                                                                                                                                                                                                                                                                                                                                                1\n",
       "Name: title, Length: 108, dtype: int64"
      ]
     },
     "execution_count": 367,
     "metadata": {},
     "output_type": "execute_result"
    }
   ],
   "source": [
    "df_view.title.value_counts(dropna=True)"
   ]
  },
  {
   "cell_type": "code",
   "execution_count": 370,
   "metadata": {},
   "outputs": [
    {
     "data": {
      "text/plain": [
       "www.sensorsdata.cn                        12634\n",
       "                                           7091\n",
       "www.baidu.com                              6284\n",
       "sensorsdata.cn                             2764\n",
       "m.baidu.com                                 816\n",
       "www.sogou.com                               352\n",
       "36kr.com                                    208\n",
       "www.google.com.hk                           166\n",
       "www.google.com                              156\n",
       "localhost                                   154\n",
       "m.sogou.com                                 147\n",
       "link.zhihu.com                              146\n",
       "wap.sogou.com                               144\n",
       "www.so.com                                   67\n",
       "image.baidu.com                              67\n",
       "www.google.co.jp                             48\n",
       "googleads.g.doubleclick.net                  41\n",
       "ebizdemo.cloud.sensorsdata.cn                41\n",
       "www.woshipm.com                              34\n",
       "cn.bing.com                                  33\n",
       "zhidao.baidu.com                             23\n",
       "sensors.ishansong.com                        21\n",
       "data.isoubu.com                              21\n",
       "sensorswww.cloud.sensorsdata.cn              20\n",
       "zhengbangchuangyi.cloud.sensorsdata.cn       20\n",
       "youxuan.baidu.com                            20\n",
       "wapbaike.baidu.com                           17\n",
       "data.corp.36kr.com                           17\n",
       "so.m.sm.cn                                   16\n",
       "wenku.baidu.com                              15\n",
       "class.sanjieke.cn                            15\n",
       "sensors.jiedaibao.com                        15\n",
       "www.itjuzi.com                               15\n",
       "tongji.yeshen.com                            14\n",
       "www.sanjieke.cn                              14\n",
       "mp.weixinbridge.com                          14\n",
       "www.google.com.tw                            14\n",
       "c.tieba.baidu.com                            14\n",
       "saasdemo.cloud.sensorsdata.cn                12\n",
       "yandex.ru                                    12\n",
       "sd.int.jumei.com                             11\n",
       "cpro.baidu.com                               11\n",
       "Name: ch, dtype: int64"
      ]
     },
     "execution_count": 370,
     "metadata": {},
     "output_type": "execute_result"
    }
   ],
   "source": [
    "df_view.ch.value_counts()[df_view['ch'].value_counts()>10]"
   ]
  },
  {
   "cell_type": "markdown",
   "metadata": {},
   "source": [
    "Analysis on the reason for demo leave"
   ]
  },
  {
   "cell_type": "code",
   "execution_count": 380,
   "metadata": {},
   "outputs": [
    {
     "data": {
      "text/plain": [
       "<matplotlib.axes._subplots.AxesSubplot at 0x1c3a813c8>"
      ]
     },
     "execution_count": 380,
     "metadata": {},
     "output_type": "execute_result"
    },
    {
     "data": {
      "image/png": "[encoded data removed]",
      "text/plain": [
       "<matplotlib.figure.Figure at 0x1c3a9e6d8>"
      ]
     },
     "metadata": {},
     "output_type": "display_data"
    }
   ],
   "source": [
    "df_dleave['pageS'].value_counts().plot.hist(bins=10)"
   ]
  },
  {
   "cell_type": "markdown",
   "metadata": {},
   "source": [
    "Most user stay at the page for a short time, and do not go to cellphone verification step, and confirms our assumption about the bottleneck in signup rate"
   ]
  },
  {
   "cell_type": "code",
   "execution_count": null,
   "metadata": {
    "collapsed": true
   },
   "outputs": [],
   "source": []
  }
 ],
 "metadata": {
  "kernelspec": {
   "display_name": "Python 3",
   "language": "python",
   "name": "python3"
  },
  "language_info": {
   "codemirror_mode": {
    "name": "ipython",
    "version": 3
   },
   "file_extension": ".py",
   "mimetype": "text/x-python",
   "name": "python",
   "nbconvert_exporter": "python",
   "pygments_lexer": "ipython3",
   "version": "3.6.1"
  }
 },
 "nbformat": 4,
 "nbformat_minor": 2
}
